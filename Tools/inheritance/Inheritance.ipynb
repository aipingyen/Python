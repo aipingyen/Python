{
 "cells": [
  {
   "cell_type": "code",
   "execution_count": 2,
   "metadata": {},
   "outputs": [],
   "source": [
    "class Animal:\n",
    "    def __init__(self, age, weight):\n",
    "        self.__age = age\n",
    "        self.__weight = weight\n",
    "    def speak(self):\n",
    "        print(self.__age)\n",
    "        print(self.__weight)\n",
    "    def fight(self):\n",
    "        pass\n",
    "    def getAge(self):\n",
    "        return self.__age"
   ]
  },
  {
   "cell_type": "code",
   "execution_count": 3,
   "metadata": {
    "collapsed": true
   },
   "outputs": [],
   "source": [
    "class swim:\n",
    "    def __init__(self, speed):\n",
    "        self.speed = speed\n",
    "    def swim(self):\n",
    "        print(\"I can swim\")"
   ]
  },
  {
   "cell_type": "code",
   "execution_count": 11,
   "metadata": {
    "collapsed": true
   },
   "outputs": [],
   "source": [
    "class dog(Animal, swim):                #extends Animal, swim\n",
    "    def __init__(self, age, weight):\n",
    "        super().__init__(age, weight)  #super()將args傳入父類別建構子\n",
    "    def speak(self):\n",
    "        super().speak()                #extends父類別方法   overwrite\n",
    "        print(\"this is dog\")\n",
    "    def fight(self):\n",
    "        print(\"fight\")"
   ]
  },
  {
   "cell_type": "code",
   "execution_count": 5,
   "metadata": {
    "collapsed": true
   },
   "outputs": [],
   "source": [
    "class cat(Animal, swim):\n",
    "    def __init__(self, age, weight):\n",
    "        Animal.__init__(self, age, weight)\n",
    "    def speak(self):\n",
    "        super().speak()\n",
    "        print(\"this is cat\")"
   ]
  },
  {
   "cell_type": "code",
   "execution_count": 12,
   "metadata": {},
   "outputs": [
    {
     "name": "stdout",
     "output_type": "stream",
     "text": [
      "this is dog\n",
      "I can swim\n",
      "fight\n",
      "12\n",
      "--------------------\n",
      "1\n",
      "2\n",
      "this is cat\n",
      "I can swim\n"
     ]
    }
   ],
   "source": [
    "ddd = dog(12,15)        #use constructor to send args\n",
    "ddd.speak()             #overwrite superMethod\n",
    "ddd.swim()              #extends swim so can use methos\n",
    "ddd.fight()             #use obj to call method\n",
    "print(ddd.getAge())     #print( return )\n",
    "\n",
    "print(\"-\"*20)\n",
    "\n",
    "ccc = cat(1,2)\n",
    "ccc.speak()\n",
    "ccc.swim()\n",
    "ccc.fight()"
   ]
  }
 ],
 "metadata": {
  "kernelspec": {
   "display_name": "Python 3",
   "language": "python",
   "name": "python3"
  },
  "language_info": {
   "codemirror_mode": {
    "name": "ipython",
    "version": 3
   },
   "file_extension": ".py",
   "mimetype": "text/x-python",
   "name": "python",
   "nbconvert_exporter": "python",
   "pygments_lexer": "ipython3",
   "version": "3.6.1"
  }
 },
 "nbformat": 4,
 "nbformat_minor": 2
}
