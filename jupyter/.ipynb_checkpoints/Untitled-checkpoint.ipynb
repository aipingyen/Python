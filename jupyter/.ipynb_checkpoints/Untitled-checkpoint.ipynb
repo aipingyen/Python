{
 "cells": [
  {
   "cell_type": "code",
   "execution_count": 6,
   "metadata": {
    "collapsed": false
   },
   "outputs": [
    {
     "ename": "NameError",
     "evalue": "name 'main' is not defined",
     "output_type": "error",
     "traceback": [
      "\u001b[0;31m---------------------------------------------------------------------------\u001b[0m",
      "\u001b[0;31mNameError\u001b[0m                                 Traceback (most recent call last)",
      "\u001b[0;32m<ipython-input-6-d91e572f550e>\u001b[0m in \u001b[0;36m<module>\u001b[0;34m()\u001b[0m\n\u001b[1;32m    101\u001b[0m     \u001b[0mmonth_end\u001b[0m \u001b[1;33m=\u001b[0m \u001b[0mdatetime\u001b[0m\u001b[1;33m(\u001b[0m\u001b[0myear\u001b[0m \u001b[1;33m+\u001b[0m \u001b[1;36m1\u001b[0m\u001b[1;33m,\u001b[0m \u001b[1;36m1\u001b[0m\u001b[1;33m,\u001b[0m \u001b[1;36m1\u001b[0m\u001b[1;33m,\u001b[0m \u001b[1;36m0\u001b[0m\u001b[1;33m,\u001b[0m \u001b[1;36m0\u001b[0m\u001b[1;33m)\u001b[0m\u001b[1;33m\u001b[0m\u001b[0m\n\u001b[1;32m    102\u001b[0m     \u001b[1;31m# print(year)\u001b[0m\u001b[1;33m\u001b[0m\u001b[1;33m\u001b[0m\u001b[0m\n\u001b[0;32m--> 103\u001b[0;31m     \u001b[0mmain\u001b[0m\u001b[1;33m(\u001b[0m\u001b[0mmonth_from\u001b[0m\u001b[1;33m,\u001b[0m \u001b[0mmonth_end\u001b[0m\u001b[1;33m,\u001b[0m \u001b[0mcarName\u001b[0m\u001b[1;33m,\u001b[0m \u001b[0myear\u001b[0m\u001b[1;33m)\u001b[0m\u001b[1;33m\u001b[0m\u001b[0m\n\u001b[0m",
      "\u001b[0;31mNameError\u001b[0m: name 'main' is not defined"
     ]
    }
   ],
   "source": [
    "#替句子貼標籤\n",
    "from pymongo import MongoClient\n",
    "import time\n",
    "import sys\n",
    "import math\n",
    "import jieba\n",
    "from collections import Counter\n",
    "import jieba.analyse\n",
    "from multiprocessing import Pool,cpu_count,freeze_support\n",
    "from datetime import datetime\n",
    "import jieba.posseg as pseg\n",
    "\n",
    "def insert(title_id, year, senAnalysis):\n",
    "    IP = 'localhost'     #'192.168.196.172'\n",
    "    client = MongoClient(IP, 27017)\n",
    "    # Select database\n",
    "    db = client.final_project\n",
    "\n",
    "    # Select collection\n",
    "    collection = db.mobile01_adjTags\n",
    "    \n",
    "    conAnalysis = {'reference':title_id, 'year':year, 'senAnalysis':senAnalysis} \n",
    "    collection.insert_one(conAnalysis)\n",
    "    \n",
    "def wordcount(contents, title_id, year):\n",
    "    str_a, str_b, str_c, str_d = []\n",
    "    featureLabel = ['comfortable', 'fuelEco', 'safe', 'space']\n",
    "    senAnalysis = []\n",
    "    for i in range(len(contents)):\n",
    "        for word in word_dict['comfortable']:\n",
    "            if word in content[i]:\n",
    "                str_comfortable.append(word)\n",
    "            else:\n",
    "                None\n",
    "        for word in word_dict['fuelEco']:\n",
    "            if word in content[i]:\n",
    "                str_fuelEco.append(word)\n",
    "            else:\n",
    "                None\n",
    "        for word in word_dict['safe']:\n",
    "            if word in content[i]:\n",
    "                str_safe.append(word)\n",
    "            else:\n",
    "                None\n",
    "        for word in word_dict['space']:\n",
    "            if word in content[i]:\n",
    "                str_space.append(word)\n",
    "            else:\n",
    "                None\n",
    "        count_list = [len(str_comfortable), len(str_fuelEco), len(str_safe), len(str_space)]\n",
    "        str_list = [str_comfortable, str_fuelEco, str_safe, str_space]\n",
    "        idx = count_list.index(max(count_list))\n",
    "        sentence = {'label':featureLabel[idx],'content':content,'count':len(str_list[idx]),'features':str_list[idx]}\n",
    "        senAnalysis.appent(sentence)\n",
    "    insert(title_id, year, senAnalysis)\n",
    "    \n",
    "        \n",
    "def catch_allContent(comment):\n",
    "    all_content = []\n",
    "    all_content.append(comment['content'])\n",
    "    for i in range(comment['reply_no']):\n",
    "        all_content.append(comment['replies'][i]['content'])\n",
    "    return all_content\n",
    "\n",
    "def query(month_from, month_end, carName, year):\n",
    "    IP = 'localhost'  # '192.168.196.172'\n",
    "    client = MongoClient(IP, 27017)\n",
    "    # Select database\n",
    "    db = client.final_project\n",
    "\n",
    "    # Select collection\n",
    "    collection = db.mobile01\n",
    "\n",
    "    count = collection.find({\"Board\":carName, \"tm\": {\"$gte\": month_from, \"$lt\": month_end}}).count()\n",
    "    print(count)\n",
    "    comment = collection.find({\"Board\": carName, \"tm\": {\"$gte\": month_from, \"$lt\": month_end}})\n",
    "    start = time.time()\n",
    "    try:\n",
    "        for idx in range(count):\n",
    "            contents = catch_allContent(comment[idx])  #return allContent list\n",
    "#             multi(content)\n",
    "            title_id = comment[_id]\n",
    "            wordcount(contents, title_id, year)\n",
    "                \n",
    "            printStr = 'now is going on ' + str(idx + 1) + ',which is ' + str(math.floor((idx + 1) / count * 100)) + str('% finished')\n",
    "            sys.stdout.write('\\r' + printStr)\n",
    "            \n",
    "        end = time.time()\n",
    "        elapsed = end - start\n",
    "        print(\"Time taken :{} seconds.\".format(elapsed))\n",
    "\n",
    "    except Exception as e:\n",
    "        print(\"{} error in row{} , :\".format(main, idx + 1), e)\n",
    "\n",
    "if __name__ == '__main__':\n",
    "    \n",
    "    path = 'C:\\\\Users\\\\BIG DATA\\\\Desktop\\\\Project\\\\textMiningDICT\\\\adjDICT'\n",
    "    word_dict = {}\n",
    "    adj_Dicts = ['comfortable','fuelEco','safe','space']\n",
    "    for adj_Dict in adj_Dicts :\n",
    "        with open(path+emotionWd+\".txt\",\"r\",encoding='utf-8') as fr:\n",
    "            data=fr.read().strip().split('\\n')\n",
    "            dict_list = [word for word in data if len(word)>0]\n",
    "            word_dict[adj_Dict] = dict_list\n",
    "            \n",
    "    carName = 'Volkswagen'\n",
    "    # for year in range(2008, (2017)+1, 1):\n",
    "    year = 2008\n",
    "    month_from = datetime(year, 1, 1, 0, 0)\n",
    "    month_end = datetime(year + 1, 1, 1, 0, 0)\n",
    "    # print(year)\n",
    "    query(month_from, month_end, carName, year)"
   ]
  },
  {
   "cell_type": "code",
   "execution_count": 8,
   "metadata": {
    "collapsed": false
   },
   "outputs": [
    {
     "data": {
      "text/plain": [
       "1"
      ]
     },
     "execution_count": 8,
     "metadata": {},
     "output_type": "execute_result"
    }
   ],
   "source": [
    "a = [1,5,3,]\n",
    "a.index(max(a))"
   ]
  },
  {
   "cell_type": "code",
   "execution_count": 42,
   "metadata": {
    "collapsed": true
   },
   "outputs": [
    {
     "name": "stdout",
     "output_type": "stream",
     "text": [
      "Volkswagen\n",
      "[('safe,6009', 42.66), ('fuelEco,4867', 34.55), ('comfortable,2370', 16.82), ('space,841', 5.97)]\n",
      "Toyota\n",
      "[('fuelEco,17055', 39.75), ('safe,16345', 38.1), ('comfortable,6966', 16.24), ('space,2539', 5.92)]\n",
      "LEXUS\n",
      "[('safe,4091', 36.09), ('fuelEco,3458', 30.51), ('comfortable,2993', 26.4), ('space,793', 7.0)]\n",
      "Mazda\n",
      "[('safe,6602', 41.67), ('fuelEco,3959', 24.99), ('comfortable,3935', 24.84), ('space,1346', 8.5)]\n",
      "Mitsubishi\n",
      "[('fuelEco,6794', 44.54), ('safe,4503', 29.52), ('comfortable,3004', 19.69), ('space,952', 6.24)]\n",
      "Nissan\n",
      "[('safe,4850', 32.45), ('fuelEco,4745', 31.75), ('comfortable,4007', 26.81), ('space,1345', 9.0)]\n",
      "BMW\n",
      "[('safe,841', 37.75), ('fuelEco,612', 27.47), ('comfortable,539', 24.19), ('space,236', 10.59)]\n",
      "Mercedes Benz\n",
      "[('safe,3857', 36.3), ('comfortable,3127', 29.43), ('fuelEco,2598', 24.45), ('space,1042', 9.81)]\n",
      "Honda\n",
      "[('safe,10790', 37.45), ('fuelEco,8591', 29.81), ('comfortable,6512', 22.6), ('space,2922', 10.14)]\n",
      "Ford\n",
      "[('safe,13617', 41.98), ('fuelEco,10401', 32.06), ('comfortable,6515', 20.08), ('space,1906', 5.88)]\n"
     ]
    }
   ],
   "source": [
    "#join w\n",
    "carName_list = ['Volkswagen', 'Toyota', 'LEXUS', 'Mazda', 'Mitsubishi', 'Nissan', 'BMW', 'Mercedes Benz', 'Honda', 'Ford']\n",
    "for carName in carName_list:  \n",
    "    with open('C:\\\\Users\\\\BIG DATA\\\\Desktop\\\\Project\\\\project2\\\\{}\\\\{}.csv'.format(carName, 'all'), 'r', encoding='utf8') as fr:\n",
    "        a = fr.read().split()\n",
    "        count = 0\n",
    "        for idx in a:\n",
    "            b=int(idx.split(',')[1])\n",
    "            count += b\n",
    "        # print(count)\n",
    "\n",
    "        w_list = []\n",
    "        for idx2 in a :\n",
    "            w = round((int(idx2.split(',')[1])/count)*100,2)\n",
    "            w_list.append(w)\n",
    "        a2 = list((zip(a, w_list)))\n",
    "        print(carName)\n",
    "        print(a2)"
   ]
  },
  {
   "cell_type": "code",
   "execution_count": 2,
   "metadata": {
    "collapsed": false
   },
   "outputs": [
    {
     "data": {
      "text/plain": [
       "'C:\\\\jupyter'"
      ]
     },
     "execution_count": 2,
     "metadata": {},
     "output_type": "execute_result"
    }
   ],
   "source": [
    "import os\n",
    "        \n",
    "os.getcwd()"
   ]
  },
  {
   "cell_type": "code",
   "execution_count": 3,
   "metadata": {
    "collapsed": false
   },
   "outputs": [],
   "source": [
    "#create dir\n",
    "PATH = 'C:\\\\Users\\\\BIG DATA\\\\Desktop\\\\Project\\\\radar'\n",
    "os.chdir(PATH)\n",
    "carName_list = ['Volkswagen', 'Toyota', 'LEXUS', 'Mazda', 'Mitsubishi', 'Nissan', 'BMW', 'Mercedes Benz', 'Honda', 'Ford']\n",
    "for carName in carName_list:\n",
    "    os.mkdir(carName)"
   ]
  },
  {
   "cell_type": "code",
   "execution_count": 16,
   "metadata": {
    "collapsed": true
   },
   "outputs": [
    {
     "name": "stdout",
     "output_type": "stream",
     "text": [
      "Volkswagen\n",
      "['fuelEco,256,42.45', 'safe,197,32.67', 'comfortable,113,18.74', 'space,37,6.14']\n",
      "Toyota\n",
      "['fuelEco,1086,41.88', 'safe,776,29.93', 'comfortable,546,21.06', 'space,185,7.13']\n",
      "LEXUS\n",
      "['fuelEco,159,32.58', 'comfortable,149,30.53', 'safe,148,30.33', 'space,32,6.56']\n"
     ]
    },
    {
     "ename": "FileNotFoundError",
     "evalue": "[Errno 2] No such file or directory: 'C:\\\\Users\\\\BIG DATA\\\\Desktop\\\\Project\\\\radar\\\\Mazda\\\\2008.csv'",
     "output_type": "error",
     "traceback": [
      "\u001b[0;31m---------------------------------------------------------------------------\u001b[0m",
      "\u001b[0;31mFileNotFoundError\u001b[0m                         Traceback (most recent call last)",
      "\u001b[0;32m<ipython-input-16-70220e64526c>\u001b[0m in \u001b[0;36m<module>\u001b[0;34m()\u001b[0m\n\u001b[1;32m      3\u001b[0m \u001b[1;31m# for year in range(2008, (2017) + 1, 1):\u001b[0m\u001b[1;33m\u001b[0m\u001b[1;33m\u001b[0m\u001b[0m\n\u001b[1;32m      4\u001b[0m \u001b[1;32mfor\u001b[0m \u001b[0mcarName\u001b[0m \u001b[1;32min\u001b[0m \u001b[0mcarName_list\u001b[0m\u001b[1;33m:\u001b[0m\u001b[1;33m\u001b[0m\u001b[0m\n\u001b[0;32m----> 5\u001b[0;31m     \u001b[1;32mwith\u001b[0m \u001b[0mopen\u001b[0m\u001b[1;33m(\u001b[0m\u001b[1;34m'C:\\\\Users\\\\BIG DATA\\\\Desktop\\\\Project\\\\radar\\\\{}\\\\{}.csv'\u001b[0m\u001b[1;33m.\u001b[0m\u001b[0mformat\u001b[0m\u001b[1;33m(\u001b[0m\u001b[0mcarName\u001b[0m\u001b[1;33m,\u001b[0m \u001b[1;36m2008\u001b[0m\u001b[1;33m)\u001b[0m\u001b[1;33m,\u001b[0m \u001b[1;34m'r'\u001b[0m\u001b[1;33m,\u001b[0m \u001b[0mencoding\u001b[0m\u001b[1;33m=\u001b[0m\u001b[1;34m'utf8'\u001b[0m\u001b[1;33m)\u001b[0m \u001b[1;32mas\u001b[0m \u001b[0mfr\u001b[0m\u001b[1;33m:\u001b[0m\u001b[1;33m\u001b[0m\u001b[0m\n\u001b[0m\u001b[1;32m      6\u001b[0m         \u001b[0ma\u001b[0m \u001b[1;33m=\u001b[0m \u001b[0mfr\u001b[0m\u001b[1;33m.\u001b[0m\u001b[0mread\u001b[0m\u001b[1;33m(\u001b[0m\u001b[1;33m)\u001b[0m\u001b[1;33m.\u001b[0m\u001b[0msplit\u001b[0m\u001b[1;33m(\u001b[0m\u001b[1;33m)\u001b[0m\u001b[1;33m\u001b[0m\u001b[0m\n\u001b[1;32m      7\u001b[0m         \u001b[0mprint\u001b[0m\u001b[1;33m(\u001b[0m\u001b[0mcarName\u001b[0m\u001b[1;33m)\u001b[0m\u001b[1;33m\u001b[0m\u001b[0m\n",
      "\u001b[0;31mFileNotFoundError\u001b[0m: [Errno 2] No such file or directory: 'C:\\\\Users\\\\BIG DATA\\\\Desktop\\\\Project\\\\radar\\\\Mazda\\\\2008.csv'"
     ]
    }
   ],
   "source": [
    "carName_list = ['Volkswagen', 'Toyota', 'LEXUS', 'Mazda', 'Mitsubishi', 'Nissan', 'BMW', 'Mercedes Benz', 'Honda',\n",
    "                    'Ford']\n",
    "# for year in range(2008, (2017) + 1, 1):\n",
    "for carName in carName_list:\n",
    "    with open('C:\\\\Users\\\\BIG DATA\\\\Desktop\\\\Project\\\\radar\\\\{}\\\\{}.csv'.format(carName, 2008), 'r', encoding='utf8') as fr:\n",
    "        a = fr.read().split()\n",
    "        print(carName)\n",
    "        print(a)"
   ]
  },
  {
   "cell_type": "code",
   "execution_count": 106,
   "metadata": {
    "collapsed": false,
    "scrolled": true
   },
   "outputs": [
    {
     "name": "stdout",
     "output_type": "stream",
     "text": [
      "\n",
      "comfortable :  ['Volkswagen,comfortable,18.74', 'Toyota,comfortable,21.06', 'LEXUS,comfortable,30.53', 'Mazda,comfortable,28.51', 'Mitsubishi,comfortable,24.66', 'Nissan,comfortable,30.08', 'BMW,comfortable,22.44', 'Benz,comfortable,28.95', 'Honda,comfortable,23.98', 'Ford,comfortable,18.23']\n",
      "\n",
      "fuelEco :  ['Volkswagen,fuelEco,42.45', 'Toyota,fuelEco,41.88', 'LEXUS,fuelEco,32.58', 'Mazda,fuelEco,30.8', 'Mitsubishi,fuelEco,40.33', 'Nissan,fuelEco,35.87', 'BMW,fuelEco,28.41', 'Benz,fuelEco,31.33', 'Honda,fuelEco,32.98', 'Ford,fuelEco,40.76']\n",
      "\n",
      "safe :  ['Volkswagen,safe,32.67', 'Toyota,safe,29.93', 'LEXUS,safe,30.33', 'Mazda,safe,31.63', 'Mitsubishi,safe,29.09', 'Nissan,safe,24.46', 'BMW,safe,38.92', 'Benz,safe,30.07', 'Honda,safe,32.08', 'Ford,safe,34.92']\n",
      "\n",
      "space :  ['Volkswagen,space,6.14', 'Toyota,space,7.13', 'LEXUS,space,6.56', 'Mazda,space,9.05', 'Mitsubishi,space,5.93', 'Nissan,space,9.59', 'BMW,space,10.23', 'Benz,space,9.65', 'Honda,space,10.97', 'Ford,space,6.1']\n"
     ]
    }
   ],
   "source": [
    "carName_list = ['Volkswagen', 'Toyota', 'LEXUS', 'Mazda', 'Mitsubishi', 'Nissan', 'BMW', 'Mercedes Benz', 'Honda',\n",
    "                    'Ford']\n",
    "adj_Dicts = ['comfortable', 'fuelEco', 'safe', 'space']\n",
    "# for year in range(2008, (2017) + 1, 1):\n",
    "a = []\n",
    "comfortable = []\n",
    "fuelEco = []\n",
    "safe = []\n",
    "space = []\n",
    "        \n",
    "for carName in carName_list:\n",
    "    \n",
    "    with open('C:\\\\Users\\\\BIG DATA\\\\Desktop\\\\Project\\\\radar2\\\\{}\\\\{}.csv'.format(carName, 2008), 'r', encoding='utf8') as fr:\n",
    "        a += fr.read().split()\n",
    "        \n",
    "# print(a)\n",
    "for idx in a:\n",
    "    if 'comfortable' in idx:\n",
    "        comfortable.append(idx)\n",
    "        \n",
    "    else:\n",
    "        None\n",
    "    if 'fuelEco' in idx:\n",
    "        fuelEco.append(idx)\n",
    "        \n",
    "    else:\n",
    "        None\n",
    "    if 'safe' in idx:\n",
    "        safe.append(idx)\n",
    "        \n",
    "    else:\n",
    "        None\n",
    "    if 'space' in idx:\n",
    "        space.append(idx)\n",
    "        \n",
    "    else:\n",
    "        None\n",
    "print(\"\\ncomfortable : \",comfortable)\n",
    "print(\"\\nfuelEco : \",fuelEco)\n",
    "print(\"\\nsafe : \",safe)\n",
    "print(\"\\nspace : \",space)"
   ]
  },
  {
   "cell_type": "code",
   "execution_count": 5,
   "metadata": {
    "collapsed": false
   },
   "outputs": [
    {
     "name": "stdout",
     "output_type": "stream",
     "text": [
      "['Volkswagen,safe,48.04', 'Volkswagen,fuelEco,33.04', 'Volkswagen,comfortable,14.58', 'Volkswagen,space,4.34']\n",
      "[('Volkswagen', 'safe', '48.04'), ('Volkswagen', 'fuelEco', '33.04'), ('Volkswagen', 'comfortable', '14.58'), ('Volkswagen', 'space', '4.34')]\n",
      "48.04\n",
      "33.04\n",
      "14.58\n",
      "4.34\n",
      "[('Volkswagen', 'safe', '48.04', 48.04), ('Volkswagen', 'fuelEco', '33.04', 33.04), ('Volkswagen', 'comfortable', '14.58', 14.58), ('Volkswagen', 'space', '4.34', 4.34)]\n",
      "[('Volkswagen', 'safe', '48.04', 48.04), ('Volkswagen', 'fuelEco', '33.04', 33.04), ('Volkswagen', 'comfortable', '14.58', 14.58), ('Volkswagen', 'space', '4.34', 4.34)]\n"
     ]
    }
   ],
   "source": [
    "from operator import itemgetter\n",
    "a = []\n",
    "with open('C:\\\\Users\\\\BIG DATA\\\\Desktop\\\\Project\\\\radar2\\\\{}\\\\{}.csv'.format('Volkswagen', 2012), 'r', encoding='utf8') as fr:\n",
    "        a += fr.read().split()\n",
    "print(a)\n",
    "count2 = []\n",
    "count = []\n",
    "for idx in a:\n",
    "#     a = []\n",
    "#     a.append(idx.split(','))\n",
    "    \n",
    "    count.append(tuple(idx.split(',')))\n",
    "# print(a)\n",
    "print(count)\n",
    "for idx2 in count:\n",
    "    print(float(idx2[2]))\n",
    "    b = [float(idx2[2])]\n",
    "#     b = float(idx2[2])\n",
    "    idx2 += tuple(b)\n",
    "    count2.append(idx2)\n",
    "print(count2)\n",
    "sorted(count2, key=itemgetter(3))\n",
    "print(count2)\n",
    "\n",
    "#  sorted(data, key=itemgetter(0))\n",
    "# sorted(student_objects, key=lambda student: student.age)   # sort by age"
   ]
  },
  {
   "cell_type": "code",
   "execution_count": 5,
   "metadata": {
    "collapsed": false
   },
   "outputs": [
    {
     "ename": "KeyboardInterrupt",
     "evalue": "",
     "output_type": "error",
     "traceback": [
      "\u001b[0;31m---------------------------------------------------------------------------\u001b[0m",
      "\u001b[0;31mKeyboardInterrupt\u001b[0m                         Traceback (most recent call last)",
      "\u001b[0;32m<ipython-input-5-73f12b0d30b6>\u001b[0m in \u001b[0;36m<module>\u001b[0;34m()\u001b[0m\n\u001b[1;32m      1\u001b[0m \u001b[0mname_list\u001b[0m \u001b[1;33m=\u001b[0m \u001b[1;33m[\u001b[0m\u001b[1;33m(\u001b[0m\u001b[1;36m1\u001b[0m\u001b[1;33m,\u001b[0m\u001b[1;36m2\u001b[0m\u001b[1;33m)\u001b[0m\u001b[1;33m]\u001b[0m\u001b[1;33m\u001b[0m\u001b[0m\n\u001b[1;32m      2\u001b[0m \u001b[1;32mfor\u001b[0m  \u001b[0midx\u001b[0m  \u001b[1;32min\u001b[0m  \u001b[0mname_list\u001b[0m \u001b[1;33m:\u001b[0m\u001b[1;33m\u001b[0m\u001b[0m\n\u001b[0;32m----> 3\u001b[0;31m     \u001b[0midx\u001b[0m \u001b[1;33m+=\u001b[0m \u001b[0mtuple\u001b[0m\u001b[1;33m(\u001b[0m\u001b[1;33m[\u001b[0m\u001b[0mint\u001b[0m\u001b[1;33m(\u001b[0m\u001b[1;36m1\u001b[0m\u001b[1;33m)\u001b[0m\u001b[1;33m]\u001b[0m\u001b[1;33m)\u001b[0m\u001b[1;33m\u001b[0m\u001b[0m\n\u001b[0m\u001b[1;32m      4\u001b[0m     \u001b[0mname_list\u001b[0m\u001b[1;33m.\u001b[0m\u001b[0mappend\u001b[0m\u001b[1;33m(\u001b[0m\u001b[0midx\u001b[0m\u001b[1;33m)\u001b[0m\u001b[1;33m\u001b[0m\u001b[0m\n",
      "\u001b[0;31mKeyboardInterrupt\u001b[0m: "
     ]
    }
   ],
   "source": [
    "#devil\n",
    "name_list = [(1,2)]\n",
    "for  idx  in  name_list :\n",
    "    idx += tuple([int(1)])\n",
    "    name_list.append(idx)\n"
   ]
  },
  {
   "cell_type": "code",
   "execution_count": null,
   "metadata": {
    "collapsed": true
   },
   "outputs": [],
   "source": []
  }
 ],
 "metadata": {
  "kernelspec": {
   "display_name": "Python 3",
   "language": "python",
   "name": "python3"
  },
  "language_info": {
   "codemirror_mode": {
    "name": "ipython",
    "version": 3
   },
   "file_extension": ".py",
   "mimetype": "text/x-python",
   "name": "python",
   "nbconvert_exporter": "python",
   "pygments_lexer": "ipython3",
   "version": "3.6.0"
  }
 },
 "nbformat": 4,
 "nbformat_minor": 2
}
