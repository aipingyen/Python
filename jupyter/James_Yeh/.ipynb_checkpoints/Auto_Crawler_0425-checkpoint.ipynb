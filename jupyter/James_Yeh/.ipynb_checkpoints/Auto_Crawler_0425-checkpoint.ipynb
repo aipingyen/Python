{
 "cells": [
  {
   "cell_type": "code",
   "execution_count": 1,
   "metadata": {
    "collapsed": true
   },
   "outputs": [],
   "source": [
    "import requests\n",
    "from bs4 import BeautifulSoup"
   ]
  },
  {
   "cell_type": "code",
   "execution_count": null,
   "metadata": {
    "collapsed": true
   },
   "outputs": [],
   "source": [
    "#res = 連線           res = requests.get(URL, cookies=cookie)\n",
    "#soup ＝ 取得soup格式   soup = BeautifulSoup(res.text, 'lxml')\n",
    "#soup.select"
   ]
  },
  {
   "cell_type": "code",
   "execution_count": 9,
   "metadata": {
    "collapsed": true
   },
   "outputs": [],
   "source": [
    "HOST = \"https://www.ptt.cc\"\n",
    "\n",
    "cookie = {\"cookie\": \"over18=1;\"}"
   ]
  },
  {
   "cell_type": "code",
   "execution_count": 8,
   "metadata": {
    "collapsed": true
   },
   "outputs": [],
   "source": [
    "res = requests.get(HOST + \"/bbs/NBA/index.html\", cookies=cookie)\n",
    "soup = BeautifulSoup(res.text, 'lxml')"
   ]
  },
  {
   "cell_type": "code",
   "execution_count": 13,
   "metadata": {},
   "outputs": [
    {
     "data": {
      "text/plain": [
       "[<a href=\"/bbs/NBA/M.1493110469.A.63B.html\">[新聞] 準備好了 小瑞佛斯第5戰回歸</a>,\n",
       " <a href=\"/bbs/NBA/M.1493110862.A.D04.html\">[新聞] 第5戰將帶傷上陣 哈登：這是季後賽</a>,\n",
       " <a href=\"/bbs/NBA/M.1493113358.A.FB8.html\">[討論] LBJ的追魂鍋是30年來最強的嗎?</a>,\n",
       " <a href=\"/bbs/NBA/M.1493113779.A.733.html\">[情報] Westbrook：我猜是火箭那些無法上場的人</a>,\n",
       " <a href=\"/bbs/NBA/M.1493114709.A.9F8.html\">Re: [情報] CURRY季後賽三分進球數追平Robert Horry</a>,\n",
       " <a href=\"/bbs/NBA/M.1493115244.A.176.html\">Re: [花邊] 奧運晃倒喬治的男人！ 中國趙繼偉投入NBA</a>,\n",
       " <a href=\"/bbs/NBA/M.1480648734.A.D28.html\">[公告] 板規6.1</a>,\n",
       " <a href=\"/bbs/NBA/M.1478497499.A.150.html\">[公告] 違規檢舉區</a>,\n",
       " <a href=\"/bbs/NBA/M.1486126665.A.D3C.html\">[情報] 2016-2017 季後賽第一輪 (4/24 - 5/1)</a>,\n",
       " <a href=\"/bbs/NBA/M.1492524072.A.71F.html\">[公告]關於置底聯署的bug 及季後賽板規</a>]"
      ]
     },
     "execution_count": 13,
     "metadata": {},
     "output_type": "execute_result"
    }
   ],
   "source": [
    "links = soup.select('div.title > a')\n",
    "links"
   ]
  },
  {
   "cell_type": "code",
   "execution_count": 14,
   "metadata": {
    "scrolled": false
   },
   "outputs": [
    {
     "name": "stdout",
     "output_type": "stream",
     "text": [
      "link is https://www.ptt.cc/bbs/NBA/M.1493110469.A.63B.html\n",
      "title is [新聞] 準備好了 小瑞佛斯第5戰回歸\n",
      "link is https://www.ptt.cc/bbs/NBA/M.1493110862.A.D04.html\n",
      "title is [新聞] 第5戰將帶傷上陣 哈登：這是季後賽\n",
      "link is https://www.ptt.cc/bbs/NBA/M.1493113358.A.FB8.html\n",
      "title is [討論] LBJ的追魂鍋是30年來最強的嗎?\n",
      "link is https://www.ptt.cc/bbs/NBA/M.1493113779.A.733.html\n",
      "title is [情報] Westbrook：我猜是火箭那些無法上場的人\n",
      "link is https://www.ptt.cc/bbs/NBA/M.1493114709.A.9F8.html\n",
      "title is Re: [情報] CURRY季後賽三分進球數追平Robert Horry\n",
      "link is https://www.ptt.cc/bbs/NBA/M.1493115244.A.176.html\n",
      "title is Re: [花邊] 奧運晃倒喬治的男人！ 中國趙繼偉投入NBA\n",
      "link is https://www.ptt.cc/bbs/NBA/M.1480648734.A.D28.html\n",
      "title is [公告] 板規6.1\n",
      "link is https://www.ptt.cc/bbs/NBA/M.1478497499.A.150.html\n",
      "title is [公告] 違規檢舉區\n",
      "link is https://www.ptt.cc/bbs/NBA/M.1486126665.A.D3C.html\n",
      "title is [情報] 2016-2017 季後賽第一輪 (4/24 - 5/1)\n",
      "link is https://www.ptt.cc/bbs/NBA/M.1492524072.A.71F.html\n",
      "title is [公告]關於置底聯署的bug 及季後賽板規\n"
     ]
    }
   ],
   "source": [
    "for link in links:\n",
    "        print(\"link is %s\" % HOST + link['href'])\n",
    "        print(\"title is %s\" % link.text)"
   ]
  },
  {
   "cell_type": "code",
   "execution_count": 19,
   "metadata": {},
   "outputs": [
    {
     "data": {
      "text/plain": [
       "[<a class=\"btn wide\" href=\"/bbs/NBA/index1.html\">最舊</a>,\n",
       " <a class=\"btn wide\" href=\"/bbs/NBA/index4745.html\">‹ 上頁</a>,\n",
       " <a class=\"btn wide disabled\">下頁 ›</a>,\n",
       " <a class=\"btn wide\" href=\"/bbs/NBA/index.html\">最新</a>]"
      ]
     },
     "execution_count": 19,
     "metadata": {},
     "output_type": "execute_result"
    }
   ],
   "source": [
    "# 爬取換頁資訊\n",
    "buttons = soup.select('a.btn.wide')\n",
    "buttons"
   ]
  },
  {
   "cell_type": "code",
   "execution_count": 30,
   "metadata": {},
   "outputs": [
    {
     "data": {
      "text/plain": [
       "4746"
      ]
     },
     "execution_count": 30,
     "metadata": {},
     "output_type": "execute_result"
    }
   ],
   "source": [
    "#split('index')[1].split('.html')[0]  list加入索引直＝＝>字串  字串才可以使用split\n",
    "total_page = int(buttons[1]['href'].split('index')[1].split('.html')[0])+1\n",
    "total_page"
   ]
  },
  {
   "cell_type": "code",
   "execution_count": 33,
   "metadata": {},
   "outputs": [
    {
     "name": "stdout",
     "output_type": "stream",
     "text": [
      "[Current page]https://www.ptt.cc/bbs/NBA/index4746.html\n",
      "link is https://www.ptt.cc/bbs/NBA/M.1493110469.A.63B.html\n",
      "title is [新聞] 準備好了 小瑞佛斯第5戰回歸\n",
      "==============================\n",
      "link is https://www.ptt.cc/bbs/NBA/M.1493110862.A.D04.html\n",
      "title is [新聞] 第5戰將帶傷上陣 哈登：這是季後賽\n",
      "==============================\n",
      "link is https://www.ptt.cc/bbs/NBA/M.1493113358.A.FB8.html\n",
      "title is [討論] LBJ的追魂鍋是30年來最強的嗎?\n",
      "==============================\n",
      "link is https://www.ptt.cc/bbs/NBA/M.1493113779.A.733.html\n",
      "title is [情報] Westbrook：我猜是火箭那些無法上場的人\n",
      "==============================\n",
      "link is https://www.ptt.cc/bbs/NBA/M.1493114709.A.9F8.html\n",
      "title is Re: [情報] CURRY季後賽三分進球數追平Robert Horry\n",
      "==============================\n",
      "link is https://www.ptt.cc/bbs/NBA/M.1493115244.A.176.html\n",
      "title is Re: [花邊] 奧運晃倒喬治的男人！ 中國趙繼偉投入NBA\n",
      "==============================\n",
      "link is https://www.ptt.cc/bbs/NBA/M.1493119881.A.461.html\n",
      "title is [討論] Paul George極有可能去Celtics?\n",
      "==============================\n",
      "link is https://www.ptt.cc/bbs/NBA/M.1480648734.A.D28.html\n",
      "title is [公告] 板規6.1\n",
      "==============================\n",
      "link is https://www.ptt.cc/bbs/NBA/M.1478497499.A.150.html\n",
      "title is [公告] 違規檢舉區\n",
      "==============================\n",
      "link is https://www.ptt.cc/bbs/NBA/M.1486126665.A.D3C.html\n",
      "title is [情報] 2016-2017 季後賽第一輪 (4/24 - 5/1)\n",
      "==============================\n",
      "link is https://www.ptt.cc/bbs/NBA/M.1492524072.A.71F.html\n",
      "title is [公告]關於置底聯署的bug 及季後賽板規\n",
      "==============================\n",
      "[Current page]https://www.ptt.cc/bbs/NBA/index4745.html\n",
      "link is https://www.ptt.cc/bbs/NBA/M.1493089746.A.56F.html\n",
      "title is [花邊] 若馬刺贏球，聖城某班級的小學生就不用寫作業\n",
      "==============================\n",
      "link is https://www.ptt.cc/bbs/NBA/M.1493091119.A.495.html\n",
      "title is [情報]Robin Lopez：我掉了鞋，別人扔了，沒毛病\n",
      "==============================\n",
      "link is https://www.ptt.cc/bbs/NBA/M.1493092253.A.125.html\n",
      "title is [情報] 勇士第一節45分之季後賽紀錄\n",
      "==============================\n",
      "link is https://www.ptt.cc/bbs/NBA/M.1493094298.A.4F6.html\n",
      "title is [新聞] 「大鳥」紐約霸氣開F-1賽車　為了這事\n",
      "==============================\n",
      "link is https://www.ptt.cc/bbs/NBA/M.1493095087.A.267.html\n",
      "title is [心得］Pacer 這個夏天結束了 Over my dead body\n",
      "==============================\n",
      "link is https://www.ptt.cc/bbs/NBA/M.1493095466.A.50C.html\n",
      "title is [花邊] Kobe自傳動畫首映：無意復出專心寫作\n",
      "==============================\n",
      "link is https://www.ptt.cc/bbs/NBA/M.1493095672.A.226.html\n",
      "title is [討論] 如果Ibaka還在雷霆是不是能贏火箭?\n",
      "==============================\n",
      "link is https://www.ptt.cc/bbs/NBA/M.1493096196.A.F29.html\n",
      "title is [情報] Porzingis:一直想為尼克打球,前提要贏球\n",
      "==============================\n",
      "link is https://www.ptt.cc/bbs/NBA/M.1493096888.A.30D.html\n",
      "title is [BOX ] Warriors 128:103 Blazers\n",
      "==============================\n",
      "link is https://www.ptt.cc/bbs/NBA/M.1493097222.A.2F9.html\n",
      "title is [公告] NBA 樂透開獎\n",
      "==============================\n",
      "link is https://www.ptt.cc/bbs/NBA/M.1493097384.A.98B.html\n",
      "title is [情報] CURRY季後賽三分進球數追平Robert Horry\n",
      "==============================\n",
      "link is https://www.ptt.cc/bbs/NBA/M.1493100348.A.1E5.html\n",
      "title is [新聞] 不曾想念籃球 因為布萊恩從未離開過\n",
      "==============================\n",
      "link is https://www.ptt.cc/bbs/NBA/M.1493100654.A.10B.html\n",
      "title is [討論] Michael Jordan的灌籃\n",
      "==============================\n",
      "link is https://www.ptt.cc/bbs/NBA/M.1493100764.A.0AC.html\n",
      "title is [花邊] 奧運晃倒喬治的男人！ 中國趙繼偉投入NBA\n",
      "==============================\n",
      "link is https://www.ptt.cc/bbs/NBA/M.1493100809.A.F45.html\n",
      "title is [討論] 勇士的陣容還有什麼問題嗎\n",
      "==============================\n",
      "link is https://www.ptt.cc/bbs/NBA/M.1493101288.A.CE0.html\n",
      "title is [外絮] James第四戰最後一個三分球應該不算\n",
      "==============================\n",
      "link is https://www.ptt.cc/bbs/NBA/M.1493104613.A.487.html\n",
      "title is [討論] 請問Monta Ellis\n",
      "==============================\n",
      "link is https://www.ptt.cc/bbs/NBA/M.1493108591.A.74B.html\n",
      "title is [新聞] 進攻時綁鞋帶 巫師中鋒尷尬擺手\n",
      "==============================\n",
      "link is https://www.ptt.cc/bbs/NBA/M.1493109607.A.154.html\n",
      "title is Re: [討論] Michael Jordan的灌籃\n",
      "==============================\n",
      "[Current page]https://www.ptt.cc/bbs/NBA/index4744.html\n",
      "link is https://www.ptt.cc/bbs/NBA/M.1493059168.A.AF9.html\n",
      "title is [討論] LBJ配上哪四位射手可以連續拿冠軍\n",
      "==============================\n",
      "link is https://www.ptt.cc/bbs/NBA/M.1493060198.A.CAF.html\n",
      "title is Fw: [情報] Rivers 可望於下場比賽復出\n",
      "==============================\n",
      "link is https://www.ptt.cc/bbs/NBA/M.1493073043.A.1EC.html\n",
      "title is [Live] 公鹿 @ 暴龍\n",
      "==============================\n",
      "link is https://www.ptt.cc/bbs/NBA/M.1493076643.A.CE7.html\n",
      "title is [Live] 巫師 @ 老鷹\n",
      "==============================\n",
      "link is https://www.ptt.cc/bbs/NBA/M.1493076770.A.F78.html\n",
      "title is Re: [討論] NBA為何不學MLB 讓8-10支強隊打季後賽就\n",
      "==============================\n",
      "link is https://www.ptt.cc/bbs/NBA/M.1493078459.A.EC3.html\n",
      "title is [花邊] Magic Johnson 將代表湖人隊抽樂透簽\n",
      "==============================\n",
      "link is https://www.ptt.cc/bbs/NBA/M.1493081227.A.1EA.html\n",
      "title is [情報] Kevin Durant 今天復出\n",
      "==============================\n",
      "link is https://www.ptt.cc/bbs/NBA/M.1493082112.A.4B4.html\n",
      "title is [討論] 有kd的雷霆能與本季的火箭抗衡嗎？\n",
      "==============================\n",
      "link is https://www.ptt.cc/bbs/NBA/M.1493082512.A.7C0.html\n",
      "title is [花邊] 詹姆斯關心柯爾傷勢 錄影片祝早日康復（\n",
      "==============================\n",
      "link is https://www.ptt.cc/bbs/NBA/M.1493083503.A.869.html\n",
      "title is [外絮] 溜馬粉絲給Irving粉紅鶴\n",
      "==============================\n",
      "link is https://www.ptt.cc/bbs/NBA/M.1493083841.A.EF7.html\n",
      "title is Re: [討論] 有kd的雷霆能與本季的火箭抗衡嗎？\n",
      "==============================\n",
      "link is https://www.ptt.cc/bbs/NBA/M.1493084225.A.718.html\n",
      "title is [BOX ] Bucks 93:118 Raptors (TOR 3-2)\n",
      "==============================\n",
      "link is https://www.ptt.cc/bbs/NBA/M.1493084460.A.03B.html\n",
      "title is [花邊] 莫雷社交媒體po比賽照：很有意思的一張圖\n",
      "==============================\n",
      "link is https://www.ptt.cc/bbs/NBA/M.1493085245.A.9ED.html\n",
      "title is [討論] KD為何始終無法超越LBJ\n",
      "==============================\n",
      "link is https://www.ptt.cc/bbs/NBA/M.1493085643.A.9B2.html\n",
      "title is [Live] 勇士 @ 拓荒者\n",
      "==============================\n",
      "link is https://www.ptt.cc/bbs/NBA/M.1493086251.A.FAB.html\n",
      "title is Re: [討論] 火箭 雷霆最後幾波\n",
      "==============================\n",
      "link is https://www.ptt.cc/bbs/NBA/M.1493087138.A.D47.html\n",
      "title is [花邊] 大鳥開賽車\n",
      "==============================\n",
      "link is https://www.ptt.cc/bbs/NBA/M.1493087510.A.780.html\n",
      "title is [討論] 大家覺得下一個世代球員們的偶像會是誰？\n",
      "==============================\n",
      "link is https://www.ptt.cc/bbs/NBA/M.1493088140.A.9D4.html\n",
      "title is [BOX ] Wizards 101:111 Hawks\n",
      "==============================\n",
      "link is https://www.ptt.cc/bbs/NBA/M.1493089531.A.A66.html\n",
      "title is [外絮] George應仔細考慮在湖人打球帶來的風險\n",
      "==============================\n",
      "[Current page]https://www.ptt.cc/bbs/NBA/index4743.html\n",
      "link is https://www.ptt.cc/bbs/NBA/M.1493043551.A.072.html\n",
      "title is Re: [外絮] Russ:我們是一支球隊，不要想分裂我們\n",
      "==============================\n",
      "link is https://www.ptt.cc/bbs/NBA/M.1493044175.A.21D.html\n",
      "title is [情報] 勇士vs拓荒者 G4未上場名單\n",
      "==============================\n",
      "link is https://www.ptt.cc/bbs/NBA/M.1493044193.A.B53.html\n",
      "title is [外絮] Kristaps Porzingis訪問\n",
      "==============================\n",
      "link is https://www.ptt.cc/bbs/NBA/M.1493045626.A.0EB.html\n",
      "title is [討論] LBJ跟可愛!\n",
      "==============================\n",
      "link is https://www.ptt.cc/bbs/NBA/M.1493046162.A.E56.html\n",
      "title is Re: [花邊] 談種族偏見　林書豪：亞裔女總愛白人\n",
      "==============================\n",
      "link is https://www.ptt.cc/bbs/NBA/M.1493046534.A.F83.html\n",
      "title is Re: [討論] NBA中哪個射手投籃姿勢最優美省力\n",
      "==============================\n",
      "link is https://www.ptt.cc/bbs/NBA/M.1493046794.A.9B2.html\n",
      "title is [討論] 灰熊厲害  馬刺嚇壞\n",
      "==============================\n",
      "link is https://www.ptt.cc/bbs/NBA/M.1493046945.A.FCC.html\n",
      "title is [情報] Nurkic ruled out for Game4\n",
      "==============================\n",
      "link is https://www.ptt.cc/bbs/NBA/M.1493047122.A.4AF.html\n",
      "title is Re: [新聞] 溜馬生涯告終？喬治:下個問題\n",
      "==============================\n",
      "link is https://www.ptt.cc/bbs/NBA/M.1493048814.A.76D.html\n",
      "title is [新聞] 季後巡迴看球 羅斯回公牛：很怪嗎？\n",
      "==============================\n",
      "link is https://www.ptt.cc/bbs/NBA/M.1493049508.A.F33.html\n",
      "title is [討論] 季後賽淨勝分最少的橫掃?\n",
      "==============================\n",
      "link is https://www.ptt.cc/bbs/NBA/M.1493049523.A.64D.html\n",
      "title is Re: [討論] 現役球員排名、1威少、2哈登、3雷納德、4\n",
      "==============================\n",
      "link is https://www.ptt.cc/bbs/NBA/M.1493049665.A.331.html\n",
      "title is [專欄] 雷霆兩場被逆轉 該讓衛少打滿48分鐘？LYS\n",
      "==============================\n",
      "link is https://www.ptt.cc/bbs/NBA/M.1493049980.A.D45.html\n",
      "title is [討論] LBJ VS Jordan 季後賽的統治力\n",
      "==============================\n",
      "link is https://www.ptt.cc/bbs/NBA/M.1493051150.A.4F7.html\n",
      "title is Re: [討論] 季後賽淨勝分最少的橫掃?\n",
      "==============================\n",
      "link is https://www.ptt.cc/bbs/NBA/M.1493051768.A.773.html\n",
      "title is Re: [討論] NBA為何不學MLB 讓8-10支強隊打季後賽就\n",
      "==============================\n",
      "link is https://www.ptt.cc/bbs/NBA/M.1493052929.A.080.html\n",
      "title is Re: [討論] Lebron改變了小前鋒生態？\n",
      "==============================\n",
      "link is https://www.ptt.cc/bbs/NBA/M.1493057333.A.580.html\n",
      "title is [討論] 歷史上偉大的球星\n",
      "==============================\n",
      "link is https://www.ptt.cc/bbs/NBA/M.1493058946.A.99C.html\n",
      "title is Re: [討論] Lebron改變了小前鋒生態？\n",
      "==============================\n",
      "[Current page]https://www.ptt.cc/bbs/NBA/index4742.html\n",
      "link is https://www.ptt.cc/bbs/NBA/M.1493029972.A.721.html\n",
      "title is [討論] 近年始終無法過LBJ的球星\n",
      "==============================\n",
      "link is https://www.ptt.cc/bbs/NBA/M.1493030550.A.ECD.html\n",
      "title is Re: [討論] 為什麼母獅不太擅長華麗的換手運球呢?\n",
      "==============================\n",
      "link is https://www.ptt.cc/bbs/NBA/M.1493031446.A.86F.html\n",
      "title is [討論] 追分時刻要用JJ Redick  or K湯?\n",
      "==============================\n",
      "link is https://www.ptt.cc/bbs/NBA/M.1493032825.A.416.html\n",
      "title is Re: [討論] 「LBJ關鍵時不敢出手」是不是錯誤的訊息?\n",
      "==============================\n",
      "link is https://www.ptt.cc/bbs/NBA/M.1493032944.A.498.html\n",
      "title is Re: [新聞] 不爽記者提問 魏少：別想挑撥我們\n",
      "==============================\n",
      "link is https://www.ptt.cc/bbs/NBA/M.1493033327.A.5F3.html\n",
      "title is [新聞] 強森再次拯救爵士 爵士教練：耶穌喬\n",
      "==============================\n",
      "link is https://www.ptt.cc/bbs/NBA/M.1493035580.A.DAE.html\n",
      "title is Re: [外絮] 火箭板凳嘲笑 Roberson 罰球\n",
      "==============================\n",
      "link is https://www.ptt.cc/bbs/NBA/M.1493035871.A.72F.html\n",
      "title is [花邊] 談種族偏見　林書豪：亞裔女總愛白人\n",
      "==============================\n",
      "link is https://www.ptt.cc/bbs/NBA/M.1493035879.A.A27.html\n",
      "title is [討論] NBA中哪個射手投籃姿勢最優美省力\n",
      "==============================\n",
      "link is https://www.ptt.cc/bbs/NBA/M.1493037397.A.AEB.html\n",
      "title is Re: [討論] 公牛教練調度問題\n",
      "==============================\n",
      "link is https://www.ptt.cc/bbs/NBA/M.1493037689.A.587.html\n",
      "title is [討論] 是蘭特救了哈登嗎??\n",
      "==============================\n",
      "link is https://www.ptt.cc/bbs/NBA/M.1493038250.A.C29.html\n",
      "title is [討論] LeBron James強成這樣為什麼只有三冠？\n",
      "==============================\n",
      "link is https://www.ptt.cc/bbs/NBA/M.1493039305.A.01F.html\n",
      "title is [討論] 東西區各報一團能抗勇騎嗎\n",
      "==============================\n",
      "link is https://www.ptt.cc/bbs/NBA/M.1493039761.A.16A.html\n",
      "title is [新聞] 綠衫軍扳平戰局 Thomas：隊友助我建立信\n",
      "==============================\n",
      "link is https://www.ptt.cc/bbs/NBA/M.1493041055.A.229.html\n",
      "title is Re: [討論] NBA中哪個射手投籃姿勢最優美省力\n",
      "==============================\n",
      "link is https://www.ptt.cc/bbs/NBA/M.1493041661.A.0C7.html\n",
      "title is Re: [討論] LeBron James強成這樣為什麼只有三冠？\n",
      "==============================\n",
      "link is https://www.ptt.cc/bbs/NBA/M.1493043250.A.AD7.html\n",
      "title is [討論] 季後賽教練的臨場反應和調度\n",
      "==============================\n"
     ]
    }
   ],
   "source": [
    "# 有了頁面資訊，我們來寫可以換頁的列表爬蟲\n",
    "page_to_crawl = 5\n",
    "for page in range(total_page, total_page - page_to_crawl, -1):\n",
    "    print(\"[Current page]{}\".format(HOST + \"/bbs/NBA/index{}.html\".format(page)))\n",
    "    res = requests.get(HOST + \"/bbs/NBA/index{}.html\".format(page), cookies=cookie)\n",
    "    soup = BeautifulSoup(res.text, 'lxml')\n",
    "    links = soup.select('div.title > a')\n",
    "    for link in links :\n",
    "#標籤後直接挑屬性質<a href=\"/bbs/Gossiping/M.1493104111.A.555.html\">\n",
    "        print(\"link is %s\" % HOST + link['href'])\n",
    "        print(\"title is %s\" % link.text)\n",
    "        print(\"=\" * 30)"
   ]
  },
  {
   "cell_type": "code",
   "execution_count": null,
   "metadata": {
    "collapsed": true
   },
   "outputs": [],
   "source": []
  },
  {
   "cell_type": "code",
   "execution_count": null,
   "metadata": {
    "collapsed": true
   },
   "outputs": [],
   "source": []
  },
  {
   "cell_type": "code",
   "execution_count": null,
   "metadata": {
    "collapsed": true
   },
   "outputs": [],
   "source": []
  }
 ],
 "metadata": {
  "kernelspec": {
   "display_name": "Python 3",
   "language": "python",
   "name": "python3"
  },
  "language_info": {
   "codemirror_mode": {
    "name": "ipython",
    "version": 3
   },
   "file_extension": ".py",
   "mimetype": "text/x-python",
   "name": "python",
   "nbconvert_exporter": "python",
   "pygments_lexer": "ipython3",
   "version": "3.6.1"
  }
 },
 "nbformat": 4,
 "nbformat_minor": 2
}
