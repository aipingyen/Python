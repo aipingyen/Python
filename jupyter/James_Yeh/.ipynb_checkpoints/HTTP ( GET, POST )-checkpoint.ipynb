{
 "cells": [
  {
   "cell_type": "code",
   "execution_count": 4,
   "metadata": {
    "collapsed": true
   },
   "outputs": [],
   "source": [
    "import requests as r"
   ]
  },
  {
   "cell_type": "code",
   "execution_count": null,
   "metadata": {
    "collapsed": true
   },
   "outputs": [],
   "source": [
    "res = r.get(\"https://www.ptt.cc/bbs/NBA/index.html\")"
   ]
  },
  {
   "cell_type": "code",
   "execution_count": null,
   "metadata": {
    "collapsed": true
   },
   "outputs": [],
   "source": [
    "type(res)"
   ]
  },
  {
   "cell_type": "code",
   "execution_count": null,
   "metadata": {
    "collapsed": true
   },
   "outputs": [],
   "source": [
    "res.status_code"
   ]
  },
  {
   "cell_type": "code",
   "execution_count": null,
   "metadata": {
    "collapsed": true
   },
   "outputs": [],
   "source": [
    "res.text"
   ]
  },
  {
   "cell_type": "markdown",
   "metadata": {},
   "source": [
    "<h2>POST "
   ]
  },
  {
   "cell_type": "code",
   "execution_count": null,
   "metadata": {
    "collapsed": true
   },
   "outputs": [],
   "source": [
    "#將browser data(Request Headers) & form data + URL ＝ connection\n",
    "#connection後才可以用BeautifulSoup 讀取畫面document\n",
    "#post需要加入Requests Header 和 當時輸入的資訊 form data 才能連結取得內容\n",
    "#Session : 封裝的url+data 持續維持現有資訊"
   ]
  },
  {
   "cell_type": "code",
   "execution_count": 11,
   "metadata": {
    "collapsed": true
   },
   "outputs": [],
   "source": [
    "from lib.toolbox import gen_header\n",
    "\n",
    "data = gen_header(\"\"\"BookingS1Form:hf:0:\n",
    "selectStartStation:1\n",
    "selectDestinationStation:10\n",
    "trainCon:trainRadioGroup:0\n",
    "seatCon:seatRadioGroup:radio20\n",
    "bookingMethod:radio27\n",
    "toTimeInputField:2017/04/25\n",
    "toTimeTable:800P\n",
    "toTrainIDInputField:\n",
    "backTimeInputField:2017/04/25\n",
    "backTimeTable:\n",
    "backTrainIDInputField:\n",
    "ticketPanel:rows:0:ticketAmount:1F\n",
    "ticketPanel:rows:1:ticketAmount:0H\n",
    "ticketPanel:rows:2:ticketAmount:0W\n",
    "ticketPanel:rows:3:ticketAmount:0E\n",
    "homeCaptcha:securityCode:ZHHQ\n",
    "SubmitButton:開始查詢\"\"\")\n",
    "\n",
    "header = gen_header(\"\"\"Accept:text/html,application/xhtml+xml,application/xml;q=0.9,image/webp,*/*;q=0.8\n",
    "Accept-Encoding:gzip, deflate, br\n",
    "Accept-Language:en-US,en;q=0.8\n",
    "Cache-Control:no-cache\n",
    "Connection:keep-alive\n",
    "Content-Length:544\n",
    "Content-Type:application/x-www-form-urlencoded\n",
    "Cookie:JSESSIONID=D4C8F2BC443599AA12615D5E38BEC520; __utmt=1; __utma=214205650.369045586.1491201370.1491201370.1493090997.2; __utmb=214205650.1.10.1493090997; __utmc=214205650; __utmz=214205650.1491201370.1.1.utmcsr=(direct)|utmccn=(direct)|utmcmd=(none); IRS-SESSION=1493091000; THSRC-IRS=!3DYaS2dor/hXfJArtm+Lom00d6XFOS5YC67tANQah+zwivrQiA5QeUm5mnlpZQyXmZkRAaPHZj87fw==; __utma=98625990.757429835.1493091001.1493091001.1493091001.1; __utmb=98625990.1.10.1493091001; __utmc=98625990; __utmz=98625990.1493091001.1.1.utmcsr=thsrc.com.tw|utmccn=(referral)|utmcmd=referral|utmcct=/index.html\n",
    "Host:irs.thsrc.com.tw\n",
    "Origin:https://irs.thsrc.com.tw\n",
    "Pragma:no-cache\n",
    "Referer:https://irs.thsrc.com.tw/IMINT?locale=tw\n",
    "Upgrade-Insecure-Requests:1\n",
    "User-Agent:Mozilla/5.0 (Macintosh; Intel Mac OS X 10_12_4) AppleWebKit/537.36 (KHTML, like Gecko) Chrome/57.0.2987.133 Safari/537.36\"\"\")\n",
    "\n",
    "res = r.post(\"https://irs.thsrc.com.tw/IMINT/;jsessionid=D4C8F2BC443599AA12615D5E38BEC520?wicket:interface=:0:BookingS1Form::IFormSubmitListener\",\n",
    "            data=data,\n",
    "            headers=header)"
   ]
  },
  {
   "cell_type": "code",
   "execution_count": 6,
   "metadata": {},
   "outputs": [
    {
     "data": {
      "text/plain": [
       "{'User-Agent': 'Mozilla/5.0 (Macintosh; Intel Mac OS X 10_12_4) AppleWebKit/537.36 (KHTML, like Gecko) Chrome/57.0.2987.133 Safari/537.36', 'Accept-Encoding': 'gzip, deflate, br', 'Accept': 'text/html,application/xhtml+xml,application/xml;q=0.9,image/webp,*/*;q=0.8', 'Connection': 'keep-alive', 'Accept-Language': 'en-US,en;q=0.8', 'Cache-Control': 'no-cache', 'Content-Length': '421', 'Content-Type': 'application/x-www-form-urlencoded', 'Cookie': 'JSESSIONID=D4C8F2BC443599AA12615D5E38BEC520; __utmt=1; __utma=214205650.369045586.1491201370.1491201370.1493090997.2; __utmb=214205650.1.10.1493090997; __utmc=214205650; __utmz=214205650.1491201370.1.1.utmcsr=(direct)|utmccn=(direct)|utmcmd=(none); IRS-SESSION=1493091000; THSRC-IRS=!3DYaS2dor/hXfJArtm+Lom00d6XFOS5YC67tANQah+zwivrQiA5QeUm5mnlpZQyXmZkRAaPHZj87fw==; __utma=98625990.757429835.1493091001.1493091001.1493091001.1; __utmb=98625990.1.10.1493091001; __utmc=98625990; __utmz=98625990.1493091001.1.1.utmcsr=thsrc.com.tw|utmccn=(referral)|utmcmd=referral|utmcct=/index.html', 'Host': 'irs.thsrc.com.tw', 'Origin': 'https://irs.thsrc.com.tw', 'Pragma': 'no-cache', 'Referer': 'https://irs.thsrc.com.tw/IMINT?locale=tw', 'Upgrade-Insecure-Requests': '1'}"
      ]
     },
     "execution_count": 6,
     "metadata": {},
     "output_type": "execute_result"
    }
   ],
   "source": [
    "res.request.headers"
   ]
  },
  {
   "cell_type": "code",
   "execution_count": 7,
   "metadata": {},
   "outputs": [
    {
     "data": {
      "text/plain": [
       "<Response [200]>"
      ]
     },
     "execution_count": 7,
     "metadata": {},
     "output_type": "execute_result"
    }
   ],
   "source": [
    "res"
   ]
  },
  {
   "cell_type": "markdown",
   "metadata": {},
   "source": [
    "<h2>Requests Session\n",
    "<h3>session保存回傳值得data"
   ]
  },
  {
   "cell_type": "code",
   "execution_count": 9,
   "metadata": {},
   "outputs": [],
   "source": [
    "rs = r.Session()"
   ]
  },
  {
   "cell_type": "code",
   "execution_count": 12,
   "metadata": {},
   "outputs": [],
   "source": [
    "data = gen_header(\"\"\"method:search\n",
    "searchMethod:true\n",
    "searchTarget:ATM\n",
    "orgName:\n",
    "orgId:\n",
    "hid_1:1\n",
    "tenderName:\n",
    "tenderId:\n",
    "tenderStatus:4,5,21,29\n",
    "tenderWay:\n",
    "awardAnnounceStartDate:106/04/25\n",
    "awardAnnounceEndDate:106/04/25\n",
    "proctrgCate:\n",
    "tenderRange:\n",
    "minBudget:\n",
    "maxBudget:\n",
    "item:\n",
    "hid_2:1\n",
    "gottenVendorName:\n",
    "gottenVendorId:\n",
    "hid_3:1\n",
    "submitVendorName:\n",
    "submitVendorId:\n",
    "location:\n",
    "priorityCate:\n",
    "isReConstruct:\n",
    "btnQuery:查詢\"\"\")\n",
    "res = rs.post(\"http://web.pcc.gov.tw/tps/pss/tender.do?searchMode=common&searchType=advance\", data=data)"
   ]
  },
  {
   "cell_type": "code",
   "execution_count": 13,
   "metadata": {},
   "outputs": [
    {
     "data": {
      "text/plain": [
       "<Response [200]>"
      ]
     },
     "execution_count": 13,
     "metadata": {},
     "output_type": "execute_result"
    }
   ],
   "source": [
    "res"
   ]
  },
  {
   "cell_type": "code",
   "execution_count": null,
   "metadata": {
    "scrolled": false
   },
   "outputs": [],
   "source": [
    "res.text"
   ]
  },
  {
   "cell_type": "markdown",
   "metadata": {},
   "source": [
    "<h2>編碼轉換"
   ]
  },
  {
   "cell_type": "code",
   "execution_count": 10,
   "metadata": {
    "collapsed": true
   },
   "outputs": [],
   "source": [
    "res = r.get(\"https://www.gamer.com.tw\")"
   ]
  },
  {
   "cell_type": "code",
   "execution_count": null,
   "metadata": {
    "collapsed": true
   },
   "outputs": [],
   "source": [
    "res.encoding = 'utf-8'   #編碼轉換"
   ]
  },
  {
   "cell_type": "code",
   "execution_count": null,
   "metadata": {
    "scrolled": false
   },
   "outputs": [],
   "source": [
    "res.text"
   ]
  },
  {
   "cell_type": "markdown",
   "metadata": {
    "collapsed": true
   },
   "source": [
    "<h2>"
   ]
  },
  {
   "cell_type": "code",
   "execution_count": null,
   "metadata": {
    "collapsed": true
   },
   "outputs": [],
   "source": []
  },
  {
   "cell_type": "code",
   "execution_count": null,
   "metadata": {
    "collapsed": true
   },
   "outputs": [],
   "source": []
  },
  {
   "cell_type": "code",
   "execution_count": null,
   "metadata": {
    "collapsed": true
   },
   "outputs": [],
   "source": []
  },
  {
   "cell_type": "code",
   "execution_count": null,
   "metadata": {
    "collapsed": true
   },
   "outputs": [],
   "source": []
  },
  {
   "cell_type": "code",
   "execution_count": null,
   "metadata": {
    "collapsed": true
   },
   "outputs": [],
   "source": []
  },
  {
   "cell_type": "code",
   "execution_count": null,
   "metadata": {
    "collapsed": true
   },
   "outputs": [],
   "source": []
  },
  {
   "cell_type": "code",
   "execution_count": null,
   "metadata": {
    "collapsed": true
   },
   "outputs": [],
   "source": []
  },
  {
   "cell_type": "code",
   "execution_count": null,
   "metadata": {
    "collapsed": true
   },
   "outputs": [],
   "source": []
  }
 ],
 "metadata": {
  "kernelspec": {
   "display_name": "Python 3",
   "language": "python",
   "name": "python3"
  },
  "language_info": {
   "codemirror_mode": {
    "name": "ipython",
    "version": 3
   },
   "file_extension": ".py",
   "mimetype": "text/x-python",
   "name": "python",
   "nbconvert_exporter": "python",
   "pygments_lexer": "ipython3",
   "version": "3.6.1"
  }
 },
 "nbformat": 4,
 "nbformat_minor": 2
}
