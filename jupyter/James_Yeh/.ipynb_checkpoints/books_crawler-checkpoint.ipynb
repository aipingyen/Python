{
 "cells": [
  {
   "cell_type": "code",
   "execution_count": 1,
   "metadata": {
    "collapsed": true
   },
   "outputs": [],
   "source": [
    "import requests \n",
    "from bs4 import BeautifulSoup"
   ]
  },
  {
   "cell_type": "code",
   "execution_count": 2,
   "metadata": {
    "collapsed": true
   },
   "outputs": [],
   "source": [
    "url = \"http://www.books.com.tw/products/0010749471?loc=P_asv_004\""
   ]
  },
  {
   "cell_type": "code",
   "execution_count": 3,
   "metadata": {},
   "outputs": [
    {
     "data": {
      "text/plain": [
       "{'7-11': '台灣、蘭嶼、綠島、澎湖、金門、馬祖香港、澳門、新加坡',\n",
       " 'author': '瀧森古都',\n",
       " 'catalog': '柔軟的腹部、粉嫩的腳掌、撒嬌的呼嚕聲、只對主人展現的任性……\\n──貓咪用牠的生命，接納了我們全部的人生。\\n\\n\\u3000\\u3000★「在盡情流淚後，知曉了真正的幸福。」\\n\\u3000\\u3000狂銷150000冊，全日本書店店員一致感動推薦！\\n\\n\\u3000\\u3000★「肚臍是隻貓」、《家有諧星貓，我是白吉 》張角倫（吉麻）、《黃阿瑪的後宮生活》志銘與狸貓、貓夫人、《就是醬子，喵！》粉妹，眾多喵星人之友感動淚推！\\n\\n\\u3000\\u3000★「生命的意義」、「家庭的意義」、「工作的意義」等等人生哲學，渺小的人類，到底能做些什麼？\\n\\u3000\\u3000當我們在悲傷谷底徘徊時，貓咪們透過最淺白的舉動，教會我們許多重要的事情。\\n\\n\\u3000\\u3000★特別邀請台灣新生代圖文作家「消極男子」繪製封面，\\n\\u3000\\u3000並收錄日本知名插畫家「Noritake」特繪內頁插圖！\\n\\n\\u3000\\u3000與世間所認定的「成功」無緣，二十九歲的五郎在某個小鎮的小鋼珠店裡工作。\\n\\u3000\\u3000不曾想像未來、沒有錢沒有夢想，同時也不想給任何人添麻煩，五郎就這樣日復一日過著馬馬虎虎，「活在當下」的生活。\\n\\u3000\\u3000小鋼珠店裡的常客宏夢，也同樣苟且度日地擔任「便利屋」的實習生。\\n\\u3000\\u3000直到某天，店裡出現了一本「認養筆記」。\\n\\n\\u3000\\u3000『貓咪幾天不吃飯會死？』\\n\\n\\u3000\\u3000原本是單純紀錄流浪動物收養資訊的筆記本，被留下了這則奇妙的訊息。\\n\\u3000\\u3000循著線索，五郎與宏夢捲入了某起事件，第一次開始思考「自己是為了什麼活著」。\\n\\u3000\\u3000從此以後，筆記本陸陸續續出現各種不可思議的留言。兩人將這些無法回答的問題一一拼湊、解決。因為這本筆記，帶動了五郎與宏夢各自的人生齒輪。\\n\\n\\u3000\\u3000描寫金錢無法購得的重要事物，第一篇「不會叫的貓」。\\n\\u3000\\u3000關於比血緣還要深層的連結，第二篇「羈絆的碎片」。\\n\\u3000\\u3000講述經歷悲傷谷底後的再出發，第三篇「透明的起跑線」。\\n\\u3000\\u3000最後，學著接受無法選擇的命運，第四篇「奇蹟的紅線」。\\n\\n\\u3000\\u3000由一本小小的筆記本與四隻不同的貓咪所牽引起的奇蹟，\\n\\u3000\\u3000一部見證由悲傷邂逅希望的溫暖故事。\\n\\n來自日本書店店員的感動推薦\\n\\n\\u3000\\u3000●市面上讓人哭泣的作品有很多，但能讓人懷著溫暖的心情掉淚的故事則並不多見。本書無疑是後者。\\n\\n\\u3000\\u3000●讀完之後，會讓人想立刻去見重要的人的溫柔作品。\\n\\n\\u3000\\u3000●從未見過能將親情描寫得如此動人的故事，讓人起雞皮疙瘩，忍不住想一口氣讀完。\\n\\n\\u3000\\u3000●因為貓而溫熱的人心，再度啟程的人生。想像不到的結尾……讓我在電車裡忍不住落淚。\\n\\n\\u3000\\u3000●人們究竟為何而活？真正重要的事物是什麼？奇蹟的結尾，讓我不禁濕了眼眶。',\n",
       " 'cover price': '280元',\n",
       " 'details': [{'Format': '14.5 x 21 cm',\n",
       "   'ISBN': '9789571073071',\n",
       "   'Series': '嬉文化',\n",
       "   'page': '264頁',\n",
       "   'publish': '單色印刷',\n",
       "   'publishloc': '台灣',\n",
       "   'ratings': '普通級',\n",
       "   'version': '平裝'}],\n",
       " 'introduce': '柔軟的腹部、粉嫩的腳掌、撒嬌的呼嚕聲、只對主人展現的任性……\\n──貓咪用牠的生命，接納了我們全部的人生。\\n\\n\\u3000\\u3000★「在盡情流淚後，知曉了真正的幸福。」\\n\\u3000\\u3000狂銷150000冊，全日本書店店員一致感動推薦！\\n\\n\\u3000\\u3000★「肚臍是隻貓」、《家有諧星貓，我是白吉 》張角倫（吉麻）、《黃阿瑪的後宮生活》志銘與狸貓、貓夫人、《就是醬子，喵！》粉妹，眾多喵星人之友感動淚推！\\n\\n\\u3000\\u3000★「生命的意義」、「家庭的意義」、「工作的意義」等等人生哲學，渺小的人類，到底能做些什麼？\\n\\u3000\\u3000當我們在悲傷谷底徘徊時，貓咪們透過最淺白的舉動，教會我們許多重要的事情。\\n\\n\\u3000\\u3000★特別邀請台灣新生代圖文作家「消極男子」繪製封面，\\n\\u3000\\u3000並收錄日本知名插畫家「Noritake」特繪內頁插圖！\\n\\n\\u3000\\u3000與世間所認定的「成功」無緣，二十九歲的五郎在某個小鎮的小鋼珠店裡工作。\\n\\u3000\\u3000不曾想像未來、沒有錢沒有夢想，同時也不想給任何人添麻煩，五郎就這樣日復一日過著馬馬虎虎，「活在當下」的生活。\\n\\u3000\\u3000小鋼珠店裡的常客宏夢，也同樣苟且度日地擔任「便利屋」的實習生。\\n\\u3000\\u3000直到某天，店裡出現了一本「認養筆記」。\\n\\n\\u3000\\u3000『貓咪幾天不吃飯會死？』\\n\\n\\u3000\\u3000原本是單純紀錄流浪動物收養資訊的筆記本，被留下了這則奇妙的訊息。\\n\\u3000\\u3000循著線索，五郎與宏夢捲入了某起事件，第一次開始思考「自己是為了什麼活著」。\\n\\u3000\\u3000從此以後，筆記本陸陸續續出現各種不可思議的留言。兩人將這些無法回答的問題一一拼湊、解決。因為這本筆記，帶動了五郎與宏夢各自的人生齒輪。\\n\\n\\u3000\\u3000描寫金錢無法購得的重要事物，第一篇「不會叫的貓」。\\n\\u3000\\u3000關於比血緣還要深層的連結，第二篇「羈絆的碎片」。\\n\\u3000\\u3000講述經歷悲傷谷底後的再出發，第三篇「透明的起跑線」。\\n\\u3000\\u3000最後，學著接受無法選擇的命運，第四篇「奇蹟的紅線」。\\n\\n\\u3000\\u3000由一本小小的筆記本與四隻不同的貓咪所牽引起的奇蹟，\\n\\u3000\\u3000一部見證由悲傷邂逅希望的溫暖故事。\\n\\n來自日本書店店員的感動推薦\\n\\n\\u3000\\u3000●市面上讓人哭泣的作品有很多，但能讓人懷著溫暖的心情掉淚的故事則並不多見。本書無疑是後者。\\n\\n\\u3000\\u3000●讀完之後，會讓人想立刻去見重要的人的溫柔作品。\\n\\n\\u3000\\u3000●從未見過能將親情描寫得如此動人的故事，讓人起雞皮疙瘩，忍不住想一口氣讀完。\\n\\n\\u3000\\u3000●因為貓而溫熱的人心，再度啟程的人生。想像不到的結尾……讓我在電車裡忍不住落淚。\\n\\n\\u3000\\u3000●人們究竟為何而活？真正重要的事物是什麼？奇蹟的結尾，讓我不禁濕了眼眶。',\n",
       " 'languag': '繁體中文',\n",
       " 'location': '台灣、蘭嶼、綠島、澎湖、金門、馬祖、全球',\n",
       " 'original_title': '悲しみの底で猫が教えてくれた大切なこと、孤独の果てで犬が教えてくれた大切なこと',\n",
       " 'painter': '：消極男子',\n",
       " 'price': '79折221元',\n",
       " 'publish_date': '2017/04/21',\n",
       " 'publisher': '尖端',\n",
       " 'spdate': '2017年05月08日止',\n",
       " 'title': '在悲傷谷底，貓咪教會我的重要事情',\n",
       " 'translator': '簡秀靜'}"
      ]
     },
     "execution_count": 3,
     "metadata": {},
     "output_type": "execute_result"
    }
   ],
   "source": [
    "def book_crawl(url):\n",
    "    import requests\n",
    "    from bs4 import BeautifulSoup\n",
    "    res = requests.get(url)\n",
    "    soup = BeautifulSoup(res.text,'lxml')\n",
    "\n",
    "\n",
    "    book_dict={}\n",
    "\n",
    "    #書名、中文翻譯書名、原文書名\n",
    "    book_dict['title']          = soup.select_one(\"div.mod.type02_p002.clearfix > h1\").text\n",
    "    book_dict['original_title'] = soup.select_one(\"div.mod.type02_p002.clearfix > h2\").text\n",
    "\n",
    "    #尚未解決的問題： 博客來光是作者就有1.作者 2.譯者 3.繪者(圖)（會根據作者數量、li標籤也會有變動）\n",
    "   \n",
    "    people_link = soup.select(\"div.type02_p003.clearfix > ul > li \")\n",
    "    publisher_link = soup.select(\"div.type02_p003.clearfix > ul > li > a\")\n",
    "    book_dict['author']     = publisher_link[0].text\n",
    "    book_dict['translator'] = people_link[1].text.strip().split('譯者：')[1]\n",
    "    book_dict['painter']    = people_link[2].text.strip().split('繪者')[1]\n",
    "    book_dict['publisher']  = publisher_link[5].text\n",
    "    book_dict['publish_date']= people_link[4].text.strip().split(\"出版日期：\")[1]\n",
    "    book_dict['languag']    = people_link[5].text.strip().split(\"語言：\")[1]\n",
    "\n",
    "    price_link = soup.select(\"ul.price > li\")\n",
    "    book_dict['cover price']= price_link[0].text.split(\"定價：\")[1]\n",
    "    book_dict['price']      = price_link[1].text.split(\"優惠價：\")[1]\n",
    "    book_dict['spdate']     = price_link[2].text.split(\"優惠期限：\")[1]\n",
    "    book_dict['location']   = soup.select('div.prod_cont_b > ul > li')[0].text.strip().split('可配送點：')[1]\n",
    "    book_dict['7-11']       = soup.select('div.prod_cont_b > ul > li')[1].text.strip().split('可取貨點：')[1]\n",
    "    #尚未解決的問題：  光是內容就有 1.書的大綱 2.書的內容（目錄） 3.推薦\n",
    "    book_dict['introduce']  = soup.select('div.content')[0].text.strip()\n",
    "    book_dict['catalog']    = soup.select_one('div.bd > div.content').text.strip()\n",
    "\n",
    "    #書本身的相關資料\n",
    "    details=[]\n",
    "\n",
    "    detail_link = soup.select('div.mod_b.type02_m058.clearfix > div.bd > ul > li')\n",
    "    detail_dict={}  \n",
    "    detail_dict['ISBN']       = detail_link[0].text.split(\"ISBN：\")[1]\n",
    "    detail_dict['Series']     = detail_link[1].text.split(\"叢書系列：\")[1]\n",
    "    detail_dict['version']    = detail_link[2].text.split(\"規格：\")[1].split(\"/\")[0].strip()\n",
    "    detail_dict['page']       = detail_link[2].text.split(\"規格：\")[1].split(\"/\")[1].strip()\n",
    "    detail_dict['Format']     = detail_link[2].text.split(\"規格：\")[1].split(\"/\")[2].strip()\n",
    "    detail_dict['ratings']    = detail_link[2].text.split(\"規格：\")[1].split(\"/\")[3].strip()\n",
    "    detail_dict['publish']    = detail_link[2].text.split(\"規格：\")[1].split(\"/\")[4].strip()\n",
    "    detail_dict['publishloc'] = detail_link[3].text.split(\"出版地：\")[1].strip()\n",
    "\n",
    "    details.append(detail_dict)\n",
    "\n",
    "    book_dict['details'] = details\n",
    "\n",
    "    return book_dict\n",
    "    #尚未新增的爬蟲資料:圖片、民眾評論\n",
    "book_crawl(url)"
   ]
  }
 ],
 "metadata": {
  "kernelspec": {
   "display_name": "Python 3",
   "language": "python",
   "name": "python3"
  },
  "language_info": {
   "codemirror_mode": {
    "name": "ipython",
    "version": 3
   },
   "file_extension": ".py",
   "mimetype": "text/x-python",
   "name": "python",
   "nbconvert_exporter": "python",
   "pygments_lexer": "ipython3",
   "version": "3.6.1"
  }
 },
 "nbformat": 4,
 "nbformat_minor": 2
}
