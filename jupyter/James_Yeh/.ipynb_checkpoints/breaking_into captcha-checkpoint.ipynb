{
 "cells": [
  {
   "cell_type": "code",
   "execution_count": 18,
   "metadata": {
    "scrolled": true
   },
   "outputs": [
    {
     "name": "stderr",
     "output_type": "stream",
     "text": [
      "/home/ubuntu/.pyenv/versions/3.6.1/lib/python3.6/site-packages/requests/packages/urllib3/connectionpool.py:852: InsecureRequestWarning: Unverified HTTPS request is being made. Adding certificate verification is strongly advised. See: https://urllib3.readthedocs.io/en/latest/advanced-usage.html#ssl-warnings\n",
      "  InsecureRequestWarning)\n"
     ]
    }
   ],
   "source": [
    "import requests\n",
    "import shutil\n",
    "\n",
    "rs = requests.session()\n",
    "res = rs.get('https://fbfh.trade.gov.tw/rich/text/common/code_98/CheckImageCode.aspx', stream=True, verify=False)\n",
    "with open('check.png','wb') as f:\n",
    "    shutil.copyfileobj(res.raw, f)\n",
    "\n"
   ]
  },
  {
   "cell_type": "code",
   "execution_count": 19,
   "metadata": {},
   "outputs": [
    {
     "name": "stdout",
     "output_type": "stream",
     "text": [
      "Auto_Crawler_0425.ipynb           HTTP ( GET, POST ).ipynb\r\n",
      "breaking_into captcha.ipynb       \u001b[0m\u001b[01;35mjake-gyllenhaal.png\u001b[0m\r\n",
      "\u001b[01;35mcheck.png\u001b[0m                         LargitData.ipynb\r\n",
      "Date_ChromeDriver_20170427.ipynb  \u001b[01;34mlib\u001b[0m/\r\n",
      "download_picture.ipynb            Python_Command_0420.ipynb\r\n",
      "html.txt                          Trump_Speech.ipynb\r\n"
     ]
    }
   ],
   "source": [
    "%ls "
   ]
  },
  {
   "cell_type": "code",
   "execution_count": 20,
   "metadata": {},
   "outputs": [
    {
     "data": {
      "image/png": "[encoded data removed]",
      "text/plain": [
       "<IPython.core.display.Image object>"
      ]
     },
     "execution_count": 20,
     "metadata": {},
     "output_type": "execute_result"
    }
   ],
   "source": [
    "from IPython.display import Image\n",
    "Image('./check.png')"
   ]
  },
  {
   "cell_type": "code",
   "execution_count": 24,
   "metadata": {},
   "outputs": [
    {
     "name": "stdout",
     "output_type": "stream",
     "text": [
      "{'queryType': 'C', 'uni_number': '', 'chinese_name': '', 'basic_select': '3', 'english_name': 'taipei', 'owner': '', 'product': '', 'ccc_select': '1', 'product_name': '', 'pname_select': '1', 'txtCheckCode': '1'}\n"
     ]
    },
    {
     "name": "stderr",
     "output_type": "stream",
     "text": [
      "/home/ubuntu/.pyenv/versions/3.6.1/lib/python3.6/site-packages/requests/packages/urllib3/connectionpool.py:852: InsecureRequestWarning: Unverified HTTPS request is being made. Adding certificate verification is strongly advised. See: https://urllib3.readthedocs.io/en/latest/advanced-usage.html#ssl-warnings\n",
      "  InsecureRequestWarning)\n",
      "/home/ubuntu/.pyenv/versions/3.6.1/lib/python3.6/site-packages/requests/packages/urllib3/connectionpool.py:852: InsecureRequestWarning: Unverified HTTPS request is being made. Adding certificate verification is strongly advised. See: https://urllib3.readthedocs.io/en/latest/advanced-usage.html#ssl-warnings\n",
      "  InsecureRequestWarning)\n",
      "/home/ubuntu/.pyenv/versions/3.6.1/lib/python3.6/site-packages/requests/packages/urllib3/connectionpool.py:852: InsecureRequestWarning: Unverified HTTPS request is being made. Adding certificate verification is strongly advised. See: https://urllib3.readthedocs.io/en/latest/advanced-usage.html#ssl-warnings\n",
      "  InsecureRequestWarning)\n",
      "/home/ubuntu/.pyenv/versions/3.6.1/lib/python3.6/site-packages/requests/packages/urllib3/connectionpool.py:852: InsecureRequestWarning: Unverified HTTPS request is being made. Adding certificate verification is strongly advised. See: https://urllib3.readthedocs.io/en/latest/advanced-usage.html#ssl-warnings\n",
      "  InsecureRequestWarning)\n",
      "/home/ubuntu/.pyenv/versions/3.6.1/lib/python3.6/site-packages/requests/packages/urllib3/connectionpool.py:852: InsecureRequestWarning: Unverified HTTPS request is being made. Adding certificate verification is strongly advised. See: https://urllib3.readthedocs.io/en/latest/advanced-usage.html#ssl-warnings\n",
      "  InsecureRequestWarning)\n",
      "/home/ubuntu/.pyenv/versions/3.6.1/lib/python3.6/site-packages/requests/packages/urllib3/connectionpool.py:852: InsecureRequestWarning: Unverified HTTPS request is being made. Adding certificate verification is strongly advised. See: https://urllib3.readthedocs.io/en/latest/advanced-usage.html#ssl-warnings\n",
      "  InsecureRequestWarning)\n",
      "/home/ubuntu/.pyenv/versions/3.6.1/lib/python3.6/site-packages/requests/packages/urllib3/connectionpool.py:852: InsecureRequestWarning: Unverified HTTPS request is being made. Adding certificate verification is strongly advised. See: https://urllib3.readthedocs.io/en/latest/advanced-usage.html#ssl-warnings\n",
      "  InsecureRequestWarning)\n",
      "/home/ubuntu/.pyenv/versions/3.6.1/lib/python3.6/site-packages/requests/packages/urllib3/connectionpool.py:852: InsecureRequestWarning: Unverified HTTPS request is being made. Adding certificate verification is strongly advised. See: https://urllib3.readthedocs.io/en/latest/advanced-usage.html#ssl-warnings\n",
      "  InsecureRequestWarning)\n",
      "/home/ubuntu/.pyenv/versions/3.6.1/lib/python3.6/site-packages/requests/packages/urllib3/connectionpool.py:852: InsecureRequestWarning: Unverified HTTPS request is being made. Adding certificate verification is strongly advised. See: https://urllib3.readthedocs.io/en/latest/advanced-usage.html#ssl-warnings\n",
      "  InsecureRequestWarning)\n",
      "/home/ubuntu/.pyenv/versions/3.6.1/lib/python3.6/site-packages/requests/packages/urllib3/connectionpool.py:852: InsecureRequestWarning: Unverified HTTPS request is being made. Adding certificate verification is strongly advised. See: https://urllib3.readthedocs.io/en/latest/advanced-usage.html#ssl-warnings\n",
      "  InsecureRequestWarning)\n",
      "/home/ubuntu/.pyenv/versions/3.6.1/lib/python3.6/site-packages/requests/packages/urllib3/connectionpool.py:852: InsecureRequestWarning: Unverified HTTPS request is being made. Adding certificate verification is strongly advised. See: https://urllib3.readthedocs.io/en/latest/advanced-usage.html#ssl-warnings\n",
      "  InsecureRequestWarning)\n"
     ]
    },
    {
     "data": {
      "text/plain": [
       "[<td class=\"td2bg1 arWebFont\" style=\"text-align:center;\">\n",
       " \t\t\t日商永達榮股份有限公司台北分公司\n",
       " \t\t</td>, <td class=\"td2bg1 arWebFont\" style=\"text-align:center;\">\n",
       " \t\t\t朱燕鳳\n",
       " \t\t</td>, <td class=\"td2bg1 arWebFont\" style=\"text-align:center;\">\n",
       " \t\t\t台北亞伯拉罕管理顧問有限公司\n",
       " \t\t</td>, <td class=\"td2bg1 arWebFont\" style=\"text-align:center;\">\n",
       " \t\t\t郭沅櫂\n",
       " \t\t</td>, <td class=\"td2bg1 arWebFont\" style=\"text-align:center;\">\n",
       " \t\t\t台北聚原有限公司\n",
       " \t\t</td>, <td class=\"td2bg1 arWebFont\" style=\"text-align:center;\">\n",
       " \t\t\t郭敬賢\n",
       " \t\t</td>, <td class=\"td2bg1 arWebFont\" style=\"text-align:center;\">\n",
       " \t\t\t日商阿克斯特股份有限公司台北分公司\n",
       " \t\t</td>, <td class=\"td2bg1 arWebFont\" style=\"text-align:center;\">\n",
       " \t\t\t土江和宏\n",
       " \t\t</td>, <td class=\"td2bg1 arWebFont\" style=\"text-align:center;\">\n",
       " \t\t\t台灣類比科技股份有限公司台北分公司\n",
       " \t\t</td>, <td class=\"td2bg1 arWebFont\" style=\"text-align:center;\">\n",
       " \t\t\t劉紹宗\n",
       " \t\t</td>, <td class=\"td2bg1 arWebFont\" style=\"text-align:center;\">\n",
       " \t\t\t聯發生物科技股份有限公司台北分公司\n",
       " \t\t</td>, <td class=\"td2bg1 arWebFont\" style=\"text-align:center;\">\n",
       " \t\t\t劉健誼\n",
       " \t\t</td>, <td class=\"td2bg1 arWebFont\" style=\"text-align:center;\">\n",
       " \t\t\t香港商艾佩有限公司台北分公司\n",
       " \t\t</td>, <td class=\"td2bg1 arWebFont\" style=\"text-align:center;\">\n",
       " \t\t\t鄭有榮\n",
       " \t\t</td>, <td class=\"td2bg1 arWebFont\" style=\"text-align:center;\">\n",
       " \t\t\t日商新創機電科技股份有限公司台北分公司\n",
       " \t\t</td>, <td class=\"td2bg1 arWebFont\" style=\"text-align:center;\">\n",
       " \t\t\t野澤貞雄　ＮＯＺＡＷＡ　ＳＡＤＡＯ　　\n",
       " \t\t</td>, <td class=\"td2bg1 arWebFont\" style=\"text-align:center;\">\n",
       " \t\t\t台灣超碩股份有限公司台北分公司\n",
       " \t\t</td>, <td class=\"td2bg1 arWebFont\" style=\"text-align:center;\">\n",
       " \t\t\t西田人　\n",
       " \t\t</td>, <td class=\"td2bg1 arWebFont\" style=\"text-align:center;\">\n",
       " \t\t\t台北亞利森國際股份有限公司\n",
       " \t\t</td>, <td class=\"td2bg1 arWebFont\" style=\"text-align:center;\">\n",
       " \t\t\t余國銓\n",
       " \t\t</td>]"
      ]
     },
     "execution_count": 24,
     "metadata": {},
     "output_type": "execute_result"
    }
   ],
   "source": [
    "# from toolbox import gen_headers\n",
    "\n",
    "from bs4 import BeautifulSoup\n",
    "\n",
    "data_raw = \"\"\"queryType:C\n",
    "uni_number:\n",
    "chinese_name:\n",
    "basic_select:3\n",
    "english_name:taipei\n",
    "owner:\n",
    "product:\n",
    "ccc_select:1\n",
    "product_name:\n",
    "pname_select:1\n",
    "txtCheckCode:1\"\"\"\n",
    "data = gen_header(data_raw)\n",
    "print(data)\n",
    "data['txtCheckCode'] = 'xjst4y'\n",
    "\n",
    "with open('./html.txt', 'w') as f:\n",
    "    for i in range(1,12):\n",
    "        host = 'https://fbfh.trade.gov.tw/rich/text/fbj/asp/fbje140L.asp'\n",
    "        url = host + '?ScrollAction=Page '+ str(i) + '&ban_no=&txtCheckCode=w38cue&isCA='\n",
    "        res = rs.get( host, data=data, stream=True, verify=False)\n",
    "\n",
    "        res.encoding = 'utf-8'\n",
    "        soup = BeautifulSoup(res.text, 'lxml')\n",
    "        com = soup.select('.td2bg1.arWebFont')\n",
    "        print(soup.prettify())\n",
    "        f.write(soup.prettify())\n",
    "com"
   ]
  },
  {
   "cell_type": "code",
   "execution_count": 15,
   "metadata": {
    "scrolled": true
   },
   "outputs": [
    {
     "name": "stdout",
     "output_type": "stream",
     "text": [
      "Collecting shutil\n",
      "\u001b[31m  Could not find a version that satisfies the requirement shutil (from versions: )\u001b[0m\n",
      "\u001b[31mNo matching distribution found for shutil\u001b[0m\n"
     ]
    }
   ],
   "source": [
    "!pip install shutil\n"
   ]
  },
  {
   "cell_type": "code",
   "execution_count": 14,
   "metadata": {
    "collapsed": true
   },
   "outputs": [],
   "source": [
    "def gen_header(header_str):\n",
    "    \"\"\"This function generates a header_dict from Chrome dev tool for requests library\n",
    "    \n",
    "    :param header_str: The header string copied from Chrome developer tool.\n",
    "    :type header_str: str\n",
    "    :returns: header dictionary\n",
    "    \"\"\"\n",
    "    header_dict = {}\n",
    "    rows = header_str.split('\\n')\n",
    "    for row in rows:\n",
    "        kv_list = row.split(\":\") # 把每一行用: split()開\n",
    "\n",
    "        # kv_list = ['key1', 'https', '//ianchenhq.com']\n",
    "        key = kv_list[0] \n",
    "        val = ':'.join(kv_list[1:]) # 再用:把1到結尾的element重新組合起來 -> https://ianchenhq.com\n",
    "        header_dict[key] = val\n",
    "    return header_dict"
   ]
  },
  {
   "cell_type": "code",
   "execution_count": null,
   "metadata": {
    "collapsed": true
   },
   "outputs": [],
   "source": []
  }
 ],
 "metadata": {
  "kernelspec": {
   "display_name": "Python 3",
   "language": "python",
   "name": "python3"
  },
  "language_info": {
   "codemirror_mode": {
    "name": "ipython",
    "version": 3
   },
   "file_extension": ".py",
   "mimetype": "text/x-python",
   "name": "python",
   "nbconvert_exporter": "python",
   "pygments_lexer": "ipython3",
   "version": "3.6.1"
  }
 },
 "nbformat": 4,
 "nbformat_minor": 2
}
