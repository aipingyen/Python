{
 "cells": [
  {
   "cell_type": "code",
   "execution_count": 34,
   "metadata": {
    "collapsed": true
   },
   "outputs": [],
   "source": [
    "import threading\n",
    "\n",
    "def main():\n",
    "    added_thread = threading.Thread(target=thread_job)\n",
    "    added_thread.start()\n",
    "def thread_job():\n",
    "    print(\"This is an added Thread , number is %s\"% threading.current_thread())\n"
   ]
  },
  {
   "cell_type": "code",
   "execution_count": 36,
   "metadata": {
    "collapsed": false,
    "scrolled": true
   },
   "outputs": [
    {
     "name": "stdout",
     "output_type": "stream",
     "text": [
      "This is an added Thread , number is <Thread(Thread-4, started 140676419286784)>\n"
     ]
    }
   ],
   "source": [
    "if __name__ == '__main__':\n",
    "    main()"
   ]
  },
  {
   "cell_type": "code",
   "execution_count": 13,
   "metadata": {
    "collapsed": false
   },
   "outputs": [
    {
     "name": "stdout",
     "output_type": "stream",
     "text": [
      "Collecting encrypt\n",
      "  Downloading encrypt-0.0.12.tar.gz\n",
      "Collecting python>=2.7 (from encrypt)\n",
      "\u001b[31m  Could not find a version that satisfies the requirement python>=2.7 (from encrypt) (from versions: )\u001b[0m\n",
      "\u001b[31mNo matching distribution found for python>=2.7 (from encrypt)\u001b[0m\n"
     ]
    }
   ],
   "source": [
    "!pip install encrypt"
   ]
  },
  {
   "cell_type": "code",
   "execution_count": 37,
   "metadata": {
    "collapsed": true
   },
   "outputs": [
    {
     "data": {
      "text/plain": [
       "<!DOCTYPE html>\n",
       "<html xmlns=\"http://www.w3.org/1999/xhtml\"><head>\n",
       "<meta charset=\"utf-8\"/>\n",
       "<meta content=\"width=device-width, initial-scale=1\" name=\"viewport\"/>\n",
       "<title>Re: [分享] 邁巴赫S600 - 看板 car - 批踢踢實業坊</title>\n",
       "<meta content=\"all\" name=\"robots\"/>\n",
       "<meta content=\"Ptt BBS 批踢踢\" name=\"keywords\"/>\n",
       "<meta content=\"還好啦，這台車我看過三台，\n",
       "一台白色停在台大辛亥路機車格裡，\n",
       "一台黑色在台大醫院公園路行駛中，\n",
       "一台黑色違停在衡陽街一家店門口，\n",
       "報歉文不附圖因為我沒裝紀錄器，\n",
       "\" name=\"description\"/>\n",
       "<meta content=\"Ptt 批踢踢實業坊\" property=\"og:site_name\"/>\n",
       "<meta content=\"Re: [分享] 邁巴赫S600\" property=\"og:title\"/>\n",
       "<meta content=\"還好啦，這台車我看過三台，\n",
       "一台白色停在台大辛亥路機車格裡，\n",
       "一台黑色在台大醫院公園路行駛中，\n",
       "一台黑色違停在衡陽街一家店門口，\n",
       "報歉文不附圖因為我沒裝紀錄器，\n",
       "\" property=\"og:description\"/>\n",
       "<link href=\"https://www.ptt.cc/bbs/car/M.1493968002.A.A5F.html\" rel=\"canonical\"/>\n",
       "<link href=\"//images.ptt.cc/bbs/v2.22/bbs-common.css\" rel=\"stylesheet\" type=\"text/css\"/>\n",
       "<link href=\"//images.ptt.cc/bbs/v2.22/bbs-base.css\" media=\"screen\" rel=\"stylesheet\" type=\"text/css\"/>\n",
       "<link href=\"//images.ptt.cc/bbs/v2.22/bbs-custom.css\" rel=\"stylesheet\" type=\"text/css\"/>\n",
       "<link href=\"//images.ptt.cc/bbs/v2.22/pushstream.css\" media=\"screen\" rel=\"stylesheet\" type=\"text/css\"/>\n",
       "<link href=\"//images.ptt.cc/bbs/v2.22/bbs-print.css\" media=\"print\" rel=\"stylesheet\" type=\"text/css\"/>\n",
       "<script async=\"\" charset=\"utf-8\" src=\"//s.imgur.com/min/embed-controller.js\" type=\"text/javascript\"></script><style type=\"text/css\">.imgur-embed-iframe-pub { box-shadow: 0px 0px 5px 0px rgba(0, 0, 0, 0.10); border: 1px solid #ddd; border-radius: 2px;}</style><style type=\"text/css\">.fb_hidden{position:absolute;top:-10000px;z-index:10001}.fb_reposition{overflow:hidden;position:relative}.fb_invisible{display:none}.fb_reset{background:none;border:0;border-spacing:0;color:#000;cursor:auto;direction:ltr;font-family:\"lucida grande\", tahoma, verdana, arial, sans-serif;font-size:11px;font-style:normal;font-variant:normal;font-weight:normal;letter-spacing:normal;line-height:1;margin:0;overflow:visible;padding:0;text-align:left;text-decoration:none;text-indent:0;text-shadow:none;text-transform:none;visibility:visible;white-space:normal;word-spacing:normal}.fb_reset&gt;div{overflow:hidden}.fb_link img{border:none}@keyframes fb_transform{from{opacity:0;transform:scale(.95)}to{opacity:1;transform:scale(1)}}.fb_animate{animation:fb_transform .3s forwards}\n",
       ".fb_dialog{background:rgba(82, 82, 82, .7);position:absolute;top:-10000px;z-index:10001}.fb_reset .fb_dialog_legacy{overflow:visible}.fb_dialog_advanced{padding:10px;-moz-border-radius:8px;-webkit-border-radius:8px;border-radius:8px}.fb_dialog_content{background:#fff;color:#333}.fb_dialog_close_icon{background:url(http://static.xx.fbcdn.net/rsrc.php/v3/yq/r/IE9JII6Z1Ys.png) no-repeat scroll 0 0 transparent;cursor:pointer;display:block;height:15px;position:absolute;right:18px;top:17px;width:15px}.fb_dialog_mobile .fb_dialog_close_icon{top:5px;left:5px;right:auto}.fb_dialog_padding{background-color:transparent;position:absolute;width:1px;z-index:-1}.fb_dialog_close_icon:hover{background:url(http://static.xx.fbcdn.net/rsrc.php/v3/yq/r/IE9JII6Z1Ys.png) no-repeat scroll 0 -15px transparent}.fb_dialog_close_icon:active{background:url(http://static.xx.fbcdn.net/rsrc.php/v3/yq/r/IE9JII6Z1Ys.png) no-repeat scroll 0 -30px transparent}.fb_dialog_loader{background-color:#f6f7f9;border:1px solid #606060;font-size:24px;padding:20px}.fb_dialog_top_left,.fb_dialog_top_right,.fb_dialog_bottom_left,.fb_dialog_bottom_right{height:10px;width:10px;overflow:hidden;position:absolute}.fb_dialog_top_left{background:url(http://static.xx.fbcdn.net/rsrc.php/v3/ye/r/8YeTNIlTZjm.png) no-repeat 0 0;left:-10px;top:-10px}.fb_dialog_top_right{background:url(http://static.xx.fbcdn.net/rsrc.php/v3/ye/r/8YeTNIlTZjm.png) no-repeat 0 -10px;right:-10px;top:-10px}.fb_dialog_bottom_left{background:url(http://static.xx.fbcdn.net/rsrc.php/v3/ye/r/8YeTNIlTZjm.png) no-repeat 0 -20px;bottom:-10px;left:-10px}.fb_dialog_bottom_right{background:url(http://static.xx.fbcdn.net/rsrc.php/v3/ye/r/8YeTNIlTZjm.png) no-repeat 0 -30px;right:-10px;bottom:-10px}.fb_dialog_vert_left,.fb_dialog_vert_right,.fb_dialog_horiz_top,.fb_dialog_horiz_bottom{position:absolute;background:#525252;filter:alpha(opacity=70);opacity:.7}.fb_dialog_vert_left,.fb_dialog_vert_right{width:10px;height:100%}.fb_dialog_vert_left{margin-left:-10px}.fb_dialog_vert_right{right:0;margin-right:-10px}.fb_dialog_horiz_top,.fb_dialog_horiz_bottom{width:100%;height:10px}.fb_dialog_horiz_top{margin-top:-10px}.fb_dialog_horiz_bottom{bottom:0;margin-bottom:-10px}.fb_dialog_iframe{line-height:0}.fb_dialog_content .dialog_title{background:#6d84b4;border:1px solid #365899;color:#fff;font-size:14px;font-weight:bold;margin:0}.fb_dialog_content .dialog_title&gt;span{background:url(http://static.xx.fbcdn.net/rsrc.php/v3/yd/r/Cou7n-nqK52.gif) no-repeat 5px 50%;float:left;padding:5px 0 7px 26px}body.fb_hidden{-webkit-transform:none;height:100%;margin:0;overflow:visible;position:absolute;top:-10000px;left:0;width:100%}.fb_dialog.fb_dialog_mobile.loading{background:url(http://static.xx.fbcdn.net/rsrc.php/v3/ya/r/3rhSv5V8j3o.gif) white no-repeat 50% 50%;min-height:100%;min-width:100%;overflow:hidden;position:absolute;top:0;z-index:10001}.fb_dialog.fb_dialog_mobile.loading.centered{width:auto;height:auto;min-height:initial;min-width:initial;background:none}.fb_dialog.fb_dialog_mobile.loading.centered #fb_dialog_loader_spinner{width:100%}.fb_dialog.fb_dialog_mobile.loading.centered .fb_dialog_content{background:none}.loading.centered #fb_dialog_loader_close{color:#fff;display:block;padding-top:20px;clear:both;font-size:18px}#fb-root #fb_dialog_ipad_overlay{background:rgba(0, 0, 0, .45);position:absolute;bottom:0;left:0;right:0;top:0;width:100%;min-height:100%;z-index:10000}#fb-root #fb_dialog_ipad_overlay.hidden{display:none}.fb_dialog.fb_dialog_mobile.loading iframe{visibility:hidden}.fb_dialog_content .dialog_header{-webkit-box-shadow:white 0 1px 1px -1px inset;background:-webkit-gradient(linear, 0% 0%, 0% 100%, from(#738ABA), to(#2C4987));border-bottom:1px solid;border-color:#1d4088;color:#fff;font:14px Helvetica, sans-serif;font-weight:bold;text-overflow:ellipsis;text-shadow:rgba(0, 30, 84, .296875) 0 -1px 0;vertical-align:middle;white-space:nowrap}.fb_dialog_content .dialog_header table{-webkit-font-smoothing:subpixel-antialiased;height:43px;width:100%}.fb_dialog_content .dialog_header td.header_left{font-size:12px;padding-left:5px;vertical-align:middle;width:60px}.fb_dialog_content .dialog_header td.header_right{font-size:12px;padding-right:5px;vertical-align:middle;width:60px}.fb_dialog_content .touchable_button{background:-webkit-gradient(linear, 0% 0%, 0% 100%, from(#4966A6), color-stop(.5, #355492), to(#2A4887));border:1px solid #29487d;-webkit-background-clip:padding-box;-webkit-border-radius:3px;-webkit-box-shadow:rgba(0, 0, 0, .117188) 0 1px 1px inset, rgba(255, 255, 255, .167969) 0 1px 0;display:inline-block;margin-top:3px;max-width:85px;line-height:18px;padding:4px 12px;position:relative}.fb_dialog_content .dialog_header .touchable_button input{border:none;background:none;color:#fff;font:12px Helvetica, sans-serif;font-weight:bold;margin:2px -12px;padding:2px 6px 3px 6px;text-shadow:rgba(0, 30, 84, .296875) 0 -1px 0}.fb_dialog_content .dialog_header .header_center{color:#fff;font-size:16px;font-weight:bold;line-height:18px;text-align:center;vertical-align:middle}.fb_dialog_content .dialog_content{background:url(http://static.xx.fbcdn.net/rsrc.php/v3/y9/r/jKEcVPZFk-2.gif) no-repeat 50% 50%;border:1px solid #555;border-bottom:0;border-top:0;height:150px}.fb_dialog_content .dialog_footer{background:#f6f7f9;border:1px solid #555;border-top-color:#ccc;height:40px}#fb_dialog_loader_close{float:left}.fb_dialog.fb_dialog_mobile .fb_dialog_close_button{text-shadow:rgba(0, 30, 84, .296875) 0 -1px 0}.fb_dialog.fb_dialog_mobile .fb_dialog_close_icon{visibility:hidden}#fb_dialog_loader_spinner{animation:rotateSpinner 1.2s linear infinite;background-color:transparent;background-image:url(http://static.xx.fbcdn.net/rsrc.php/v3/yD/r/t-wz8gw1xG1.png);background-repeat:no-repeat;background-position:50% 50%;height:24px;width:24px}@keyframes rotateSpinner{0%{transform:rotate(0deg)}100%{transform:rotate(360deg)}}\n",
       ".fb_iframe_widget{display:inline-block;position:relative}.fb_iframe_widget span{display:inline-block;position:relative;text-align:justify}.fb_iframe_widget iframe{position:absolute}.fb_iframe_widget_fluid_desktop,.fb_iframe_widget_fluid_desktop span,.fb_iframe_widget_fluid_desktop iframe{max-width:100%}.fb_iframe_widget_fluid_desktop iframe{min-width:220px;position:relative}.fb_iframe_widget_lift{z-index:1}.fb_hide_iframes iframe{position:relative;left:-10000px}.fb_iframe_widget_loader{position:relative;display:inline-block}.fb_iframe_widget_fluid{display:inline}.fb_iframe_widget_fluid span{width:100%}.fb_iframe_widget_loader iframe{min-height:32px;z-index:2;zoom:1}.fb_iframe_widget_loader .FB_Loader{background:url(http://static.xx.fbcdn.net/rsrc.php/v3/y9/r/jKEcVPZFk-2.gif) no-repeat;height:32px;width:32px;margin-left:-16px;position:absolute;left:50%;z-index:4}</style><style type=\"text/css\">#imgur-embed-iframe-pub-AfHkFuT { height: 475px !important;width:540px !important;}</style></head>\n",
       "<body>\n",
       "<div class=\" fb_reset\" id=\"fb-root\"><div style=\"position: absolute; top: -10000px; height: 0px; width: 0px;\"><div><iframe allowfullscreen=\"true\" allowtransparency=\"true\" aria-hidden=\"true\" frameborder=\"0\" id=\"fb_xdm_frame_https\" name=\"fb_xdm_frame_https\" scrolling=\"no\" src=\"https://staticxx.facebook.com/connect/xd_arbiter/r/87XNE1PC38r.js?version=42#channel=f79b0d75a2f7b8&amp;origin=https%3A%2F%2Fwww.ptt.cc\" style=\"border: none;\" tabindex=\"-1\" title=\"Facebook Cross Domain Communication Frame\"></iframe></div></div><div style=\"position: absolute; top: -10000px; height: 0px; width: 0px;\"><div></div></div></div>\n",
       "<script async=\"\" src=\"https://apis.google.com/_/scs/apps-static/_/js/k=oz.gapi.zh_TW.T69si-jyNbI.O/m=auth/exm=plusone/rt=j/sv=1/d=1/ed=1/am=AQ/rs=AGLTcCPaeiwsR6zA6qt9ae1jE5QI_cVPVg/cb=gapi.loaded_1\"></script><script async=\"\" src=\"https://apis.google.com/_/scs/apps-static/_/js/k=oz.gapi.zh_TW.T69si-jyNbI.O/m=plusone/rt=j/sv=1/d=1/ed=1/am=AQ/rs=AGLTcCPaeiwsR6zA6qt9ae1jE5QI_cVPVg/cb=gapi.loaded_0\"></script><script async=\"\" src=\"https://www.google-analytics.com/analytics.js\"></script><script async=\"\" gapi_processed=\"true\" src=\"https://apis.google.com/js/plusone.js\" type=\"text/javascript\"></script><script id=\"facebook-jssdk\" src=\"//connect.facebook.net/en_US/all.js#xfbml=1\"></script><script>(function(d, s, id) {\n",
       "var js, fjs = d.getElementsByTagName(s)[0];\n",
       "if (d.getElementById(id)) return;\n",
       "js = d.createElement(s); js.id = id;\n",
       "js.src = \"//connect.facebook.net/en_US/all.js#xfbml=1\";\n",
       "fjs.parentNode.insertBefore(js, fjs);\n",
       "}(document, 'script', 'facebook-jssdk'));</script>\n",
       "<div id=\"topbar-container\">\n",
       "<div class=\"bbs-content\" id=\"topbar\">\n",
       "<a href=\"/\" id=\"logo\">批踢踢實業坊</a>\n",
       "<span>›</span>\n",
       "<a class=\"board\" href=\"/bbs/car/index.html\"><span class=\"board-label\">看板 </span>car</a>\n",
       "<a class=\"right small\" href=\"/about.html\">關於我們</a>\n",
       "<a class=\"right small\" href=\"/contact.html\">聯絡資訊</a>\n",
       "</div>\n",
       "</div>\n",
       "<div id=\"navigation-container\">\n",
       "<div class=\"bbs-content\" id=\"navigation\">\n",
       "<a class=\"board\" href=\"/bbs/car/index.html\">返回看板</a>\n",
       "<div class=\"bar\"></div>\n",
       "<div class=\"share\">\n",
       "<span>分享</span>\n",
       "<div class=\"fb-like fb_iframe_widget\" data-href=\"http://www.ptt.cc/bbs/car/M.1493968002.A.A5F.html\" data-layout=\"button_count\" data-send=\"false\" data-show-faces=\"false\" data-width=\"90\" fb-iframe-plugin-query=\"app_id=&amp;container_width=90&amp;href=http%3A%2F%2Fwww.ptt.cc%2Fbbs%2Fcar%2FM.1493968002.A.A5F.html&amp;layout=button_count&amp;locale=en_US&amp;sdk=joey&amp;send=false&amp;show_faces=false&amp;width=90\" fb-xfbml-state=\"rendered\"><span style=\"vertical-align: bottom; width: 61px; height: 20px;\"><iframe allowfullscreen=\"true\" allowtransparency=\"true\" class=\"\" frameborder=\"0\" height=\"1000px\" name=\"f3d243af5bd3f94\" scrolling=\"no\" src=\"https://www.facebook.com/plugins/like.php?app_id=&amp;channel=https%3A%2F%2Fstaticxx.facebook.com%2Fconnect%2Fxd_arbiter%2Fr%2F87XNE1PC38r.js%3Fversion%3D42%23cb%3Df1d9aec24d2cad4%26domain%3Dwww.ptt.cc%26origin%3Dhttps%253A%252F%252Fwww.ptt.cc%252Ff79b0d75a2f7b8%26relation%3Dparent.parent&amp;container_width=90&amp;href=http%3A%2F%2Fwww.ptt.cc%2Fbbs%2Fcar%2FM.1493968002.A.A5F.html&amp;layout=button_count&amp;locale=en_US&amp;sdk=joey&amp;send=false&amp;show_faces=false&amp;width=90\" style=\"border: none; visibility: visible; width: 61px; height: 20px;\" title=\"fb:like Facebook Social Plugin\" width=\"90px\"></iframe></span></div>\n",
       "<div id=\"___plusone_0\" style=\"text-indent: 0px; margin: 0px; padding: 0px; background: transparent; border-style: none; float: none; line-height: normal; font-size: 1px; vertical-align: baseline; display: inline-block; width: 90px; height: 20px;\"><iframe data-gapiattached=\"true\" frameborder=\"0\" hspace=\"0\" id=\"I0_1493970575950\" marginheight=\"0\" marginwidth=\"0\" name=\"I0_1493970575950\" ng-non-bindable=\"\" scrolling=\"no\" src=\"https://apis.google.com/se/0/_/+1/fastbutton?usegapi=1&amp;size=medium&amp;hl=zh-TW&amp;origin=https%3A%2F%2Fwww.ptt.cc&amp;url=https%3A%2F%2Fwww.ptt.cc%2Fbbs%2Fcar%2FM.1493968002.A.A5F.html&amp;gsrc=3p&amp;ic=1&amp;jsh=m%3B%2F_%2Fscs%2Fapps-static%2F_%2Fjs%2Fk%3Doz.gapi.zh_TW.T69si-jyNbI.O%2Fm%3D__features__%2Fam%3DAQ%2Frt%3Dj%2Fd%3D1%2Frs%3DAGLTcCPaeiwsR6zA6qt9ae1jE5QI_cVPVg#_methods=onPlusOne%2C_ready%2C_close%2C_open%2C_resizeMe%2C_renderstart%2Concircled%2Cdrefresh%2Cerefresh%2Conload&amp;id=I0_1493970575950&amp;parent=https%3A%2F%2Fwww.ptt.cc&amp;pfname=&amp;rpctoken=27579373\" style=\"position: static; top: 0px; width: 90px; margin: 0px; border-style: none; left: 0px; visibility: visible; height: 20px;\" tabindex=\"0\" title=\"+1\" vspace=\"0\" width=\"100%\"></iframe></div>\n",
       "<script type=\"text/javascript\">\n",
       "window.___gcfg = {lang: 'zh-TW'};\n",
       "(function() {\n",
       "var po = document.createElement('script'); po.type = 'text/javascript'; po.async = true;\n",
       "po.src = 'https://apis.google.com/js/plusone.js';\n",
       "var s = document.getElementsByTagName('script')[0]; s.parentNode.insertBefore(po, s);\n",
       "})();\n",
       "</script>\n",
       "</div>\n",
       "</div>\n",
       "</div>\n",
       "<div id=\"main-container\">\n",
       "<div class=\"bbs-screen bbs-content\" id=\"main-content\"><div class=\"article-metaline\"><span class=\"article-meta-tag\">作者</span><span class=\"article-meta-value\">AKS8158 (期末歐趴)</span></div><div class=\"article-metaline-right\"><span class=\"article-meta-tag\">看板</span><span class=\"article-meta-value\">car</span></div><div class=\"article-metaline\"><span class=\"article-meta-tag\">標題</span><span class=\"article-meta-value\">Re: [分享] 邁巴赫S600</span></div><div class=\"article-metaline\"><span class=\"article-meta-tag\">時間</span><span class=\"article-meta-value\">Fri May  5 15:06:39 2017</span></div>\n",
       "<span class=\"f2\">※ 引述《BoomSnail (爆漿蝸牛)》之銘言：\n",
       "</span><span class=\"f6\">: <a href=\"https://imgur.com/AfHkFuT\" rel=\"nofollow\" target=\"_blank\">https://imgur.com/AfHkFuT</a>\n",
       "</span><div class=\"richcontent\"><iframe allowfullscreen=\"true\" class=\"imgur-embed-iframe-pub imgur-embed-iframe-pub-AfHkFuT-true-540\" id=\"imgur-embed-iframe-pub-AfHkFuT\" mozallowfullscreen=\"true\" scrolling=\"no\" src=\"https://imgur.com/AfHkFuT/embed?ref=https%3A%2F%2Fwww.ptt.cc%2Fbbs%2Fcar%2FM.1493968002.A.A5F.html&amp;w=540\" style=\"height: 500px; width: 540px; margin: 10px 0px; padding: 0px;\" webkitallowfullscreen=\"true\"></iframe><script async=\"\" charset=\"utf-8\" src=\"//s.imgur.com/min/embed.js\"></script></div><span class=\"f6\">: 在大順路看到的\n",
       "</span><span class=\"f6\">: 不仔細看還以為是一般的s class\n",
       "</span><span class=\"f6\">: 葉子板上有v12銘牌\n",
       "</span><span class=\"f6\">: 可惜車太多拍不到\n",
       "</span><span class=\"f6\">: 辨識度有點低\n",
       "</span><span class=\"f6\">: 妹子看到應該會以為跟C180差不多\n",
       "</span>\n",
       "\n",
       "\n",
       "還好啦，這台車我看過三台，\n",
       "\n",
       "一台白色停在台大辛亥路機車格裡，\n",
       "\n",
       "一台黑色在台大醫院公園路行駛中，\n",
       "\n",
       "一台黑色違停在衡陽街一家店門口，\n",
       "\n",
       "報歉文不附圖因為我沒裝紀錄器，\n",
       "\n",
       "跟你說一個更扯的，\n",
       "\n",
       "我兩個裡拜前走民權東路六段看到一台大卡車載車兩台bentayga跟一台flying spur,\n",
       "\n",
       "回程時在同條路又看到另一台bentayga在路上走，\n",
       "\n",
       "一天看到三台我都飽了，這一台應該也要一兩千萬吧！？\n",
       "\n",
       "--\n",
       "<span class=\"f2\">※ 發信站: 批踢踢實業坊(ptt.cc), 來自: 111.71.60.56\n",
       "</span><span class=\"f2\">※ 文章網址: <a href=\"https://www.ptt.cc/bbs/car/M.1493968002.A.A5F.html\" rel=\"nofollow\" target=\"_blank\">https://www.ptt.cc/bbs/car/M.1493968002.A.A5F.html</a>\n",
       "</span><div class=\"push\"><span class=\"f1 hl push-tag\">→ </span><span class=\"f3 hl push-userid\">joe810731</span><span class=\"f3 push-content\">: 我覺得還是如果是開車裝一下行車記錄啦保障自己也保障</span><span class=\"push-ipdatetime\"> 05/05 15:08\n",
       "</span></div><div class=\"push\"><span class=\"f1 hl push-tag\">→ </span><span class=\"f3 hl push-userid\">joe810731</span><span class=\"f3 push-content\">: 別人 現在路上各種危險</span><span class=\"push-ipdatetime\"> 05/05 15:08\n",
       "</span></div><div class=\"push\"><span class=\"hl push-tag\">推 </span><span class=\"f3 hl push-userid\">GarfieldCxT</span><span class=\"f3 push-content\">: 台灣有錢人不少阿  只是窮人更多而已</span><span class=\"push-ipdatetime\"> 05/05 15:11\n",
       "</span></div><div class=\"push\"><span class=\"hl push-tag\">推 </span><span class=\"f3 hl push-userid\">HanMo</span><span class=\"f3 push-content\">: 台北要看到超跑很容易，台中也一堆</span><span class=\"push-ipdatetime\"> 05/05 15:27\n",
       "</span></div></div>\n",
       "<div data-longpollurl=\"/v1/longpoll?id=09cd1d0373fee1cec81b57801c88627961c77365\" data-offset=\"1185\" data-pollurl=\"/poll/car/M.1493968002.A.A5F.html?cacheKey=2052-271828008&amp;offset=1185&amp;offset-sig=aa0c0600e01c1f50b59f308e2f81161bd3ecc053\" id=\"article-polling\">推文自動更新已關閉</div>\n",
       "</div>\n",
       "<script>\n",
       "  (function(i,s,o,g,r,a,m){i['GoogleAnalyticsObject']=r;i[r]=i[r]||function(){\n",
       "  (i[r].q=i[r].q||[]).push(arguments)},i[r].l=1*new Date();a=s.createElement(o),\n",
       "  m=s.getElementsByTagName(o)[0];a.async=1;a.src=g;m.parentNode.insertBefore(a,m)\n",
       "  })(window,document,'script','https://www.google-analytics.com/analytics.js','ga');\n",
       "\n",
       "  ga('create', 'UA-32365737-1', {\n",
       "    cookieDomain: 'ptt.cc',\n",
       "    legacyCookieDomain: 'ptt.cc'\n",
       "  });\n",
       "  ga('send', 'pageview');\n",
       "</script>\n",
       "<script src=\"//ajax.googleapis.com/ajax/libs/jquery/2.1.1/jquery.min.js\"></script>\n",
       "<script src=\"//images.ptt.cc/bbs/v2.22/bbs.js\"></script>\n",
       "<iframe aria-hidden=\"true\" id=\"oauth2relay681243464\" name=\"oauth2relay681243464\" src=\"https://accounts.google.com/o/oauth2/postmessageRelay?parent=https%3A%2F%2Fwww.ptt.cc&amp;jsh=m%3B%2F_%2Fscs%2Fapps-static%2F_%2Fjs%2Fk%3Doz.gapi.zh_TW.T69si-jyNbI.O%2Fm%3D__features__%2Fam%3DAQ%2Frt%3Dj%2Fd%3D1%2Frs%3DAGLTcCPaeiwsR6zA6qt9ae1jE5QI_cVPVg#rpctoken=233063870&amp;forcesecure=1\" style=\"width: 1px; height: 1px; position: absolute; top: -100px;\" tabindex=\"-1\"></iframe></body></html>"
      ]
     },
     "execution_count": 37,
     "metadata": {},
     "output_type": "execute_result"
    }
   ],
   "source": [
    "from splinter import Browser\n",
    "# with Browser('chrome') as browser:  #auto close\n",
    "browser = Browser('chrome') \n",
    "url = 'https://www.ptt.cc/bbs/car/index.html'      #ptt board-car\n",
    "browser.visit(url)  \n",
    "\n",
    "car_link = browser.find_by_xpath('//*[@id=\"main-container\"]/div[2]/div[8]/div[3]/a')\n",
    "car_link.click()\n",
    "browser.html.strip().split()[:10]\n",
    "soup = BeautifulSoup(browser.html,'lxml')\n",
    "browser.quit()\n",
    "soup"
   ]
  },
  {
   "cell_type": "code",
   "execution_count": 20,
   "metadata": {
    "collapsed": true
   },
   "outputs": [],
   "source": [
    "from selenium import webdriver\n",
    "from selenium.webdriver.common.keys import Keys\n",
    "from bs4 import BeautifulSoup\n",
    "import requests\n",
    "import re\n",
    "import time"
   ]
  },
  {
   "cell_type": "code",
   "execution_count": 47,
   "metadata": {
    "collapsed": true
   },
   "outputs": [],
   "source": [
    "#first save all jobname links\n",
    "\n",
    "#element_by_id\n",
    "#element_by_class_name\n",
    "#element_by_tag_name\n",
    "#element_by_link_text\n",
    "\n",
    "from selenium import webdriver\n",
    "from selenium.webdriver.common.keys import Keys\n",
    "from bs4 import BeautifulSoup\n",
    "import requests\n",
    "import re\n",
    "import time\n",
    "\n",
    "# open browser\n",
    "browser = webdriver.Chrome()\n",
    "browser.get('http://www.yes123.com.tw/admin/index.asp')\n",
    "\n",
    "# input search keywords\n",
    "browser.find_element_by_id('find_key1').clear()\n",
    "browser.find_element_by_id('find_key1').send_keys('軟體 工程師')\n",
    "\n",
    "time.sleep(2)\n",
    "# Click search button\n",
    "browser.find_element_by_class_name('n_serch_btn').click()\n",
    "\n",
    "time.sleep(2)\n",
    "counter = 0\n",
    "\n",
    "while True:\n",
    "    try:\n",
    "        counter += 1\n",
    "        browser.find_element_by_tag_name('body').send_keys(Keys.END)     #scroll down\n",
    "        links = [link.get_attribute('href') for link in browser.find_elements_by_class_name('jobname')]\n",
    "        #links is list contain link of page\n",
    "        \n",
    "        with open('link_yes123.csv', 'r') as f:\n",
    "            f.write('\\n'.join(links)+'\\n')      #twice  '\\n'  這頁的links存入csv檔\n",
    "        print('[Debug] links of page %d are saved' % (counter))  #Debug : which page is saved爬完一頁顯示\n",
    "        browser.find_element_by_link_text('>').click()  #find '>' in text to click\n",
    "        time.sleep(1)   \n",
    "    except Exception as e:           #Exception \n",
    "        print(e)\n",
    "        break\n",
    "print('The end of pages is No.%d' %(counter))\n",
    "print('Browser will quit!')\n",
    "browser.quit()"
   ]
  },
  {
   "cell_type": "code",
   "execution_count": 1,
   "metadata": {
    "collapsed": true
   },
   "outputs": [
    {
     "name": "stdout",
     "output_type": "stream",
     "text": [
      "\n",
      "\n",
      "\n",
      "\n",
      "\n",
      "\n",
      "\n"
     ]
    },
    {
     "ename": "KeyboardInterrupt",
     "evalue": "",
     "output_type": "error",
     "traceback": [
      "\u001b[0;31m---------------------------------------------------------------------------\u001b[0m",
      "\u001b[0;31mTypeError\u001b[0m                                 Traceback (most recent call last)",
      "\u001b[0;32m/home/ubuntu/.pyenv/versions/3.6.1/lib/python3.6/site-packages/requests/packages/urllib3/connectionpool.py\u001b[0m in \u001b[0;36m_make_request\u001b[0;34m(self, conn, method, url, timeout, chunked, **httplib_request_kw)\u001b[0m\n\u001b[1;32m    378\u001b[0m             \u001b[0;32mtry\u001b[0m\u001b[0;34m:\u001b[0m  \u001b[0;31m# Python 2.7, use buffering of HTTP responses\u001b[0m\u001b[0;34m\u001b[0m\u001b[0m\n\u001b[0;32m--> 379\u001b[0;31m                 \u001b[0mhttplib_response\u001b[0m \u001b[0;34m=\u001b[0m \u001b[0mconn\u001b[0m\u001b[0;34m.\u001b[0m\u001b[0mgetresponse\u001b[0m\u001b[0;34m(\u001b[0m\u001b[0mbuffering\u001b[0m\u001b[0;34m=\u001b[0m\u001b[0;32mTrue\u001b[0m\u001b[0;34m)\u001b[0m\u001b[0;34m\u001b[0m\u001b[0m\n\u001b[0m\u001b[1;32m    380\u001b[0m             \u001b[0;32mexcept\u001b[0m \u001b[0mTypeError\u001b[0m\u001b[0;34m:\u001b[0m  \u001b[0;31m# Python 2.6 and older, Python 3\u001b[0m\u001b[0;34m\u001b[0m\u001b[0m\n",
      "\u001b[0;31mTypeError\u001b[0m: getresponse() got an unexpected keyword argument 'buffering'",
      "\nDuring handling of the above exception, another exception occurred:\n",
      "\u001b[0;31mKeyboardInterrupt\u001b[0m                         Traceback (most recent call last)",
      "\u001b[0;32m<ipython-input-1-40eb23140094>\u001b[0m in \u001b[0;36m<module>\u001b[0;34m()\u001b[0m\n\u001b[1;32m      4\u001b[0m \u001b[0;32mfor\u001b[0m \u001b[0mi\u001b[0m \u001b[0;32min\u001b[0m \u001b[0mrange\u001b[0m\u001b[0;34m(\u001b[0m\u001b[0;36m150\u001b[0m\u001b[0;34m,\u001b[0m\u001b[0;36m800\u001b[0m\u001b[0;34m)\u001b[0m\u001b[0;34m:\u001b[0m\u001b[0;34m\u001b[0m\u001b[0m\n\u001b[1;32m      5\u001b[0m     \u001b[0murl\u001b[0m \u001b[0;34m=\u001b[0m \u001b[0mHost\u001b[0m\u001b[0;34m+\u001b[0m\u001b[0;34m'/jobbank/joblist/joblist.cfm?jobsource=n104bank1&ro=1&keyword=%E8%BB%9F%E9%AB%94%E5%B7%A5%E7%A8%8B%E5%B8%AB&order=1&asc=0&page={}'\u001b[0m\u001b[0;34m.\u001b[0m\u001b[0mformat\u001b[0m\u001b[0;34m(\u001b[0m\u001b[0mi\u001b[0m\u001b[0;34m)\u001b[0m\u001b[0;34m\u001b[0m\u001b[0m\n\u001b[0;32m----> 6\u001b[0;31m     \u001b[0mres\u001b[0m \u001b[0;34m=\u001b[0m \u001b[0mr\u001b[0m\u001b[0;34m.\u001b[0m\u001b[0mget\u001b[0m\u001b[0;34m(\u001b[0m\u001b[0murl\u001b[0m\u001b[0;34m)\u001b[0m\u001b[0;34m\u001b[0m\u001b[0m\n\u001b[0m\u001b[1;32m      7\u001b[0m     \u001b[0msoup\u001b[0m \u001b[0;34m=\u001b[0m \u001b[0mBeautifulSoup\u001b[0m\u001b[0;34m(\u001b[0m\u001b[0mres\u001b[0m\u001b[0;34m.\u001b[0m\u001b[0mtext\u001b[0m\u001b[0;34m,\u001b[0m \u001b[0;34m'lxml'\u001b[0m\u001b[0;34m)\u001b[0m\u001b[0;34m\u001b[0m\u001b[0m\n\u001b[1;32m      8\u001b[0m     \u001b[0mlinks_list\u001b[0m \u001b[0;34m=\u001b[0m \u001b[0;34m[\u001b[0m\u001b[0mHost\u001b[0m\u001b[0;34m+\u001b[0m\u001b[0mlink\u001b[0m\u001b[0;34m[\u001b[0m\u001b[0;34m'href'\u001b[0m\u001b[0;34m]\u001b[0m \u001b[0;32mfor\u001b[0m \u001b[0mlink\u001b[0m \u001b[0;32min\u001b[0m \u001b[0msoup\u001b[0m\u001b[0;34m.\u001b[0m\u001b[0mselect\u001b[0m\u001b[0;34m(\u001b[0m\u001b[0;34m\".j_cont > ul > li  > div > a\"\u001b[0m\u001b[0;34m)\u001b[0m\u001b[0;34m]\u001b[0m\u001b[0;34m\u001b[0m\u001b[0m\n",
      "\u001b[0;32m/home/ubuntu/.pyenv/versions/3.6.1/lib/python3.6/site-packages/requests/api.py\u001b[0m in \u001b[0;36mget\u001b[0;34m(url, params, **kwargs)\u001b[0m\n\u001b[1;32m     68\u001b[0m \u001b[0;34m\u001b[0m\u001b[0m\n\u001b[1;32m     69\u001b[0m     \u001b[0mkwargs\u001b[0m\u001b[0;34m.\u001b[0m\u001b[0msetdefault\u001b[0m\u001b[0;34m(\u001b[0m\u001b[0;34m'allow_redirects'\u001b[0m\u001b[0;34m,\u001b[0m \u001b[0;32mTrue\u001b[0m\u001b[0;34m)\u001b[0m\u001b[0;34m\u001b[0m\u001b[0m\n\u001b[0;32m---> 70\u001b[0;31m     \u001b[0;32mreturn\u001b[0m \u001b[0mrequest\u001b[0m\u001b[0;34m(\u001b[0m\u001b[0;34m'get'\u001b[0m\u001b[0;34m,\u001b[0m \u001b[0murl\u001b[0m\u001b[0;34m,\u001b[0m \u001b[0mparams\u001b[0m\u001b[0;34m=\u001b[0m\u001b[0mparams\u001b[0m\u001b[0;34m,\u001b[0m \u001b[0;34m**\u001b[0m\u001b[0mkwargs\u001b[0m\u001b[0;34m)\u001b[0m\u001b[0;34m\u001b[0m\u001b[0m\n\u001b[0m\u001b[1;32m     71\u001b[0m \u001b[0;34m\u001b[0m\u001b[0m\n\u001b[1;32m     72\u001b[0m \u001b[0;34m\u001b[0m\u001b[0m\n",
      "\u001b[0;32m/home/ubuntu/.pyenv/versions/3.6.1/lib/python3.6/site-packages/requests/api.py\u001b[0m in \u001b[0;36mrequest\u001b[0;34m(method, url, **kwargs)\u001b[0m\n\u001b[1;32m     54\u001b[0m     \u001b[0;31m# cases, and look like a memory leak in others.\u001b[0m\u001b[0;34m\u001b[0m\u001b[0;34m\u001b[0m\u001b[0m\n\u001b[1;32m     55\u001b[0m     \u001b[0;32mwith\u001b[0m \u001b[0msessions\u001b[0m\u001b[0;34m.\u001b[0m\u001b[0mSession\u001b[0m\u001b[0;34m(\u001b[0m\u001b[0;34m)\u001b[0m \u001b[0;32mas\u001b[0m \u001b[0msession\u001b[0m\u001b[0;34m:\u001b[0m\u001b[0;34m\u001b[0m\u001b[0m\n\u001b[0;32m---> 56\u001b[0;31m         \u001b[0;32mreturn\u001b[0m \u001b[0msession\u001b[0m\u001b[0;34m.\u001b[0m\u001b[0mrequest\u001b[0m\u001b[0;34m(\u001b[0m\u001b[0mmethod\u001b[0m\u001b[0;34m=\u001b[0m\u001b[0mmethod\u001b[0m\u001b[0;34m,\u001b[0m \u001b[0murl\u001b[0m\u001b[0;34m=\u001b[0m\u001b[0murl\u001b[0m\u001b[0;34m,\u001b[0m \u001b[0;34m**\u001b[0m\u001b[0mkwargs\u001b[0m\u001b[0;34m)\u001b[0m\u001b[0;34m\u001b[0m\u001b[0m\n\u001b[0m\u001b[1;32m     57\u001b[0m \u001b[0;34m\u001b[0m\u001b[0m\n\u001b[1;32m     58\u001b[0m \u001b[0;34m\u001b[0m\u001b[0m\n",
      "\u001b[0;32m/home/ubuntu/.pyenv/versions/3.6.1/lib/python3.6/site-packages/requests/sessions.py\u001b[0m in \u001b[0;36mrequest\u001b[0;34m(self, method, url, params, data, headers, cookies, files, auth, timeout, allow_redirects, proxies, hooks, stream, verify, cert, json)\u001b[0m\n\u001b[1;32m    486\u001b[0m         }\n\u001b[1;32m    487\u001b[0m         \u001b[0msend_kwargs\u001b[0m\u001b[0;34m.\u001b[0m\u001b[0mupdate\u001b[0m\u001b[0;34m(\u001b[0m\u001b[0msettings\u001b[0m\u001b[0;34m)\u001b[0m\u001b[0;34m\u001b[0m\u001b[0m\n\u001b[0;32m--> 488\u001b[0;31m         \u001b[0mresp\u001b[0m \u001b[0;34m=\u001b[0m \u001b[0mself\u001b[0m\u001b[0;34m.\u001b[0m\u001b[0msend\u001b[0m\u001b[0;34m(\u001b[0m\u001b[0mprep\u001b[0m\u001b[0;34m,\u001b[0m \u001b[0;34m**\u001b[0m\u001b[0msend_kwargs\u001b[0m\u001b[0;34m)\u001b[0m\u001b[0;34m\u001b[0m\u001b[0m\n\u001b[0m\u001b[1;32m    489\u001b[0m \u001b[0;34m\u001b[0m\u001b[0m\n\u001b[1;32m    490\u001b[0m         \u001b[0;32mreturn\u001b[0m \u001b[0mresp\u001b[0m\u001b[0;34m\u001b[0m\u001b[0m\n",
      "\u001b[0;32m/home/ubuntu/.pyenv/versions/3.6.1/lib/python3.6/site-packages/requests/sessions.py\u001b[0m in \u001b[0;36msend\u001b[0;34m(self, request, **kwargs)\u001b[0m\n\u001b[1;32m    607\u001b[0m \u001b[0;34m\u001b[0m\u001b[0m\n\u001b[1;32m    608\u001b[0m         \u001b[0;31m# Send the request\u001b[0m\u001b[0;34m\u001b[0m\u001b[0;34m\u001b[0m\u001b[0m\n\u001b[0;32m--> 609\u001b[0;31m         \u001b[0mr\u001b[0m \u001b[0;34m=\u001b[0m \u001b[0madapter\u001b[0m\u001b[0;34m.\u001b[0m\u001b[0msend\u001b[0m\u001b[0;34m(\u001b[0m\u001b[0mrequest\u001b[0m\u001b[0;34m,\u001b[0m \u001b[0;34m**\u001b[0m\u001b[0mkwargs\u001b[0m\u001b[0;34m)\u001b[0m\u001b[0;34m\u001b[0m\u001b[0m\n\u001b[0m\u001b[1;32m    610\u001b[0m \u001b[0;34m\u001b[0m\u001b[0m\n\u001b[1;32m    611\u001b[0m         \u001b[0;31m# Total elapsed time of the request (approximately)\u001b[0m\u001b[0;34m\u001b[0m\u001b[0;34m\u001b[0m\u001b[0m\n",
      "\u001b[0;32m/home/ubuntu/.pyenv/versions/3.6.1/lib/python3.6/site-packages/requests/adapters.py\u001b[0m in \u001b[0;36msend\u001b[0;34m(self, request, stream, timeout, verify, cert, proxies)\u001b[0m\n\u001b[1;32m    421\u001b[0m                     \u001b[0mdecode_content\u001b[0m\u001b[0;34m=\u001b[0m\u001b[0;32mFalse\u001b[0m\u001b[0;34m,\u001b[0m\u001b[0;34m\u001b[0m\u001b[0m\n\u001b[1;32m    422\u001b[0m                     \u001b[0mretries\u001b[0m\u001b[0;34m=\u001b[0m\u001b[0mself\u001b[0m\u001b[0;34m.\u001b[0m\u001b[0mmax_retries\u001b[0m\u001b[0;34m,\u001b[0m\u001b[0;34m\u001b[0m\u001b[0m\n\u001b[0;32m--> 423\u001b[0;31m                     \u001b[0mtimeout\u001b[0m\u001b[0;34m=\u001b[0m\u001b[0mtimeout\u001b[0m\u001b[0;34m\u001b[0m\u001b[0m\n\u001b[0m\u001b[1;32m    424\u001b[0m                 )\n\u001b[1;32m    425\u001b[0m \u001b[0;34m\u001b[0m\u001b[0m\n",
      "\u001b[0;32m/home/ubuntu/.pyenv/versions/3.6.1/lib/python3.6/site-packages/requests/packages/urllib3/connectionpool.py\u001b[0m in \u001b[0;36murlopen\u001b[0;34m(self, method, url, body, headers, retries, redirect, assert_same_host, timeout, pool_timeout, release_conn, chunked, body_pos, **response_kw)\u001b[0m\n\u001b[1;32m    598\u001b[0m                                                   \u001b[0mtimeout\u001b[0m\u001b[0;34m=\u001b[0m\u001b[0mtimeout_obj\u001b[0m\u001b[0;34m,\u001b[0m\u001b[0;34m\u001b[0m\u001b[0m\n\u001b[1;32m    599\u001b[0m                                                   \u001b[0mbody\u001b[0m\u001b[0;34m=\u001b[0m\u001b[0mbody\u001b[0m\u001b[0;34m,\u001b[0m \u001b[0mheaders\u001b[0m\u001b[0;34m=\u001b[0m\u001b[0mheaders\u001b[0m\u001b[0;34m,\u001b[0m\u001b[0;34m\u001b[0m\u001b[0m\n\u001b[0;32m--> 600\u001b[0;31m                                                   chunked=chunked)\n\u001b[0m\u001b[1;32m    601\u001b[0m \u001b[0;34m\u001b[0m\u001b[0m\n\u001b[1;32m    602\u001b[0m             \u001b[0;31m# If we're going to release the connection in ``finally:``, then\u001b[0m\u001b[0;34m\u001b[0m\u001b[0;34m\u001b[0m\u001b[0m\n",
      "\u001b[0;32m/home/ubuntu/.pyenv/versions/3.6.1/lib/python3.6/site-packages/requests/packages/urllib3/connectionpool.py\u001b[0m in \u001b[0;36m_make_request\u001b[0;34m(self, conn, method, url, timeout, chunked, **httplib_request_kw)\u001b[0m\n\u001b[1;32m    380\u001b[0m             \u001b[0;32mexcept\u001b[0m \u001b[0mTypeError\u001b[0m\u001b[0;34m:\u001b[0m  \u001b[0;31m# Python 2.6 and older, Python 3\u001b[0m\u001b[0;34m\u001b[0m\u001b[0m\n\u001b[1;32m    381\u001b[0m                 \u001b[0;32mtry\u001b[0m\u001b[0;34m:\u001b[0m\u001b[0;34m\u001b[0m\u001b[0m\n\u001b[0;32m--> 382\u001b[0;31m                     \u001b[0mhttplib_response\u001b[0m \u001b[0;34m=\u001b[0m \u001b[0mconn\u001b[0m\u001b[0;34m.\u001b[0m\u001b[0mgetresponse\u001b[0m\u001b[0;34m(\u001b[0m\u001b[0;34m)\u001b[0m\u001b[0;34m\u001b[0m\u001b[0m\n\u001b[0m\u001b[1;32m    383\u001b[0m                 \u001b[0;32mexcept\u001b[0m \u001b[0mException\u001b[0m \u001b[0;32mas\u001b[0m \u001b[0me\u001b[0m\u001b[0;34m:\u001b[0m\u001b[0;34m\u001b[0m\u001b[0m\n\u001b[1;32m    384\u001b[0m                     \u001b[0;31m# Remove the TypeError from the exception chain in Python 3;\u001b[0m\u001b[0;34m\u001b[0m\u001b[0;34m\u001b[0m\u001b[0m\n",
      "\u001b[0;32m/home/ubuntu/.pyenv/versions/3.6.1/lib/python3.6/http/client.py\u001b[0m in \u001b[0;36mgetresponse\u001b[0;34m(self)\u001b[0m\n\u001b[1;32m   1329\u001b[0m         \u001b[0;32mtry\u001b[0m\u001b[0;34m:\u001b[0m\u001b[0;34m\u001b[0m\u001b[0m\n\u001b[1;32m   1330\u001b[0m             \u001b[0;32mtry\u001b[0m\u001b[0;34m:\u001b[0m\u001b[0;34m\u001b[0m\u001b[0m\n\u001b[0;32m-> 1331\u001b[0;31m                 \u001b[0mresponse\u001b[0m\u001b[0;34m.\u001b[0m\u001b[0mbegin\u001b[0m\u001b[0;34m(\u001b[0m\u001b[0;34m)\u001b[0m\u001b[0;34m\u001b[0m\u001b[0m\n\u001b[0m\u001b[1;32m   1332\u001b[0m             \u001b[0;32mexcept\u001b[0m \u001b[0mConnectionError\u001b[0m\u001b[0;34m:\u001b[0m\u001b[0;34m\u001b[0m\u001b[0m\n\u001b[1;32m   1333\u001b[0m                 \u001b[0mself\u001b[0m\u001b[0;34m.\u001b[0m\u001b[0mclose\u001b[0m\u001b[0;34m(\u001b[0m\u001b[0;34m)\u001b[0m\u001b[0;34m\u001b[0m\u001b[0m\n",
      "\u001b[0;32m/home/ubuntu/.pyenv/versions/3.6.1/lib/python3.6/http/client.py\u001b[0m in \u001b[0;36mbegin\u001b[0;34m(self)\u001b[0m\n\u001b[1;32m    295\u001b[0m         \u001b[0;31m# read until we get a non-100 response\u001b[0m\u001b[0;34m\u001b[0m\u001b[0;34m\u001b[0m\u001b[0m\n\u001b[1;32m    296\u001b[0m         \u001b[0;32mwhile\u001b[0m \u001b[0;32mTrue\u001b[0m\u001b[0;34m:\u001b[0m\u001b[0;34m\u001b[0m\u001b[0m\n\u001b[0;32m--> 297\u001b[0;31m             \u001b[0mversion\u001b[0m\u001b[0;34m,\u001b[0m \u001b[0mstatus\u001b[0m\u001b[0;34m,\u001b[0m \u001b[0mreason\u001b[0m \u001b[0;34m=\u001b[0m \u001b[0mself\u001b[0m\u001b[0;34m.\u001b[0m\u001b[0m_read_status\u001b[0m\u001b[0;34m(\u001b[0m\u001b[0;34m)\u001b[0m\u001b[0;34m\u001b[0m\u001b[0m\n\u001b[0m\u001b[1;32m    298\u001b[0m             \u001b[0;32mif\u001b[0m \u001b[0mstatus\u001b[0m \u001b[0;34m!=\u001b[0m \u001b[0mCONTINUE\u001b[0m\u001b[0;34m:\u001b[0m\u001b[0;34m\u001b[0m\u001b[0m\n\u001b[1;32m    299\u001b[0m                 \u001b[0;32mbreak\u001b[0m\u001b[0;34m\u001b[0m\u001b[0m\n",
      "\u001b[0;32m/home/ubuntu/.pyenv/versions/3.6.1/lib/python3.6/http/client.py\u001b[0m in \u001b[0;36m_read_status\u001b[0;34m(self)\u001b[0m\n\u001b[1;32m    256\u001b[0m \u001b[0;34m\u001b[0m\u001b[0m\n\u001b[1;32m    257\u001b[0m     \u001b[0;32mdef\u001b[0m \u001b[0m_read_status\u001b[0m\u001b[0;34m(\u001b[0m\u001b[0mself\u001b[0m\u001b[0;34m)\u001b[0m\u001b[0;34m:\u001b[0m\u001b[0;34m\u001b[0m\u001b[0m\n\u001b[0;32m--> 258\u001b[0;31m         \u001b[0mline\u001b[0m \u001b[0;34m=\u001b[0m \u001b[0mstr\u001b[0m\u001b[0;34m(\u001b[0m\u001b[0mself\u001b[0m\u001b[0;34m.\u001b[0m\u001b[0mfp\u001b[0m\u001b[0;34m.\u001b[0m\u001b[0mreadline\u001b[0m\u001b[0;34m(\u001b[0m\u001b[0m_MAXLINE\u001b[0m \u001b[0;34m+\u001b[0m \u001b[0;36m1\u001b[0m\u001b[0;34m)\u001b[0m\u001b[0;34m,\u001b[0m \u001b[0;34m\"iso-8859-1\"\u001b[0m\u001b[0;34m)\u001b[0m\u001b[0;34m\u001b[0m\u001b[0m\n\u001b[0m\u001b[1;32m    259\u001b[0m         \u001b[0;32mif\u001b[0m \u001b[0mlen\u001b[0m\u001b[0;34m(\u001b[0m\u001b[0mline\u001b[0m\u001b[0;34m)\u001b[0m \u001b[0;34m>\u001b[0m \u001b[0m_MAXLINE\u001b[0m\u001b[0;34m:\u001b[0m\u001b[0;34m\u001b[0m\u001b[0m\n\u001b[1;32m    260\u001b[0m             \u001b[0;32mraise\u001b[0m \u001b[0mLineTooLong\u001b[0m\u001b[0;34m(\u001b[0m\u001b[0;34m\"status line\"\u001b[0m\u001b[0;34m)\u001b[0m\u001b[0;34m\u001b[0m\u001b[0m\n",
      "\u001b[0;32m/home/ubuntu/.pyenv/versions/3.6.1/lib/python3.6/socket.py\u001b[0m in \u001b[0;36mreadinto\u001b[0;34m(self, b)\u001b[0m\n\u001b[1;32m    584\u001b[0m         \u001b[0;32mwhile\u001b[0m \u001b[0;32mTrue\u001b[0m\u001b[0;34m:\u001b[0m\u001b[0;34m\u001b[0m\u001b[0m\n\u001b[1;32m    585\u001b[0m             \u001b[0;32mtry\u001b[0m\u001b[0;34m:\u001b[0m\u001b[0;34m\u001b[0m\u001b[0m\n\u001b[0;32m--> 586\u001b[0;31m                 \u001b[0;32mreturn\u001b[0m \u001b[0mself\u001b[0m\u001b[0;34m.\u001b[0m\u001b[0m_sock\u001b[0m\u001b[0;34m.\u001b[0m\u001b[0mrecv_into\u001b[0m\u001b[0;34m(\u001b[0m\u001b[0mb\u001b[0m\u001b[0;34m)\u001b[0m\u001b[0;34m\u001b[0m\u001b[0m\n\u001b[0m\u001b[1;32m    587\u001b[0m             \u001b[0;32mexcept\u001b[0m \u001b[0mtimeout\u001b[0m\u001b[0;34m:\u001b[0m\u001b[0;34m\u001b[0m\u001b[0m\n\u001b[1;32m    588\u001b[0m                 \u001b[0mself\u001b[0m\u001b[0;34m.\u001b[0m\u001b[0m_timeout_occurred\u001b[0m \u001b[0;34m=\u001b[0m \u001b[0;32mTrue\u001b[0m\u001b[0;34m\u001b[0m\u001b[0m\n",
      "\u001b[0;32m/home/ubuntu/.pyenv/versions/3.6.1/lib/python3.6/site-packages/requests/packages/urllib3/contrib/pyopenssl.py\u001b[0m in \u001b[0;36mrecv_into\u001b[0;34m(self, *args, **kwargs)\u001b[0m\n\u001b[1;32m    275\u001b[0m     \u001b[0;32mdef\u001b[0m \u001b[0mrecv_into\u001b[0m\u001b[0;34m(\u001b[0m\u001b[0mself\u001b[0m\u001b[0;34m,\u001b[0m \u001b[0;34m*\u001b[0m\u001b[0margs\u001b[0m\u001b[0;34m,\u001b[0m \u001b[0;34m**\u001b[0m\u001b[0mkwargs\u001b[0m\u001b[0;34m)\u001b[0m\u001b[0;34m:\u001b[0m\u001b[0;34m\u001b[0m\u001b[0m\n\u001b[1;32m    276\u001b[0m         \u001b[0;32mtry\u001b[0m\u001b[0;34m:\u001b[0m\u001b[0;34m\u001b[0m\u001b[0m\n\u001b[0;32m--> 277\u001b[0;31m             \u001b[0;32mreturn\u001b[0m \u001b[0mself\u001b[0m\u001b[0;34m.\u001b[0m\u001b[0mconnection\u001b[0m\u001b[0;34m.\u001b[0m\u001b[0mrecv_into\u001b[0m\u001b[0;34m(\u001b[0m\u001b[0;34m*\u001b[0m\u001b[0margs\u001b[0m\u001b[0;34m,\u001b[0m \u001b[0;34m**\u001b[0m\u001b[0mkwargs\u001b[0m\u001b[0;34m)\u001b[0m\u001b[0;34m\u001b[0m\u001b[0m\n\u001b[0m\u001b[1;32m    278\u001b[0m         \u001b[0;32mexcept\u001b[0m \u001b[0mOpenSSL\u001b[0m\u001b[0;34m.\u001b[0m\u001b[0mSSL\u001b[0m\u001b[0;34m.\u001b[0m\u001b[0mSysCallError\u001b[0m \u001b[0;32mas\u001b[0m \u001b[0me\u001b[0m\u001b[0;34m:\u001b[0m\u001b[0;34m\u001b[0m\u001b[0m\n\u001b[1;32m    279\u001b[0m             \u001b[0;32mif\u001b[0m \u001b[0mself\u001b[0m\u001b[0;34m.\u001b[0m\u001b[0msuppress_ragged_eofs\u001b[0m \u001b[0;32mand\u001b[0m \u001b[0me\u001b[0m\u001b[0;34m.\u001b[0m\u001b[0margs\u001b[0m \u001b[0;34m==\u001b[0m \u001b[0;34m(\u001b[0m\u001b[0;34m-\u001b[0m\u001b[0;36m1\u001b[0m\u001b[0;34m,\u001b[0m \u001b[0;34m'Unexpected EOF'\u001b[0m\u001b[0;34m)\u001b[0m\u001b[0;34m:\u001b[0m\u001b[0;34m\u001b[0m\u001b[0m\n",
      "\u001b[0;32m/home/ubuntu/.pyenv/versions/3.6.1/lib/python3.6/site-packages/OpenSSL/SSL.py\u001b[0m in \u001b[0;36mrecv_into\u001b[0;34m(self, buffer, nbytes, flags)\u001b[0m\n\u001b[1;32m   1544\u001b[0m             \u001b[0mresult\u001b[0m \u001b[0;34m=\u001b[0m \u001b[0m_lib\u001b[0m\u001b[0;34m.\u001b[0m\u001b[0mSSL_peek\u001b[0m\u001b[0;34m(\u001b[0m\u001b[0mself\u001b[0m\u001b[0;34m.\u001b[0m\u001b[0m_ssl\u001b[0m\u001b[0;34m,\u001b[0m \u001b[0mbuf\u001b[0m\u001b[0;34m,\u001b[0m \u001b[0mnbytes\u001b[0m\u001b[0;34m)\u001b[0m\u001b[0;34m\u001b[0m\u001b[0m\n\u001b[1;32m   1545\u001b[0m         \u001b[0;32melse\u001b[0m\u001b[0;34m:\u001b[0m\u001b[0;34m\u001b[0m\u001b[0m\n\u001b[0;32m-> 1546\u001b[0;31m             \u001b[0mresult\u001b[0m \u001b[0;34m=\u001b[0m \u001b[0m_lib\u001b[0m\u001b[0;34m.\u001b[0m\u001b[0mSSL_read\u001b[0m\u001b[0;34m(\u001b[0m\u001b[0mself\u001b[0m\u001b[0;34m.\u001b[0m\u001b[0m_ssl\u001b[0m\u001b[0;34m,\u001b[0m \u001b[0mbuf\u001b[0m\u001b[0;34m,\u001b[0m \u001b[0mnbytes\u001b[0m\u001b[0;34m)\u001b[0m\u001b[0;34m\u001b[0m\u001b[0m\n\u001b[0m\u001b[1;32m   1547\u001b[0m         \u001b[0mself\u001b[0m\u001b[0;34m.\u001b[0m\u001b[0m_raise_ssl_error\u001b[0m\u001b[0;34m(\u001b[0m\u001b[0mself\u001b[0m\u001b[0;34m.\u001b[0m\u001b[0m_ssl\u001b[0m\u001b[0;34m,\u001b[0m \u001b[0mresult\u001b[0m\u001b[0;34m)\u001b[0m\u001b[0;34m\u001b[0m\u001b[0m\n\u001b[1;32m   1548\u001b[0m \u001b[0;34m\u001b[0m\u001b[0m\n",
      "\u001b[0;31mKeyboardInterrupt\u001b[0m: "
     ]
    }
   ],
   "source": [
    "import requests as r\n",
    "from bs4 import BeautifulSoup\n",
    "Host = 'https://www.104.com.tw'\n",
    "for i in range(150,800):\n",
    "    url = Host+'/jobbank/joblist/joblist.cfm?jobsource=n104bank1&ro=1&keyword=%E8%BB%9F%E9%AB%94%E5%B7%A5%E7%A8%8B%E5%B8%AB&order=1&asc=0&page={}'.format(i)\n",
    "    res = r.get(url)\n",
    "    soup = BeautifulSoup(res.text, 'lxml')\n",
    "    links_list = [Host+link['href'] for link in soup.select(\".j_cont > ul > li  > div > a\")]\n",
    "    with open('test104.csv','w') as f:\n",
    "        f.write('\\n'.join(links_list)+'\\n')\n",
    "    print('')"
   ]
  },
  {
   "cell_type": "code",
   "execution_count": 2,
   "metadata": {
    "collapsed": false
   },
   "outputs": [
    {
     "data": {
      "text/plain": [
       "[<a href=\"/job/?jobno=59b27&amp;jobsource=n104bank1&amp;hotjob_chr=\" onclick=\"gaClickjob();\" target=\"_blank\"><span itemprop=\"title\" title=\"&lt;軟體研發-數據中心 SDN Controller 軟體研發工程師(新竹)詳細資料&gt;\"><span class=\"txt_snip\">軟體</span>研發-數據中心 SDN Controller <span class=\"txt_snip\">軟體</span>研發<span class=\"txt_snip\">工程</span><span class=\"txt_snip\">師</span>(新竹)</span></a>,\n",
       " <a href=\"/jobbank/custjob/index.php?r=cust&amp;j=5a3a446d5e46406738583a1d1d1d1d5f2443a363189j97&amp;jobsource=n104bank1\" onclick=\"gaClickcust();\" target=\"_blank\"><span itemprop=\"name\" title=\"&lt;公司名：智邦科技股份有限公司&gt;\n",
       " &lt;公司地址：新竹市新竹科學工業園區研新三路1號(新竹科學工業園區)&gt;\">智邦科技股份有限公司</span></a>,\n",
       " <a href=\"javascript:void(0)\" onclick=\"mail_to_rptapply('4561436f5b37415732333b644f2f39620634b456c3d5d3f22222222653b3c2726472j53');\">0-5人應徵</a>,\n",
       " <a href=\"/job/?jobno=59b2n&amp;jobsource=n104bank1&amp;hotjob_chr=\" onclick=\"gaClickjob();\" target=\"_blank\"><span itemprop=\"title\" title=\"&lt;軟體研發-數據中心 SDN Controller 軟體研發工程師(台南)詳細資料&gt;\"><span class=\"txt_snip\">軟體</span>研發-數據中心 SDN Controller <span class=\"txt_snip\">軟體</span>研發<span class=\"txt_snip\">工程</span><span class=\"txt_snip\">師</span>(台南)</span></a>,\n",
       " <a href=\"/jobbank/custjob/index.php?r=cust&amp;j=5a3a446d5e46406738583a1d1d1d1d5f2443a363189j97&amp;jobsource=n104bank1\" onclick=\"gaClickcust();\" target=\"_blank\"><span itemprop=\"name\" title=\"&lt;公司名：智邦科技股份有限公司&gt;\n",
       " &lt;公司地址：新竹市新竹科學工業園區研新三路1號(新竹科學工業園區)&gt;\">智邦科技股份有限公司</span></a>,\n",
       " <a href=\"javascript:void(0)\" onclick=\"mail_to_rptapply('496547735f3b455b36373f6853333d664674f4970416143262626266b3e402b2a735j57');\">0-5人應徵</a>,\n",
       " <a href=\"/job/?jobno=59b34&amp;jobsource=n104bank1&amp;hotjob_chr=\" onclick=\"gaClickjob();\" target=\"_blank\"><span itemprop=\"title\" title=\"&lt;軟體研發-數據中心 SDN Controller 軟體研發工程師(台中)詳細資料&gt;\"><span class=\"txt_snip\">軟體</span>研發-數據中心 SDN Controller <span class=\"txt_snip\">軟體</span>研發<span class=\"txt_snip\">工程</span><span class=\"txt_snip\">師</span>(台中)</span></a>,\n",
       " <a href=\"/jobbank/custjob/index.php?r=cust&amp;j=5a3a446d5e46406738583a1d1d1d1d5f2443a363189j97&amp;jobsource=n104bank1\" onclick=\"gaClickcust();\" target=\"_blank\"><span itemprop=\"name\" title=\"&lt;公司名：智邦科技股份有限公司&gt;\n",
       " &lt;公司地址：新竹市新竹科學工業園區研新三路1號(新竹科學工業園區)&gt;\">智邦科技股份有限公司</span></a>,\n",
       " <a href=\"javascript:void(0)\" onclick=\"mail_to_rptapply('4c684a76623e485e393a426b5636406976a524c73446446292929292540592e2d008j99');\">0-5人應徵</a>,\n",
       " <a href=\"/job/?jobno=59b4b&amp;jobsource=n104bank1&amp;hotjob_chr=\" onclick=\"gaClickjob();\" target=\"_blank\"><span itemprop=\"title\" title=\"&lt;軟體研發-數據中心 SDN Controller 軟體研發工程師(台北)詳細資料&gt;\"><span class=\"txt_snip\">軟體</span>研發-數據中心 SDN Controller <span class=\"txt_snip\">軟體</span>研發<span class=\"txt_snip\">工程</span><span class=\"txt_snip\">師</span>(台北)</span></a>,\n",
       " <a href=\"/jobbank/custjob/index.php?r=cust&amp;j=5a3a446d5e46406738583a1d1d1d1d5f2443a363189j97&amp;jobsource=n104bank1\" onclick=\"gaClickcust();\" target=\"_blank\"><span itemprop=\"name\" title=\"&lt;公司名：智邦科技股份有限公司&gt;\n",
       " &lt;公司地址：新竹市新竹科學工業園區研新三路1號(新竹科學工業園區)&gt;\">智邦科技股份有限公司</span></a>,\n",
       " <a href=\"javascript:void(0)\" onclick=\"mail_to_rptapply('496547735f3b455b36373f6853333d664674f497041614326262626263e402b2a735j57');\">0-5人應徵</a>,\n",
       " <a href=\"/job/?jobno=49qkp&amp;jobsource=n104bank1&amp;hotjob_chr=\" onclick=\"gaClickjob();\" target=\"_blank\"><span itemprop=\"title\" title=\"&lt;軟體工程師(工作地點:泰國廠)詳細資料&gt;\"><span class=\"txt_snip\">軟體</span><span class=\"txt_snip\">工程</span><span class=\"txt_snip\">師</span>(工作地點:泰國廠)</span></a>,\n",
       " <a href=\"/jobbank/custjob/index.php?r=cust&amp;j=383a426c3c363e2144683a1d1d1d1d5f24437323189j56&amp;jobsource=n104bank1\" onclick=\"gaClickcust();\" target=\"_blank\"><span itemprop=\"name\" title=\"&lt;公司名：台灣金山電子工業股份有限公司&gt;\n",
       " &lt;公司地址：新北市三重區光復路一段68巷11弄1號(241)&gt;\">台灣金山電子工業股份有限公司</span></a>,\n",
       " <a href=\"javascript:void(0)\" onclick=\"mail_to_rptapply('5b4b43282c393f6831333b65352f371a74d7143262626266a3f332f2270j98');\">0-5人應徵</a>,\n",
       " <a href=\"/job/?jobno=4pnnm&amp;jobsource=n104bank1&amp;hotjob_chr=\" onclick=\"gaClickjob();\" target=\"_blank\"><span itemprop=\"title\" title=\"&lt;軟體設計高級工程師（蘇州）詳細資料&gt;\"><span class=\"txt_snip\">軟體</span>設計高級<span class=\"txt_snip\">工程</span><span class=\"txt_snip\">師</span>（蘇州）</span></a>,\n",
       " <a href=\"/jobbank/custjob/index.php?r=cust&amp;j=626042295e363f6840323c1d1d1d1d5f2443a363189j50&amp;jobsource=n104bank1\" onclick=\"gaClickcust();\" target=\"_blank\"><span itemprop=\"name\" title=\"&lt;公司名：同亨科技股份有限公司&gt;\n",
       " &lt;公司地址：新竹市新竹科學工業園區工業東九路30號4樓&gt;\">同亨科技股份有限公司</span></a>,\n",
       " <a href=\"javascript:void(0)\" onclick=\"mail_to_rptapply('54524b746674475e393a426b5e5c3e2536a424b744c3e48292929296d40592e2d008j52');\">0-5人應徵</a>,\n",
       " <a href=\"/job/?jobno=4xr8m&amp;jobsource=n104bank1&amp;hotjob_chr=\" onclick=\"gaClickjob();\" target=\"_blank\"><span itemprop=\"title\" title=\"&lt;資料軟體工程師-新竹IOT(3F0)詳細資料&gt;\">資料<span class=\"txt_snip\">軟體</span><span class=\"txt_snip\">工程</span><span class=\"txt_snip\">師</span>-新竹IOT(3F0)</span></a>,\n",
       " <a href=\"/jobbank/custjob/index.php?r=cust&amp;j=5e7043245e46406738583a1d1d1d1d5f2443a363189j01&amp;jobsource=n104bank1\" onclick=\"gaClickcust();\" target=\"_blank\"><span itemprop=\"name\" title=\"&lt;公司名：盟立自動化股份有限公司&gt;\n",
       " &lt;公司地址：新竹市新竹科學園區研發二路3號&gt;\">盟立自動化股份有限公司</span></a>,\n",
       " <a href=\"javascript:void(0)\" onclick=\"mail_to_rptapply('4e76482f423c465c37384069586a3d1e168504a71426244272727276a3f312c2b826j01');\">0-5人應徵</a>,\n",
       " <a href=\"/job/?jobno=4tzf1&amp;jobsource=n104bank1&amp;hotjob_chr=\" onclick=\"gaClickjob();\" target=\"_blank\"><span itemprop=\"title\" title=\"&lt;零售資訊系統軟體工程師詳細資料&gt;\">零售資訊系統<span class=\"txt_snip\">軟體</span><span class=\"txt_snip\">工程</span><span class=\"txt_snip\">師</span></span></a>,\n",
       " <a href=\"/jobbank/custjob/index.php?r=cust&amp;j=503a436d4846402330583a1d1d1d1d5f2443a363189j48&amp;jobsource=n104bank1\" onclick=\"gaClickcust();\" target=\"_blank\"><span itemprop=\"name\" title=\"&lt;公司名：特力集團_特力股份有限公司&gt;\n",
       " &lt;公司地址：台北市內湖區新湖三路23號6F&gt;\">特力集團_特力股份有限公司</span></a>,\n",
       " <a href=\"javascript:void(0)\" onclick=\"mail_to_rptapply('4571446d3937415732333b64452f386204d4b4528355d3f22222222213b3c2726472j53');\">0-5人應徵</a>,\n",
       " <a href=\"/job/?jobno=5c1fj&amp;jobsource=n104bank1&amp;hotjob_chr=\" onclick=\"gaClickjob();\" target=\"_blank\"><span itemprop=\"title\" title=\"&lt;軟韌體工程師詳細資料&gt;\">軟韌體<span class=\"txt_snip\">工程</span><span class=\"txt_snip\">師</span></span></a>,\n",
       " <a href=\"/jobbank/custjob/index.php?r=cust&amp;j=653d456e3739416a33353d663b41391c92c2c2c704339392654j53&amp;jobsource=n104bank1\" onclick=\"gaClickcust();\" target=\"_blank\"><span itemprop=\"name\" title=\"&lt;公司名：欣擎科技股份有限公司&gt;\n",
       " &lt;公司地址：新北市汐止區新台五路一段99號24樓之5&gt;\">欣擎科技股份有限公司</span></a>,\n",
       " <a href=\"javascript:void(0)\" onclick=\"mail_to_rptapply('654d462c5d6f4c2637353d685931396203b3d456e3739416a3f453d202020201f2473d5b3452j53');\">0-5人應徵</a>,\n",
       " <a href=\"/job/?jobno=4nfj8&amp;jobsource=n104bank1&amp;hotjob_chr=\" onclick=\"gaClickjob();\" target=\"_blank\"><span itemprop=\"title\" title=\"&lt;系統工程師詳細資料&gt;\">系統<span class=\"txt_snip\">工程</span><span class=\"txt_snip\">師</span></span></a>,\n",
       " <a href=\"/jobbank/custjob/index.php?r=cust&amp;j=523c446d3638406932343c653a40381b82b2b2b6d44485e2664j50&amp;jobsource=n104bank1\" onclick=\"gaClickcust();\" target=\"_blank\"><span itemprop=\"name\" title=\"&lt;公司名：詠躍科技股份有限公司&gt;\n",
       " &lt;公司地址：台北市內湖區瑞光路583巷21號5樓之2&gt;\">詠躍科技股份有限公司</span></a>,\n",
       " <a href=\"javascript:void(0)\" onclick=\"mail_to_rptapply('4250482e5c724f2a604842694a343c6533e4048713a3c446d424840232323232084c404c3725j50');\">0-5人應徵</a>,\n",
       " <a href=\"/job/?jobno=3lfzd&amp;jobsource=n104bank1&amp;hotjob_chr=\" onclick=\"gaClickjob();\" target=\"_blank\"><span itemprop=\"title\" title=\"&lt;軟韌體助理工程師詳細資料&gt;\">軟韌體助理<span class=\"txt_snip\">工程</span><span class=\"txt_snip\">師</span></span></a>,\n",
       " <a href=\"/jobbank/custjob/index.php?r=cust&amp;j=383a426b34363e6730323a63383e3619729292928415c4a6785j56&amp;jobsource=n104bank1\" onclick=\"gaClickcust();\" target=\"_blank\"><span itemprop=\"name\" title=\"&lt;公司名：香港商茂欣電子科技有限公司&gt;\n",
       " &lt;公司地址：高雄市苓雅區海邊路31號24樓之6&gt;\">香港商茂欣電子科技有限公司</span></a>,\n",
       " <a href=\"javascript:void(0)\" onclick=\"mail_to_rptapply('6573456e4f6f4c6a4b5b3e232f31396203b3d456e3739416a3f453d2020202065347735b3452j53');\">0-5人應徵</a>,\n",
       " <a href=\"/job/?jobno=4o69g&amp;jobsource=n104bank1&amp;hotjob_chr=\" onclick=\"gaClickjob();\" target=\"_blank\"><span itemprop=\"title\" title=\"&lt;前端開發工程師詳細資料&gt;\">前端開發<span class=\"txt_snip\">工程</span><span class=\"txt_snip\">師</span></span></a>,\n",
       " <a href=\"/jobbank/custjob/index.php?r=cust&amp;j=503a422634463e6756583a1d1d1d1d5f2443a363189j48&amp;jobsource=n104bank1\" onclick=\"gaClickcust();\" target=\"_blank\"><span itemprop=\"name\" title=\"&lt;公司名：艾斯移動股份有限公司&gt;\n",
       " &lt;公司地址：台北市大安區敦化南路2段57號7樓之1&gt;\">艾斯移動股份有限公司</span></a>,\n",
       " <a href=\"javascript:void(0)\" onclick=\"mail_to_rptapply('4a66492a6072455c373840694a343c2083e504871606244272727276b3f312c2b826j97');\">6-10人應徵</a>,\n",
       " <a href=\"/job/?jobno=55ahw&amp;jobsource=n104bank1&amp;hotjob_chr=\" onclick=\"gaClickjob();\" target=\"_blank\"><span itemprop=\"title\" title=\"&lt;軟體高級工程師(雷達)詳細資料&gt;\"><span class=\"txt_snip\">軟體</span>高級<span class=\"txt_snip\">工程</span><span class=\"txt_snip\">師</span>(雷達)</span></a>,\n",
       " <a href=\"/jobbank/custjob/index.php?r=cust&amp;j=5e3a4227406c3e2048423a1d1d1d1d5f2443a363189j01&amp;jobsource=n104bank1\" onclick=\"gaClickcust();\" target=\"_blank\"><span itemprop=\"name\" title=\"&lt;公司名：鼎天國際股份有限公司&gt;\n",
       " &lt;公司地址：桃園市龜山區文化二路188號4樓&gt;\">鼎天國際股份有限公司</span></a>,\n",
       " <a href=\"javascript:void(0)\" onclick=\"mail_to_rptapply('6840492a523c465c3738406958343c2194a76482a524c4427272727243f312c2b826j56');\">0-5人應徵</a>,\n",
       " <a href=\"/job/?jobno=3uisq&amp;jobsource=n104bank1&amp;hotjob_chr=\" onclick=\"gaClickjob();\" target=\"_blank\"><span itemprop=\"title\" title=\"&lt;Android通訊軟體工程師詳細資料&gt;\">Android通訊<span class=\"txt_snip\">軟體</span><span class=\"txt_snip\">工程</span><span class=\"txt_snip\">師</span></span></a>,\n",
       " <a href=\"/jobbank/custjob/index.php?r=cust&amp;j=5e704326485c3e6856583a1d1d1d1d5f2443a363189j01&amp;jobsource=n104bank1\" onclick=\"gaClickcust();\" target=\"_blank\"><span itemprop=\"name\" title=\"&lt;公司名：安富科技股份有限公司&gt;\n",
       " &lt;公司地址：台北市內湖區瑞光路258巷31號5樓&gt;\">安富科技股份有限公司</span></a>,\n",
       " <a href=\"javascript:void(0)\" onclick=\"mail_to_rptapply('5e604226445c3f5631323a635264371a74c60426c5a5c3e2121212121382b2625381j01');\">0-5人應徵</a>,\n",
       " <a href=\"/job/?jobno=303ay&amp;jobsource=n104bank1&amp;hotjob_chr=\" onclick=\"gaClickjob();\" target=\"_blank\"><span itemprop=\"title\" title=\"&lt;2017研發替代役-軟體開發工程師詳細資料&gt;\">2017研發替代役-<span class=\"txt_snip\">軟體</span>開發<span class=\"txt_snip\">工程</span><span class=\"txt_snip\">師</span></span></a>,\n",
       " <a href=\"/jobbank/custjob/index.php?r=cust&amp;j=3c60436d406c3e2248423a1d1d1d1d5f2443a363189j99&amp;jobsource=n104bank1\" onclick=\"gaClickcust();\" target=\"_blank\"><span itemprop=\"name\" title=\"&lt;公司名：原相科技股份有限公司&gt;\n",
       " &lt;公司地址：新竹市新竹科學工業園區創新一路5號5樓(300)&gt;\">原相科技股份有限公司</span></a>,\n",
       " <a href=\"javascript:void(0)\" onclick=\"mail_to_rptapply('3c70422434463f5631323a63305437619447042264c463e2121212166382b2625381j99');\">0-5人應徵</a>,\n",
       " <a href=\"/job/?jobno=4x7l5&amp;jobsource=n104bank1&amp;hotjob_chr=\" onclick=\"gaClickjob();\" target=\"_blank\"><span itemprop=\"title\" title=\"&lt;系統工程師詳細資料&gt;\">系統<span class=\"txt_snip\">工程</span><span class=\"txt_snip\">師</span></span></a>,\n",
       " <a href=\"/jobbank/custjob/index.php?r=cust&amp;j=574149723b3d456e3739416a3f453d20830303030484d4d7119j55&amp;jobsource=n104bank1\" onclick=\"gaClickcust();\" target=\"_blank\"><span itemprop=\"name\" title=\"&lt;公司名：越世實業股份有限公司&gt;\n",
       " &lt;公司地址：新北市三重區重新路四段63號16樓&gt;\">越世實業股份有限公司</span></a>,\n",
       " <a href=\"javascript:void(0)\" onclick=\"mail_to_rptapply('5f6548725f714e6f4947402649333b6423d3f4770393b436c41473f222222222204a3f4f3634j02');\">0-5人應徵</a>,\n",
       " <a href=\"/job/?jobno=5b2d8&amp;jobsource=n104bank1&amp;hotjob_chr=\" onclick=\"gaClickjob();\" target=\"_blank\"><span itemprop=\"title\" title=\"&lt;Android IMS/RCS 軟體工程師詳細資料&gt;\">Android IMS/RCS <span class=\"txt_snip\">軟體</span><span class=\"txt_snip\">工程</span><span class=\"txt_snip\">師</span></span></a>,\n",
       " <a href=\"/jobbank/custjob/index.php?r=cust&amp;j=3c6043295e363f6840323c1d1d1d1d5f2443a363189j99&amp;jobsource=n104bank1\" onclick=\"gaClickcust();\" target=\"_blank\"><span itemprop=\"name\" title=\"&lt;公司名：聯發科技股份有限公司&gt;\n",
       " &lt;公司地址：新竹市新竹科學工業園區篤行一路1號&gt;\">聯發科技股份有限公司</span></a>,\n",
       " <a href=\"javascript:void(0)\" onclick=\"mail_to_rptapply('4a404972643c465c37384069365a3d231684049724a3c4627272727243f312c2b826j97');\">0-5人應徵</a>,\n",
       " <a href=\"/job/?jobno=4zhj3&amp;jobsource=n104bank1&amp;hotjob_chr=\" onclick=\"gaClickjob();\" target=\"_blank\"><span itemprop=\"title\" title=\"&lt;LTE 軟體研發工程師 (台北)詳細資料&gt;\">LTE <span class=\"txt_snip\">軟體</span>研發<span class=\"txt_snip\">工程</span><span class=\"txt_snip\">師</span> (台北)</span></a>,\n",
       " <a href=\"/jobbank/custjob/index.php?r=cust&amp;j=404a44284446402148423a1d1d1d1d5f2443a363189j48&amp;jobsource=n104bank1\" onclick=\"gaClickcust();\" target=\"_blank\"><span itemprop=\"name\" title=\"&lt;公司名：建漢科技股份有限公司&gt;\n",
       " &lt;公司地址：新竹縣寶山鄉新竹科學工業園區新竹科學工業園區園區三路99號&gt;\">建漢科技股份有限公司</span></a>,\n",
       " <a href=\"javascript:void(0)\" onclick=\"mail_to_rptapply('43414a2e473d475d3839416a3b453f2314f514b2c534d4528282828233f682d2c917j51');\">0-5人應徵</a>,\n",
       " <a href=\"/job/?jobno=2f2y1&amp;jobsource=n104bank1&amp;hotjob_chr=\" onclick=\"gaClickjob();\" target=\"_blank\"><span itemprop=\"title\" title=\"&lt;資深軟體工程師、經理詳細資料&gt;\">資深<span class=\"txt_snip\">軟體</span><span class=\"txt_snip\">工程</span><span class=\"txt_snip\">師</span>、經理</span></a>,\n",
       " <a href=\"/jobbank/custjob/index.php?r=cust&amp;j=4860432438363e6748323c1d1d1d1d5f2443a363189j56&amp;jobsource=n104bank1\" onclick=\"gaClickcust();\" target=\"_blank\"><span itemprop=\"name\" title=\"&lt;公司名：榮群電訊股份有限公司&gt;\n",
       " &lt;公司地址：新竹市新竹科學工業園區工業東九路5號3樓&gt;\">榮群電訊股份有限公司</span></a>,\n",
       " <a href=\"javascript:void(0)\" onclick=\"mail_to_rptapply('5f6143273537405732333b643d55381973d3b436c4d374122222222213b3c2726472j02');\">0-5人應徵</a>,\n",
       " <a href=\"/job/?jobno=3qm73&amp;jobsource=n104bank1&amp;hotjob_chr=\" onclick=\"gaClickjob();\" target=\"_blank\"><span itemprop=\"title\" title=\"&lt;自動化設備  軟體開發工程師詳細資料&gt;\">自動化設備  <span class=\"txt_snip\">軟體</span>開發<span class=\"txt_snip\">工程</span><span class=\"txt_snip\">師</span></span></a>,\n",
       " <a href=\"/jobbank/custjob/index.php?r=cust&amp;j=624a442848463f6a40323c1d1d1d1d5f2443a363189j50&amp;jobsource=n104bank1\" onclick=\"gaClickcust();\" target=\"_blank\"><span itemprop=\"name\" title=\"&lt;公司名：弘塑科技股份有限公司&gt;\n",
       " &lt;公司地址：新竹市香山區鹽水里9鄰中華路六段89號&gt;\">弘塑科技股份有限公司</span></a>,\n",
       " <a href=\"javascript:void(0)\" onclick=\"mail_to_rptapply('4f3941273b5b3e5530313962553d371b84b49426d43353f202020201e373a2524290j02');\">0-5人應徵</a>]"
      ]
     },
     "execution_count": 2,
     "metadata": {},
     "output_type": "execute_result"
    }
   ],
   "source": [
    "res = r.get(Host+'/jobbank/joblist/joblist.cfm?jobsource=n104bank1&ro=1&keyword=%E8%BB%9F%E9%AB%94%E5%B7%A5%E7%A8%8B%E5%B8%AB&order=1&asc=0&page=151')\n",
    "soup = BeautifulSoup(res.text, 'lxml')\n",
    "test = soup.select('.j_cont > ul > li  > div > a')\n",
    "test"
   ]
  },
  {
   "cell_type": "code",
   "execution_count": null,
   "metadata": {
    "collapsed": true
   },
   "outputs": [],
   "source": [
    "res2 = r.get(href)\n",
    "soup = BeautifulSoup(res2.text, 'lxml')\n",
    "lans = soup.select('.tool')[0].select('a')"
   ]
  },
  {
   "cell_type": "code",
   "execution_count": null,
   "metadata": {
    "collapsed": true
   },
   "outputs": [],
   "source": [
    "class MyThread(threading.Thread):  #建立一個Thread的類別 \n",
    "#建立一個建構子可讓參數傳入   \n",
    "    def __init__(self,number, lock):#建構子～呼叫此thread時可以借此將參數傳入\n",
    "        threading.Thread.__init__(self)  #super()  傳到父類別的建構子\n",
    "        self.number=number\n",
    "        self.lock = lock\n",
    "#參數傳入後用run()執行  因為參數是page num  所以要再傳入function 用run執行\n",
    "    def run(self):   #等於java中的run  overwrite\n",
    "        pageURL(Host+'/jobbank/joblist/joblist.cfm?jobsource=n104bank1&ro=1&keyword=%E8%BB%9F%E9%AB%94%E5%B7%A5%E7%A8%8B%E5%B8%AB&order=1&asc=0&page={}'.format(self.number), lock)\n",
    "        print('[Debug] Page {} is finished'.format(self.number))"
   ]
  },
  {
   "cell_type": "code",
   "execution_count": null,
   "metadata": {
    "collapsed": true
   },
   "outputs": [],
   "source": []
  },
  {
   "cell_type": "code",
   "execution_count": null,
   "metadata": {
    "collapsed": true
   },
   "outputs": [],
   "source": []
  }
 ],
 "metadata": {
  "kernelspec": {
   "display_name": "Python 3",
   "language": "python",
   "name": "python3"
  },
  "language_info": {
   "codemirror_mode": {
    "name": "ipython",
    "version": 3
   },
   "file_extension": ".py",
   "mimetype": "text/x-python",
   "name": "python",
   "nbconvert_exporter": "python",
   "pygments_lexer": "ipython3",
   "version": "3.6.0"
  }
 },
 "nbformat": 4,
 "nbformat_minor": 2
}
