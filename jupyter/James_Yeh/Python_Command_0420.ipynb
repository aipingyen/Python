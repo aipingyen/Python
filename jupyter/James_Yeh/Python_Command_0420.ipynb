{
 "cells": [
  {
   "cell_type": "code",
   "execution_count": 2,
   "metadata": {},
   "outputs": [
    {
     "data": {
      "text/plain": [
       "\"'Accept:text/html,application/xhtml+xml,application/xml;q=0.9,image/webp,*/*;q=0.8\\\\nAccept-Encoding:gzip, deflate, sdch\\\\nAccept-Language:en-US,en;q=0.8\\\\nConnection:keep-alive\\\\nCookie:__asc=f9bad91c15b8a117b57e7112b10; __auc=f9bad91c15b8a117b57e7112b10; _ga=GA1.3.1354850009.1492670053; _gat=1; __gads=ID=173de187635fb21b:T=1492670053:S=ALNI_MaLUOXI06p68JrJhvo0dgEI3XLUaA\\\\nHost:news.cts.com.tw\\\\nReferer:http://www.cts.com.tw/\\\\nUpgrade-Insecure-Requests:1\\\\nUser-Agent:Mozilla/5.0 (X11; Linux x86_64) AppleWebKit/537.36 (KHTML, like Gecko) Chrome/57.0.2987.133 Safari/537.36'\""
      ]
     },
     "execution_count": 2,
     "metadata": {},
     "output_type": "execute_result"
    }
   ],
   "source": [
    "header_str = \"\"\"Accept:text/html,application/xhtml+xml,application/xml;q=0.9,image/webp,*/*;q=0.8\n",
    "Accept-Encoding:gzip, deflate, sdch\n",
    "Accept-Language:en-US,en;q=0.8\n",
    "Connection:keep-alive\n",
    "Cookie:__asc=f9bad91c15b8a117b57e7112b10; __auc=f9bad91c15b8a117b57e7112b10; _ga=GA1.3.1354850009.1492670053; _gat=1; __gads=ID=173de187635fb21b:T=1492670053:S=ALNI_MaLUOXI06p68JrJhvo0dgEI3XLUaA\n",
    "Host:news.cts.com.tw\n",
    "Referer:http://www.cts.com.tw/\n",
    "Upgrade-Insecure-Requests:1\n",
    "User-Agent:Mozilla/5.0 (X11; Linux x86_64) AppleWebKit/537.36 (KHTML, like Gecko) Chrome/57.0.2987.133 Safari/537.36\"\"\"\n",
    "# 寫一個程式, 把上面的header_str傳換成下面的header_dict結構\n",
    "# 提示: str object的methods好用, konw your dictionary\n",
    "# header_dict = {\"Accept\": \"text/html,application/xhtml+xml,application/xml;q=0.9,image/webp,*/*;q=0.8\",\n",
    "#                \"Accept-Encoding\": \"gzip, deflate, sdch\",\n",
    "#                                 ...\n",
    "#               }\n",
    "repr(header_str)"
   ]
  },
  {
   "cell_type": "code",
   "execution_count": 5,
   "metadata": {},
   "outputs": [
    {
     "data": {
      "text/plain": [
       "['Accept:text/html,application/xhtml+xml,application/xml;q=0.9,image/webp,*/*;q=0.8',\n",
       " 'Accept-Encoding:gzip, deflate, sdch',\n",
       " 'Accept-Language:en-US,en;q=0.8',\n",
       " 'Connection:keep-alive',\n",
       " 'Cookie:__asc=f9bad91c15b8a117b57e7112b10; __auc=f9bad91c15b8a117b57e7112b10; _ga=GA1.3.1354850009.1492670053; _gat=1; __gads=ID=173de187635fb21b:T=1492670053:S=ALNI_MaLUOXI06p68JrJhvo0dgEI3XLUaA',\n",
       " 'Host:news.cts.com.tw',\n",
       " 'Referer:http://www.cts.com.tw/',\n",
       " 'Upgrade-Insecure-Requests:1',\n",
       " 'User-Agent:Mozilla/5.0 (X11; Linux x86_64) AppleWebKit/537.36 (KHTML, like Gecko) Chrome/57.0.2987.133 Safari/537.36']"
      ]
     },
     "execution_count": 5,
     "metadata": {},
     "output_type": "execute_result"
    }
   ],
   "source": [
    "header_list = header_str.split(\"\\n\")\n",
    "header_list"
   ]
  },
  {
   "cell_type": "code",
   "execution_count": 24,
   "metadata": {},
   "outputs": [
    {
     "data": {
      "text/plain": [
       "'Accept'"
      ]
     },
     "execution_count": 24,
     "metadata": {},
     "output_type": "execute_result"
    }
   ],
   "source": [
    "header_list0 = header_list[0]\n",
    "kv_list = header_list0.split(\":\")\n",
    "k_header = kv_list[0]\n",
    "k_header\n",
    "v_header = kv_list[1:]\n",
    "v_header"
   ]
  },
  {
   "cell_type": "code",
   "execution_count": 22,
   "metadata": {},
   "outputs": [
    {
     "data": {
      "text/plain": [
       "'text/html,application/xhtml+xml,application/xml;q=0.9,image/webp,*/*;q=0.8'"
      ]
     },
     "execution_count": 22,
     "metadata": {},
     "output_type": "execute_result"
    }
   ],
   "source": [
    "val = ','.join(kv_list[1:])\n",
    "val\n",
    "# type(':')\n",
    "# len(kv_list[1:])"
   ]
  },
  {
   "cell_type": "code",
   "execution_count": 26,
   "metadata": {},
   "outputs": [
    {
     "data": {
      "text/plain": [
       "{'Accept': 'text/html,application/xhtml+xml,application/xml;q=0.9,image/webp,*/*;q=0.8'}"
      ]
     },
     "execution_count": 26,
     "metadata": {},
     "output_type": "execute_result"
    }
   ],
   "source": [
    "dict = {}\n",
    "dict[k_header] = val\n",
    "dict"
   ]
  },
  {
   "cell_type": "code",
   "execution_count": 33,
   "metadata": {
    "scrolled": true
   },
   "outputs": [
    {
     "data": {
      "text/plain": [
       "{'Accept': 'text/html,application/xhtml+xml,application/xml;q=0.9,image/webp,*/*;q=0.8',\n",
       " 'Accept-Encoding': 'gzip, deflate, sdch',\n",
       " 'Accept-Language': 'en-US,en;q=0.8',\n",
       " 'Connection': 'keep-alive',\n",
       " 'Cookie': '__asc=f9bad91c15b8a117b57e7112b10; __auc=f9bad91c15b8a117b57e7112b10; _ga=GA1.3.1354850009.1492670053; _gat=1; __gads=ID=173de187635fb21b,T=1492670053,S=ALNI_MaLUOXI06p68JrJhvo0dgEI3XLUaA',\n",
       " 'Host': 'news.cts.com.tw',\n",
       " 'Referer': 'http,//www.cts.com.tw/',\n",
       " 'Upgrade-Insecure-Requests': '1',\n",
       " 'User-Agent': 'Mozilla/5.0 (X11; Linux x86_64) AppleWebKit/537.36 (KHTML, like Gecko) Chrome/57.0.2987.133 Safari/537.36'}"
      ]
     },
     "execution_count": 33,
     "metadata": {},
     "output_type": "execute_result"
    }
   ],
   "source": [
    "dict = {}\n",
    "header_list = header_str.split(\"\\n\")\n",
    "for header_index in header_list :\n",
    "    kv_index = header_index.split(\":\")\n",
    "    key = kv_index[0]\n",
    "    value = \",\".join(kv_index[1:])\n",
    "    dict[key] = value\n",
    "dict"
   ]
  },
  {
   "cell_type": "markdown",
   "metadata": {},
   "source": [
    "<h2>Function\n"
   ]
  },
  {
   "cell_type": "code",
   "execution_count": 35,
   "metadata": {
    "collapsed": true
   },
   "outputs": [],
   "source": [
    "def gen_header(header_str):\n",
    "    \"\"\"This function generates a header_dict from Chrome dev tool for requests library\n",
    "    \n",
    "    :param header_str: The header string copied from Chrome developer tool.\n",
    "    :type header_str: str\n",
    "    :returns: header dictionary\n",
    "    \"\"\"\n",
    "    header_dict = {}\n",
    "    rows = header_str.split(\"\\n\")\n",
    "    for row in rows:\n",
    "        kv_list = row.split(\":\") # 把每一行用: split()開\n",
    "\n",
    "        # kv_list = ['key1', 'https', '//ianchenhq.com']\n",
    "        key = kv_list[0] \n",
    "        val = ':'.join(kv_list[1:]) # 再用:把1到結尾的element重新組合起來 -> https://ianchenhq.com\n",
    "        header_dict[key] = val\n",
    "    return header_dict"
   ]
  },
  {
   "cell_type": "code",
   "execution_count": 36,
   "metadata": {
    "scrolled": true
   },
   "outputs": [
    {
     "data": {
      "text/plain": [
       "{'Accept': 'text/html,application/xhtml+xml,application/xml;q=0.9,image/webp,*/*;q=0.8',\n",
       " 'Accept-Encoding': 'gzip, deflate, sdch',\n",
       " 'Accept-Language': 'en-US,en;q=0.8',\n",
       " 'Connection': 'keep-alive',\n",
       " 'Cookie': '__asc=f9bad91c15b8a117b57e7112b10; __auc=f9bad91c15b8a117b57e7112b10; _ga=GA1.3.1354850009.1492670053; _gat=1; __gads=ID=173de187635fb21b:T=1492670053:S=ALNI_MaLUOXI06p68JrJhvo0dgEI3XLUaA',\n",
       " 'Host': 'news.cts.com.tw',\n",
       " 'Referer': 'http://www.cts.com.tw/',\n",
       " 'Upgrade-Insecure-Requests': '1',\n",
       " 'User-Agent': 'Mozilla/5.0 (X11; Linux x86_64) AppleWebKit/537.36 (KHTML, like Gecko) Chrome/57.0.2987.133 Safari/537.36'}"
      ]
     },
     "execution_count": 36,
     "metadata": {},
     "output_type": "execute_result"
    }
   ],
   "source": [
    "header_dict = gen_header(header_str)\n",
    "header_dict"
   ]
  },
  {
   "cell_type": "markdown",
   "metadata": {},
   "source": [
    "<h2>Module"
   ]
  },
  {
   "cell_type": "code",
   "execution_count": 38,
   "metadata": {},
   "outputs": [
    {
     "data": {
      "text/plain": [
       "<Response [200]>"
      ]
     },
     "execution_count": 38,
     "metadata": {},
     "output_type": "execute_result"
    }
   ],
   "source": [
    "import requests\n",
    "requests.get(\"http://news.cts.com.tw/real/\", headers=header_dict)"
   ]
  },
  {
   "cell_type": "code",
   "execution_count": 39,
   "metadata": {},
   "outputs": [
    {
     "ename": "ModuleNotFoundError",
     "evalue": "No module named 'toolbox'",
     "output_type": "error",
     "traceback": [
      "\u001b[1;31m---------------------------------------------------------------------------\u001b[0m",
      "\u001b[1;31mModuleNotFoundError\u001b[0m                       Traceback (most recent call last)",
      "\u001b[1;32m<ipython-input-39-140f0651b44b>\u001b[0m in \u001b[0;36m<module>\u001b[1;34m()\u001b[0m\n\u001b[1;32m----> 1\u001b[1;33m \u001b[1;32mimport\u001b[0m \u001b[0mtoolbox\u001b[0m\u001b[1;33m\u001b[0m\u001b[0m\n\u001b[0m",
      "\u001b[1;31mModuleNotFoundError\u001b[0m: No module named 'toolbox'"
     ]
    }
   ],
   "source": [
    "import toolbox"
   ]
  },
  {
   "cell_type": "code",
   "execution_count": 40,
   "metadata": {
    "scrolled": true
   },
   "outputs": [
    {
     "ename": "NameError",
     "evalue": "name 'toolbox' is not defined",
     "output_type": "error",
     "traceback": [
      "\u001b[1;31m---------------------------------------------------------------------------\u001b[0m",
      "\u001b[1;31mNameError\u001b[0m                                 Traceback (most recent call last)",
      "\u001b[1;32m<ipython-input-40-416d45cd4900>\u001b[0m in \u001b[0;36m<module>\u001b[1;34m()\u001b[0m\n\u001b[1;32m----> 1\u001b[1;33m \u001b[0mtoolbox\u001b[0m\u001b[1;33m.\u001b[0m\u001b[0mgen_header\u001b[0m\u001b[1;33m\u001b[0m\u001b[0m\n\u001b[0m",
      "\u001b[1;31mNameError\u001b[0m: name 'toolbox' is not defined"
     ]
    }
   ],
   "source": [
    "toolbox.gen_header"
   ]
  },
  {
   "cell_type": "markdown",
   "metadata": {},
   "source": [
    "<h2>Misc"
   ]
  },
  {
   "cell_type": "code",
   "execution_count": 42,
   "metadata": {},
   "outputs": [
    {
     "data": {
      "text/plain": [
       "['Python', 'Ruby', 'Java']"
      ]
     },
     "execution_count": 42,
     "metadata": {},
     "output_type": "execute_result"
    }
   ],
   "source": [
    "\n",
    "langs = ['python', 'ruby', 'java']\n",
    "cap_langs = []\n",
    "for lang in langs:\n",
    "    cap_langs.append(lang.title())\n",
    "cap_langs"
   ]
  },
  {
   "cell_type": "code",
   "execution_count": 43,
   "metadata": {},
   "outputs": [
    {
     "data": {
      "text/plain": [
       "['Python', 'Ruby', 'Java']"
      ]
     },
     "execution_count": 43,
     "metadata": {},
     "output_type": "execute_result"
    }
   ],
   "source": [
    "cap_langs = [lang.title() for lang in langs]\n",
    "cap_langs"
   ]
  },
  {
   "cell_type": "code",
   "execution_count": 45,
   "metadata": {},
   "outputs": [
    {
     "data": {
      "text/plain": [
       "['Python', 'Ruby', 'Java']"
      ]
     },
     "execution_count": 45,
     "metadata": {},
     "output_type": "execute_result"
    }
   ],
   "source": [
    "cap_langs =[]\n",
    "for lang in langs :\n",
    "    cap_langs.append(lang.title())\n",
    "cap_langs"
   ]
  },
  {
   "cell_type": "code",
   "execution_count": 46,
   "metadata": {},
   "outputs": [
    {
     "data": {
      "text/plain": [
       "['Ruby', 'Java']"
      ]
     },
     "execution_count": 46,
     "metadata": {},
     "output_type": "execute_result"
    }
   ],
   "source": [
    "un_lang = [lang.title() for lang in langs if lang != 'python']\n",
    "un_lang"
   ]
  },
  {
   "cell_type": "code",
   "execution_count": null,
   "metadata": {
    "collapsed": true
   },
   "outputs": [],
   "source": []
  },
  {
   "cell_type": "code",
   "execution_count": null,
   "metadata": {
    "collapsed": true
   },
   "outputs": [],
   "source": []
  }
 ],
 "metadata": {
  "kernelspec": {
   "display_name": "Python 3",
   "language": "python",
   "name": "python3"
  },
  "language_info": {
   "codemirror_mode": {
    "name": "ipython",
    "version": 3
   },
   "file_extension": ".py",
   "mimetype": "text/x-python",
   "name": "python",
   "nbconvert_exporter": "python",
   "pygments_lexer": "ipython3",
   "version": "3.6.1"
  }
 },
 "nbformat": 4,
 "nbformat_minor": 2
}
