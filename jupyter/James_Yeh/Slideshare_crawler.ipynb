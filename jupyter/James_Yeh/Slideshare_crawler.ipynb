{
 "cells": [
  {
   "cell_type": "code",
   "execution_count": 1,
   "metadata": {},
   "outputs": [
    {
     "name": "stdout",
     "output_type": "stream",
     "text": [
      "Collecting img2pdf\n",
      "  Downloading img2pdf-0.2.3.tar.gz (48kB)\n",
      "\u001b[K    100% |████████████████████████████████| 51kB 125kB/s ta 0:00:01\n",
      "\u001b[?25hRequirement already satisfied: Pillow in /home/ubuntu/.pyenv/versions/3.6.1/lib/python3.6/site-packages (from img2pdf)\n",
      "Requirement already satisfied: olefile in /home/ubuntu/.pyenv/versions/3.6.1/lib/python3.6/site-packages (from Pillow->img2pdf)\n",
      "Installing collected packages: img2pdf\n",
      "  Running setup.py install for img2pdf ... \u001b[?25ldone\n",
      "\u001b[?25hSuccessfully installed img2pdf-0.2.3\n"
     ]
    }
   ],
   "source": [
    "!pip install img2pdf"
   ]
  },
  {
   "cell_type": "code",
   "execution_count": 1,
   "metadata": {
    "collapsed": true
   },
   "outputs": [],
   "source": [
    "\"\"\"\n",
    "    The slideshare crawler can download any slide from slideshare.com. Just input slide's url and you will\n",
    "    get a new folder with all slides in jpg format indefault. An anternative PDF format would be genertated if \n",
    "    set optional parameter, pdf, to True.\n",
    "\n",
    "\"\"\"\n",
    "\n",
    "\n",
    "\n",
    "def slideshare_crawler(url, pdf=None):\n",
    "    import requests\n",
    "    import shutil\n",
    "    import os\n",
    "    from bs4 import BeautifulSoup\n",
    "    import img2pdf\n",
    "    import subprocess\n",
    "    import re\n",
    "    \n",
    "    \"\"\"\n",
    "        Input:\n",
    "           url -> https://www.slideshare.net/tw_dsconf/ss-73014464  # url from slideshare.com\n",
    "           pdf -> convert slide images to a single pdf file if it is true\n",
    "        Output:\n",
    "          Defutlt:\n",
    "              create a new directory containing all slides under current working directory\n",
    "          PDF mode:\n",
    "              save all slide into one pdf file under current working directory\n",
    "    \"\"\"\n",
    "\n",
    "    try: \n",
    "        res = requests.get(url)\n",
    "        soup = BeautifulSoup(res.text, 'lxml')\n",
    "       \n",
    "\n",
    "        slides =[slide['data-full'] for slide in  soup.select('section.slide > img')]          # Get links of slides\n",
    "\n",
    "        file_name = slides[0].split('com/')[1].split('-')[0]              # Get folder or file name\n",
    "        os.chdir(os.getcwd())\n",
    "        os.mkdir(file_name)\n",
    "\n",
    "        for slide in slides:\n",
    "            res2 =requests.get(slide, stream=True)\n",
    "            pic_name = pic_name = '{:03}.jpg'.format(int(re.search(r'-(\\d+)-\\d+\\.jpg', slide).group(1))) # output xxx.jpg\n",
    "            with open('./' + file_name + '/' + pic_name, 'wb') as f:\n",
    "                ## decompress the content\n",
    "                res2.raw.decode_content = True\n",
    "                shutil.copyfileobj(res2.raw, f)\n",
    "        \n",
    "        # Merge slides into one pdf file\n",
    "        if pdf == True:\n",
    "            os.chdir('./' + file_name)\n",
    "            images = os.listdir()\n",
    "            images.sort()\n",
    "            filepath = '../' + file_name + '.pdf'\n",
    "            with open(filepath, 'wb') as wf:\n",
    "                wf.write(img2pdf.convert(images))\n",
    "\n",
    "            # Delete folder after creating pdf file\n",
    "            os.chdir('..')\n",
    "            subprocess.run(['rm', '-rf', file_name])\n",
    "            print('Downloaded Successfully!')\n",
    "\n",
    "    except:\n",
    "        # Delete folder if process fails\n",
    "        subprocess.run(['rm', '-rf', file_name])\n",
    "        print('some errors happen, please try again')\n",
    "    "
   ]
  },
  {
   "cell_type": "code",
   "execution_count": 3,
   "metadata": {},
   "outputs": [
    {
     "name": "stdout",
     "output_type": "stream",
     "text": [
      "Downloaded Successfully!\n"
     ]
    }
   ],
   "source": [
    "slideshare_crawler('https://www.slideshare.net/tw_dsconf/ss-75294430', pdf = True)"
   ]
  },
  {
   "cell_type": "code",
   "execution_count": null,
   "metadata": {
    "collapsed": true
   },
   "outputs": [],
   "source": []
  }
 ],
 "metadata": {
  "kernelspec": {
   "display_name": "Python 3",
   "language": "python",
   "name": "python3"
  },
  "language_info": {
   "codemirror_mode": {
    "name": "ipython",
    "version": 3
   },
   "file_extension": ".py",
   "mimetype": "text/x-python",
   "name": "python",
   "nbconvert_exporter": "python",
   "pygments_lexer": "ipython3",
   "version": "3.6.1"
  }
 },
 "nbformat": 4,
 "nbformat_minor": 2
}
