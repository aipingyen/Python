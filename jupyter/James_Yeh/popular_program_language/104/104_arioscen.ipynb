{
 "cells": [
  {
   "cell_type": "code",
   "execution_count": null,
   "metadata": {
    "collapsed": true
   },
   "outputs": [],
   "source": [
    "import requests\n",
    "from bs4 import BeautifulSoup\n",
    "import re\n",
    "from collections import Counter\n",
    "\n",
    "counter = Counter()\n",
    "\n",
    "lans = ['R','C','C＋＋','C#', 'JAVA', 'JAVASCRIPT', 'PHP', 'PYTHON', 'RUBY', 'GO', 'VISUAL BASIC .NET', 'DELPHI/OBJECT PASCAL',\n",
    "        'PERL', 'SWIFT', 'ASSEMBLY LANGUAGE', 'VISUAL BASIC', 'MATLAB', 'PL/SQL', 'OBJECTIVE-C', 'SCRATCH']\n",
    "\n",
    "def getPages():\n",
    "    pages = []\n",
    "    n = 1\n",
    "    while True:\n",
    "        url = \"https://learn.104.com.tw/learning/course/classlist.action?page=\" + str(n) + \"&key=%E7%A8%8B%E5%BC%8F&cate=&area=&days=&timeslot=&period=&ctype=&sortType=0\"\n",
    "        r = requests.get(url)\n",
    "        soup = BeautifulSoup(r.text, 'lxml')\n",
    "        lessons = soup.select('div.classlist_cont.line_bottom.focus')\n",
    "        if lessons == []:\n",
    "            break\n",
    "        pages.append(url)\n",
    "        n += 1\n",
    "    return pages\n",
    "\n",
    "def getContent(url):\n",
    "    global counter\n",
    "    r = requests.get(url)\n",
    "    soup = BeautifulSoup(r.text, 'lxml')\n",
    "    lessons = soup.select('div.classlist_cont.line_bottom.focus')\n",
    "    for lesson in lessons:\n",
    "        types = []\n",
    "        titles = lesson.select('a.classname')\n",
    "        for title in titles:\n",
    "            finds = re.findall(r'[a-z|A-Z]+#?＋?＋?', title.text)\n",
    "            if finds:\n",
    "                for find in finds:\n",
    "                    find = find.upper()\n",
    "                    if find in lans:\n",
    "                        types.append(find)\n",
    "\n",
    "        info = lesson.select_one('div.coursetype')\n",
    "        match = re.match(r'.*時數：(\\d+)小時.*', info.text)\n",
    "        if match:\n",
    "            hour = int(match.group(1))\n",
    "            if types != []:\n",
    "                for type in types:\n",
    "                    if type in counter:\n",
    "                        counter[type] += hour\n",
    "                    else:\n",
    "                        counter[type] = hour\n",
    "\n",
    "def main():\n",
    "    global counter\n",
    "    for page in getPages():\n",
    "        getContent(page)\n",
    "    counter = counter.most_common()\n",
    "    print(counter)\n",
    "\n",
    "main()"
   ]
  }
 ],
 "metadata": {
  "kernelspec": {
   "display_name": "Python 3",
   "language": "python",
   "name": "python3"
  },
  "language_info": {
   "codemirror_mode": {
    "name": "ipython",
    "version": 3
   },
   "file_extension": ".py",
   "mimetype": "text/x-python",
   "name": "python",
   "nbconvert_exporter": "python",
   "pygments_lexer": "ipython3",
   "version": "3.6.0"
  }
 },
 "nbformat": 4,
 "nbformat_minor": 2
}
