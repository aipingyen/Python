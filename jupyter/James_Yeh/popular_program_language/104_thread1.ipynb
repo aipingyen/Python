{
 "cells": [
  {
   "cell_type": "code",
   "execution_count": 9,
   "metadata": {},
   "outputs": [
    {
     "name": "stdout",
     "output_type": "stream",
     "text": [
      "Cannot retrieve links from page 1 Retry: 1 \n",
      "Cannot retrieve links from page 2 Retry: 1 \n",
      "Cannot retrieve links from page 1 Retry: 2 \n",
      "Cannot retrieve links from page 3 Retry: 1 \n",
      "Cannot retrieve links from page 2 Retry: 2 \n",
      "Cannot retrieve links from page 1 Retry: 3 \n",
      "Cannot retrieve links from page 4 Retry: 1 \n",
      "Cannot retrieve links from page 3 Retry: 2 \n",
      "Cannot retrieve links from page 2 Retry: 3 \n",
      "Cannot retrieve links from page 1 Retry: 4 \n",
      "Cannot retrieve links from page 5 Retry: 1 \n",
      "Cannot retrieve links from page 4 Retry: 2 \n",
      "Cannot retrieve links from page 3 Retry: 3 \n",
      "Cannot retrieve links from page 6 Retry: 1 \n",
      "Cannot retrieve links from page 2 Retry: 4 \n",
      "Cannot retrieve links from page 1 Retry: 5 \n",
      "Cannot retrieve links from page 5 Retry: 2 \n"
     ]
    },
    {
     "ename": "KeyboardInterrupt",
     "evalue": "",
     "output_type": "error",
     "traceback": [
      "\u001b[0;31m---------------------------------------------------------------------------\u001b[0m",
      "\u001b[0;31mKeyboardInterrupt\u001b[0m                         Traceback (most recent call last)",
      "\u001b[0;32m<ipython-input-9-0e5bf4f3758f>\u001b[0m in \u001b[0;36m<module>\u001b[0;34m()\u001b[0m\n\u001b[1;32m     26\u001b[0m     \u001b[0mth\u001b[0m \u001b[0;34m=\u001b[0m \u001b[0mthreading\u001b[0m\u001b[0;34m.\u001b[0m\u001b[0mThread\u001b[0m\u001b[0;34m(\u001b[0m\u001b[0mtarget\u001b[0m\u001b[0;34m=\u001b[0m\u001b[0mget_pagelinks\u001b[0m\u001b[0;34m,\u001b[0m \u001b[0margs\u001b[0m\u001b[0;34m=\u001b[0m\u001b[0;34m(\u001b[0m\u001b[0murl\u001b[0m\u001b[0;34m,\u001b[0m \u001b[0mlock\u001b[0m\u001b[0;34m,\u001b[0m \u001b[0mi\u001b[0m\u001b[0;34m,\u001b[0m \u001b[0mlink_path\u001b[0m\u001b[0;34m)\u001b[0m\u001b[0;34m)\u001b[0m\u001b[0;34m\u001b[0m\u001b[0m\n\u001b[1;32m     27\u001b[0m     \u001b[0mth\u001b[0m\u001b[0;34m.\u001b[0m\u001b[0mstart\u001b[0m\u001b[0;34m(\u001b[0m\u001b[0;34m)\u001b[0m\u001b[0;34m\u001b[0m\u001b[0m\n\u001b[0;32m---> 28\u001b[0;31m     \u001b[0mtime\u001b[0m\u001b[0;34m.\u001b[0m\u001b[0msleep\u001b[0m\u001b[0;34m(\u001b[0m\u001b[0;36m1\u001b[0m\u001b[0;34m)\u001b[0m\u001b[0;34m\u001b[0m\u001b[0m\n\u001b[0m\u001b[1;32m     29\u001b[0m     \u001b[0mthread_list\u001b[0m\u001b[0;34m.\u001b[0m\u001b[0mappend\u001b[0m\u001b[0;34m(\u001b[0m\u001b[0mth\u001b[0m\u001b[0;34m)\u001b[0m\u001b[0;34m\u001b[0m\u001b[0m\n\u001b[1;32m     30\u001b[0m \u001b[0;32melse\u001b[0m\u001b[0;34m:\u001b[0m\u001b[0;34m\u001b[0m\u001b[0m\n",
      "\u001b[0;31mKeyboardInterrupt\u001b[0m: "
     ]
    }
   ],
   "source": [
    "import requests as r\n",
    "from bs4 import BeautifulSoup\n",
    "from collections import Counter\n",
    "import time\n",
    "import threading\n",
    "from concurrent.futures import ThreadPoolExecutor\n",
    "from concurrent.futures import as_completed\n",
    "\n",
    "\n",
    "HOST = 'https://www.104.com.tw'\n",
    "HEADER = {'User-Agent':'Mozilla/5.0 (Windows NT 6.1; Win64; x64) AppleWebKit/537.36 (KHTML, like Gecko) Chrome/58.0.3029.96 Safari/537.36'}\n",
    "\n",
    "# global variable\n",
    "fail_pages = []   \n",
    "fail_links = []\n",
    "thread_list=[]\n",
    "alinks = []\n",
    "total_links = 0\n",
    "wc = Counter()\n",
    "lock = threading.Lock()\n",
    "link_path = '../data/link_104.csv'\n",
    "\n",
    "# Get all links from 150 pages\n",
    "for i in range(1,150):\n",
    "    url =  HOST + '/jobbank/joblist/joblist.cfm?jobsource=n104bank1&ro=1&keyword=%E8%BB%9F%E9%AB%94%E5%B7%A5%E7%A8%8B%E5%B8%AB&order=1&asc=0&page={}'.format(i)\n",
    "    th = threading.Thread(target=get_pagelinks, args=(url, lock, i, link_path))\n",
    "    th.start()\n",
    "    time.sleep(1)\n",
    "    thread_list.append(th)\n",
    "else: \n",
    "    print('[Debug] All threads are started')\n",
    "\n",
    "# Join all threads\n",
    "for thread in thread_list:\n",
    "    thread.join()\n",
    "    \n",
    "print('Total_links {:04}'.format(total_links))\n",
    "\n",
    "\n",
    "# Get all content from alllinks\n",
    "with ThreadPoolExecutor(max_workers=20) as executor:\n",
    "    for idx, link in enumerate(alinks):\n",
    "        executor.submit(grab_content, link, lock, idx) \n",
    "        \n",
    "# Wirte results to file\n",
    "with open('104.csv', 'w') as fw2:\n",
    "    for lang, counts in wc.most_common():\n",
    "        fw2.write('{},{}\\n'.format(lang,counts))"
   ]
  },
  {
   "cell_type": "code",
   "execution_count": 1,
   "metadata": {},
   "outputs": [],
   "source": [
    "def grab_content(url,lock,idx): #一個用來分析內頁的function\n",
    "    global total_links\n",
    "    global HEADER\n",
    "    try:\n",
    "        count = 5\n",
    "        while count:\n",
    "            res2 = r.get(url, headers=HEADER)\n",
    "            if res2.status_code == 200:\n",
    "                soup = BeautifulSoup(res2.text, 'lxml')\n",
    "                lans = soup.select('.tool')[0].select('a')  #lans  is  list\n",
    "                global wc\n",
    "                with lock:      \n",
    "                    for lan in lans: \n",
    "                        if lan.text in wc:  \n",
    "                            wc[lan.text] += 1\n",
    "                        else:\n",
    "                            wc[lan.text] = 1\n",
    "                if idx % 100 == 0:\n",
    "                    print('{} links remain'.format(total_links - 50))\n",
    "            else:\n",
    "                count -= 1\n",
    "                time.sleep(0.5)\n",
    "        time.sleep(0.5)\n",
    "        if count == 0:\n",
    "            fail_links.append(url)\n",
    "        return \n",
    "    except Exception as e:\n",
    "        print(e)\n"
   ]
  },
  {
   "cell_type": "code",
   "execution_count": 6,
   "metadata": {
    "collapsed": true
   },
   "outputs": [],
   "source": [
    "def get_pagelinks(url, lock, i, link_path):  #找所有連結\n",
    "    \n",
    "    global HEADER\n",
    "    global alinks\n",
    "    global total_links\n",
    "    global HOST\n",
    "    \n",
    "    page_links = [] \n",
    "    try:\n",
    "        count = 5             # retry 5 times\n",
    "        while count:\n",
    "            res = r.get(url, headers=HEADER)\n",
    "            if res.status_code == 200:\n",
    "                \n",
    "                soup = BeautifulSoup(res.text, 'lxml')\n",
    "                links = soup.select(\".j_cont > ul > li  > div > a\")\n",
    "                \n",
    "                if len(links) != 0: \n",
    "                    for link in links:\n",
    "                        if(\"jobno\" in link['href']):  \n",
    "                             page_links.append(HOST + link['href']) #href put in innerURL function           \n",
    "                    print('Get {} links from page {}'.format(len(page_links), i))\n",
    "\n",
    "                    with open(link_path, 'a') as fw:\n",
    "                        with lock:\n",
    "                            total_links += len(page_links)\n",
    "                            alinks += page_links\n",
    "                            fw.write('\\n'.join(page_links))\n",
    "                            fw.write('\\n')\n",
    "                        break\n",
    "                else:\n",
    "                    print ('Cannot retrieve links from page {} Retry: {} '.format(i, 6 - count))\n",
    "                    count -= 1\n",
    "                    time.sleep(1)\n",
    "            else:\n",
    "                count -= 1\n",
    "                time.sleep(1)\n",
    "        if count == 0:\n",
    "            fail_pages.append(url)\n",
    "            print('[Error] Page {:2} failed'.format(i))\n",
    "    except Exception as e:\n",
    "        print(e)\n"
   ]
  },
  {
   "cell_type": "code",
   "execution_count": null,
   "metadata": {
    "collapsed": true
   },
   "outputs": [],
   "source": [
    "# abandoned\n",
    "def grab_threadpool(alinks, lock):\n",
    "    with ThreadPoolExecutor(max_workers=5) as executor:\n",
    "        futures = [executor.submit(grab_content, link, lock) for link in alinks]\n",
    "        print('page is finish')"
   ]
  },
  {
   "cell_type": "code",
   "execution_count": null,
   "metadata": {
    "collapsed": true
   },
   "outputs": [],
   "source": [
    "# abandoned \n",
    "class GrabLinkThread (threading.Thread): # new MyClass extends Thread  \n",
    "    \n",
    "    def __init__(self, url, lock):   # __init__  is a constructor    #args傳入\n",
    "        super(GrabLinkThread, self).__init__()  #super()  傳到父類別的建構子\n",
    "        self.url = url\n",
    "        self.lock = lock\n",
    "    \n",
    "    def run(self):   #等於java中的run  overwrite  \n",
    "        pageURL(url, self.lock)"
   ]
  }
 ],
 "metadata": {
  "kernelspec": {
   "display_name": "Python 3",
   "language": "python",
   "name": "python3"
  },
  "language_info": {
   "codemirror_mode": {
    "name": "ipython",
    "version": 3
   },
   "file_extension": ".py",
   "mimetype": "text/x-python",
   "name": "python",
   "nbconvert_exporter": "python",
   "pygments_lexer": "ipython3",
   "version": "3.6.1"
  }
 },
 "nbformat": 4,
 "nbformat_minor": 2
}
