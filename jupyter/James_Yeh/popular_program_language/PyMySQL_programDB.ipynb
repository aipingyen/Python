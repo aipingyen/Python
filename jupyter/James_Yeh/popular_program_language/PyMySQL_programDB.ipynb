{
 "cells": [
  {
   "cell_type": "code",
   "execution_count": 205,
   "metadata": {
    "collapsed": true
   },
   "outputs": [],
   "source": [
    "import sqlite3\n",
    "db = sqlite3.connect(\"./mydb.sqlite3\")   #create a db : mydb.sqlite3"
   ]
  },
  {
   "cell_type": "code",
   "execution_count": 206,
   "metadata": {
    "collapsed": false
   },
   "outputs": [],
   "source": [
    "cur = db.cursor()\n",
    "cur.execute(\"drop table program_popular\")\n",
    "cur.execute(\"create table program_popular(programName str,count int);\")\n",
    "db.commit()"
   ]
  },
  {
   "cell_type": "code",
   "execution_count": 207,
   "metadata": {
    "collapsed": false
   },
   "outputs": [],
   "source": [
    "cur.execute(\"delete from program_popular where programName = 'JAVA'\")\n",
    "cur.execute(\"insert into program_popular VALUES('JAVA',3420)\")\n",
    "cur.execute(\"update program_popular set count = count*1 where programName = 'JAVA'\")\n",
    "db.commit()"
   ]
  },
  {
   "cell_type": "code",
   "execution_count": 208,
   "metadata": {
    "collapsed": false
   },
   "outputs": [
    {
     "name": "stdout",
     "output_type": "stream",
     "text": [
      "('JAVA', 3420) JAVA 3420\n"
     ]
    }
   ],
   "source": [
    "cur.execute(\"SELECT * FROM program_popular\")\n",
    "for row in cur :\n",
    "    print(row,row[0],row[1])"
   ]
  },
  {
   "cell_type": "code",
   "execution_count": 209,
   "metadata": {
    "collapsed": false
   },
   "outputs": [
    {
     "data": {
      "text/plain": [
       "[('SCALA', '2'),\n",
       " ('GO', '11'),\n",
       " ('SWIFT', '79'),\n",
       " ('OBJECTIVE-C', '96'),\n",
       " ('CSS', '105'),\n",
       " ('PERL', '135'),\n",
       " ('R', '174'),\n",
       " ('SQL', '227'),\n",
       " ('RUBY', '243'),\n",
       " ('PYTHON', '533'),\n",
       " ('JQUERY', '830'),\n",
       " ('VB', '833'),\n",
       " ('MYSQL', '858'),\n",
       " ('C#', '1051'),\n",
       " ('PHP', '1053'),\n",
       " ('ASP.NET', '1110'),\n",
       " ('HTML', '1220'),\n",
       " ('JAVASCRIPT', '1291'),\n",
       " ('C++', '1527'),\n",
       " ('C', '1608'),\n",
       " ('JAVA', '1710')]"
      ]
     },
     "execution_count": 209,
     "metadata": {},
     "output_type": "execute_result"
    }
   ],
   "source": [
    "with open('./final.csv','r') as f:\n",
    "    lan = f.read().strip().split('\\n')\n",
    "    lan2 = f.read()\n",
    "del lan[0]\n",
    "data_list = [tuple(idx.split(',')) for idx in lan]  #tuple(裡面放list元素)\n",
    "data_list"
   ]
  },
  {
   "cell_type": "code",
   "execution_count": 210,
   "metadata": {
    "collapsed": false
   },
   "outputs": [
    {
     "data": {
      "text/plain": [
       "['SCALA',\n",
       " 'GO',\n",
       " 'SWIFT',\n",
       " 'OBJECTIVE-C',\n",
       " 'CSS',\n",
       " 'PERL',\n",
       " 'R',\n",
       " 'SQL',\n",
       " 'RUBY',\n",
       " 'PYTHON',\n",
       " 'JQUERY',\n",
       " 'VB',\n",
       " 'MYSQL',\n",
       " 'C#',\n",
       " 'PHP',\n",
       " 'ASP.NET',\n",
       " 'HTML',\n",
       " 'JAVASCRIPT',\n",
       " 'C++',\n",
       " 'C',\n",
       " 'JAVA']"
      ]
     },
     "execution_count": 210,
     "metadata": {},
     "output_type": "execute_result"
    }
   ],
   "source": [
    "with open('./final.csv','r') as f:\n",
    "    lan = f.read().strip().split('\\n')\n",
    "del lan[0]\n",
    "programName_list = [lan[i].split(',')[0] for i in range(len(lan))]\n",
    "programName_list"
   ]
  },
  {
   "cell_type": "code",
   "execution_count": 211,
   "metadata": {
    "collapsed": false,
    "scrolled": true
   },
   "outputs": [],
   "source": [
    "try:\n",
    "    cur.execute(\"delete from program_popular where programName = 'JAVA'\")\n",
    "\n",
    "    for lan in programName_list:\n",
    "        sql = \"delete from program_popular where programName = '%s' \" % lan \n",
    "        cur.execute(sql)\n",
    "\n",
    "    cur.executemany(\"INSERT into program_popular VALUES(?,?)\",data_list)\n",
    "    db.commit()\n",
    "except:\n",
    "    db.rollback()"
   ]
  },
  {
   "cell_type": "code",
   "execution_count": 212,
   "metadata": {
    "collapsed": true
   },
   "outputs": [
    {
     "name": "stdout",
     "output_type": "stream",
     "text": [
      "('SCALA', 2)\n",
      "('GO', 11)\n",
      "('SWIFT', 79)\n",
      "('OBJECTIVE-C', 96)\n",
      "('CSS', 105)\n",
      "('PERL', 135)\n",
      "('R', 174)\n",
      "('SQL', 227)\n",
      "('RUBY', 243)\n",
      "('PYTHON', 533)\n",
      "('JQUERY', 830)\n",
      "('VB', 833)\n",
      "('MYSQL', 858)\n",
      "('C#', 1051)\n",
      "('PHP', 1053)\n",
      "('ASP.NET', 1110)\n",
      "('HTML', 1220)\n",
      "('JAVASCRIPT', 1291)\n",
      "('C++', 1527)\n",
      "('C', 1608)\n",
      "('JAVA', 1710)\n"
     ]
    }
   ],
   "source": [
    "cur.execute(\"SELECT * FROM program_popular\")\n",
    "for row in cur:\n",
    "    print(row)\n",
    "cur.close()\n",
    "db.close()"
   ]
  },
  {
   "cell_type": "markdown",
   "metadata": {},
   "source": [
    "Connect to MySQL\n",
    "================    \n",
    "API list:\n",
    "--------------------------------\n",
    "    - PyMySQL\n",
    "    - ORM model: SQLAlchemy"
   ]
  },
  {
   "cell_type": "code",
   "execution_count": 186,
   "metadata": {
    "collapsed": true
   },
   "outputs": [],
   "source": [
    "import pymysql"
   ]
  },
  {
   "cell_type": "code",
   "execution_count": null,
   "metadata": {
    "collapsed": true
   },
   "outputs": [],
   "source": [
    "\n"
   ]
  },
  {
   "cell_type": "code",
   "execution_count": null,
   "metadata": {
    "collapsed": true
   },
   "outputs": [],
   "source": []
  },
  {
   "cell_type": "code",
   "execution_count": null,
   "metadata": {
    "collapsed": true
   },
   "outputs": [],
   "source": []
  },
  {
   "cell_type": "code",
   "execution_count": null,
   "metadata": {
    "collapsed": true
   },
   "outputs": [],
   "source": []
  }
 ],
 "metadata": {
  "kernelspec": {
   "display_name": "Python 3",
   "language": "python",
   "name": "python3"
  },
  "language_info": {
   "codemirror_mode": {
    "name": "ipython",
    "version": 3
   },
   "file_extension": ".py",
   "mimetype": "text/x-python",
   "name": "python",
   "nbconvert_exporter": "python",
   "pygments_lexer": "ipython3",
   "version": "3.6.0"
  }
 },
 "nbformat": 4,
 "nbformat_minor": 2
}
