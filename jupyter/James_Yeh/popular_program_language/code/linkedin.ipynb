{
 "cells": [
  {
   "cell_type": "code",
   "execution_count": null,
   "metadata": {
    "collapsed": true
   },
   "outputs": [],
   "source": [
    "from selenium import webdriver\n",
    "\n",
    "driver = webdriver.Chrome()\n",
    "driver.get('https://www.linkedin.com')\n"
   ]
  },
  {
   "cell_type": "code",
   "execution_count": null,
   "metadata": {
    "collapsed": true
   },
   "outputs": [],
   "source": [
    "driver.find_element_by_name('session_key').send_keys('gerry0807@gmail.com')"
   ]
  },
  {
   "cell_type": "code",
   "execution_count": null,
   "metadata": {
    "collapsed": true
   },
   "outputs": [],
   "source": [
    "driver.find_element_by_name('session_password').send_keys('*****')"
   ]
  },
  {
   "cell_type": "code",
   "execution_count": null,
   "metadata": {
    "collapsed": true
   },
   "outputs": [],
   "source": [
    "driver.find_element_by_id('login-submit').click()"
   ]
  },
  {
   "cell_type": "code",
   "execution_count": null,
   "metadata": {
    "collapsed": true
   },
   "outputs": [],
   "source": [
    "driver.find_element_by_id('a11y-ember2214').send_keys('software engineer')"
   ]
  },
  {
   "cell_type": "code",
   "execution_count": null,
   "metadata": {
    "collapsed": true
   },
   "outputs": [],
   "source": [
    "driver.find_element_by_class_name('nav-search-button').click()"
   ]
  },
  {
   "cell_type": "code",
   "execution_count": null,
   "metadata": {
    "collapsed": true
   },
   "outputs": [],
   "source": [
    "job_li = driver.find_element_by_id('ember6128')"
   ]
  },
  {
   "cell_type": "code",
   "execution_count": null,
   "metadata": {
    "collapsed": true
   },
   "outputs": [],
   "source": [
    "job_li.find_element_by_tag_name('button').click()"
   ]
  },
  {
   "cell_type": "code",
   "execution_count": null,
   "metadata": {
    "collapsed": true
   },
   "outputs": [],
   "source": [
    "driver.find_element_by_xpath('//*[@id=\"a11y-ember8563\"]').clear()"
   ]
  },
  {
   "cell_type": "code",
   "execution_count": null,
   "metadata": {
    "collapsed": true
   },
   "outputs": [],
   "source": [
    "driver.find_element_by_xpath('//*[@id=\"a11y-ember8531\"]').send_keys('Taiwan')"
   ]
  },
  {
   "cell_type": "code",
   "execution_count": null,
   "metadata": {
    "collapsed": true
   },
   "outputs": [],
   "source": [
    "driver.find_element_by_id('ember8531').find_element_by_class_name('submit-button').click()"
   ]
  },
  {
   "cell_type": "code",
   "execution_count": null,
   "metadata": {
    "collapsed": true,
    "scrolled": true
   },
   "outputs": [],
   "source": [
    "from bs4 import BeautifulSoup\n",
    "from selenium.webdriver.common.keys import Keys\n",
    "import re\n",
    "import time\n",
    "\n",
    "driver.find_element_by_tag_name('body').send_keys(Keys.END)\n",
    "time.sleep(5)\n",
    "html = driver.page_source\n",
    "soup = BeautifulSoup(html, 'lxml')\n",
    "\n",
    "matches = re.findall('href=\"/jobs/view/.+\"\\s',html)\n",
    "save_links(matches)\n",
    "      "
   ]
  },
  {
   "cell_type": "code",
   "execution_count": null,
   "metadata": {
    "collapsed": true
   },
   "outputs": [],
   "source": [
    "# save link into csv\n",
    "def save_links(links):\n",
    "    with open('link_linkedin.csv', 'a') as f:\n",
    "        for link in links:\n",
    "            text = link.replace(';', '&').split('\"')[1]\n",
    "            f.write(text + '\\n')\n",
    "    print('saved')"
   ]
  },
  {
   "cell_type": "code",
   "execution_count": null,
   "metadata": {
    "collapsed": true
   },
   "outputs": [],
   "source": [
    "#  get content  and save into csv file\n",
    "def get_content(link,driver, idx):\n",
    "    from bs4 import BeautifulSoup\n",
    "    import csv\n",
    "    import time\n",
    "    \n",
    "    job_cont = {}\n",
    "    link = 'https://www.linkedin.com' + link\n",
    "    driver.get(link)\n",
    "  \n",
    "    time.sleep(3)\n",
    "    print('[Debug] Enter into page successfully: '+ str(idx) )\n",
    "    soup2 = BeautifulSoup(driver.page_source, 'lxml')\n",
    "    job_cont['title'] = soup2.select_one('h1').text\n",
    "    job_cont['requirement'] = soup2.select_one('#job-details').text\n",
    "    with open('jobcontent.csv', 'a') as fw2:\n",
    "        w2 = csv.DictWriter(fw2,['title', 'requirement'])\n",
    "        w2.writerow(job_cont)\n",
    "    "
   ]
  },
  {
   "cell_type": "code",
   "execution_count": null,
   "metadata": {
    "collapsed": true
   },
   "outputs": [],
   "source": [
    "with open('linkedin_job.csv', 'a') as fw2:\n",
    "        w2 = csv.DictWriter(fw2,['title', 'requirement'])\n",
    "        w2.writeheader()"
   ]
  },
  {
   "cell_type": "code",
   "execution_count": 13,
   "metadata": {
    "collapsed": true
   },
   "outputs": [],
   "source": [
    "import re\n",
    "from collections import Counter\n",
    "with open('linkedin_job.csv') as fr:\n",
    "    text = fr.read()\n",
    "\n",
    "words = re.findall('object c|visual basic|\\.net|[A-Za-z]+[+#]*', text, re.IGNORECASE)\n",
    "\n",
    "counter = Counter()\n",
    "for word in words: \n",
    "    lword = word.lower()\n",
    "    if lword in counter:\n",
    "        counter[lword] += 1\n",
    "    else:\n",
    "        counter[lword] = 1\n",
    "with open('linkedin.csv', 'w') as fw:\n",
    "    for lan, counts in counter.most_common():\n",
    "        fw.write('{},{}\\n'.format(lan,counts))"
   ]
  }
 ],
 "metadata": {
  "kernelspec": {
   "display_name": "Python 3",
   "language": "python",
   "name": "python3"
  },
  "language_info": {
   "codemirror_mode": {
    "name": "ipython",
    "version": 3
   },
   "file_extension": ".py",
   "mimetype": "text/x-python",
   "name": "python",
   "nbconvert_exporter": "python",
   "pygments_lexer": "ipython3",
   "version": "3.6.1"
  }
 },
 "nbformat": 4,
 "nbformat_minor": 2
}
