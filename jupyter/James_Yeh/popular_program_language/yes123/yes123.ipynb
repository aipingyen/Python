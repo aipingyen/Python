{
 "cells": [
  {
   "cell_type": "markdown",
   "metadata": {},
   "source": [
    "# Save all links"
   ]
  },
  {
   "cell_type": "code",
   "execution_count": 17,
   "metadata": {
    "collapsed": false,
    "scrolled": true
   },
   "outputs": [
    {
     "ename": "KeyboardInterrupt",
     "evalue": "",
     "output_type": "error",
     "traceback": [
      "\u001b[0;31m---------------------------------------------------------------------------\u001b[0m",
      "\u001b[0;31mKeyboardInterrupt\u001b[0m                         Traceback (most recent call last)",
      "\u001b[0;32m<ipython-input-17-9cee705e3215>\u001b[0m in \u001b[0;36m<module>\u001b[0;34m()\u001b[0m\n\u001b[1;32m     23\u001b[0m \u001b[0mtime\u001b[0m\u001b[0;34m.\u001b[0m\u001b[0msleep\u001b[0m\u001b[0;34m(\u001b[0m\u001b[0;36m2\u001b[0m\u001b[0;34m)\u001b[0m\u001b[0;34m\u001b[0m\u001b[0m\n\u001b[1;32m     24\u001b[0m \u001b[0;31m# Click search button\u001b[0m\u001b[0;34m\u001b[0m\u001b[0;34m\u001b[0m\u001b[0m\n\u001b[0;32m---> 25\u001b[0;31m \u001b[0mbrowser\u001b[0m\u001b[0;34m.\u001b[0m\u001b[0mfind_element_by_class_name\u001b[0m\u001b[0;34m(\u001b[0m\u001b[0;34m'n_serch_btn'\u001b[0m\u001b[0;34m)\u001b[0m\u001b[0;34m.\u001b[0m\u001b[0mclick\u001b[0m\u001b[0;34m(\u001b[0m\u001b[0;34m)\u001b[0m\u001b[0;34m\u001b[0m\u001b[0m\n\u001b[0m\u001b[1;32m     26\u001b[0m \u001b[0;34m\u001b[0m\u001b[0m\n\u001b[1;32m     27\u001b[0m \u001b[0mtime\u001b[0m\u001b[0;34m.\u001b[0m\u001b[0msleep\u001b[0m\u001b[0;34m(\u001b[0m\u001b[0;36m2\u001b[0m\u001b[0;34m)\u001b[0m\u001b[0;34m\u001b[0m\u001b[0m\n",
      "\u001b[0;32m/home/ubuntu/.pyenv/versions/3.6.1/lib/python3.6/site-packages/selenium/webdriver/remote/webelement.py\u001b[0m in \u001b[0;36mclick\u001b[0;34m(self)\u001b[0m\n\u001b[1;32m     75\u001b[0m     \u001b[0;32mdef\u001b[0m \u001b[0mclick\u001b[0m\u001b[0;34m(\u001b[0m\u001b[0mself\u001b[0m\u001b[0;34m)\u001b[0m\u001b[0;34m:\u001b[0m\u001b[0;34m\u001b[0m\u001b[0m\n\u001b[1;32m     76\u001b[0m         \u001b[0;34m\"\"\"Clicks the element.\"\"\"\u001b[0m\u001b[0;34m\u001b[0m\u001b[0m\n\u001b[0;32m---> 77\u001b[0;31m         \u001b[0mself\u001b[0m\u001b[0;34m.\u001b[0m\u001b[0m_execute\u001b[0m\u001b[0;34m(\u001b[0m\u001b[0mCommand\u001b[0m\u001b[0;34m.\u001b[0m\u001b[0mCLICK_ELEMENT\u001b[0m\u001b[0;34m)\u001b[0m\u001b[0;34m\u001b[0m\u001b[0m\n\u001b[0m\u001b[1;32m     78\u001b[0m \u001b[0;34m\u001b[0m\u001b[0m\n\u001b[1;32m     79\u001b[0m     \u001b[0;32mdef\u001b[0m \u001b[0msubmit\u001b[0m\u001b[0;34m(\u001b[0m\u001b[0mself\u001b[0m\u001b[0;34m)\u001b[0m\u001b[0;34m:\u001b[0m\u001b[0;34m\u001b[0m\u001b[0m\n",
      "\u001b[0;32m/home/ubuntu/.pyenv/versions/3.6.1/lib/python3.6/site-packages/selenium/webdriver/remote/webelement.py\u001b[0m in \u001b[0;36m_execute\u001b[0;34m(self, command, params)\u001b[0m\n\u001b[1;32m    491\u001b[0m             \u001b[0mparams\u001b[0m \u001b[0;34m=\u001b[0m \u001b[0;34m{\u001b[0m\u001b[0;34m}\u001b[0m\u001b[0;34m\u001b[0m\u001b[0m\n\u001b[1;32m    492\u001b[0m         \u001b[0mparams\u001b[0m\u001b[0;34m[\u001b[0m\u001b[0;34m'id'\u001b[0m\u001b[0;34m]\u001b[0m \u001b[0;34m=\u001b[0m \u001b[0mself\u001b[0m\u001b[0;34m.\u001b[0m\u001b[0m_id\u001b[0m\u001b[0;34m\u001b[0m\u001b[0m\n\u001b[0;32m--> 493\u001b[0;31m         \u001b[0;32mreturn\u001b[0m \u001b[0mself\u001b[0m\u001b[0;34m.\u001b[0m\u001b[0m_parent\u001b[0m\u001b[0;34m.\u001b[0m\u001b[0mexecute\u001b[0m\u001b[0;34m(\u001b[0m\u001b[0mcommand\u001b[0m\u001b[0;34m,\u001b[0m \u001b[0mparams\u001b[0m\u001b[0;34m)\u001b[0m\u001b[0;34m\u001b[0m\u001b[0m\n\u001b[0m\u001b[1;32m    494\u001b[0m \u001b[0;34m\u001b[0m\u001b[0m\n\u001b[1;32m    495\u001b[0m     \u001b[0;32mdef\u001b[0m \u001b[0mfind_element\u001b[0m\u001b[0;34m(\u001b[0m\u001b[0mself\u001b[0m\u001b[0;34m,\u001b[0m \u001b[0mby\u001b[0m\u001b[0;34m=\u001b[0m\u001b[0mBy\u001b[0m\u001b[0;34m.\u001b[0m\u001b[0mID\u001b[0m\u001b[0;34m,\u001b[0m \u001b[0mvalue\u001b[0m\u001b[0;34m=\u001b[0m\u001b[0;32mNone\u001b[0m\u001b[0;34m)\u001b[0m\u001b[0;34m:\u001b[0m\u001b[0;34m\u001b[0m\u001b[0m\n",
      "\u001b[0;32m/home/ubuntu/.pyenv/versions/3.6.1/lib/python3.6/site-packages/selenium/webdriver/remote/webdriver.py\u001b[0m in \u001b[0;36mexecute\u001b[0;34m(self, driver_command, params)\u001b[0m\n\u001b[1;32m    248\u001b[0m \u001b[0;34m\u001b[0m\u001b[0m\n\u001b[1;32m    249\u001b[0m         \u001b[0mparams\u001b[0m \u001b[0;34m=\u001b[0m \u001b[0mself\u001b[0m\u001b[0;34m.\u001b[0m\u001b[0m_wrap_value\u001b[0m\u001b[0;34m(\u001b[0m\u001b[0mparams\u001b[0m\u001b[0;34m)\u001b[0m\u001b[0;34m\u001b[0m\u001b[0m\n\u001b[0;32m--> 250\u001b[0;31m         \u001b[0mresponse\u001b[0m \u001b[0;34m=\u001b[0m \u001b[0mself\u001b[0m\u001b[0;34m.\u001b[0m\u001b[0mcommand_executor\u001b[0m\u001b[0;34m.\u001b[0m\u001b[0mexecute\u001b[0m\u001b[0;34m(\u001b[0m\u001b[0mdriver_command\u001b[0m\u001b[0;34m,\u001b[0m \u001b[0mparams\u001b[0m\u001b[0;34m)\u001b[0m\u001b[0;34m\u001b[0m\u001b[0m\n\u001b[0m\u001b[1;32m    251\u001b[0m         \u001b[0;32mif\u001b[0m \u001b[0mresponse\u001b[0m\u001b[0;34m:\u001b[0m\u001b[0;34m\u001b[0m\u001b[0m\n\u001b[1;32m    252\u001b[0m             \u001b[0mself\u001b[0m\u001b[0;34m.\u001b[0m\u001b[0merror_handler\u001b[0m\u001b[0;34m.\u001b[0m\u001b[0mcheck_response\u001b[0m\u001b[0;34m(\u001b[0m\u001b[0mresponse\u001b[0m\u001b[0;34m)\u001b[0m\u001b[0;34m\u001b[0m\u001b[0m\n",
      "\u001b[0;32m/home/ubuntu/.pyenv/versions/3.6.1/lib/python3.6/site-packages/selenium/webdriver/remote/remote_connection.py\u001b[0m in \u001b[0;36mexecute\u001b[0;34m(self, command, params)\u001b[0m\n\u001b[1;32m    462\u001b[0m         \u001b[0mpath\u001b[0m \u001b[0;34m=\u001b[0m \u001b[0mstring\u001b[0m\u001b[0;34m.\u001b[0m\u001b[0mTemplate\u001b[0m\u001b[0;34m(\u001b[0m\u001b[0mcommand_info\u001b[0m\u001b[0;34m[\u001b[0m\u001b[0;36m1\u001b[0m\u001b[0;34m]\u001b[0m\u001b[0;34m)\u001b[0m\u001b[0;34m.\u001b[0m\u001b[0msubstitute\u001b[0m\u001b[0;34m(\u001b[0m\u001b[0mparams\u001b[0m\u001b[0;34m)\u001b[0m\u001b[0;34m\u001b[0m\u001b[0m\n\u001b[1;32m    463\u001b[0m         \u001b[0murl\u001b[0m \u001b[0;34m=\u001b[0m \u001b[0;34m'%s%s'\u001b[0m \u001b[0;34m%\u001b[0m \u001b[0;34m(\u001b[0m\u001b[0mself\u001b[0m\u001b[0;34m.\u001b[0m\u001b[0m_url\u001b[0m\u001b[0;34m,\u001b[0m \u001b[0mpath\u001b[0m\u001b[0;34m)\u001b[0m\u001b[0;34m\u001b[0m\u001b[0m\n\u001b[0;32m--> 464\u001b[0;31m         \u001b[0;32mreturn\u001b[0m \u001b[0mself\u001b[0m\u001b[0;34m.\u001b[0m\u001b[0m_request\u001b[0m\u001b[0;34m(\u001b[0m\u001b[0mcommand_info\u001b[0m\u001b[0;34m[\u001b[0m\u001b[0;36m0\u001b[0m\u001b[0;34m]\u001b[0m\u001b[0;34m,\u001b[0m \u001b[0murl\u001b[0m\u001b[0;34m,\u001b[0m \u001b[0mbody\u001b[0m\u001b[0;34m=\u001b[0m\u001b[0mdata\u001b[0m\u001b[0;34m)\u001b[0m\u001b[0;34m\u001b[0m\u001b[0m\n\u001b[0m\u001b[1;32m    465\u001b[0m \u001b[0;34m\u001b[0m\u001b[0m\n\u001b[1;32m    466\u001b[0m     \u001b[0;32mdef\u001b[0m \u001b[0m_request\u001b[0m\u001b[0;34m(\u001b[0m\u001b[0mself\u001b[0m\u001b[0;34m,\u001b[0m \u001b[0mmethod\u001b[0m\u001b[0;34m,\u001b[0m \u001b[0murl\u001b[0m\u001b[0;34m,\u001b[0m \u001b[0mbody\u001b[0m\u001b[0;34m=\u001b[0m\u001b[0;32mNone\u001b[0m\u001b[0;34m)\u001b[0m\u001b[0;34m:\u001b[0m\u001b[0;34m\u001b[0m\u001b[0m\n",
      "\u001b[0;32m/home/ubuntu/.pyenv/versions/3.6.1/lib/python3.6/site-packages/selenium/webdriver/remote/remote_connection.py\u001b[0m in \u001b[0;36m_request\u001b[0;34m(self, method, url, body)\u001b[0m\n\u001b[1;32m    486\u001b[0m             \u001b[0;32mtry\u001b[0m\u001b[0;34m:\u001b[0m\u001b[0;34m\u001b[0m\u001b[0m\n\u001b[1;32m    487\u001b[0m                 \u001b[0mself\u001b[0m\u001b[0;34m.\u001b[0m\u001b[0m_conn\u001b[0m\u001b[0;34m.\u001b[0m\u001b[0mrequest\u001b[0m\u001b[0;34m(\u001b[0m\u001b[0mmethod\u001b[0m\u001b[0;34m,\u001b[0m \u001b[0mparsed_url\u001b[0m\u001b[0;34m.\u001b[0m\u001b[0mpath\u001b[0m\u001b[0;34m,\u001b[0m \u001b[0mbody\u001b[0m\u001b[0;34m,\u001b[0m \u001b[0mheaders\u001b[0m\u001b[0;34m)\u001b[0m\u001b[0;34m\u001b[0m\u001b[0m\n\u001b[0;32m--> 488\u001b[0;31m                 \u001b[0mresp\u001b[0m \u001b[0;34m=\u001b[0m \u001b[0mself\u001b[0m\u001b[0;34m.\u001b[0m\u001b[0m_conn\u001b[0m\u001b[0;34m.\u001b[0m\u001b[0mgetresponse\u001b[0m\u001b[0;34m(\u001b[0m\u001b[0;34m)\u001b[0m\u001b[0;34m\u001b[0m\u001b[0m\n\u001b[0m\u001b[1;32m    489\u001b[0m             \u001b[0;32mexcept\u001b[0m \u001b[0;34m(\u001b[0m\u001b[0mhttplib\u001b[0m\u001b[0;34m.\u001b[0m\u001b[0mHTTPException\u001b[0m\u001b[0;34m,\u001b[0m \u001b[0msocket\u001b[0m\u001b[0;34m.\u001b[0m\u001b[0merror\u001b[0m\u001b[0;34m)\u001b[0m\u001b[0;34m:\u001b[0m\u001b[0;34m\u001b[0m\u001b[0m\n\u001b[1;32m    490\u001b[0m                 \u001b[0mself\u001b[0m\u001b[0;34m.\u001b[0m\u001b[0m_conn\u001b[0m\u001b[0;34m.\u001b[0m\u001b[0mclose\u001b[0m\u001b[0;34m(\u001b[0m\u001b[0;34m)\u001b[0m\u001b[0;34m\u001b[0m\u001b[0m\n",
      "\u001b[0;32m/home/ubuntu/.pyenv/versions/3.6.1/lib/python3.6/http/client.py\u001b[0m in \u001b[0;36mgetresponse\u001b[0;34m(self)\u001b[0m\n\u001b[1;32m   1329\u001b[0m         \u001b[0;32mtry\u001b[0m\u001b[0;34m:\u001b[0m\u001b[0;34m\u001b[0m\u001b[0m\n\u001b[1;32m   1330\u001b[0m             \u001b[0;32mtry\u001b[0m\u001b[0;34m:\u001b[0m\u001b[0;34m\u001b[0m\u001b[0m\n\u001b[0;32m-> 1331\u001b[0;31m                 \u001b[0mresponse\u001b[0m\u001b[0;34m.\u001b[0m\u001b[0mbegin\u001b[0m\u001b[0;34m(\u001b[0m\u001b[0;34m)\u001b[0m\u001b[0;34m\u001b[0m\u001b[0m\n\u001b[0m\u001b[1;32m   1332\u001b[0m             \u001b[0;32mexcept\u001b[0m \u001b[0mConnectionError\u001b[0m\u001b[0;34m:\u001b[0m\u001b[0;34m\u001b[0m\u001b[0m\n\u001b[1;32m   1333\u001b[0m                 \u001b[0mself\u001b[0m\u001b[0;34m.\u001b[0m\u001b[0mclose\u001b[0m\u001b[0;34m(\u001b[0m\u001b[0;34m)\u001b[0m\u001b[0;34m\u001b[0m\u001b[0m\n",
      "\u001b[0;32m/home/ubuntu/.pyenv/versions/3.6.1/lib/python3.6/http/client.py\u001b[0m in \u001b[0;36mbegin\u001b[0;34m(self)\u001b[0m\n\u001b[1;32m    295\u001b[0m         \u001b[0;31m# read until we get a non-100 response\u001b[0m\u001b[0;34m\u001b[0m\u001b[0;34m\u001b[0m\u001b[0m\n\u001b[1;32m    296\u001b[0m         \u001b[0;32mwhile\u001b[0m \u001b[0;32mTrue\u001b[0m\u001b[0;34m:\u001b[0m\u001b[0;34m\u001b[0m\u001b[0m\n\u001b[0;32m--> 297\u001b[0;31m             \u001b[0mversion\u001b[0m\u001b[0;34m,\u001b[0m \u001b[0mstatus\u001b[0m\u001b[0;34m,\u001b[0m \u001b[0mreason\u001b[0m \u001b[0;34m=\u001b[0m \u001b[0mself\u001b[0m\u001b[0;34m.\u001b[0m\u001b[0m_read_status\u001b[0m\u001b[0;34m(\u001b[0m\u001b[0;34m)\u001b[0m\u001b[0;34m\u001b[0m\u001b[0m\n\u001b[0m\u001b[1;32m    298\u001b[0m             \u001b[0;32mif\u001b[0m \u001b[0mstatus\u001b[0m \u001b[0;34m!=\u001b[0m \u001b[0mCONTINUE\u001b[0m\u001b[0;34m:\u001b[0m\u001b[0;34m\u001b[0m\u001b[0m\n\u001b[1;32m    299\u001b[0m                 \u001b[0;32mbreak\u001b[0m\u001b[0;34m\u001b[0m\u001b[0m\n",
      "\u001b[0;32m/home/ubuntu/.pyenv/versions/3.6.1/lib/python3.6/http/client.py\u001b[0m in \u001b[0;36m_read_status\u001b[0;34m(self)\u001b[0m\n\u001b[1;32m    256\u001b[0m \u001b[0;34m\u001b[0m\u001b[0m\n\u001b[1;32m    257\u001b[0m     \u001b[0;32mdef\u001b[0m \u001b[0m_read_status\u001b[0m\u001b[0;34m(\u001b[0m\u001b[0mself\u001b[0m\u001b[0;34m)\u001b[0m\u001b[0;34m:\u001b[0m\u001b[0;34m\u001b[0m\u001b[0m\n\u001b[0;32m--> 258\u001b[0;31m         \u001b[0mline\u001b[0m \u001b[0;34m=\u001b[0m \u001b[0mstr\u001b[0m\u001b[0;34m(\u001b[0m\u001b[0mself\u001b[0m\u001b[0;34m.\u001b[0m\u001b[0mfp\u001b[0m\u001b[0;34m.\u001b[0m\u001b[0mreadline\u001b[0m\u001b[0;34m(\u001b[0m\u001b[0m_MAXLINE\u001b[0m \u001b[0;34m+\u001b[0m \u001b[0;36m1\u001b[0m\u001b[0;34m)\u001b[0m\u001b[0;34m,\u001b[0m \u001b[0;34m\"iso-8859-1\"\u001b[0m\u001b[0;34m)\u001b[0m\u001b[0;34m\u001b[0m\u001b[0m\n\u001b[0m\u001b[1;32m    259\u001b[0m         \u001b[0;32mif\u001b[0m \u001b[0mlen\u001b[0m\u001b[0;34m(\u001b[0m\u001b[0mline\u001b[0m\u001b[0;34m)\u001b[0m \u001b[0;34m>\u001b[0m \u001b[0m_MAXLINE\u001b[0m\u001b[0;34m:\u001b[0m\u001b[0;34m\u001b[0m\u001b[0m\n\u001b[1;32m    260\u001b[0m             \u001b[0;32mraise\u001b[0m \u001b[0mLineTooLong\u001b[0m\u001b[0;34m(\u001b[0m\u001b[0;34m\"status line\"\u001b[0m\u001b[0;34m)\u001b[0m\u001b[0;34m\u001b[0m\u001b[0m\n",
      "\u001b[0;32m/home/ubuntu/.pyenv/versions/3.6.1/lib/python3.6/socket.py\u001b[0m in \u001b[0;36mreadinto\u001b[0;34m(self, b)\u001b[0m\n\u001b[1;32m    584\u001b[0m         \u001b[0;32mwhile\u001b[0m \u001b[0;32mTrue\u001b[0m\u001b[0;34m:\u001b[0m\u001b[0;34m\u001b[0m\u001b[0m\n\u001b[1;32m    585\u001b[0m             \u001b[0;32mtry\u001b[0m\u001b[0;34m:\u001b[0m\u001b[0;34m\u001b[0m\u001b[0m\n\u001b[0;32m--> 586\u001b[0;31m                 \u001b[0;32mreturn\u001b[0m \u001b[0mself\u001b[0m\u001b[0;34m.\u001b[0m\u001b[0m_sock\u001b[0m\u001b[0;34m.\u001b[0m\u001b[0mrecv_into\u001b[0m\u001b[0;34m(\u001b[0m\u001b[0mb\u001b[0m\u001b[0;34m)\u001b[0m\u001b[0;34m\u001b[0m\u001b[0m\n\u001b[0m\u001b[1;32m    587\u001b[0m             \u001b[0;32mexcept\u001b[0m \u001b[0mtimeout\u001b[0m\u001b[0;34m:\u001b[0m\u001b[0;34m\u001b[0m\u001b[0m\n\u001b[1;32m    588\u001b[0m                 \u001b[0mself\u001b[0m\u001b[0;34m.\u001b[0m\u001b[0m_timeout_occurred\u001b[0m \u001b[0;34m=\u001b[0m \u001b[0;32mTrue\u001b[0m\u001b[0;34m\u001b[0m\u001b[0m\n",
      "\u001b[0;31mKeyboardInterrupt\u001b[0m: "
     ]
    }
   ],
   "source": [
    "#first save all jobname links\n",
    "\n",
    "#element_by_id\n",
    "#element_by_class_name\n",
    "#element_by_tag_name\n",
    "#element_by_link_text\n",
    "\n",
    "from selenium import webdriver\n",
    "from selenium.webdriver.common.keys import Keys\n",
    "from bs4 import BeautifulSoup\n",
    "import requests\n",
    "import re\n",
    "import time\n",
    "\n",
    "# open browser\n",
    "browser = webdriver.Chrome()\n",
    "browser.get('http://www.yes123.com.tw/admin/index.asp')\n",
    "\n",
    "# input search keywords\n",
    "browser.find_element_by_id('find_key1').clear()\n",
    "browser.find_element_by_id('find_key1').send_keys('軟體 工程師')\n",
    "\n",
    "time.sleep(2)\n",
    "# Click search button\n",
    "browser.find_element_by_class_name('n_serch_btn').click()\n",
    "\n",
    "time.sleep(2)\n",
    "counter = 0\n",
    "\n",
    "while True:\n",
    "    try:\n",
    "        counter += 1\n",
    "        browser.find_element_by_tag_name('body').send_keys(Keys.END)     #scroll down\n",
    "        links = [link.get_attribute('href') for link in browser.find_elements_by_class_name('jobname')]\n",
    "        #links is list contain link of job\n",
    "        \n",
    "        with open('link_yes123.csv', 'r') as f:\n",
    "            f.write('\\n'.join(links)+'\\n')      #twice  '\\n'  這頁的links存入csv檔\n",
    "        print('[Debug] links of page %d are saved' % (counter))  #Debug : which page is saved爬完一頁顯示\n",
    "        browser.find_element_by_link_text('>').click()  #find '>' in text to click\n",
    "        time.sleep(1)   \n",
    "    except Exception as e:           #Exception \n",
    "        print(e)\n",
    "        break\n",
    "print('The end of pages is No.%d' %(counter))\n",
    "print('Browser will quit!')\n",
    "browser.quit()"
   ]
  },
  {
   "cell_type": "markdown",
   "metadata": {},
   "source": [
    "# Get the content form one \n",
    "page\n"
   ]
  },
  {
   "cell_type": "code",
   "execution_count": 11,
   "metadata": {
    "collapsed": true
   },
   "outputs": [],
   "source": [
    "def save_content(link):\n",
    "    import requests \n",
    "    from bs4 import BeautifulSoup\n",
    "    import re\n",
    "    try:\n",
    "        res = requests.get(link)\n",
    "        soup = BeautifulSoup(res.text, 'lxml')\n",
    "        content = ''\n",
    "        #     print(res)\n",
    "\n",
    "        divs = soup.select('div.comp_detail')\n",
    "        #     print(len(divs))\n",
    "        del divs[-1]                #\n",
    "\n",
    "        for div in divs:\n",
    "            content += div.text.replace('\\n', '').replace('\\xa0', '')    #如下   type is str\n",
    "\n",
    "        text = '/'.join(re.findall('object c|visual basic|\\.net|[A-Za-z]+[+#]*', content, re.IGNORECASE))   #\n",
    "\n",
    "        with open('yes123_job.csv', 'a') as f:   #儲存job內容\n",
    "            f.write(text + '\\n')\n",
    "    except Exception as e:\n",
    "        print(e)\n",
    "        continue\n"
   ]
  },
  {
   "cell_type": "code",
   "execution_count": 14,
   "metadata": {
    "collapsed": false
   },
   "outputs": [
    {
     "data": {
      "text/plain": [
       "'徵才說明工作內容 ： C#程式設計工作地點 ：  台北市中正區羅斯福路二段56號7樓之2\\r\\t\\t\\t    地圖職務類別 ： 網路程式設計師軟體工程師職涯發展地圖休假制度 ： 週休二日上班時段 ： 09:30~18:30職缺更新 ： 2017年5月5日 薪資待遇 ： 月薪30,000至40,000元薪資調查報告工作性質 ： 全職上班日期 ： 一個月內職位等級 ： 工程師管理人數 ： 不需負擔管理責任出差說明 ： 不需出差工作條件學歷要求 ： 專科以上科系要求 ： 不拘科系就業導航工作經驗 ： 1 年以上技能與求職專長工作技能 ： 有C#程式語言概念 電腦技能 ： 未填寫必備附件履歷照片'"
      ]
     },
     "execution_count": 14,
     "metadata": {},
     "output_type": "execute_result"
    }
   ],
   "source": [
    "from selenium import webdriver\n",
    "from selenium.webdriver.common.keys import Keys\n",
    "from bs4 import BeautifulSoup\n",
    "import requests\n",
    "import re\n",
    "import time\n",
    "res = requests.get('http://www.yes123.com.tw/admin/job_refer_comp_job_detail2.asp?p_id=20110120134540_80493408&job_id=20160822183458_394384')\n",
    "soup = BeautifulSoup(res.text, 'lxml')\n",
    "divs = soup.select('div.comp_detail')\n",
    "content = ''\n",
    "del divs[-1]\n",
    "len(divs)\n",
    "for div in divs:\n",
    "    content += div.text.replace('\\n', '').replace('\\xa0', '')\n",
    "content\n",
    "# text = '/'.join(re.findall('object c|visual basic|\\.net|[A-Za-z]+[+#]*', content, re.IGNORECASE))\n",
    "# text "
   ]
  },
  {
   "cell_type": "markdown",
   "metadata": {},
   "source": [
    "# Save all contents\n"
   ]
  },
  {
   "cell_type": "code",
   "execution_count": 12,
   "metadata": {
    "collapsed": true
   },
   "outputs": [
    {
     "name": "stdout",
     "output_type": "stream",
     "text": [
      "Current link 0\n",
      "list assignment index out of range\n",
      "list assignment index out of range\n",
      "Current link 50\n"
     ]
    },
    {
     "ename": "KeyboardInterrupt",
     "evalue": "",
     "output_type": "error",
     "traceback": [
      "\u001b[0;31m---------------------------------------------------------------------------\u001b[0m",
      "\u001b[0;31mTypeError\u001b[0m                                 Traceback (most recent call last)",
      "\u001b[0;32m/home/ubuntu/.pyenv/versions/3.6.1/lib/python3.6/site-packages/requests/packages/urllib3/connectionpool.py\u001b[0m in \u001b[0;36m_make_request\u001b[0;34m(self, conn, method, url, timeout, chunked, **httplib_request_kw)\u001b[0m\n\u001b[1;32m    378\u001b[0m             \u001b[0;32mtry\u001b[0m\u001b[0;34m:\u001b[0m  \u001b[0;31m# Python 2.7, use buffering of HTTP responses\u001b[0m\u001b[0;34m\u001b[0m\u001b[0m\n\u001b[0;32m--> 379\u001b[0;31m                 \u001b[0mhttplib_response\u001b[0m \u001b[0;34m=\u001b[0m \u001b[0mconn\u001b[0m\u001b[0;34m.\u001b[0m\u001b[0mgetresponse\u001b[0m\u001b[0;34m(\u001b[0m\u001b[0mbuffering\u001b[0m\u001b[0;34m=\u001b[0m\u001b[0;32mTrue\u001b[0m\u001b[0;34m)\u001b[0m\u001b[0;34m\u001b[0m\u001b[0m\n\u001b[0m\u001b[1;32m    380\u001b[0m             \u001b[0;32mexcept\u001b[0m \u001b[0mTypeError\u001b[0m\u001b[0;34m:\u001b[0m  \u001b[0;31m# Python 2.6 and older, Python 3\u001b[0m\u001b[0;34m\u001b[0m\u001b[0m\n",
      "\u001b[0;31mTypeError\u001b[0m: getresponse() got an unexpected keyword argument 'buffering'",
      "\nDuring handling of the above exception, another exception occurred:\n",
      "\u001b[0;31mKeyboardInterrupt\u001b[0m                         Traceback (most recent call last)",
      "\u001b[0;32m<ipython-input-12-81f3231e22a9>\u001b[0m in \u001b[0;36m<module>\u001b[0;34m()\u001b[0m\n\u001b[1;32m      9\u001b[0m         \u001b[0mprint\u001b[0m\u001b[0;34m(\u001b[0m\u001b[0;34m'Current link {}'\u001b[0m\u001b[0;34m.\u001b[0m\u001b[0mformat\u001b[0m\u001b[0;34m(\u001b[0m\u001b[0midx\u001b[0m\u001b[0;34m)\u001b[0m\u001b[0;34m)\u001b[0m\u001b[0;34m\u001b[0m\u001b[0m\n\u001b[1;32m     10\u001b[0m     \u001b[0;32mtry\u001b[0m\u001b[0;34m:\u001b[0m\u001b[0;34m\u001b[0m\u001b[0m\n\u001b[0;32m---> 11\u001b[0;31m         \u001b[0msave_content\u001b[0m\u001b[0;34m(\u001b[0m\u001b[0mlink\u001b[0m\u001b[0;34m)\u001b[0m  \u001b[0;31m#throw in save_content function\u001b[0m\u001b[0;34m\u001b[0m\u001b[0m\n\u001b[0m\u001b[1;32m     12\u001b[0m         \u001b[0mtime\u001b[0m\u001b[0;34m.\u001b[0m\u001b[0msleep\u001b[0m\u001b[0;34m(\u001b[0m\u001b[0;36m0.3\u001b[0m\u001b[0;34m)\u001b[0m\u001b[0;34m\u001b[0m\u001b[0m\n\u001b[1;32m     13\u001b[0m     \u001b[0;32mexcept\u001b[0m \u001b[0mException\u001b[0m \u001b[0;32mas\u001b[0m \u001b[0me\u001b[0m\u001b[0;34m:\u001b[0m\u001b[0;34m\u001b[0m\u001b[0m\n",
      "\u001b[0;32m<ipython-input-11-b958e2efa347>\u001b[0m in \u001b[0;36msave_content\u001b[0;34m(link)\u001b[0m\n\u001b[1;32m      3\u001b[0m     \u001b[0;32mfrom\u001b[0m \u001b[0mbs4\u001b[0m \u001b[0;32mimport\u001b[0m \u001b[0mBeautifulSoup\u001b[0m\u001b[0;34m\u001b[0m\u001b[0m\n\u001b[1;32m      4\u001b[0m     \u001b[0;32mimport\u001b[0m \u001b[0mre\u001b[0m\u001b[0;34m\u001b[0m\u001b[0m\n\u001b[0;32m----> 5\u001b[0;31m     \u001b[0mres\u001b[0m \u001b[0;34m=\u001b[0m \u001b[0mrequests\u001b[0m\u001b[0;34m.\u001b[0m\u001b[0mget\u001b[0m\u001b[0;34m(\u001b[0m\u001b[0mlink\u001b[0m\u001b[0;34m)\u001b[0m\u001b[0;34m\u001b[0m\u001b[0m\n\u001b[0m\u001b[1;32m      6\u001b[0m     \u001b[0msoup\u001b[0m \u001b[0;34m=\u001b[0m \u001b[0mBeautifulSoup\u001b[0m\u001b[0;34m(\u001b[0m\u001b[0mres\u001b[0m\u001b[0;34m.\u001b[0m\u001b[0mtext\u001b[0m\u001b[0;34m,\u001b[0m \u001b[0;34m'lxml'\u001b[0m\u001b[0;34m)\u001b[0m\u001b[0;34m\u001b[0m\u001b[0m\n\u001b[1;32m      7\u001b[0m     \u001b[0mcontent\u001b[0m \u001b[0;34m=\u001b[0m \u001b[0;34m''\u001b[0m\u001b[0;34m\u001b[0m\u001b[0m\n",
      "\u001b[0;32m/home/ubuntu/.pyenv/versions/3.6.1/lib/python3.6/site-packages/requests/api.py\u001b[0m in \u001b[0;36mget\u001b[0;34m(url, params, **kwargs)\u001b[0m\n\u001b[1;32m     68\u001b[0m \u001b[0;34m\u001b[0m\u001b[0m\n\u001b[1;32m     69\u001b[0m     \u001b[0mkwargs\u001b[0m\u001b[0;34m.\u001b[0m\u001b[0msetdefault\u001b[0m\u001b[0;34m(\u001b[0m\u001b[0;34m'allow_redirects'\u001b[0m\u001b[0;34m,\u001b[0m \u001b[0;32mTrue\u001b[0m\u001b[0;34m)\u001b[0m\u001b[0;34m\u001b[0m\u001b[0m\n\u001b[0;32m---> 70\u001b[0;31m     \u001b[0;32mreturn\u001b[0m \u001b[0mrequest\u001b[0m\u001b[0;34m(\u001b[0m\u001b[0;34m'get'\u001b[0m\u001b[0;34m,\u001b[0m \u001b[0murl\u001b[0m\u001b[0;34m,\u001b[0m \u001b[0mparams\u001b[0m\u001b[0;34m=\u001b[0m\u001b[0mparams\u001b[0m\u001b[0;34m,\u001b[0m \u001b[0;34m**\u001b[0m\u001b[0mkwargs\u001b[0m\u001b[0;34m)\u001b[0m\u001b[0;34m\u001b[0m\u001b[0m\n\u001b[0m\u001b[1;32m     71\u001b[0m \u001b[0;34m\u001b[0m\u001b[0m\n\u001b[1;32m     72\u001b[0m \u001b[0;34m\u001b[0m\u001b[0m\n",
      "\u001b[0;32m/home/ubuntu/.pyenv/versions/3.6.1/lib/python3.6/site-packages/requests/api.py\u001b[0m in \u001b[0;36mrequest\u001b[0;34m(method, url, **kwargs)\u001b[0m\n\u001b[1;32m     54\u001b[0m     \u001b[0;31m# cases, and look like a memory leak in others.\u001b[0m\u001b[0;34m\u001b[0m\u001b[0;34m\u001b[0m\u001b[0m\n\u001b[1;32m     55\u001b[0m     \u001b[0;32mwith\u001b[0m \u001b[0msessions\u001b[0m\u001b[0;34m.\u001b[0m\u001b[0mSession\u001b[0m\u001b[0;34m(\u001b[0m\u001b[0;34m)\u001b[0m \u001b[0;32mas\u001b[0m \u001b[0msession\u001b[0m\u001b[0;34m:\u001b[0m\u001b[0;34m\u001b[0m\u001b[0m\n\u001b[0;32m---> 56\u001b[0;31m         \u001b[0;32mreturn\u001b[0m \u001b[0msession\u001b[0m\u001b[0;34m.\u001b[0m\u001b[0mrequest\u001b[0m\u001b[0;34m(\u001b[0m\u001b[0mmethod\u001b[0m\u001b[0;34m=\u001b[0m\u001b[0mmethod\u001b[0m\u001b[0;34m,\u001b[0m \u001b[0murl\u001b[0m\u001b[0;34m=\u001b[0m\u001b[0murl\u001b[0m\u001b[0;34m,\u001b[0m \u001b[0;34m**\u001b[0m\u001b[0mkwargs\u001b[0m\u001b[0;34m)\u001b[0m\u001b[0;34m\u001b[0m\u001b[0m\n\u001b[0m\u001b[1;32m     57\u001b[0m \u001b[0;34m\u001b[0m\u001b[0m\n\u001b[1;32m     58\u001b[0m \u001b[0;34m\u001b[0m\u001b[0m\n",
      "\u001b[0;32m/home/ubuntu/.pyenv/versions/3.6.1/lib/python3.6/site-packages/requests/sessions.py\u001b[0m in \u001b[0;36mrequest\u001b[0;34m(self, method, url, params, data, headers, cookies, files, auth, timeout, allow_redirects, proxies, hooks, stream, verify, cert, json)\u001b[0m\n\u001b[1;32m    486\u001b[0m         }\n\u001b[1;32m    487\u001b[0m         \u001b[0msend_kwargs\u001b[0m\u001b[0;34m.\u001b[0m\u001b[0mupdate\u001b[0m\u001b[0;34m(\u001b[0m\u001b[0msettings\u001b[0m\u001b[0;34m)\u001b[0m\u001b[0;34m\u001b[0m\u001b[0m\n\u001b[0;32m--> 488\u001b[0;31m         \u001b[0mresp\u001b[0m \u001b[0;34m=\u001b[0m \u001b[0mself\u001b[0m\u001b[0;34m.\u001b[0m\u001b[0msend\u001b[0m\u001b[0;34m(\u001b[0m\u001b[0mprep\u001b[0m\u001b[0;34m,\u001b[0m \u001b[0;34m**\u001b[0m\u001b[0msend_kwargs\u001b[0m\u001b[0;34m)\u001b[0m\u001b[0;34m\u001b[0m\u001b[0m\n\u001b[0m\u001b[1;32m    489\u001b[0m \u001b[0;34m\u001b[0m\u001b[0m\n\u001b[1;32m    490\u001b[0m         \u001b[0;32mreturn\u001b[0m \u001b[0mresp\u001b[0m\u001b[0;34m\u001b[0m\u001b[0m\n",
      "\u001b[0;32m/home/ubuntu/.pyenv/versions/3.6.1/lib/python3.6/site-packages/requests/sessions.py\u001b[0m in \u001b[0;36msend\u001b[0;34m(self, request, **kwargs)\u001b[0m\n\u001b[1;32m    607\u001b[0m \u001b[0;34m\u001b[0m\u001b[0m\n\u001b[1;32m    608\u001b[0m         \u001b[0;31m# Send the request\u001b[0m\u001b[0;34m\u001b[0m\u001b[0;34m\u001b[0m\u001b[0m\n\u001b[0;32m--> 609\u001b[0;31m         \u001b[0mr\u001b[0m \u001b[0;34m=\u001b[0m \u001b[0madapter\u001b[0m\u001b[0;34m.\u001b[0m\u001b[0msend\u001b[0m\u001b[0;34m(\u001b[0m\u001b[0mrequest\u001b[0m\u001b[0;34m,\u001b[0m \u001b[0;34m**\u001b[0m\u001b[0mkwargs\u001b[0m\u001b[0;34m)\u001b[0m\u001b[0;34m\u001b[0m\u001b[0m\n\u001b[0m\u001b[1;32m    610\u001b[0m \u001b[0;34m\u001b[0m\u001b[0m\n\u001b[1;32m    611\u001b[0m         \u001b[0;31m# Total elapsed time of the request (approximately)\u001b[0m\u001b[0;34m\u001b[0m\u001b[0;34m\u001b[0m\u001b[0m\n",
      "\u001b[0;32m/home/ubuntu/.pyenv/versions/3.6.1/lib/python3.6/site-packages/requests/adapters.py\u001b[0m in \u001b[0;36msend\u001b[0;34m(self, request, stream, timeout, verify, cert, proxies)\u001b[0m\n\u001b[1;32m    421\u001b[0m                     \u001b[0mdecode_content\u001b[0m\u001b[0;34m=\u001b[0m\u001b[0;32mFalse\u001b[0m\u001b[0;34m,\u001b[0m\u001b[0;34m\u001b[0m\u001b[0m\n\u001b[1;32m    422\u001b[0m                     \u001b[0mretries\u001b[0m\u001b[0;34m=\u001b[0m\u001b[0mself\u001b[0m\u001b[0;34m.\u001b[0m\u001b[0mmax_retries\u001b[0m\u001b[0;34m,\u001b[0m\u001b[0;34m\u001b[0m\u001b[0m\n\u001b[0;32m--> 423\u001b[0;31m                     \u001b[0mtimeout\u001b[0m\u001b[0;34m=\u001b[0m\u001b[0mtimeout\u001b[0m\u001b[0;34m\u001b[0m\u001b[0m\n\u001b[0m\u001b[1;32m    424\u001b[0m                 )\n\u001b[1;32m    425\u001b[0m \u001b[0;34m\u001b[0m\u001b[0m\n",
      "\u001b[0;32m/home/ubuntu/.pyenv/versions/3.6.1/lib/python3.6/site-packages/requests/packages/urllib3/connectionpool.py\u001b[0m in \u001b[0;36murlopen\u001b[0;34m(self, method, url, body, headers, retries, redirect, assert_same_host, timeout, pool_timeout, release_conn, chunked, body_pos, **response_kw)\u001b[0m\n\u001b[1;32m    598\u001b[0m                                                   \u001b[0mtimeout\u001b[0m\u001b[0;34m=\u001b[0m\u001b[0mtimeout_obj\u001b[0m\u001b[0;34m,\u001b[0m\u001b[0;34m\u001b[0m\u001b[0m\n\u001b[1;32m    599\u001b[0m                                                   \u001b[0mbody\u001b[0m\u001b[0;34m=\u001b[0m\u001b[0mbody\u001b[0m\u001b[0;34m,\u001b[0m \u001b[0mheaders\u001b[0m\u001b[0;34m=\u001b[0m\u001b[0mheaders\u001b[0m\u001b[0;34m,\u001b[0m\u001b[0;34m\u001b[0m\u001b[0m\n\u001b[0;32m--> 600\u001b[0;31m                                                   chunked=chunked)\n\u001b[0m\u001b[1;32m    601\u001b[0m \u001b[0;34m\u001b[0m\u001b[0m\n\u001b[1;32m    602\u001b[0m             \u001b[0;31m# If we're going to release the connection in ``finally:``, then\u001b[0m\u001b[0;34m\u001b[0m\u001b[0;34m\u001b[0m\u001b[0m\n",
      "\u001b[0;32m/home/ubuntu/.pyenv/versions/3.6.1/lib/python3.6/site-packages/requests/packages/urllib3/connectionpool.py\u001b[0m in \u001b[0;36m_make_request\u001b[0;34m(self, conn, method, url, timeout, chunked, **httplib_request_kw)\u001b[0m\n\u001b[1;32m    380\u001b[0m             \u001b[0;32mexcept\u001b[0m \u001b[0mTypeError\u001b[0m\u001b[0;34m:\u001b[0m  \u001b[0;31m# Python 2.6 and older, Python 3\u001b[0m\u001b[0;34m\u001b[0m\u001b[0m\n\u001b[1;32m    381\u001b[0m                 \u001b[0;32mtry\u001b[0m\u001b[0;34m:\u001b[0m\u001b[0;34m\u001b[0m\u001b[0m\n\u001b[0;32m--> 382\u001b[0;31m                     \u001b[0mhttplib_response\u001b[0m \u001b[0;34m=\u001b[0m \u001b[0mconn\u001b[0m\u001b[0;34m.\u001b[0m\u001b[0mgetresponse\u001b[0m\u001b[0;34m(\u001b[0m\u001b[0;34m)\u001b[0m\u001b[0;34m\u001b[0m\u001b[0m\n\u001b[0m\u001b[1;32m    383\u001b[0m                 \u001b[0;32mexcept\u001b[0m \u001b[0mException\u001b[0m \u001b[0;32mas\u001b[0m \u001b[0me\u001b[0m\u001b[0;34m:\u001b[0m\u001b[0;34m\u001b[0m\u001b[0m\n\u001b[1;32m    384\u001b[0m                     \u001b[0;31m# Remove the TypeError from the exception chain in Python 3;\u001b[0m\u001b[0;34m\u001b[0m\u001b[0;34m\u001b[0m\u001b[0m\n",
      "\u001b[0;32m/home/ubuntu/.pyenv/versions/3.6.1/lib/python3.6/http/client.py\u001b[0m in \u001b[0;36mgetresponse\u001b[0;34m(self)\u001b[0m\n\u001b[1;32m   1329\u001b[0m         \u001b[0;32mtry\u001b[0m\u001b[0;34m:\u001b[0m\u001b[0;34m\u001b[0m\u001b[0m\n\u001b[1;32m   1330\u001b[0m             \u001b[0;32mtry\u001b[0m\u001b[0;34m:\u001b[0m\u001b[0;34m\u001b[0m\u001b[0m\n\u001b[0;32m-> 1331\u001b[0;31m                 \u001b[0mresponse\u001b[0m\u001b[0;34m.\u001b[0m\u001b[0mbegin\u001b[0m\u001b[0;34m(\u001b[0m\u001b[0;34m)\u001b[0m\u001b[0;34m\u001b[0m\u001b[0m\n\u001b[0m\u001b[1;32m   1332\u001b[0m             \u001b[0;32mexcept\u001b[0m \u001b[0mConnectionError\u001b[0m\u001b[0;34m:\u001b[0m\u001b[0;34m\u001b[0m\u001b[0m\n\u001b[1;32m   1333\u001b[0m                 \u001b[0mself\u001b[0m\u001b[0;34m.\u001b[0m\u001b[0mclose\u001b[0m\u001b[0;34m(\u001b[0m\u001b[0;34m)\u001b[0m\u001b[0;34m\u001b[0m\u001b[0m\n",
      "\u001b[0;32m/home/ubuntu/.pyenv/versions/3.6.1/lib/python3.6/http/client.py\u001b[0m in \u001b[0;36mbegin\u001b[0;34m(self)\u001b[0m\n\u001b[1;32m    295\u001b[0m         \u001b[0;31m# read until we get a non-100 response\u001b[0m\u001b[0;34m\u001b[0m\u001b[0;34m\u001b[0m\u001b[0m\n\u001b[1;32m    296\u001b[0m         \u001b[0;32mwhile\u001b[0m \u001b[0;32mTrue\u001b[0m\u001b[0;34m:\u001b[0m\u001b[0;34m\u001b[0m\u001b[0m\n\u001b[0;32m--> 297\u001b[0;31m             \u001b[0mversion\u001b[0m\u001b[0;34m,\u001b[0m \u001b[0mstatus\u001b[0m\u001b[0;34m,\u001b[0m \u001b[0mreason\u001b[0m \u001b[0;34m=\u001b[0m \u001b[0mself\u001b[0m\u001b[0;34m.\u001b[0m\u001b[0m_read_status\u001b[0m\u001b[0;34m(\u001b[0m\u001b[0;34m)\u001b[0m\u001b[0;34m\u001b[0m\u001b[0m\n\u001b[0m\u001b[1;32m    298\u001b[0m             \u001b[0;32mif\u001b[0m \u001b[0mstatus\u001b[0m \u001b[0;34m!=\u001b[0m \u001b[0mCONTINUE\u001b[0m\u001b[0;34m:\u001b[0m\u001b[0;34m\u001b[0m\u001b[0m\n\u001b[1;32m    299\u001b[0m                 \u001b[0;32mbreak\u001b[0m\u001b[0;34m\u001b[0m\u001b[0m\n",
      "\u001b[0;32m/home/ubuntu/.pyenv/versions/3.6.1/lib/python3.6/http/client.py\u001b[0m in \u001b[0;36m_read_status\u001b[0;34m(self)\u001b[0m\n\u001b[1;32m    256\u001b[0m \u001b[0;34m\u001b[0m\u001b[0m\n\u001b[1;32m    257\u001b[0m     \u001b[0;32mdef\u001b[0m \u001b[0m_read_status\u001b[0m\u001b[0;34m(\u001b[0m\u001b[0mself\u001b[0m\u001b[0;34m)\u001b[0m\u001b[0;34m:\u001b[0m\u001b[0;34m\u001b[0m\u001b[0m\n\u001b[0;32m--> 258\u001b[0;31m         \u001b[0mline\u001b[0m \u001b[0;34m=\u001b[0m \u001b[0mstr\u001b[0m\u001b[0;34m(\u001b[0m\u001b[0mself\u001b[0m\u001b[0;34m.\u001b[0m\u001b[0mfp\u001b[0m\u001b[0;34m.\u001b[0m\u001b[0mreadline\u001b[0m\u001b[0;34m(\u001b[0m\u001b[0m_MAXLINE\u001b[0m \u001b[0;34m+\u001b[0m \u001b[0;36m1\u001b[0m\u001b[0;34m)\u001b[0m\u001b[0;34m,\u001b[0m \u001b[0;34m\"iso-8859-1\"\u001b[0m\u001b[0;34m)\u001b[0m\u001b[0;34m\u001b[0m\u001b[0m\n\u001b[0m\u001b[1;32m    259\u001b[0m         \u001b[0;32mif\u001b[0m \u001b[0mlen\u001b[0m\u001b[0;34m(\u001b[0m\u001b[0mline\u001b[0m\u001b[0;34m)\u001b[0m \u001b[0;34m>\u001b[0m \u001b[0m_MAXLINE\u001b[0m\u001b[0;34m:\u001b[0m\u001b[0;34m\u001b[0m\u001b[0m\n\u001b[1;32m    260\u001b[0m             \u001b[0;32mraise\u001b[0m \u001b[0mLineTooLong\u001b[0m\u001b[0;34m(\u001b[0m\u001b[0;34m\"status line\"\u001b[0m\u001b[0;34m)\u001b[0m\u001b[0;34m\u001b[0m\u001b[0m\n",
      "\u001b[0;32m/home/ubuntu/.pyenv/versions/3.6.1/lib/python3.6/socket.py\u001b[0m in \u001b[0;36mreadinto\u001b[0;34m(self, b)\u001b[0m\n\u001b[1;32m    584\u001b[0m         \u001b[0;32mwhile\u001b[0m \u001b[0;32mTrue\u001b[0m\u001b[0;34m:\u001b[0m\u001b[0;34m\u001b[0m\u001b[0m\n\u001b[1;32m    585\u001b[0m             \u001b[0;32mtry\u001b[0m\u001b[0;34m:\u001b[0m\u001b[0;34m\u001b[0m\u001b[0m\n\u001b[0;32m--> 586\u001b[0;31m                 \u001b[0;32mreturn\u001b[0m \u001b[0mself\u001b[0m\u001b[0;34m.\u001b[0m\u001b[0m_sock\u001b[0m\u001b[0;34m.\u001b[0m\u001b[0mrecv_into\u001b[0m\u001b[0;34m(\u001b[0m\u001b[0mb\u001b[0m\u001b[0;34m)\u001b[0m\u001b[0;34m\u001b[0m\u001b[0m\n\u001b[0m\u001b[1;32m    587\u001b[0m             \u001b[0;32mexcept\u001b[0m \u001b[0mtimeout\u001b[0m\u001b[0;34m:\u001b[0m\u001b[0;34m\u001b[0m\u001b[0m\n\u001b[1;32m    588\u001b[0m                 \u001b[0mself\u001b[0m\u001b[0;34m.\u001b[0m\u001b[0m_timeout_occurred\u001b[0m \u001b[0;34m=\u001b[0m \u001b[0;32mTrue\u001b[0m\u001b[0;34m\u001b[0m\u001b[0m\n",
      "\u001b[0;31mKeyboardInterrupt\u001b[0m: "
     ]
    }
   ],
   "source": [
    "#second open link_yes123.csv to get the content\n",
    "import time\n",
    "\n",
    "with open('link_yes123.csv', 'r') as fr:\n",
    "    link_list = fr.read().split()\n",
    "# link_list\n",
    "for idx, link in enumerate(link_list):                 #use enumerate to add idx\n",
    "    if idx % 50 == 0:\n",
    "        print('Current link {}'.format(idx))\n",
    "    try:\n",
    "        save_content(link)                        #throw in save_content function\n",
    "        time.sleep(0.3)\n",
    "    except Exception as e:\n",
    "        print(e)\n",
    "        continue"
   ]
  },
  {
   "cell_type": "markdown",
   "metadata": {},
   "source": [
    "# Multithreading"
   ]
  },
  {
   "cell_type": "code",
   "execution_count": 19,
   "metadata": {
    "collapsed": true
   },
   "outputs": [
    {
     "name": "stdout",
     "output_type": "stream",
     "text": [
      "Current link 0\n"
     ]
    },
    {
     "name": "stderr",
     "output_type": "stream",
     "text": [
      "Exception in thread Thread-39:\n",
      "Traceback (most recent call last):\n",
      "  File \"/home/ubuntu/.pyenv/versions/3.6.1/lib/python3.6/threading.py\", line 916, in _bootstrap_inner\n",
      "    self.run()\n",
      "  File \"/home/ubuntu/.pyenv/versions/3.6.1/lib/python3.6/threading.py\", line 864, in run\n",
      "    self._target(*self._args, **self._kwargs)\n",
      "  File \"<ipython-input-18-324049b660de>\", line 10, in save_content_th\n",
      "    del divs[-1]\n",
      "IndexError: list assignment index out of range\n",
      "\n",
      "Exception in thread Thread-47:\n",
      "Traceback (most recent call last):\n",
      "  File \"/home/ubuntu/.pyenv/versions/3.6.1/lib/python3.6/threading.py\", line 916, in _bootstrap_inner\n",
      "    self.run()\n",
      "  File \"/home/ubuntu/.pyenv/versions/3.6.1/lib/python3.6/threading.py\", line 864, in run\n",
      "    self._target(*self._args, **self._kwargs)\n",
      "  File \"<ipython-input-18-324049b660de>\", line 10, in save_content_th\n",
      "    del divs[-1]\n",
      "IndexError: list assignment index out of range\n",
      "\n"
     ]
    },
    {
     "name": "stdout",
     "output_type": "stream",
     "text": [
      "Current link 50\n"
     ]
    },
    {
     "ename": "KeyboardInterrupt",
     "evalue": "",
     "output_type": "error",
     "traceback": [
      "\u001b[0;31m---------------------------------------------------------------------------\u001b[0m",
      "\u001b[0;31mKeyboardInterrupt\u001b[0m                         Traceback (most recent call last)",
      "\u001b[0;32m<ipython-input-19-5d196f1a1742>\u001b[0m in \u001b[0;36m<module>\u001b[0;34m()\u001b[0m\n\u001b[1;32m     13\u001b[0m                         \u001b[0;31m#定義Thread物件  參數傳入（ 執行的function, args(傳入function的參數) )\u001b[0m\u001b[0;34m\u001b[0m\u001b[0;34m\u001b[0m\u001b[0m\n\u001b[1;32m     14\u001b[0m             \u001b[0mth\u001b[0m\u001b[0;34m.\u001b[0m\u001b[0mstart\u001b[0m\u001b[0;34m(\u001b[0m\u001b[0;34m)\u001b[0m\u001b[0;34m\u001b[0m\u001b[0m\n\u001b[0;32m---> 15\u001b[0;31m             \u001b[0mth\u001b[0m\u001b[0;34m.\u001b[0m\u001b[0mjoin\u001b[0m\u001b[0;34m(\u001b[0m\u001b[0;34m)\u001b[0m\u001b[0;34m\u001b[0m\u001b[0m\n\u001b[0m\u001b[1;32m     16\u001b[0m     \u001b[0;31m#         time.sleep(0.1)\u001b[0m\u001b[0;34m\u001b[0m\u001b[0;34m\u001b[0m\u001b[0m\n\u001b[1;32m     17\u001b[0m         \u001b[0;32mexcept\u001b[0m \u001b[0mException\u001b[0m \u001b[0;32mas\u001b[0m \u001b[0me\u001b[0m\u001b[0;34m:\u001b[0m\u001b[0;34m\u001b[0m\u001b[0m\n",
      "\u001b[0;32m/home/ubuntu/.pyenv/versions/3.6.1/lib/python3.6/threading.py\u001b[0m in \u001b[0;36mjoin\u001b[0;34m(self, timeout)\u001b[0m\n\u001b[1;32m   1054\u001b[0m \u001b[0;34m\u001b[0m\u001b[0m\n\u001b[1;32m   1055\u001b[0m         \u001b[0;32mif\u001b[0m \u001b[0mtimeout\u001b[0m \u001b[0;32mis\u001b[0m \u001b[0;32mNone\u001b[0m\u001b[0;34m:\u001b[0m\u001b[0;34m\u001b[0m\u001b[0m\n\u001b[0;32m-> 1056\u001b[0;31m             \u001b[0mself\u001b[0m\u001b[0;34m.\u001b[0m\u001b[0m_wait_for_tstate_lock\u001b[0m\u001b[0;34m(\u001b[0m\u001b[0;34m)\u001b[0m\u001b[0;34m\u001b[0m\u001b[0m\n\u001b[0m\u001b[1;32m   1057\u001b[0m         \u001b[0;32melse\u001b[0m\u001b[0;34m:\u001b[0m\u001b[0;34m\u001b[0m\u001b[0m\n\u001b[1;32m   1058\u001b[0m             \u001b[0;31m# the behavior of a negative timeout isn't documented, but\u001b[0m\u001b[0;34m\u001b[0m\u001b[0;34m\u001b[0m\u001b[0m\n",
      "\u001b[0;32m/home/ubuntu/.pyenv/versions/3.6.1/lib/python3.6/threading.py\u001b[0m in \u001b[0;36m_wait_for_tstate_lock\u001b[0;34m(self, block, timeout)\u001b[0m\n\u001b[1;32m   1070\u001b[0m         \u001b[0;32mif\u001b[0m \u001b[0mlock\u001b[0m \u001b[0;32mis\u001b[0m \u001b[0;32mNone\u001b[0m\u001b[0;34m:\u001b[0m  \u001b[0;31m# already determined that the C code is done\u001b[0m\u001b[0;34m\u001b[0m\u001b[0m\n\u001b[1;32m   1071\u001b[0m             \u001b[0;32massert\u001b[0m \u001b[0mself\u001b[0m\u001b[0;34m.\u001b[0m\u001b[0m_is_stopped\u001b[0m\u001b[0;34m\u001b[0m\u001b[0m\n\u001b[0;32m-> 1072\u001b[0;31m         \u001b[0;32melif\u001b[0m \u001b[0mlock\u001b[0m\u001b[0;34m.\u001b[0m\u001b[0macquire\u001b[0m\u001b[0;34m(\u001b[0m\u001b[0mblock\u001b[0m\u001b[0;34m,\u001b[0m \u001b[0mtimeout\u001b[0m\u001b[0;34m)\u001b[0m\u001b[0;34m:\u001b[0m\u001b[0;34m\u001b[0m\u001b[0m\n\u001b[0m\u001b[1;32m   1073\u001b[0m             \u001b[0mlock\u001b[0m\u001b[0;34m.\u001b[0m\u001b[0mrelease\u001b[0m\u001b[0;34m(\u001b[0m\u001b[0;34m)\u001b[0m\u001b[0;34m\u001b[0m\u001b[0m\n\u001b[1;32m   1074\u001b[0m             \u001b[0mself\u001b[0m\u001b[0;34m.\u001b[0m\u001b[0m_stop\u001b[0m\u001b[0;34m(\u001b[0m\u001b[0;34m)\u001b[0m\u001b[0;34m\u001b[0m\u001b[0m\n",
      "\u001b[0;31mKeyboardInterrupt\u001b[0m: "
     ]
    },
    {
     "name": "stderr",
     "output_type": "stream",
     "text": [
      "Exception in thread Thread-76:\n",
      "Traceback (most recent call last):\n",
      "  File \"/home/ubuntu/.pyenv/versions/3.6.1/lib/python3.6/threading.py\", line 916, in _bootstrap_inner\n",
      "    self.run()\n",
      "  File \"/home/ubuntu/.pyenv/versions/3.6.1/lib/python3.6/threading.py\", line 864, in run\n",
      "    self._target(*self._args, **self._kwargs)\n",
      "  File \"<ipython-input-18-324049b660de>\", line 16, in save_content_th\n",
      "    f.write(text + '\\n')\n",
      "ValueError: I/O operation on closed file.\n",
      "\n"
     ]
    }
   ],
   "source": [
    "import time\n",
    "import threading\n",
    "\n",
    "with open('link_yes123.csv', 'r') as fr:\n",
    "    link_list = fr.read().split()\n",
    "with open('yes123_job2.csv', 'a') as f:\n",
    "    for idx, link in enumerate(link_list):           #use enumerate to join idx\n",
    "        if idx % 50 == 0:\n",
    "            print('Current link {}'.format(idx))\n",
    "        try:\n",
    "            lock = threading.Lock()                 #定義lock的物件\n",
    "            th = threading.Thread(target=save_content_th, args=(link, lock, f))  \n",
    "                        #定義Thread物件  參數傳入（ 執行的function, args(傳入function的參數) )\n",
    "            th.start()\n",
    "            th.join()\n",
    "    #         time.sleep(0.1)\n",
    "        except Exception as e:\n",
    "            print(e)\n",
    "            continue"
   ]
  },
  {
   "cell_type": "code",
   "execution_count": 18,
   "metadata": {
    "collapsed": true
   },
   "outputs": [],
   "source": [
    "def save_content_th(link, lock, f):\n",
    "    import requests \n",
    "    from bs4 import BeautifulSoup\n",
    "    import re\n",
    "    res = requests.get(link)\n",
    "    soup = BeautifulSoup(res.text, 'lxml')\n",
    "    content = ''\n",
    "    \n",
    "    divs = soup.select('div.comp_detail')\n",
    "    del divs[-1]\n",
    "    \n",
    "    for div in divs:\n",
    "        content += div.text.replace('\\n', '').replace('\\xa0', '')         #  type is str\n",
    "    \n",
    "    text = '/'.join(re.findall('object c|visual basic|\\.net|[A-Za-z]+[+#]*', content, re.IGNORECASE))   #lan 用 '/' 隔開\n",
    "    f.write(text + '\\n')  #write in job2.csv\n"
   ]
  },
  {
   "cell_type": "markdown",
   "metadata": {},
   "source": [
    "# Word Counts"
   ]
  },
  {
   "cell_type": "code",
   "execution_count": 6,
   "metadata": {
    "collapsed": true
   },
   "outputs": [],
   "source": [
    "# counter\n",
    "from collections import Counter\n",
    "\n",
    "counter = Counter()\n",
    "with open('yes123_job2.csv', 'r') as fr:\n",
    "    for line in fr:\n",
    "        if len(line) > 0:\n",
    "            words= list(set(line.strip().split('/')))  # remove duplicate items in line\n",
    "        for word in words:\n",
    "            if word.lower() in counter.keys():\n",
    "                counter[word.lower()] += 1\n",
    "            else:\n",
    "                counter[word.lower()] =  1\n"
   ]
  },
  {
   "cell_type": "code",
   "execution_count": 8,
   "metadata": {
    "collapsed": true
   },
   "outputs": [],
   "source": [
    "counter.most_common(50)\n",
    "with open('123.csv', 'w') as f:\n",
    "    for lan, counts in counter.most_common():\n",
    "        f.write('{},{}\\n'.format(lan,counts))"
   ]
  },
  {
   "cell_type": "code",
   "execution_count": 37,
   "metadata": {
    "collapsed": false
   },
   "outputs": [
    {
     "name": "stdout",
     "output_type": "stream",
     "text": [
      "['AR', 'glass', 'a', 'b', 'c', 'd']\n",
      "['Design', 'and', 'build', 'our', 'next', 'generation', 'mobile', 'application', 'for', 'Android', 'or', 'iOS', 'Perform', 'teamwork', 'to', 'accomplish', 'collaborative', 'tasks', 'and', 'define', 'design', 'and', 'deliver', 'the', 'new', 'features', 'Take', 'ownership', 'in', 'identifying', 'new', 'problems', 'forming', 'solutions', 'and', 'ideas', 'and', 'applying', 'for', 'patents', 'Code', 'design', 'implementation', 'optimization', 'and', 'testing', 'on', 'mobile', 'with', 'integration', 'of', 'cloud', 'and', 'device', 'APIs', 'Work', 'on', 'bug', 'fixing', 'feature', 'and', 'performance', 'improving', 'Continuously', 'discover', 'evaluate', 'and', 'implement', 'new', 'technologies', 'to', 'maximize', 'development', 'efficiency', 'Unit', 'test', 'code', 'for', 'robustness', 'usability', 'and', 'reliability', 'Minimal', 'Requirements', 'BS', 'MS', 'in', 'Computer', 'Science', 'or', 'related', 'fields', 'with', 'an', 'emphasis', 'on', 'multimedia', 'HCI', 'social', 'networks', 'computer', 'graphics', 'computer', 'vision', 'or', 'software', 'engineering', 'years', 'of', 'relevant', 'experience', 'in', 'at', 'least', 'two', 'of', 'Java', 'Object C', 'C++', 'and', 'Swift', 'Familiar', 'with', 'Android', 'iOS', 'software', 'development', 'environment', 'Familiar', 'with', 'software', 'development', 'cycle', 'and', 'best', 'practices', 'Ability', 'to', 'collaborate', 'with', 'people', 'with', 'diverse', 'backgrounds', 'or', 'cultures', 'Preferable', 'Qualifications', 'Exposure', 'to', 'web', 'based', 'app', 'development', 'with', 'HTML', 'CSS', 'AJAX', 'JavaScript', 'Experience', 'with', 'Mac', 'Linux', 'is', 'an', 'additional', 'plus', 'High', 'levels', 'of', 'self', 'motivation', 'passion', 'creativity', 'empathy', 'and', 'drive', 'for', 'innovation', 'Ability', 'to', 'identify', 'and', 'solve', 'challenging', 'problems', 'independently', 'Ambition', 'to', 'be', 'influential', 'and', 'make', 'impacts']\n",
      "['Window', 'Android', 'RF', 'C', 'C++']\n",
      "['Linux', 'Windows', 'C', 'LINUX', 'C', 'Linux', 'Kernel', 'Driver', 'Windows', 'Kernel', 'Driver', 'Shell', 'Script', 'Programming', 'BASH', 'Python', 'Perl', 'windbg', 'gdb', 'crash', 'dump']\n",
      "['Develop', 'cutting', 'edge', 'applications', 'for', 'immersive', 'AR', 'VR', 'experience', 'Research', 'and', 'implement', 'image', 'projection', 'processing', 'rendering', 'VFX', 'and', 'interaction', 'techniques', 'Software', 'library', 'and', 'application', 'development', 'on', 'mobile', 'and', 'web', 'platforms', 'Minimal', 'Requirements', 'BS', 'MS', 'in', 'Computer', 'Science', 'or', 'related', 'fields', 'with', 'specialization', 'in', 'computer', 'graphics', 'computer', 'vision', 'or', 'HCI', 'years', 'of', 'relevant', 'experience', 'in', 'at', 'least', 'two', 'of', 'C', 'C++', 'Swift', 'Java', 'JavaScript', 'Familiar', 'with', 'iOS', 'Android', 'Web', 'software', 'development', 'environment', 'Familiar', 'with', 'software', 'development', 'cycle', 'and', 'best', 'practices', 'Ability', 'to', 'collaborate', 'with', 'people', 'with', 'diverse', 'backgrounds', 'or', 'culturesOther', 'Qualifications', 'Strong', 'knowledge', 'and', 'experience', 'of', 'OpenGL', 'OpenGL', 'ES', 'Strong', 'knowledge', 'and', 'skills', 'in', 'linear', 'algebra', 'and', 'High', 'levels', 'of', 'self', 'motivation', 'passion', 'creativity', 'empathy', 'and', 'drive', 'for', 'innovation', 'Ability', 'to', 'identify', 'and', 'solve', 'problems', 'independently', 'Ambition', 'to', 'be', 'influential', 'and', 'make', 'impacts']\n",
      "['Server', 'Management', 'web', 'based', 'application', 'development', 'JAVA', 'Spring', 'MS', 'SQL', 'ANSI', 'SQL', 'Spring', 'Hibernate', 'experience', 'are', 'preferred', 'At', 'least', 'years', 'experience', 'on', 'Java', 'web', 'application', 'Familiar', 'with', 'SQL', 'relational', 'database', 'management', 'system']\n",
      "['RSD', 'C', 'JAVA', 'Python', 'C++', 'LINUX', 'C', 'C++', 'Java', 'Python', 'Linux', 'Switch', 'Open', 'Stack']\n",
      "['web', 'application', 'software', 'development', 'Cloud', 'infrastructure', 'management', 'software', 'development', 'and', 'performance', 'tuning', 'Programming', 'language', 'Javascript', 'CSS', 'HTML', 'or', 'Python', 'Familiar', 'with', 'Linux', 'ReactJS', 'or', 'AngularJS', 'is', 'highly', 'preferred']\n",
      "['Web', 'Application', 'Development', 'debug', 'Linux', 'Linux', 'shell', 'script', 'python', 'programming', 'JavaScript', 'CSS', 'HTML', 'programming', 'Java', 'SQL', 'programming', 'DevOps', 'Continuous', 'integration', 'delivery', 'and', 'deployment']\n",
      "['MES', 'TOEIC']\n",
      "['Developing', 'Android', 'APP', 'for', 'our', 'device', 'that', 'meet', 'sales', 'and', 'market', 'requirement', 'Android', 'APP', 'could', 'be', 'common', 'APP', 'service', 'APP', 'or', 'System', 'APP', 'These', 'APPs', 'might', 'need', 'to', 'manipulate', 'with', 'different', 'HW', 'component', 'i', 'e', 'barcode', 'reader', 'NFC', 'finger', 'print', 'scanner', 'etc', 'Some', 'APPs', 'require', 'to', 'communicate', 'with', 'Web', 'based', 'management', 'system', 'JAVA', 'LINUX', 'Must', 'Familiar', 'with', 'Java', 'no', 'matter', 'J', 'SE', 'J', 'EE', 'or', 'J', 'CE', 'Familiar', 'with', 'Linux', 'or', 'other', 'unix', 'like', 'OS', 'environmentGood', 'to', 'have', 'more', 'you', 'have', 'more', 'chance', 'you', 'would', 'have', 'Experience', 'with', 'Android', 'Studio', 'Experience', 'with', 'git', 'Experience', 'with', 'python', 'Experience', 'with', 'RESTful', 'iOS', 'APP', 'development', 'experience', 'React', 'React', 'Native', 'development', 'experience']\n",
      "['Embedded', 'System', 'Platform', 'Protocol', 'Storage', 'Open', 'Stack', 'C', 'C++', 'Java', 'Python', 'Linux', 'Window', 'SDK', 'MFC', 'Linux']\n",
      "['TOEIC', 'BULATS', 'TOEFL', 'PHP', 'Python', 'HTML', 'Javascript', 'DOM', 'AJAX', 'Cross', 'browser', 'programming', 'JavaScript', 'Ajax', 'frameworks', 'jQuery', 'Laravel', 'PostgreSQL', 'MySQL', 'SQL', 'PostgreSQL', 'MySQL', 'Ubuntu', 'Unix']\n",
      "['OSX', 'APP', 'C', 'C++', 'Objective', 'C', 'TOEFL', 'TOEIC', 'BULATS', 'C', 'C++', 'Objective', 'C']\n",
      "['Responsible', 'for', 'account', 'management', 'which', 'would', 'involve', 'EDI', 'setup', 'Electronic', 'Data', 'Interchange', 'Logistics', 'program', 'development', 'Warehouse', 'process', 'flow', 'managements', 'and', 'B', 'B', 'activities', 'monitoring', 'To', 'customers', 'point', 'of', 'view', 'OF', 'members', 'are', 'IT', 'primary', 'contact', 'window', 'to', 'integrate', 'external', 'and', 'internal', 'systems', 'Internally', 'OF', 'members', 'are', 'coordinators', 'who', 'have', 'to', 'negotiate', 'or', 'realize', 'IT', 'requirements', 'among', 'Logistics', 'Sales', 'PMC', 'Production', 'Controller', 'Material', 'Controller', 'NPI', 'Sales', 'New', 'Production', 'Introduction', 'Warehouse', 'and', 'so', 'on', 'Familiar', 'with', 'relational', 'database', 'MS', 'SQL', 'is', 'a', 'preferred', 'Familiar', 'with', 'object', 'oriented', 'programming', 'MS', 'C#', 'is', 'a', 'plus', 'Excellent', 'command', 'of', 'English']\n",
      "['Implement', 'and', 'maintain', 'BMC', 'baseboard', 'management', 'controller', 'firmware', 'Co', 'work', 'with', 'other', 'team', 'members', 'to', 'fix', 'any', 'software', 'or', 'hardware', 'problems', 'Discuss', 'issue', 'requirement', 'with', 'customers', 'C', 'C++', 'TOEFL', 'TOEIC', 'BULATS', 'TOEFLTOEIC', 'Familiar', 'with', 'C', 'C++', 'Java', 'python', 'programming', 'languages', 'Familiar', 'with', 'Linux', 'kernel', 'driver', 'Good', 'at', 'English', 'communication', 'reading', 'writing', 'and', 'speaking']\n",
      "['MIS', 'Word', 'Excel', 'PowerPoint', 'Outlook', 'Windows', 'Windows', 'Linux', 'Oracle', 'MS', 'SQL', 'Oracle', 'ERP', 'system', 'administrator', 'PLC']\n",
      "['GIS', 'ASP', '.NET', 'JAVA', 'C#', 'jQuery', 'Visual', 'Studio', '.net']\n",
      "['C']\n",
      "['C#', 'VC++', 'Visual', 'C++', 'C#']\n",
      "['C#', '.Net', 'Design', 'Pattern', 'WPF', 'MES', 'Visual', 'C++', 'C#', 'MS', 'SQL']\n",
      "['Driver', 'C', 'C#', 'C++', 'Labview']\n",
      "['Open', 'CV', 'FPGA', 'DSP', 'GPU']\n",
      "['C', 'C++', 'C#', 'VB', '.net', 'Design', 'Pattern', 'WPF', 'C', 'C#', 'C++']\n",
      "['LabVIEW', 'Labview']\n",
      "['Design', 'Patten', 'Multi', 'Thread', 'C#', 'MFC', 'C++', 'Visual', 'Studio', 'MFC']\n",
      "['C#', 'C++', 'C', 'C#', 'Halcon', 'eVision']\n",
      "['.net', 'ASP', '.NET', 'C#']\n",
      "['C']\n",
      "['LED', 'C#', 'C#', 'Web', 'Service', 'C#', 'JAVA', 'SQL', 'web', 'server', 'HBase', 'JavaScript', 'CSS', 'MIS']\n",
      "['C#', 'JAVA', 'SQL', 'web', 'server', 'HBase', 'JavaScript', 'CSS', 'Advance', 'Technique', 'Research', 'Center', 'from', 'ACBEL', 'is', 'now', 'looking', 'for', 'software', 'engineer', 'candidates', 'with', 'background', 'knowledge', 'of', 'computer', 'science', 'or', 'related', 'field', 'You', 'will', 'be', 'developing', 'backend', 'system', 'for', 'smart', 'meter', 'Ideal', 'candidate', 'should', 'demonstrated', 'the', 'following', 'characteristics', 'Effective', 'verbal', 'communication', 'skill', 'Team', 'player', 'Problem', 'solving', 'skill', 'Self', 'learnerSkills', 'requirements', 'Development', 'experience', 'in', 'C#', 'or', 'JAVA', 'programming', 'Familiar', 'with', 'SQL', 'DB', 'Good', 'English', 'communication', 'skill', 'Experience', 'with', 'web', 'service', 'HBase', 'or', 'CSS', 'will', 'be', 'an', 'advantage', 'MIS', 'JAVA', 'C#']\n",
      "['DSP', 'EE', 'Debug', 'Study', 'DSP', 'Study', 'C', 'C++']\n",
      "['Visual', 'C++', 'C#', 'C++']\n",
      "['PLC', 'Special', 'Gas', 'Supply', 'System', 'DETECTOR', 'Word', 'Excel', 'PowerPoint', 'AutoCAD', 'AutoCad', 'D', 'PLC', 'PLC']\n",
      "['Linux', 'C', 'Word', 'Excel', 'PowerPoint', 'Outlook', 'Internet', 'Explorer', 'C', 'LINUX']\n",
      "['C', 'IOS', 'Android', 'C', 'PHP', 'C++', 'Android', 'iOS', 'MySQL', 'Java', 'Script', 'CSS']\n",
      "['ERP', 'BI', 'MIS', 'Visual', 'C++', 'C++', 'MS', 'SQL', 'PC']\n",
      "['C++', 'C#', 'C++', 'C#']\n",
      "['PC', 'Base', 'I', 'O', 'Visual', 'C#', 'Deiphi', 'Visual', 'C#', 'Visual', 'Studio', '.net', 'WinForm']\n",
      "['PC', 'Base', 'I', 'O', 'Visual', 'C#', 'Deiphi', 'Delphi', 'Visual', 'C#', 'Visual', 'Studio', '.net', 'WinForm']\n",
      "['In', 'project', 'design', 'phase', 'The', 'QA', 'will', 'work', 'closely', 'with', 'the', 'UX', 'designer', 'and', 'the', 'product', 'manager', 'assist', 'in', 'gathering', 'and', 'document', 'requirements', 'including', 'functional', 'requirements', 'and', 'content', 'requirements', 'When', 'development', 'and', 'content', 'preparation', 'are', 'complete', 'the', 'QA', 'tester', 'will', 'coordinate', 'one', 'or', 'morerounds', 'of', 'testing', 'collecting', 'feedback', 'to', 'deliver', 'to', 'the', 'web', 'developer', 'for', 'troubleshooting', 'This', 'process', 'will', 'be', 'repeated', 'as', 'necessary', 'until', 'the', 'site', 'is', 'ready', 'for', 'launch', 'Responsibilities', 'Have', 'a', 'sense', 'of', 'ownership', 'for', 'the', 'quality', 'of', 'each', 'software', 'release', 'Write', 'documentation', 'such', 'as', 'test', 'reports', 'guides', 'and', 'manuals', 'Produce', 'highly', 'accurate', 'wireframe', 'documentation', 'and', 'other', 'specifications', 'required', 'to', 'implement', 'design', 'Prepare', 'test', 'environment', 'test', 'scenarios', 'data', 'and', 'test', 'scripts', 'function', 'test', 'Usability', 'test', 'Bug', 'tracking', 'stress', 'test', 'Test', 'Scripts', 'Communication', 'skills', 'verbal', 'and', 'written', 'in', 'English', 'Good', 'knowledge', 'of', 'wire', 'frame', 'tools', 'somke', 'test', 'and', 'jenkins', 'More', 'than', 'years', 'experience', 'testing', 'web', 'applications', 'Experience', 'testing', 'with', 'web', 'browsers', 'such', 'as', 'IE', 'Firefox', 'and', 'Chrome', 'Hands', 'on', 'troubleshooting', 'experience', 'Good', 'attitude', 'patience', 'detailed', 'thorough', 'able', 'to', 'work', 'under', 'tremendous', 'pressure', 'Experience', 'with', 'Axure', 'RP', 'is', 'plus']\n",
      "['C#', '.Net', 'Oracle', 'SQL', 'Server', 'A']\n",
      "['JAVA', 'Base', 'http', 'www', 'askcredit', 'com', 'tw', 'F', 'Word', 'Excel', 'PowerPoint', 'JAVA', 'VB', 'Java', 'Script', 'MS', 'SQL', 'HTML']\n",
      "['MS', 'SQL', 'Crystal', 'Report', 'MS', 'SQL', 'Word', 'Excel', 'PowerPoint', 'Outlook', 'MS', 'SQL', 'Cisco', 'Firewall', 'Routers', 'Crystal', 'Report', 'MS', 'SQL', 'SQL']\n",
      "['SDN', 'L', 'L', 'Test', 'plan', 'review', 'and', 'modify', 'Analysis', 'the', 'test', 'results', 'L', 'L', 'Switch', 'Tcl', 'python', 'Cisco', 'CCNA', 'CCNP', 'CCIE']\n",
      "['Product', 'Failure', 'analysis', 'Test', 'Station', 'improvement', 'Bring', 'up', 'Familiar', 'Office', 'SW', 'Excel', 'Word', 'PowerPointer', 'Test', 'design', 'lead', 'TDL', 'a', 'b', 'c', 'd', 'e', 'USA', 'and', 'CHINA', 'CSMC', 'Understand', 'Corrdinate', 'role', 'of', 'team', 'work', 'Schedule', 'TOEIC', 'upper']\n",
      "['ERP', 'SQL', 'SERVER', 'CRYSTAL', 'MIS', 'Word', 'Excel', 'PowerPoint', 'Delphi', 'Windows', 'MS', 'SQL', 'Windwos', 'sql', 'crystal', 'repot']\n",
      "['Android', 'Kernel', 'Driver', 'Programming', 'C', 'C++', 'i', 'MX', 'or', 'Rockchip', 'or', 'MTK', 'BSP', 'driver']\n",
      "['Android', 'GUI', 'Application', 'Programming', 'C', 'C++', 'Assembly', 'At', 'least', 'years', 'of', 'Android', 'Eclipse', 'Android', 'Studio', 'application', 'programming', 'experience']\n",
      "['Windows', 'application', 'programming', 'Word', 'Excel', 'PowerPoint', 'Outlook', 'C', 'Visual', 'C++', 'C++', 'LINUX', 'Windows', 'Windows', 'Windows', 'NT', 'Years', 'of', 'experience', 'in', 'MS', 'Windows', 'progragramming', 'Familiar', 'with', 'VC++', 'MFC', 'DOTNET', 'C', 'C++', 'language', 'programming']\n",
      "['JAVA', 'Android', 'Apps', 'Android', 'Android', 'framework', 'socket', 'UI', 'database', 'Word', 'Excel', 'PowerPoint', 'Outlook', 'C', 'Visual', 'C++', 'CGI', 'C++', 'LINUX', 'Windows', 'Windows', 'Windows', 'NT', 'HTML', 'XML', 'Programming', 'C++', 'Java', 'C', 'Android', 'TCP', 'IP', 'Android', 'SDK', 'NDK', 'Andrio']\n",
      "['BSP', 'development', 'Maintenance', 'Architecture', 'Security', 'Customization', 'SW', 'development', 'Maintenance', 'Uu', 'S', 'X', 'Implement', 'Optimize', 'RRM', 'SON', 'modules', 'Implement', 'Optimize', 'TR', 'TR', 'modules', 'Develop', 'test', 'cases', 'Provide', 'worldwide', 'on', 'site', 'support', 'of', 'IOT', 'C', 'Python', 'C++', 'LINUX', 'Linux', 'C', 'C++', 'Linux', 'script', 'python', 'IPSec', 'TR', 'SON', 'Network', 'protocol', 'LTE', 'Familiar', 'with', 'GPP', 'spec', 'of', 'LTE', 'protocol', 'stack', 'Experienced', 'at', 'debugging', 'system', 'performance', 'issues', 'in', 'embedded', 'system']\n",
      "['C', 'C++', 'Embedded', 'STB', 'driver', 'middleware', 'application', 'Linux', 'Programming', 'C', 'Perl', 'Python', 'C++']\n",
      "['iPhone', 'iPad', 'C', 'C++', 'Objective', 'C', 'Mac', 'OS', 'X', 'Xcode', 'iPhone', 'SDK', 'GUI', 'iphone', 'OS', 'iphone', 'APP', 'iOS', 'App', 'JAVA', 'C++', 'Objective', 'C', 'Android', 'iOS', 'iPhone', 'iPad', 'C', 'C++', 'Objective', 'C', 'Mac', 'OS', 'X', 'Xcode', 'iPhone', 'SDK', 'GUI', 'iphone', 'OS', 'iphone', 'APP']\n",
      "['C++', 'PCL', 'OpenCV', 'F', 'CAD', 'CAM', 'C++', 'PCL', 'OpenCV', 'C++', 'PCL', 'OpenCV']\n",
      "['CAD', 'CAM', 'CAD', 'CAM', 'C++', 'CNC', 'F', 'CAD', 'CAM', 'CAD', 'CAM', 'C++', 'CNC', 'CAD', 'CAM', 'C++', 'CNC']\n",
      "['Power', 'electronics', 'CAN', 'bus', 'AutoSAR', 'TS', 'C', 'C++', 'Microchip', 'Freescale', 'Fujitsu', 'Renesas', 'MCU', 'Labview', 'vector', 'CAN', 'OE', 'analyzer', 'Embedded', 'system', 'SW', 'Linux', 'QNX', 'RTOS', 'OS', 'porting', 'QT', 'Kanzi', 'UI']\n",
      "['VB', 'C#']\n",
      "['C', 'C++', 'Windows', 'Linux', 'SQL']\n",
      "['BUG', 'BUG', 'Linux', 'Windows', 'SQL', 'Windows', 'Linux']\n",
      "['Actionscript', 'Flash', 'FMS', 'XML', 'Socket', 'SWF', 'ActionScript']\n",
      "['BUG', 'BUG', 'Windows', 'Linux', 'SQL', 'Windows', 'Linux', 'C', 'C++', 'Windows', 'Linux']\n",
      "['Word', 'Excel', 'PowerPoint']\n",
      "['ASP', 'ASP', '.NET', 'C', 'C#', '.NET', 'JAVA', 'C#', 'C++', 'MS', 'SQL', 'Oracle', 'Access', 'MySQL', 'ODBC', 'HTML', 'XML', 'Web', 'services', 'XML', 'DNS', 'FTP', 'Hubs', 'IIS', 'LAN', 'SOAPTCP', 'IP', 'VPN']\n",
      "['PHP', 'Web', 'API', 'Linux', 'MIS', 'PHP', 'MVC', 'LAMP', 'SA', 'SD']\n",
      "['C', 'C', 'API', 'PHP', 'AJAX', 'jQuery', 'UNIX', 'MySQL', 'PHP', 'AJAX', 'JQuery', 'JavaScript', 'LAMP', 'UNIX', 'MySQL', 'MVC', 'CodeIgniter', 'framework', 'Agile', 'Scrum', 'SVN']\n",
      "['PHP', 'AJAX', 'JSF', 'LINUX', 'Oracle', 'MySQL', 'PL', 'SQL', 'PHP', 'JavaScript', 'jQuery', 'AJAX', 'HTML', 'CSS', 'Oracle', 'Mysql', 'SQL', 'Linux', 'Linux', 'Shell', 'Script', 'SVN', 'RESTful', 'WebService', 'API', 'SD', 'Lucene', 'Solr', 'HBase', 'Nosql', 'MongoDB', 'Redis']\n",
      "['Java', 'JAVA', 'MS', 'SQL', 'Oracle', 'MySQL', 'Java', 'SE', 'JZEE', 'Java', 'framework', 'NodeJS']\n",
      "['App', 'Word', 'Excel', 'PowerPoint', 'Outlook', 'Internet', 'Explorer', 'JAVA', 'Objective', 'C', 'Android', 'iOS', 'APP', 'Android', 'Java', 'Android', 'SDK', 'Eclipse', 'IDE', 'iOS', 'Object', 'C', 'Xcode', 'Android', 'iOS', 'App', 'App']\n",
      "['PHP', 'LINUX', 'php', 'web', 'service', 'linux', 'APP']\n"
     ]
    }
   ],
   "source": [
    "with open('yes123_job2.csv', 'r') as fr:\n",
    "    for line in fr:\n",
    "        print(line.strip().split('/'))"
   ]
  },
  {
   "cell_type": "code",
   "execution_count": null,
   "metadata": {
    "collapsed": true
   },
   "outputs": [],
   "source": []
  }
 ],
 "metadata": {
  "kernelspec": {
   "display_name": "Python 3",
   "language": "python",
   "name": "python3"
  },
  "language_info": {
   "codemirror_mode": {
    "name": "ipython",
    "version": 3
   },
   "file_extension": ".py",
   "mimetype": "text/x-python",
   "name": "python",
   "nbconvert_exporter": "python",
   "pygments_lexer": "ipython3",
   "version": "3.6.0"
  }
 },
 "nbformat": 4,
 "nbformat_minor": 2
}
