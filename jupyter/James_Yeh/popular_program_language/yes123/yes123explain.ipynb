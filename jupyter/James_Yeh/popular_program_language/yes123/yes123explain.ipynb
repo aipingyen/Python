{
 "cells": [
  {
   "cell_type": "markdown",
   "metadata": {},
   "source": [
    "# Save all links"
   ]
  },
  {
   "cell_type": "code",
   "execution_count": null,
   "metadata": {
    "collapsed": true
   },
   "outputs": [],
   "source": [
    "#Win\n",
    "# from selenium import webdriver\n",
    "\n",
    "# host = \"https://www.hotcar.com.tw/\"\n",
    "# browser = webdriver.Chrome(\"E:\\\\selenium\\\\chromedriver_win32\\\\chromedriver\")\n",
    "# browser.get(host)"
   ]
  },
  {
   "cell_type": "code",
   "execution_count": null,
   "metadata": {
    "collapsed": true
   },
   "outputs": [],
   "source": [
    "from selenium import webdriver\n",
    "from selenium.webdriver.common.keys import Keys\n",
    "from bs4 import BeautifulSoup\n",
    "import requests\n",
    "import re\n",
    "import time\n",
    "\n",
    "# open browser\n",
    "browser = webdriver.Chrome()\n",
    "browser.get('http://www.yes123.com.tw/admin/index.asp')\n",
    "\n",
    "# input search keywords\n",
    "browser.find_element_by_id('find_key1').clear()\n",
    "browser.find_element_by_id('find_key1').send_keys('軟體 工程師')\n",
    "\n",
    "time.sleep(2)\n",
    "# Click search button\n",
    "browser.find_element_by_class_name('n_serch_btn').click()\n",
    "\n",
    "time.sleep(2)\n",
    "counter = 0\n",
    "\n",
    "while True:\n",
    "    try:\n",
    "        counter += 1\n",
    "        browser.find_element_by_tag_name('body').send_keys(Keys.END)    #scroll down\n",
    "        links = [link.get_attribute('href') for link in browser.find_elements_by_class_name('jobname')]\n",
    "\n",
    "        with open('link_yes123_2.csv', 'w') as f:\n",
    "            f.write('\\n'.join(links) + '\\n')                            #twice  '\\n'  這頁的links存入csv檔\n",
    "        print('[Debug] links of page %d are saved' % (counter))         #Debug : which page is saved爬完一頁顯示\n",
    "        browser.find_element_by_link_text('>').click()                  #find '>' in text to click\n",
    "        time.sleep(1)   \n",
    "    except Exception as e:                                              #Exception\n",
    "        print(e)\n",
    "        break\n",
    "print('The end of pages is No.%d' %(counter))\n",
    "print('Browser will quit!')\n",
    "browser.quit()"
   ]
  },
  {
   "cell_type": "markdown",
   "metadata": {},
   "source": [
    "# Get the content form one \n",
    "page\n"
   ]
  },
  {
   "cell_type": "code",
   "execution_count": null,
   "metadata": {
    "collapsed": true
   },
   "outputs": [],
   "source": [
    "def save_content(link):\n",
    "    import requests \n",
    "    from bs4 import BeautifulSoup\n",
    "    import re\n",
    "    res = requests.get(link)\n",
    "    soup = BeautifulSoup(res.text, 'lxml')\n",
    "    content = ''\n",
    "#     print(res)\n",
    "    \n",
    "    divs = soup.select('div.comp_detail')\n",
    "#     print(len(divs))\n",
    "    del divs[-1]\n",
    "    for div in divs:\n",
    "        content += div.text.replace('\\n', '').replace('\\xa0', '')   #**********************\n",
    "\n",
    "    text = '/'.join(re.findall('object c|visual basic|\\.net|[A-Za-z]+[+#]*', content, re.IGNORECASE))\n",
    "\n",
    "    with open('yes123_job3.csv', 'a') as f:\n",
    "        f.write(text + '\\n')\n"
   ]
  },
  {
   "cell_type": "markdown",
   "metadata": {},
   "source": [
    "# Save all contents\n"
   ]
  },
  {
   "cell_type": "code",
   "execution_count": null,
   "metadata": {
    "collapsed": true
   },
   "outputs": [],
   "source": [
    "\"\"\"讀取每行字串、每讀50筆（行）、會回報一次目前讀取的筆數\n",
    "#second open link_yes123.csv to get the content\"\"\"\n",
    "\n",
    "import time\n",
    "\n",
    "with open('link_yes123.csv', 'r') as fr:\n",
    "    link_list = fr.read().split('\\n')\n",
    "    \n",
    "\"\"\"在link_list中,每50筆link會回報目前執行筆數.\n",
    "並執行save_content方法（點擊網頁並撈出內容）,睡眠0.3毫秒;\n",
    "反之,若執行遇到例外,則忽略當下該筆,繼續執行下一筆save_content方法\"\"\"    \n",
    "                                        # link_list    \n",
    "for idx, link in enumerate(link_list):   #use enumerate to add idx\n",
    "    if idx % 50 == 0:\n",
    "        print('Current link {}'.format(idx))\n",
    "    try:\n",
    "        save_content(link)\n",
    "#         time.sleep(0.3)\n",
    "    except Exception as e:               #throw in save_content function\n",
    "        print(e)\n",
    "        continue"
   ]
  },
  {
   "cell_type": "markdown",
   "metadata": {},
   "source": [
    "# Multithreading"
   ]
  },
  {
   "cell_type": "code",
   "execution_count": null,
   "metadata": {
    "collapsed": true,
    "scrolled": true
   },
   "outputs": [],
   "source": [
    "\"\"\"執行多執行緒（Multithreading)  使多執行緒執行save_content方法、lock、並將每篇連結的內容寫入yes123_job2.csv\n",
    "\n",
    "   註：在th.start()後 請直接跳到def save_content_th(link, lock, f) 查閱多執行緒執行run()的方法\n",
    "\"\"\"\n",
    "\n",
    "import time\n",
    "import threading\n",
    "#讀取'link_yes123.csv', 寫入'yes123_job2.csv'\"\"\"\n",
    "with open('link_yes123.csv', 'r') as fr:\n",
    "    link_list = fr.read().split('\\n')\n",
    "with open('yes123_job.csv', 'a') as f:\n",
    "    for idx, link in enumerate(link_list):\n",
    "        #每讀取50筆（行）link、回報目前讀取連結的數量\n",
    "        if idx % 50 == 0:\n",
    "            print('Current link {}'.format(idx))            \n",
    "        try:\n",
    "            lock = threading.Lock()\n",
    "            \"\"\"定義多執行緒Thread的工作：\"save_content_th\",\n",
    "            傳入該方法的參數args為\n",
    "            （1）每筆連結\n",
    "            （2）lock方法(請到save_content_th(link, lock, f)查閱詳細內容）\n",
    "            （3）執行完save_content_th方法後將文章內容寫入'yes123_job2.csv'\n",
    "            若執行遇到例外,則忽略該筆連結,thread繼續執行下一筆連結\n",
    "            \"\"\"\n",
    "            th = threading.Thread(target=save_content_th, args=(link, lock, f))\n",
    "            th.start()\n",
    "            time.sleep(0.1)\n",
    "        except Exception as e:\n",
    "            print(e)\n",
    "            continue\n",
    "    else:\n",
    "        print('Process finished')"
   ]
  },
  {
   "cell_type": "code",
   "execution_count": null,
   "metadata": {
    "collapsed": true
   },
   "outputs": [],
   "source": [
    "\"\"\"多執行緒的工作：save_content_th(link, lock, f)\n",
    "   進入連結將內容撈出來、並針對文章內容過濾符號、正規表示法,\n",
    "   並確保執行寫入f.write(text + '\\n')時,只會有一個執行緒執行\n",
    "\"\"\"\n",
    "\n",
    "def save_content_th(link, lock, f):\n",
    "    import requests \n",
    "    from bs4 import BeautifulSoup\n",
    "    import re\n",
    "    import time\n",
    "    #進入連結內容、將文章的內容撈出來\n",
    "    res = requests.get(link)\n",
    "#     time.sleep(1)\n",
    "    soup = BeautifulSoup(res.text, 'lxml')\n",
    "    content = ''\n",
    "    \n",
    "    divs = soup.select('div.comp_detail')\n",
    "#     del divs[-1]\n",
    "    #將該篇文章有div標籤的內容撈出來、並去除部份符號\n",
    "    for div in divs:\n",
    "        content += div.text.replace('\\n', '').replace('\\xa0', '')\n",
    "    #文章經過正規表示法、並忽略大小寫後,會變成眾多單字,用\"/\"連結該文章所有的單字\n",
    "    text = '/'.join(re.findall('object c|visual basic|\\.net|[A-Za-z]+[+#]*', content, re.IGNORECASE))\n",
    "    \n",
    "    #執行緒lock.acquire():從unlock轉為lock狀況,在lock.release()之前,\n",
    "    #只有該執行緒thread執行f.write(text + '\\n')方法,確保不會有多個執行緒同時寫入    \n",
    "    \n",
    "    lock.acquire()\n",
    "    f.write(text + '\\n')\n",
    "    lock.release()"
   ]
  },
  {
   "cell_type": "markdown",
   "metadata": {},
   "source": [
    "# Word Counts"
   ]
  },
  {
   "cell_type": "code",
   "execution_count": null,
   "metadata": {
    "collapsed": true
   },
   "outputs": [],
   "source": [
    "\"\"\"讀取過濾後用'/'串連單字的文章,並以'/'拆回各個單字,並用counter計算出現的單字數\"\"\"\n",
    "\n",
    "# counter\n",
    "from collections import Counter\n",
    "\n",
    "counter = Counter()\n",
    "with open('yes123_job.csv', 'r') as fr:\n",
    "   \n",
    "    for line in fr:\n",
    "        \n",
    "    \"\"\"每行的文章長度>0,則以'/'符號、空格拆解該篇文章。\n",
    "    並將該行的所有單字塞入set中,確保同樣的單字不會重複被塞入set中,再強制轉為list,準備轉成dictionary。\"\"\"\n",
    "        if len(line) > 0:\n",
    "            words= list(set(line.strip().split('/')))  # remove duplicate items in line\n",
    "    \"\"\"只要該行的單字（key)轉為小寫後,若出現過則value+1、反之value=1\"\"\"        \n",
    "        for word in words:\n",
    "            if word.lower() in counter.keys():\n",
    "                counter[word.lower()] += 1\n",
    "            else:\n",
    "                counter[word.lower()] =  1\n"
   ]
  },
  {
   "cell_type": "code",
   "execution_count": null,
   "metadata": {
    "collapsed": true
   },
   "outputs": [],
   "source": [
    "\"\"\"將counter內,value排序從大到小為前50筆的單字（key)寫入'123.csv'檔案中\"\"\"\n",
    "counter.most_common(50)\n",
    "with open('123.csv', 'w') as f:\n",
    "    for lan, counts in counter.most_common():\n",
    "        f.write('{},{}\\n'.format(lan,counts))"
   ]
  }
 ],
 "metadata": {
  "kernelspec": {
   "display_name": "Python 3",
   "language": "python",
   "name": "python3"
  },
  "language_info": {
   "codemirror_mode": {
    "name": "ipython",
    "version": 3
   },
   "file_extension": ".py",
   "mimetype": "text/x-python",
   "name": "python",
   "nbconvert_exporter": "python",
   "pygments_lexer": "ipython3",
   "version": "3.6.0"
  }
 },
 "nbformat": 4,
 "nbformat_minor": 2
}
