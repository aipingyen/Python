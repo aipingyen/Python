{
 "cells": [
  {
   "cell_type": "code",
   "execution_count": null,
   "metadata": {
    "collapsed": true,
    "deletable": true,
    "editable": true
   },
   "outputs": [],
   "source": [
    "#讓電腦自己找出規律去辨識  非監督是學習(只有數據沒有標籤)\n",
    "#                               聚类，降维\n",
    "#先幫電腦分類, 再讓電腦找出規律   監督式學習(數據+標籤)\n",
    "#                              分類  回歸"
   ]
  },
  {
   "cell_type": "code",
   "execution_count": 2,
   "metadata": {
    "collapsed": false,
    "deletable": true,
    "editable": true
   },
   "outputs": [
    {
     "data": {
      "text/plain": [
       "'c:\\\\jupyter'"
      ]
     },
     "execution_count": 2,
     "metadata": {},
     "output_type": "execute_result"
    }
   ],
   "source": [
    "import os\n",
    "os.getcwd()"
   ]
  },
  {
   "cell_type": "code",
   "execution_count": 8,
   "metadata": {
    "collapsed": false,
    "deletable": true,
    "editable": true,
    "scrolled": true
   },
   "outputs": [
    {
     "name": "stdout",
     "output_type": "stream",
     "text": [
      "Coefficients: \n",
      " [ 2.]\n"
     ]
    },
    {
     "data": {
      "text/plain": [
       "array([ 10.])"
      ]
     },
     "execution_count": 8,
     "metadata": {},
     "output_type": "execute_result"
    }
   ],
   "source": [
    "import numpy as np\n",
    "from sklearn import linear_model\n",
    "\n",
    "# 宣告資料\n",
    "X = [[1],[2],[3],[4]]   #list in list ; array==>(4, 1)\n",
    "y = [2, 4, 6, 8]\n",
    "\n",
    "# 建立及訓練模型\n",
    "regr = linear_model.LinearRegression()\n",
    "regr.fit(X, y)\n",
    "\n",
    "# 看看訓練出來的係數\n",
    "print('Coefficients: \\n', regr.coef_)\n",
    "\n",
    "# 用模型來預測一筆新的資料看看\n",
    "regr.predict(5)\n",
    "# >>> array([ 10.])"
   ]
  },
  {
   "cell_type": "code",
   "execution_count": 15,
   "metadata": {
    "collapsed": false
   },
   "outputs": [
    {
     "name": "stdout",
     "output_type": "stream",
     "text": [
      "[0 0 1 1 2 0 1 1 0 1 0 2 2 2 1 2 1 0 1 1 2 2 1 0 0 2 0 2 1 1 0 2 1 0 2 1 0\n",
      " 2 1 1 2 1 0 1 2]\n",
      "[0 0 1 1 2 0 1 1 0 1 0 2 1 2 1 2 1 0 1 1 2 2 1 0 0 2 0 2 1 1 0 2 1 0 2 1 0\n",
      " 2 1 1 2 1 0 1 2]\n"
     ]
    }
   ],
   "source": [
    "#model:KNeighborsClassifier()， Use fit to training data， then knn.predict(X_test)\n",
    "from __future__ import print_function\n",
    "from sklearn import datasets      \n",
    "from sklearn.model_selection import train_test_split\n",
    "from sklearn.neighbors import KNeighborsClassifier   #選擇鄰近點模擬數據預測值\n",
    "     #K近邻估计器会分析训练集中的数据，通过比较待分类的新数据点和训练集中的数据，找到新数据点的近邻。\n",
    "\n",
    "iris = datasets.load_iris()   #from sklearn的db.load_iris\n",
    "iris_X = iris.data   #['sepal length (cm)', 'sepal width (cm)', 'petal length (cm)', 'petal width (cm)']\n",
    "iris_y = iris.target   #品種   Iris setosa, Iris virginica and Iris versicolor\n",
    "\n",
    "#print(iris_X[:2, :])\n",
    "#print(iris_y)\n",
    "\n",
    "X_train, X_test, y_train, y_test = train_test_split(\n",
    "    iris_X, iris_y, test_size=0.3)\n",
    "\n",
    "##print(y_train)\n",
    "\n",
    "knn = KNeighborsClassifier()\n",
    "knn.fit(X_train, y_train)   #train model\n",
    "print(knn.predict(X_test))   #predict compare with data\n",
    "print(y_test)"
   ]
  },
  {
   "cell_type": "code",
   "execution_count": null,
   "metadata": {
    "collapsed": true
   },
   "outputs": [],
   "source": [
    "#5\n",
    "from __future__ import print_function\n",
    "from sklearn import datasets\n",
    "from sklearn.linear_model import LinearRegression\n",
    "import matplotlib.pyplot as plt\n",
    "\n",
    "loaded_data = datasets.load_boston()\n",
    "data_X = loaded_data.data\n",
    "data_y = loaded_data.target\n",
    "\n",
    "model = LinearRegression()\n",
    "model.fit(data_X, data_y)\n",
    "\n",
    "print(model.predict(data_X[:4, :]))\n",
    "print(data_y[:4])\n",
    "\n",
    "X, y = datasets.make_regression(n_samples=100, n_features=1, n_targets=1, noise=10)\n",
    "plt.scatter(X, y)\n",
    "plt.show()\n"
   ]
  },
  {
   "cell_type": "code",
   "execution_count": null,
   "metadata": {
    "collapsed": true
   },
   "outputs": [],
   "source": [
    "#6\n",
    "from __future__ import print_function\n",
    "from sklearn import datasets\n",
    "from sklearn.linear_model import LinearRegression\n",
    "\n",
    "loaded_data = datasets.load_boston()\n",
    "data_X = loaded_data.data\n",
    "data_y = loaded_data.target\n",
    "\n",
    "model = LinearRegression()\n",
    "model.fit(data_X, data_y)\n",
    "\n",
    "print(model.predict(data_X[:4, :]))\n",
    "print(model.coef_)\n",
    "print(model.intercept_)\n",
    "print(model.get_params())\n",
    "print(model.score(data_X, data_y)) # R^2 coefficient of determination"
   ]
  },
  {
   "cell_type": "code",
   "execution_count": null,
   "metadata": {
    "collapsed": true
   },
   "outputs": [],
   "source": [
    "#7\n",
    "from __future__ import print_function\n",
    "from sklearn import preprocessing\n",
    "import numpy as np\n",
    "from sklearn.model_selection import train_test_split\n",
    "from sklearn.datasets.samples_generator import make_classification\n",
    "from sklearn.svm import SVC\n",
    "import matplotlib.pyplot as plt\n",
    "\n",
    "a = np.array([[10, 2.7, 3.6],\n",
    "                     [-100, 5, -2],\n",
    "                     [120, 20, 40]], dtype=np.float64)\n",
    "print(a)\n",
    "print(preprocessing.scale(a))\n",
    "\n",
    "X, y = make_classification(n_samples=300, n_features=2 , n_redundant=0, n_informative=2,\n",
    "                           random_state=22, n_clusters_per_class=1, scale=100)\n",
    "plt.scatter(X[:, 0], X[:, 1], c=y)\n",
    "plt.show()\n",
    "X = preprocessing.scale(X)    # normalization step\n",
    "X_train, X_test, y_train, y_test = train_test_split(X, y, test_size=.3)\n",
    "clf = SVC()\n",
    "clf.fit(X_train, y_train)\n",
    "print(clf.score(X_test, y_test))"
   ]
  },
  {
   "cell_type": "code",
   "execution_count": null,
   "metadata": {
    "collapsed": true
   },
   "outputs": [],
   "source": []
  },
  {
   "cell_type": "code",
   "execution_count": null,
   "metadata": {
    "collapsed": true
   },
   "outputs": [],
   "source": []
  },
  {
   "cell_type": "code",
   "execution_count": null,
   "metadata": {
    "collapsed": true
   },
   "outputs": [],
   "source": []
  },
  {
   "cell_type": "code",
   "execution_count": null,
   "metadata": {
    "collapsed": true
   },
   "outputs": [],
   "source": []
  }
 ],
 "metadata": {
  "kernelspec": {
   "display_name": "Python 3",
   "language": "python",
   "name": "python3"
  },
  "language_info": {
   "codemirror_mode": {
    "name": "ipython",
    "version": 3
   },
   "file_extension": ".py",
   "mimetype": "text/x-python",
   "name": "python",
   "nbconvert_exporter": "python",
   "pygments_lexer": "ipython3",
   "version": "3.6.0"
  }
 },
 "nbformat": 4,
 "nbformat_minor": 2
}
