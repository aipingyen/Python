{
 "cells": [
  {
   "cell_type": "code",
   "execution_count": 2,
   "metadata": {
    "collapsed": false
   },
   "outputs": [
    {
     "name": "stdout",
     "output_type": "stream",
     "text": [
      "now is going on 1722,which is 39% finished"
     ]
    },
    {
     "name": "stderr",
     "output_type": "stream",
     "text": [
      "C:\\Anaconda3\\lib\\site-packages\\pymysql\\cursors.py:166: Warning: (1264, \"Out of range value for column 'mileage' at row 1\")\n",
      "  result = self._query(query)\n"
     ]
    },
    {
     "name": "stdout",
     "output_type": "stream",
     "text": [
      "now is going on 4380,which is 100% finished\n",
      " Insert Okay\n"
     ]
    }
   ],
   "source": [
    "#abc\n",
    "import sqlite3\n",
    "from datetime import datetime\n",
    "\n",
    "conn = sqlite3.connect(\"C:\\\\Users\\\\BIG DATA\\\\Desktop\\\\car_price_db\\\\abc.db\")\n",
    "cur = conn.cursor()\n",
    "count = cur.execute(\"SELECT count(*) FROM abc_new_all \").fetchall()[0][0]\n",
    "\n",
    "cur.execute(\"SELECT * FROM abc_new_all \")\n",
    "\n",
    "try:\n",
    "    for idx, row in enumerate(cur):\n",
    "#         print(row)\n",
    "        data = [(row[0],row[1],row[2],row[3],row[4],row[5],row[6],row[7],row[8],row[9],row[10],row[11],row[12],\n",
    "                 datetime.fromtimestamp(row[13]),row[14],row[15],row[16],None, None)]\n",
    "        \n",
    "        sqliteToMySQL(data,int(count),int(idx+1))\n",
    "        \n",
    "except Exception as e:\n",
    "    print(\"abc error in row{} , :\".format(idx),e)\n",
    "    conn.rollback()\n",
    "        \n",
    "conn.commit()\n",
    "conn.close()\n",
    "   "
   ]
  },
  {
   "cell_type": "code",
   "execution_count": 1,
   "metadata": {
    "collapsed": true
   },
   "outputs": [],
   "source": [
    "from scipy import sparse\n"
   ]
  },
  {
   "cell_type": "code",
   "execution_count": 3,
   "metadata": {
    "collapsed": false
   },
   "outputs": [
    {
     "name": "stdout",
     "output_type": "stream",
     "text": [
      "[(164227,)]\n"
     ]
    }
   ],
   "source": [
    "conn = sqlite3.connect(\"C:\\\\Users\\\\BIG DATA\\\\Desktop\\\\abc.db\")\n",
    "cur = conn.cursor()\n",
    "cur.execute(\"SELECT mileage FROM abc_new_all where url ='https://www.abccar.com.tw/buy-car/739346';\")\n",
    "print(cur.fetchall())"
   ]
  },
  {
   "cell_type": "code",
   "execution_count": 3,
   "metadata": {
    "collapsed": false,
    "scrolled": true
   },
   "outputs": [
    {
     "name": "stdout",
     "output_type": "stream",
     "text": [
      "now is going on 7,which is 0% finished"
     ]
    },
    {
     "name": "stderr",
     "output_type": "stream",
     "text": [
      "C:\\Anaconda3\\lib\\site-packages\\pymysql\\cursors.py:166: Warning: (1265, \"Data truncated for column 'title' at row 1\")\n",
      "  result = self._query(query)\n"
     ]
    },
    {
     "name": "stdout",
     "output_type": "stream",
     "text": [
      "now is going on 5684,which is 100% finished\n",
      " Insert Okay\n"
     ]
    }
   ],
   "source": [
    "#SUM\n",
    "import sqlite3\n",
    "from datetime import datetime\n",
    "import math\n",
    "\n",
    "conn = sqlite3.connect(\"C:\\\\Users\\\\BIG DATA\\\\Desktop\\\\car_price_db\\\\SUM.db\")\n",
    "cur = conn.cursor()\n",
    "count = cur.execute(\"SELECT count(*) FROM SUM \").fetchall()[0][0]\n",
    "cur.execute(\"SELECT * FROM SUM\")\n",
    "\n",
    "try:\n",
    "    for idx, row in enumerate(cur):\n",
    "#source,url,title,brand,model,doors,color,cc,transmission,equip,mileage,years,location,posttime,price,certificate,gasoline,deal,offtime \n",
    "#         print(datetime.fromtimestamp(math.floor(float(row[13]))))\n",
    "        if row[10]=='':\n",
    "            mileage=None\n",
    "        else:\n",
    "            mileage=int(row[10])\n",
    "        data = [(row[0],row[1],row[2],row[3],row[4],row[5],row[6],row[7],row[8],row[9],mileage,row[11],row[12],datetime.fromtimestamp(math.floor(float(row[13]))),row[14],row[15],row[18],row[16],None)]\n",
    "        \n",
    "        sqliteToMySQL(data,int(count),idx+1)\n",
    "except Exception as e:\n",
    "    print(\"SUM :\",e)\n",
    "    conn.rollback()\n",
    "        \n",
    "conn.commit()\n",
    "conn.close()\n",
    "   "
   ]
  },
  {
   "cell_type": "code",
   "execution_count": 4,
   "metadata": {
    "collapsed": false
   },
   "outputs": [
    {
     "name": "stdout",
     "output_type": "stream",
     "text": [
      "now is going on 278,which is 0% finished"
     ]
    },
    {
     "name": "stderr",
     "output_type": "stream",
     "text": [
      "C:\\Anaconda3\\lib\\site-packages\\pymysql\\cursors.py:166: Warning: (1265, \"Data truncated for column 'title' at row 1\")\n",
      "  result = self._query(query)\n"
     ]
    },
    {
     "name": "stdout",
     "output_type": "stream",
     "text": [
      "now is going on 21148,which is 47% finished"
     ]
    },
    {
     "name": "stderr",
     "output_type": "stream",
     "text": [
      "C:\\Anaconda3\\lib\\site-packages\\pymysql\\cursors.py:166: Warning: (1264, \"Out of range value for column 'mileage' at row 1\")\n",
      "  result = self._query(query)\n"
     ]
    },
    {
     "name": "stdout",
     "output_type": "stream",
     "text": [
      "now is going on 44102,which is 100% finished\n",
      " Insert Okay\n"
     ]
    }
   ],
   "source": [
    "#8891\n",
    "import sqlite3\n",
    "from datetime import datetime\n",
    "import math\n",
    "\n",
    "conn = sqlite3.connect(\"C:\\\\Users\\\\BIG DATA\\\\Desktop\\\\car_price_db\\\\8891Car.db\")\n",
    "cur = conn.cursor()\n",
    "count = cur.execute(\"SELECT count(*) FROM cars0616 \").fetchall()[0][0]\n",
    "cur.execute(\"SELECT * FROM cars0616\")\n",
    "\n",
    "try:\n",
    "    for idx, row in enumerate(cur):\n",
    "#source,url,title,brand,model,doors,color,cc,transmission,equip,mileage,years,location,posttime,price,certificate,gasoline,deal,offtime \n",
    "        \n",
    "        data = [(row[0],row[1],row[2],row[3],row[4],row[5],row[6],row[8],row[9],row[10],row[11],row[12],row[13],datetime.fromtimestamp(math.floor(float(row[14]))),row[15],row[16],row[7],0,None)]\n",
    "        \n",
    "        sqliteToMySQL(data,int(count),idx+1)\n",
    "except Exception as e:\n",
    "    print(\"8891 :\",e)\n",
    "    conn.rollback()\n",
    "\n",
    "conn.commit()\n",
    "conn.close()"
   ]
  },
  {
   "cell_type": "code",
   "execution_count": 7,
   "metadata": {
    "collapsed": true
   },
   "outputs": [
    {
     "name": "stderr",
     "output_type": "stream",
     "text": [
      "C:\\Anaconda3\\lib\\site-packages\\pymysql\\cursors.py:166: Warning: (1265, \"Data truncated for column 'mileage' at row 1\")\n",
      "  result = self._query(query)\n",
      "C:\\Anaconda3\\lib\\site-packages\\pymysql\\cursors.py:166: Warning: (1265, \"Data truncated for column 'price' at row 1\")\n",
      "  result = self._query(query)\n"
     ]
    },
    {
     "name": "stdout",
     "output_type": "stream",
     "text": [
      "now is going on 401,which is 13% finished"
     ]
    },
    {
     "ename": "KeyboardInterrupt",
     "evalue": "",
     "output_type": "error",
     "traceback": [
      "\u001b[1;31m---------------------------------------------------------------------------\u001b[0m",
      "\u001b[1;31mKeyboardInterrupt\u001b[0m                         Traceback (most recent call last)",
      "\u001b[1;32m<ipython-input-7-ef5aaf20fcae>\u001b[0m in \u001b[0;36m<module>\u001b[1;34m()\u001b[0m\n\u001b[0;32m     15\u001b[0m         \u001b[0mdata\u001b[0m \u001b[1;33m=\u001b[0m \u001b[1;33m[\u001b[0m\u001b[1;33m(\u001b[0m\u001b[1;34m'HOT'\u001b[0m\u001b[1;33m,\u001b[0m\u001b[0mrow\u001b[0m\u001b[1;33m[\u001b[0m\u001b[1;36m1\u001b[0m\u001b[1;33m]\u001b[0m\u001b[1;33m,\u001b[0m\u001b[0mrow\u001b[0m\u001b[1;33m[\u001b[0m\u001b[1;36m2\u001b[0m\u001b[1;33m]\u001b[0m\u001b[1;33m,\u001b[0m\u001b[0mrow\u001b[0m\u001b[1;33m[\u001b[0m\u001b[1;36m3\u001b[0m\u001b[1;33m]\u001b[0m\u001b[1;33m,\u001b[0m\u001b[0mrow\u001b[0m\u001b[1;33m[\u001b[0m\u001b[1;36m4\u001b[0m\u001b[1;33m]\u001b[0m\u001b[1;33m,\u001b[0m\u001b[0mrow\u001b[0m\u001b[1;33m[\u001b[0m\u001b[1;36m5\u001b[0m\u001b[1;33m]\u001b[0m\u001b[1;33m,\u001b[0m\u001b[0mrow\u001b[0m\u001b[1;33m[\u001b[0m\u001b[1;36m6\u001b[0m\u001b[1;33m]\u001b[0m\u001b[1;33m,\u001b[0m\u001b[0mrow\u001b[0m\u001b[1;33m[\u001b[0m\u001b[1;36m7\u001b[0m\u001b[1;33m]\u001b[0m\u001b[1;33m,\u001b[0m\u001b[0mrow\u001b[0m\u001b[1;33m[\u001b[0m\u001b[1;36m8\u001b[0m\u001b[1;33m]\u001b[0m\u001b[1;33m,\u001b[0m\u001b[0mrow\u001b[0m\u001b[1;33m[\u001b[0m\u001b[1;36m9\u001b[0m\u001b[1;33m]\u001b[0m\u001b[1;33m,\u001b[0m\u001b[0mrow\u001b[0m\u001b[1;33m[\u001b[0m\u001b[1;36m10\u001b[0m\u001b[1;33m]\u001b[0m\u001b[1;33m,\u001b[0m\u001b[0mrow\u001b[0m\u001b[1;33m[\u001b[0m\u001b[1;36m11\u001b[0m\u001b[1;33m]\u001b[0m\u001b[1;33m,\u001b[0m\u001b[0mrow\u001b[0m\u001b[1;33m[\u001b[0m\u001b[1;36m12\u001b[0m\u001b[1;33m]\u001b[0m\u001b[1;33m,\u001b[0m\u001b[0mdatetime\u001b[0m\u001b[1;33m.\u001b[0m\u001b[0mfromtimestamp\u001b[0m\u001b[1;33m(\u001b[0m\u001b[0mmath\u001b[0m\u001b[1;33m.\u001b[0m\u001b[0mfloor\u001b[0m\u001b[1;33m(\u001b[0m\u001b[0mfloat\u001b[0m\u001b[1;33m(\u001b[0m\u001b[0mrow\u001b[0m\u001b[1;33m[\u001b[0m\u001b[1;36m13\u001b[0m\u001b[1;33m]\u001b[0m\u001b[1;33m)\u001b[0m\u001b[1;33m)\u001b[0m\u001b[1;33m)\u001b[0m\u001b[1;33m,\u001b[0m\u001b[0mrow\u001b[0m\u001b[1;33m[\u001b[0m\u001b[1;36m14\u001b[0m\u001b[1;33m]\u001b[0m\u001b[1;33m,\u001b[0m\u001b[0mrow\u001b[0m\u001b[1;33m[\u001b[0m\u001b[1;36m15\u001b[0m\u001b[1;33m]\u001b[0m\u001b[1;33m,\u001b[0m\u001b[1;32mNone\u001b[0m\u001b[1;33m,\u001b[0m\u001b[1;32mNone\u001b[0m\u001b[1;33m,\u001b[0m\u001b[1;32mNone\u001b[0m\u001b[1;33m)\u001b[0m\u001b[1;33m]\u001b[0m\u001b[1;33m\u001b[0m\u001b[0m\n\u001b[0;32m     16\u001b[0m \u001b[1;33m\u001b[0m\u001b[0m\n\u001b[1;32m---> 17\u001b[1;33m         \u001b[0msqliteToMySQL\u001b[0m\u001b[1;33m(\u001b[0m\u001b[0mdata\u001b[0m\u001b[1;33m,\u001b[0m\u001b[0mint\u001b[0m\u001b[1;33m(\u001b[0m\u001b[0mcount\u001b[0m\u001b[1;33m)\u001b[0m\u001b[1;33m,\u001b[0m\u001b[0midx\u001b[0m\u001b[1;33m+\u001b[0m\u001b[1;36m1\u001b[0m\u001b[1;33m)\u001b[0m\u001b[1;33m\u001b[0m\u001b[0m\n\u001b[0m\u001b[0;32m     18\u001b[0m \u001b[1;32mexcept\u001b[0m \u001b[0mException\u001b[0m \u001b[1;32mas\u001b[0m \u001b[0me\u001b[0m\u001b[1;33m:\u001b[0m\u001b[1;33m\u001b[0m\u001b[0m\n\u001b[0;32m     19\u001b[0m     \u001b[0mprint\u001b[0m\u001b[1;33m(\u001b[0m\u001b[1;34m\"HOT :\"\u001b[0m\u001b[1;33m,\u001b[0m\u001b[0me\u001b[0m\u001b[1;33m)\u001b[0m\u001b[1;33m\u001b[0m\u001b[0m\n",
      "\u001b[1;32m<ipython-input-3-955db12826a4>\u001b[0m in \u001b[0;36msqliteToMySQL\u001b[1;34m(data, count, idx)\u001b[0m\n\u001b[0;32m     29\u001b[0m         \u001b[0mprint\u001b[0m\u001b[1;33m(\u001b[0m\u001b[1;34m\"sqliteToMySQL : \"\u001b[0m\u001b[1;33m,\u001b[0m\u001b[0me\u001b[0m\u001b[1;33m)\u001b[0m\u001b[1;33m\u001b[0m\u001b[0m\n\u001b[0;32m     30\u001b[0m         \u001b[0mconn\u001b[0m\u001b[1;33m.\u001b[0m\u001b[0mrollback\u001b[0m\u001b[1;33m(\u001b[0m\u001b[1;33m)\u001b[0m\u001b[1;33m\u001b[0m\u001b[0m\n\u001b[1;32m---> 31\u001b[1;33m     \u001b[0mconn\u001b[0m\u001b[1;33m.\u001b[0m\u001b[0mcommit\u001b[0m\u001b[1;33m(\u001b[0m\u001b[1;33m)\u001b[0m\u001b[1;33m\u001b[0m\u001b[0m\n\u001b[0m\u001b[0;32m     32\u001b[0m     \u001b[0mconn\u001b[0m\u001b[1;33m.\u001b[0m\u001b[0mclose\u001b[0m\u001b[1;33m(\u001b[0m\u001b[1;33m)\u001b[0m\u001b[1;33m\u001b[0m\u001b[0m\n\u001b[0;32m     33\u001b[0m \u001b[1;33m\u001b[0m\u001b[0m\n",
      "\u001b[1;32mC:\\Anaconda3\\lib\\site-packages\\pymysql\\connections.py\u001b[0m in \u001b[0;36mcommit\u001b[1;34m(self)\u001b[0m\n\u001b[0;32m    786\u001b[0m         \u001b[1;34m\"\"\"Commit changes to stable storage\"\"\"\u001b[0m\u001b[1;33m\u001b[0m\u001b[0m\n\u001b[0;32m    787\u001b[0m         \u001b[0mself\u001b[0m\u001b[1;33m.\u001b[0m\u001b[0m_execute_command\u001b[0m\u001b[1;33m(\u001b[0m\u001b[0mCOMMAND\u001b[0m\u001b[1;33m.\u001b[0m\u001b[0mCOM_QUERY\u001b[0m\u001b[1;33m,\u001b[0m \u001b[1;34m\"COMMIT\"\u001b[0m\u001b[1;33m)\u001b[0m\u001b[1;33m\u001b[0m\u001b[0m\n\u001b[1;32m--> 788\u001b[1;33m         \u001b[0mself\u001b[0m\u001b[1;33m.\u001b[0m\u001b[0m_read_ok_packet\u001b[0m\u001b[1;33m(\u001b[0m\u001b[1;33m)\u001b[0m\u001b[1;33m\u001b[0m\u001b[0m\n\u001b[0m\u001b[0;32m    789\u001b[0m \u001b[1;33m\u001b[0m\u001b[0m\n\u001b[0;32m    790\u001b[0m     \u001b[1;32mdef\u001b[0m \u001b[0mrollback\u001b[0m\u001b[1;33m(\u001b[0m\u001b[0mself\u001b[0m\u001b[1;33m)\u001b[0m\u001b[1;33m:\u001b[0m\u001b[1;33m\u001b[0m\u001b[0m\n",
      "\u001b[1;32mC:\\Anaconda3\\lib\\site-packages\\pymysql\\connections.py\u001b[0m in \u001b[0;36m_read_ok_packet\u001b[1;34m(self)\u001b[0m\n\u001b[0;32m    765\u001b[0m \u001b[1;33m\u001b[0m\u001b[0m\n\u001b[0;32m    766\u001b[0m     \u001b[1;32mdef\u001b[0m \u001b[0m_read_ok_packet\u001b[0m\u001b[1;33m(\u001b[0m\u001b[0mself\u001b[0m\u001b[1;33m)\u001b[0m\u001b[1;33m:\u001b[0m\u001b[1;33m\u001b[0m\u001b[0m\n\u001b[1;32m--> 767\u001b[1;33m         \u001b[0mpkt\u001b[0m \u001b[1;33m=\u001b[0m \u001b[0mself\u001b[0m\u001b[1;33m.\u001b[0m\u001b[0m_read_packet\u001b[0m\u001b[1;33m(\u001b[0m\u001b[1;33m)\u001b[0m\u001b[1;33m\u001b[0m\u001b[0m\n\u001b[0m\u001b[0;32m    768\u001b[0m         \u001b[1;32mif\u001b[0m \u001b[1;32mnot\u001b[0m \u001b[0mpkt\u001b[0m\u001b[1;33m.\u001b[0m\u001b[0mis_ok_packet\u001b[0m\u001b[1;33m(\u001b[0m\u001b[1;33m)\u001b[0m\u001b[1;33m:\u001b[0m\u001b[1;33m\u001b[0m\u001b[0m\n\u001b[0;32m    769\u001b[0m             \u001b[1;32mraise\u001b[0m \u001b[0merr\u001b[0m\u001b[1;33m.\u001b[0m\u001b[0mOperationalError\u001b[0m\u001b[1;33m(\u001b[0m\u001b[1;36m2014\u001b[0m\u001b[1;33m,\u001b[0m \u001b[1;34m\"Command Out of Sync\"\u001b[0m\u001b[1;33m)\u001b[0m\u001b[1;33m\u001b[0m\u001b[0m\n",
      "\u001b[1;32mC:\\Anaconda3\\lib\\site-packages\\pymysql\\connections.py\u001b[0m in \u001b[0;36m_read_packet\u001b[1;34m(self, packet_type)\u001b[0m\n\u001b[0;32m    985\u001b[0m         \u001b[0mbuff\u001b[0m \u001b[1;33m=\u001b[0m \u001b[1;34mb''\u001b[0m\u001b[1;33m\u001b[0m\u001b[0m\n\u001b[0;32m    986\u001b[0m         \u001b[1;32mwhile\u001b[0m \u001b[1;32mTrue\u001b[0m\u001b[1;33m:\u001b[0m\u001b[1;33m\u001b[0m\u001b[0m\n\u001b[1;32m--> 987\u001b[1;33m             \u001b[0mpacket_header\u001b[0m \u001b[1;33m=\u001b[0m \u001b[0mself\u001b[0m\u001b[1;33m.\u001b[0m\u001b[0m_read_bytes\u001b[0m\u001b[1;33m(\u001b[0m\u001b[1;36m4\u001b[0m\u001b[1;33m)\u001b[0m\u001b[1;33m\u001b[0m\u001b[0m\n\u001b[0m\u001b[0;32m    988\u001b[0m             \u001b[1;32mif\u001b[0m \u001b[0mDEBUG\u001b[0m\u001b[1;33m:\u001b[0m \u001b[0mdump_packet\u001b[0m\u001b[1;33m(\u001b[0m\u001b[0mpacket_header\u001b[0m\u001b[1;33m)\u001b[0m\u001b[1;33m\u001b[0m\u001b[0m\n\u001b[0;32m    989\u001b[0m \u001b[1;33m\u001b[0m\u001b[0m\n",
      "\u001b[1;32mC:\\Anaconda3\\lib\\site-packages\\pymysql\\connections.py\u001b[0m in \u001b[0;36m_read_bytes\u001b[1;34m(self, num_bytes)\u001b[0m\n\u001b[0;32m   1019\u001b[0m         \u001b[1;32mwhile\u001b[0m \u001b[1;32mTrue\u001b[0m\u001b[1;33m:\u001b[0m\u001b[1;33m\u001b[0m\u001b[0m\n\u001b[0;32m   1020\u001b[0m             \u001b[1;32mtry\u001b[0m\u001b[1;33m:\u001b[0m\u001b[1;33m\u001b[0m\u001b[0m\n\u001b[1;32m-> 1021\u001b[1;33m                 \u001b[0mdata\u001b[0m \u001b[1;33m=\u001b[0m \u001b[0mself\u001b[0m\u001b[1;33m.\u001b[0m\u001b[0m_rfile\u001b[0m\u001b[1;33m.\u001b[0m\u001b[0mread\u001b[0m\u001b[1;33m(\u001b[0m\u001b[0mnum_bytes\u001b[0m\u001b[1;33m)\u001b[0m\u001b[1;33m\u001b[0m\u001b[0m\n\u001b[0m\u001b[0;32m   1022\u001b[0m                 \u001b[1;32mbreak\u001b[0m\u001b[1;33m\u001b[0m\u001b[0m\n\u001b[0;32m   1023\u001b[0m             \u001b[1;32mexcept\u001b[0m \u001b[1;33m(\u001b[0m\u001b[0mIOError\u001b[0m\u001b[1;33m,\u001b[0m \u001b[0mOSError\u001b[0m\u001b[1;33m)\u001b[0m \u001b[1;32mas\u001b[0m \u001b[0me\u001b[0m\u001b[1;33m:\u001b[0m\u001b[1;33m\u001b[0m\u001b[0m\n",
      "\u001b[1;32mC:\\Anaconda3\\lib\\socket.py\u001b[0m in \u001b[0;36mreadinto\u001b[1;34m(self, b)\u001b[0m\n\u001b[0;32m    584\u001b[0m         \u001b[1;32mwhile\u001b[0m \u001b[1;32mTrue\u001b[0m\u001b[1;33m:\u001b[0m\u001b[1;33m\u001b[0m\u001b[0m\n\u001b[0;32m    585\u001b[0m             \u001b[1;32mtry\u001b[0m\u001b[1;33m:\u001b[0m\u001b[1;33m\u001b[0m\u001b[0m\n\u001b[1;32m--> 586\u001b[1;33m                 \u001b[1;32mreturn\u001b[0m \u001b[0mself\u001b[0m\u001b[1;33m.\u001b[0m\u001b[0m_sock\u001b[0m\u001b[1;33m.\u001b[0m\u001b[0mrecv_into\u001b[0m\u001b[1;33m(\u001b[0m\u001b[0mb\u001b[0m\u001b[1;33m)\u001b[0m\u001b[1;33m\u001b[0m\u001b[0m\n\u001b[0m\u001b[0;32m    587\u001b[0m             \u001b[1;32mexcept\u001b[0m \u001b[0mtimeout\u001b[0m\u001b[1;33m:\u001b[0m\u001b[1;33m\u001b[0m\u001b[0m\n\u001b[0;32m    588\u001b[0m                 \u001b[0mself\u001b[0m\u001b[1;33m.\u001b[0m\u001b[0m_timeout_occurred\u001b[0m \u001b[1;33m=\u001b[0m \u001b[1;32mTrue\u001b[0m\u001b[1;33m\u001b[0m\u001b[0m\n",
      "\u001b[1;31mKeyboardInterrupt\u001b[0m: "
     ]
    }
   ],
   "source": [
    "#HOT\n",
    "import sqlite3\n",
    "from datetime import datetime\n",
    "import math\n",
    "\n",
    "conn = sqlite3.connect(\"C:\\\\Users\\\\BIG DATA\\\\Desktop\\\\car_price_db\\\\HOT.db\")\n",
    "cur = conn.cursor()\n",
    "count = cur.execute(\"SELECT count(*) FROM HOT \").fetchall()[0][0]\n",
    "cur.execute(\"SELECT * FROM HOT\")\n",
    "\n",
    "try:\n",
    "    for idx, row in enumerate(cur):\n",
    "#source,url,title,brand,model,doors,color,cc,transmission,equip,mileage,years,location,posttime,price,certificate, gasoline,deal,offtime \n",
    "\n",
    "        data = [('HOT',row[1],row[2],row[3],row[4],row[5],row[6],row[7],row[8],row[9],row[10],row[11],row[12],datetime.fromtimestamp(math.floor(float(row[13]))),row[14],row[15],None,None,None)]\n",
    "        \n",
    "        sqliteToMySQL(data,int(count),idx+1)\n",
    "except Exception as e:\n",
    "    print(\"HOT :\",e)\n",
    "    conn.rollback()\n",
    "\n",
    "conn.commit()\n",
    "conn.close()"
   ]
  },
  {
   "cell_type": "code",
   "execution_count": 10,
   "metadata": {
    "collapsed": false
   },
   "outputs": [
    {
     "name": "stderr",
     "output_type": "stream",
     "text": [
      "C:\\Anaconda3\\lib\\site-packages\\pymysql\\cursors.py:166: Warning: (1265, \"Data truncated for column 'cc' at row 1\")\n",
      "  result = self._query(query)\n"
     ]
    },
    {
     "name": "stdout",
     "output_type": "stream",
     "text": [
      "now is going on 137,which is 3% finished"
     ]
    },
    {
     "name": "stderr",
     "output_type": "stream",
     "text": [
      "C:\\Anaconda3\\lib\\site-packages\\pymysql\\cursors.py:166: Warning: (1264, \"Out of range value for column 'price' at row 1\")\n",
      "  result = self._query(query)\n"
     ]
    },
    {
     "name": "stdout",
     "output_type": "stream",
     "text": [
      "now is going on 1568,which is 39% finished"
     ]
    },
    {
     "name": "stderr",
     "output_type": "stream",
     "text": [
      "C:\\Anaconda3\\lib\\site-packages\\pymysql\\cursors.py:166: Warning: (1300, \"Invalid utf8 character string: 'F09F93'\")\n",
      "  result = self._query(query)\n",
      "C:\\Anaconda3\\lib\\site-packages\\pymysql\\cursors.py:166: Warning: (1366, \"Incorrect string value: '\\\\xF0\\\\x9F\\\\x93\\\\xA2\\\\xE8\\\\xB2...' for column 'title' at row 1\")\n",
      "  result = self._query(query)\n"
     ]
    },
    {
     "name": "stdout",
     "output_type": "stream",
     "text": [
      "now is going on 1593,which is 39% finished"
     ]
    },
    {
     "name": "stderr",
     "output_type": "stream",
     "text": [
      "C:\\Anaconda3\\lib\\site-packages\\pymysql\\cursors.py:166: Warning: (1366, \"Incorrect string value: '\\\\xF0\\\\x9F\\\\x93\\\\xA220...' for column 'title' at row 1\")\n",
      "  result = self._query(query)\n"
     ]
    },
    {
     "name": "stdout",
     "output_type": "stream",
     "text": [
      "now is going on 4016,which is 100% finished\n",
      " Insert Okay\n"
     ]
    }
   ],
   "source": [
    "#Yahoo\n",
    "import sqlite3\n",
    "from datetime import datetime\n",
    "import math\n",
    "\n",
    "conn = sqlite3.connect(\"C:\\\\Users\\\\BIG DATA\\\\Desktop\\\\car_price_db\\\\YahooCar.db\")\n",
    "cur = conn.cursor()\n",
    "count = cur.execute(\"SELECT count(*) FROM Yahoo \").fetchall()[0][0]\n",
    "cur.execute(\"SELECT * FROM Yahoo\")\n",
    "\n",
    "try:\n",
    "    for idx, row in enumerate(cur):\n",
    "#source,url,title,brand,model4,doors5 14,color6 11,cc7 12,transmission8 13,equip 9 16,mileage10 15,years11 9,location12 6,posttime 8,price 5,certificate 7,gasoline 10,deal,offtime \n",
    "\n",
    "        data = [(row[0],row[1],row[2],row[3],row[4],row[14],row[11],row[12],row[13],row[16],row[15],row[9],row[6],datetime.fromtimestamp(math.floor(int(row[8]))),row[5],row[7],row[10],None,None)]\n",
    "        \n",
    "        sqliteToMySQL(data,int(count),idx+1)\n",
    "except Exception as e:\n",
    "    print(\"Yahoo :\",e)\n",
    "    conn.rollback()\n",
    "\n",
    "conn.commit()\n",
    "conn.close()"
   ]
  },
  {
   "cell_type": "code",
   "execution_count": 6,
   "metadata": {
    "collapsed": false
   },
   "outputs": [
    {
     "name": "stdout",
     "output_type": "stream",
     "text": [
      "now is going on 23184,which is 100% finished\n",
      " Insert Okay\n"
     ]
    }
   ],
   "source": [
    "#icars\n",
    "import sqlite3\n",
    "from datetime import datetime\n",
    "import math\n",
    "\n",
    "conn = sqlite3.connect(\"C:\\\\Users\\\\BIG DATA\\\\Desktop\\\\car_price_db\\\\icars.db\")\n",
    "cur = conn.cursor()\n",
    "count = cur.execute(\"SELECT count(*) FROM icars_clean \").fetchall()[0][0]\n",
    "cur.execute(\"SELECT * FROM icars_clean\")\n",
    "\n",
    "try:\n",
    "    for idx, row in enumerate(cur):\n",
    "#source,url,title,brand,model,doors,color,cc,transmission,equip,mileage,years,location,posttime,price,certificate,gasoline,deal,offtime \n",
    "\n",
    "        data = [(row[0],row[1],row[2],row[3],row[4],row[5],row[6],row[7],row[8],row[9],row[10],row[11],row[12],\n",
    "                 datetime.fromtimestamp(int(row[13])),row[14],row[15],None, None, None)]\n",
    "        sqliteToMySQL(data,int(count),idx+1)\n",
    "except Exception as e:\n",
    "    print(\"icars :\",e)\n",
    "    conn.rollback()\n",
    "\n",
    "conn.commit()\n",
    "conn.close()"
   ]
  },
  {
   "cell_type": "code",
   "execution_count": 5,
   "metadata": {
    "collapsed": false
   },
   "outputs": [
    {
     "name": "stdout",
     "output_type": "stream",
     "text": [
      "now is going on 4170,which is 100% finished\n",
      " Insert Okay\n"
     ]
    }
   ],
   "source": [
    "#Ucar\n",
    "import sqlite3\n",
    "from datetime import datetime\n",
    "import math\n",
    "\n",
    "conn = sqlite3.connect(\"C:\\\\Users\\\\BIG DATA\\\\Desktop\\\\car_price_db\\\\Ucar.db\")\n",
    "cur = conn.cursor()\n",
    "count = cur.execute(\"SELECT count(*) FROM ucar_price \").fetchall()[0][0]\n",
    "brand = ['VOLVO','VW','SUZUKI','SUBARU','PORSCHE','AUDI','BENZ','BMW','LEXUS','FORD','TOYOTA','MAZDA','HONDA','MITSUBISHI','NISSAN']\n",
    "\n",
    "cur.execute(\"SELECT * FROM ucar_price\")\n",
    "\n",
    "try:\n",
    "    for idx, row in enumerate(cur):\n",
    "#source0,url1,title2,brand,model4,doors5,color6,cc8,transmission9,equip,mileage11,years,location13,posttime14,price,certificate,gasoline,deal,offtime \n",
    "\n",
    "        data = [(row[0],row[1],row[2],row[3],row[4],row[5],row[6],row[8],row[9],row[10],row[11],row[12],row[13],datetime.fromtimestamp(math.floor(float(row[14]))),row[16],row[17],row[7],row[19],None)]\n",
    "        \n",
    "        sqliteToMySQL(data,int(count),idx+1)\n",
    "except Exception as e:\n",
    "    print(\"Yahoo :\",e)\n",
    "    conn.rollback()\n",
    "\n",
    "conn.commit()\n",
    "conn.close()"
   ]
  },
  {
   "cell_type": "code",
   "execution_count": null,
   "metadata": {
    "collapsed": true
   },
   "outputs": [],
   "source": [
    "`source` , `url` ,`title` ,`brand` ,`model` ,`doors` ,`color` ,`cc` ,`transmission` ,\n",
    "`equip` ,`mileage` ,`years` ,`location` ,`posttime` ,`price` ,`certificate` ,`gasoline` ,`deal` ,`offtime` "
   ]
  },
  {
   "cell_type": "code",
   "execution_count": 5,
   "metadata": {
    "collapsed": false,
    "scrolled": false
   },
   "outputs": [],
   "source": []
  },
  {
   "cell_type": "code",
   "execution_count": 9,
   "metadata": {
    "collapsed": false
   },
   "outputs": [],
   "source": [
    "import math\n",
    "import pymysql\n",
    "import sys\n",
    "import time\n",
    "\n",
    "class mySQL_project:\n",
    "    IP = '192.168.196.36'\n",
    "    passwd = 'team1'\n",
    "    \n",
    "def sqliteToMySQL(data,count,idx):\n",
    "    conn = pymysql.connect(host=mySQL_project.IP, port=3306, user='team1', passwd=mySQL_project.passwd, db='team1',charset='utf8')\n",
    "#     cur.set_character_set('utf8')\n",
    "    cur = conn.cursor()\n",
    "    \n",
    "    sql = 'INSERT INTO final_car2 VALUES (%s, %s, %s, %s, %s, %s, %s, %s, %s, %s, %s, %s, %s, %s, %s, %s, %s, %s, %s)'\n",
    "    \n",
    "    try:\n",
    "    \n",
    "        cur.executemany(sql, data )\n",
    "#         time.sleep(0.3)\n",
    "        printStr = 'now is going on '+str(idx)+',which is '+str(math.floor(idx/count*100))+str('% finished')\n",
    "        sys.stdout.write('\\r' + printStr)\n",
    "        if count%50==0:\n",
    "            conn.commit()\n",
    "        if count == idx:\n",
    "            print('\\n Insert Okay')\n",
    "            \n",
    "    except Exception as e:\n",
    "        print(\"sqliteToMySQL : \",e)\n",
    "        conn.rollback()\n",
    "    conn.commit()\n",
    "    conn.close()\n",
    "    "
   ]
  },
  {
   "cell_type": "code",
   "execution_count": null,
   "metadata": {
    "collapsed": true
   },
   "outputs": [],
   "source": [
    "# cur.execute('SELECT * FROM project;')"
   ]
  }
 ],
 "metadata": {
  "kernelspec": {
   "display_name": "Python 3",
   "language": "python",
   "name": "python3"
  },
  "language_info": {
   "codemirror_mode": {
    "name": "ipython",
    "version": 3
   },
   "file_extension": ".py",
   "mimetype": "text/x-python",
   "name": "python",
   "nbconvert_exporter": "python",
   "pygments_lexer": "ipython3",
   "version": "3.6.0"
  }
 },
 "nbformat": 4,
 "nbformat_minor": 2
}
