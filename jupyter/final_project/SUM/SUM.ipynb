{
 "cells": [
  {
   "cell_type": "code",
   "execution_count": 8,
   "metadata": {
    "collapsed": false
   },
   "outputs": [
    {
     "name": "stdout",
     "output_type": "stream",
     "text": [
      "['http://www.sum.com.tw/carinfo.php?id=399522', 'http://www.sum.com.tw/carinfo.php?id=407962', 'http://www.sum.com.tw/carinfo.php?id=408410', 'http://www.sum.com.tw/carinfo.php?id=411212', 'http://www.sum.com.tw/carinfo.php?id=411639', 'http://www.sum.com.tw/carinfo.php?id=410623', 'http://www.sum.com.tw/carinfo.php?id=410366', 'http://www.sum.com.tw/carinfo.php?id=410726', 'http://www.sum.com.tw/carinfo.php?id=400965', 'http://www.sum.com.tw/carinfo.php?id=406184']\n",
      "10\n"
     ]
    }
   ],
   "source": [
    "#抓出各個車種網址   1min\n",
    "import re\n",
    "def innerPages():\n",
    "    href_list = []\n",
    "    host = 'http://www.sum.com.tw/'\n",
    "#     for carName in NISSAN :\n",
    "    for pages in range(1,2):\n",
    "        url = 'http://www.sum.com.tw/result1_all.php?sn=&page={}&brand=NISSAN &year=2000&year1=2017'.format(pages)\n",
    "        res = r.get(url,headers=HEADER)\n",
    "        soup = BeautifulSoup(res.text,'lxml')\n",
    "        car_href = soup.select('li.carInfo > strong > a')\n",
    "        for idx in car_href:\n",
    "            href_list += re.findall('.+\\?.*', host+idx['href'])\n",
    "        href_list = list(set(href_list))\n",
    "    print(href_list)\n",
    "    print(len(href_list))\n",
    "#     with open(carName.csv, 'w') as fw:\n",
    "#         fw.writw('\\n'.join(href_list))\n",
    "innerPages()"
   ]
  },
  {
   "cell_type": "code",
   "execution_count": 7,
   "metadata": {
    "collapsed": false
   },
   "outputs": [
    {
     "data": {
      "text/plain": [
       "[104, 215, 147, 65, 74, 8, 34, 33, 23, 2, 30, 3, 59, 5, 34]"
      ]
     },
     "execution_count": 7,
     "metadata": {},
     "output_type": "execute_result"
    }
   ],
   "source": [
    "#各個車種的頁數\n",
    "def car_pages():\n",
    "    count_list2 = []\n",
    "    for idx in car_count():\n",
    "        if(idx%10==0):\n",
    "            count_list2.append((math.floor(idx/10)))\n",
    "        else:\n",
    "            count_list2.append((math.floor(idx/10)+1))\n",
    "    return count_list2\n",
    "car_pages()"
   ]
  },
  {
   "cell_type": "code",
   "execution_count": 2,
   "metadata": {
    "collapsed": false
   },
   "outputs": [
    {
     "data": {
      "text/plain": [
       "[1031, 2143, 1470, 647, 731, 76, 338, 321, 228, 15, 297, 30, 581, 42, 335]"
      ]
     },
     "execution_count": 2,
     "metadata": {},
     "output_type": "execute_result"
    }
   ],
   "source": [
    "#各個車種筆數   and   總筆數   return count_list\n",
    "def car_count():\n",
    "    count_list = []\n",
    "    counter = 0\n",
    "    for carName in carName_list:\n",
    "        url = 'http://www.sum.com.tw/result1_all.php?brand='+carName+'&year=2000&year1=2017'\n",
    "        res = r.get(url,headers=HEADER)\n",
    "        soup = BeautifulSoup(res.text,'lxml')\n",
    "        count = int(soup.select_one( '.answer > strong').text)\n",
    "#         print('%s : %d' % (carName, count))\n",
    "        count_list.append(count)\n",
    "        counter += count\n",
    "#     print('totalCount : %d' % counter)\n",
    "    return count_list\n",
    "car_count()"
   ]
  },
  {
   "cell_type": "code",
   "execution_count": 1,
   "metadata": {
    "collapsed": false,
    "scrolled": true
   },
   "outputs": [],
   "source": []
  },
  {
   "cell_type": "code",
   "execution_count": 37,
   "metadata": {
    "collapsed": true
   },
   "outputs": [],
   "source": [
    "#OK\n",
    "def car_url2(host, HEADER, carName, page, lock):\n",
    "    url = 'http://www.sum.com.tw/result1_all.php?sn=&page={}&brand={} &year=2000&year1=2017'.format(page,carName)\n",
    "    res = r.get(url,headers=HEADER)\n",
    "    soup = BeautifulSoup(res.text,'lxml')\n",
    "    car_href = soup.select('li.carInfo > strong > a')\n",
    "    href_list = []\n",
    "    with lock:\n",
    "        for idx in car_href:\n",
    "            href_list += re.findall('.+\\?.*', host+idx['href'])\n",
    "        href_list = list(set(href_list))\n",
    "#     print(href_list)\n",
    "    print(carName,len(href_list))\n",
    "    with open('{}.csv'.format(carName), 'a') as fw:\n",
    "        fw.write('\\n'.join(href_list))"
   ]
  },
  {
   "cell_type": "code",
   "execution_count": 13,
   "metadata": {
    "collapsed": false
   },
   "outputs": [],
   "source": [
    "#test\n",
    "import requests as r\n",
    "from  bs4 import BeautifulSoup\n",
    "from lib.toolbox import gen_header\n",
    "import math\n",
    "import threading\n",
    "import time\n",
    "import re\n",
    "def car_url(host, HEADER, page, lock):\n",
    "    url = 'http://www.sum.com.tw/result1_all.php?sn=&page={}&brand={} &year=2000&year1=2017'.format(page,'NISSAN')\n",
    "    res = r.get(url,headers=HEADER)\n",
    "    soup = BeautifulSoup(res.text,'lxml')\n",
    "    car_href = soup.select('li.carInfo > strong > a')\n",
    "    href_list = []\n",
    "    with lock:\n",
    "        for idx in car_href:\n",
    "            href_list += re.findall('.+\\?.*', host+idx['href'])\n",
    "        href_list = list(set(href_list))\n",
    "#     print(href_list)\n",
    "    \n",
    "    print('NISSAN',len(href_list))\n",
    "    with open('{}.csv'.format('NISSAN'), 'a') as fw:\n",
    "        fw.write('\\n'.join(href_list))\n",
    "        fw.write('\\n')"
   ]
  },
  {
   "cell_type": "code",
   "execution_count": null,
   "metadata": {
    "collapsed": true
   },
   "outputs": [],
   "source": [
    "import requests as r\n",
    "from  bs4 import BeautifulSoup\n",
    "from lib.toolbox import gen_header\n",
    "import math\n",
    "import threading\n",
    "import time\n",
    "\n",
    "lock = threading.Lock()\n",
    "header_str = 'User-Agent:Mozilla/5.0 (X11; Linux x86_64) AppleWebKit/537.36 (KHTML, like Gecko) Chrome/57.0.2987.133 Safari/537.36'\n",
    "HEADER = gen_header(header_str)\n",
    "carName_list = ['NISSAN','TOYOTA','MITSUBISHI','HONDA','FORD','AUDI','BENZ','BMW','LEXUS','PORSCHE','VW','VOLVO','MAZDA','SUBARU','SUZUKI']\n",
    "host = 'http://www.sum.com.tw/'\n",
    "thread_list = []\n",
    "\n",
    "def main():\n",
    "    for carName in carName_list :\n",
    "        for pages in car_pages():\n",
    "            for page in range(1,pages+1):\n",
    "                th = threading.Thread(target=car_url, args=(host, HEADER, carName, page, lock))\n",
    "                th.start()\n",
    "                time.sleep(0.2)\n",
    "                thread_list.append(th)\n",
    "        print('[Debug] {} is finished'.format(carName))\n",
    "    for thread in thread_list:\n",
    "        thread.join()\n",
    "            \n",
    "main()"
   ]
  },
  {
   "cell_type": "code",
   "execution_count": 1,
   "metadata": {
    "collapsed": true
   },
   "outputs": [],
   "source": [
    "import requests as r\n",
    "from  bs4 import BeautifulSoup\n",
    "from lib.toolbox import gen_header\n",
    "import math\n",
    "import threading\n",
    "import time\n",
    "lock = threading.Lock()\n",
    "header_str = 'User-Agent:Mozilla/5.0 (X11; Linux x86_64) AppleWebKit/537.36 (KHTML, like Gecko) Chrome/57.0.2987.133 Safari/537.36'\n",
    "HEADER = gen_header(header_str)\n",
    "carName_list = ['NISSAN','TOYOTA','MITSUBISHI','HONDA','FORD','AUDI','BENZ','BMW','LEXUS','PORSCHE','VW','VOLVO','MAZDA','SUBARU','SUZUKI']\n",
    "host = 'http://www.sum.com.tw/'\n",
    "thread_list = []"
   ]
  },
  {
   "cell_type": "code",
   "execution_count": 14,
   "metadata": {
    "collapsed": true
   },
   "outputs": [
    {
     "name": "stdout",
     "output_type": "stream",
     "text": [
      "[Debug] NISSAN is finished\n",
      "NISSAN 10\n",
      "NISSAN 10\n",
      "NISSAN 10\n",
      "NISSAN 10\n",
      "NISSAN 10\n",
      "NISSAN 10\n",
      "NISSAN 10\n",
      "NISSAN 10\n",
      "NISSAN 10\n",
      "NISSAN 10\n",
      "NISSAN 10\n",
      "NISSAN 10\n",
      "NISSAN 10\n",
      "NISSAN 10\n",
      "NISSAN 10\n",
      "NISSAN 10\n",
      "NISSAN 10\n",
      "NISSAN 10\n",
      "NISSAN 10\n",
      "NISSAN 10\n",
      "NISSAN 10\n",
      "NISSAN 10\n",
      "NISSAN 10\n",
      "NISSAN 10\n",
      "NISSAN 10\n",
      "NISSAN 10\n",
      "NISSAN 10\n",
      "NISSAN 10\n",
      "NISSAN 10\n",
      "NISSAN 10\n",
      "NISSAN 10\n",
      "NISSAN 10\n",
      "NISSAN 10\n",
      "NISSAN 10\n",
      "NISSAN 10\n",
      "NISSAN 10\n",
      "NISSAN 10\n",
      "NISSAN 10\n",
      "NISSAN 10\n",
      "NISSAN 10\n",
      "NISSAN 10\n",
      "NISSAN 10\n",
      "NISSAN 10\n",
      "NISSAN 10\n",
      "NISSAN 10\n",
      "NISSAN 10\n",
      "NISSAN 10\n",
      "NISSAN 10\n",
      "NISSAN 10\n",
      "NISSAN 10\n",
      "NISSAN 10\n",
      "NISSAN 10\n",
      "NISSAN 10\n",
      "NISSAN 10\n",
      "NISSAN 10\n",
      "NISSAN 10\n",
      "NISSAN 10\n",
      "NISSAN 10\n",
      "NISSAN 10\n",
      "NISSAN 10\n",
      "NISSAN 10\n",
      "NISSAN 10\n",
      "NISSAN 10\n",
      "NISSAN 10\n",
      "NISSAN 10\n",
      "NISSAN 10\n",
      "NISSAN 10\n",
      "NISSAN 10\n",
      "NISSAN 10\n",
      "NISSANNISSANNISSAN  1010 \n",
      "\n",
      "10\n",
      "NISSAN 10\n",
      "NISSAN 10\n",
      "NISSAN 10\n",
      "NISSAN 10\n",
      "NISSAN 10\n",
      "NISSANNISSAN 10\n",
      " 10\n",
      "NISSAN 10\n",
      "NISSAN 10\n",
      "NISSANNISSAN  1010\n",
      "\n",
      "NISSAN 10\n",
      "NISSAN 10\n",
      "NISSAN 10NISSAN\n",
      " NISSANNISSAN 10 10\n",
      "10\n",
      "\n",
      "NISSAN 10\n",
      "NISSAN 10\n",
      "NISSAN 10\n",
      "NISSAN 10\n",
      "NISSAN 10\n",
      "NISSAN 10\n",
      "NISSAN 10\n",
      "NISSAN 10\n",
      "NISSAN 10\n",
      "NISSAN 10\n",
      "NISSAN 10\n",
      "NISSAN 10\n",
      "NISSAN 10\n",
      "NISSAN 10\n"
     ]
    }
   ],
   "source": [
    "import requests as r\n",
    "from  bs4 import BeautifulSoup\n",
    "from lib.toolbox import gen_header\n",
    "import math\n",
    "import threading\n",
    "import time\n",
    "\n",
    "\n",
    "def main():\n",
    "#     for carName in carName_list :\n",
    "#         for pages in car_pages():\n",
    "    for page in range(1,103+1):\n",
    "        th = threading.Thread(target=car_url, args=(host, HEADER, page, lock))\n",
    "        th.start()\n",
    "#                 time.sleep(1)\n",
    "#                 thread_list.append(th)\n",
    "    print('[Debug] {} is finished'.format('NISSAN'))\n",
    "#     for thread in thread_list:\n",
    "#         thread.join()\n",
    "            \n",
    "main()"
   ]
  },
  {
   "cell_type": "code",
   "execution_count": 46,
   "metadata": {
    "collapsed": true
   },
   "outputs": [
    {
     "name": "stdout",
     "output_type": "stream",
     "text": [
      "104\n",
      "215\n",
      "147\n",
      "65\n",
      "74\n",
      "8\n",
      "34\n",
      "33\n",
      "23\n",
      "2\n",
      "30\n",
      "3\n",
      "59\n",
      "5\n",
      "34\n"
     ]
    }
   ],
   "source": [
    "for pages in car_pages():\n",
    "    print(pages)"
   ]
  },
  {
   "cell_type": "code",
   "execution_count": 47,
   "metadata": {
    "collapsed": true
   },
   "outputs": [
    {
     "name": "stdout",
     "output_type": "stream",
     "text": [
      "NISSAN\n",
      "TOYOTA\n",
      "MITSUBISHI\n",
      "HONDA\n",
      "FORD\n",
      "AUDI\n",
      "BENZ\n",
      "BMW\n",
      "LEXUS\n",
      "PORSCHE\n",
      "VW\n",
      "VOLVO\n",
      "MAZDA\n",
      "SUBARU\n",
      "SUZUKI\n"
     ]
    }
   ],
   "source": [
    "for carName in carName_list :\n",
    "    print(carName)"
   ]
  },
  {
   "cell_type": "code",
   "execution_count": null,
   "metadata": {
    "collapsed": true
   },
   "outputs": [],
   "source": []
  },
  {
   "cell_type": "code",
   "execution_count": null,
   "metadata": {
    "collapsed": true
   },
   "outputs": [],
   "source": []
  },
  {
   "cell_type": "code",
   "execution_count": null,
   "metadata": {
    "collapsed": true
   },
   "outputs": [],
   "source": []
  }
 ],
 "metadata": {
  "kernelspec": {
   "display_name": "Python 3",
   "language": "python",
   "name": "python3"
  },
  "language_info": {
   "codemirror_mode": {
    "name": "ipython",
    "version": 3
   },
   "file_extension": ".py",
   "mimetype": "text/x-python",
   "name": "python",
   "nbconvert_exporter": "python",
   "pygments_lexer": "ipython3",
   "version": "3.6.0"
  }
 },
 "nbformat": 4,
 "nbformat_minor": 2
}
