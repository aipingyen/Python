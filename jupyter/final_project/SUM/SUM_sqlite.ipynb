{
 "cells": [
  {
   "cell_type": "code",
   "execution_count": 3,
   "metadata": {
    "collapsed": true
   },
   "outputs": [],
   "source": [
    "import requests as r\n",
    "from  bs4 import BeautifulSoup\n",
    "from lib.toolbox import gen_header\n",
    "import math\n",
    "import threading\n",
    "import time\n",
    "import re\n",
    "from random import randint\n",
    "\n",
    "host = 'http://www.sum.com.tw/'\n",
    "carName_list = ['VOLVO','VW','SUZUKI','SUBARU','PORSCHE','AUDI','BENZ','BMW','LEXUS','FORD','TOYOTA','MAZDA','HONDA','MITSUBISHI','NISSAN']"
   ]
  },
  {
   "cell_type": "code",
   "execution_count": null,
   "metadata": {
    "collapsed": true
   },
   "outputs": [],
   "source": [
    "def creatTB():\n",
    "    db = sqlite3.connect(\"./SUM.db\")\n",
    "    cur = db.cursor()\n",
    "    cur.execute(\"drop table SUM\")\n",
    "    cursor.execute('''CREATE TABLE icars\n",
    "             (source text, url text, title text, brand text, model text, doors text, color text,\n",
    "             cc text, transmission text, equip text, mileage text, years text, location text, posttime text, price text,\n",
    "             certificate text)''')\n",
    "    db.commit()\n",
    "creatTB()\n"
   ]
  },
  {
   "cell_type": "code",
   "execution_count": 8,
   "metadata": {
    "collapsed": false
   },
   "outputs": [
    {
     "name": "stdout",
     "output_type": "stream",
     "text": [
      "9\n",
      "自排\n",
      "汽油車 0\n",
      "2WD\n",
      "5門\n",
      "5\n",
      "\n",
      "\n"
     ]
    }
   ],
   "source": [
    "#format\n",
    "url = \"http://www.sum.com.tw/carinfo.php?id=394792\"\n",
    "res = r.get(url)\n",
    "soup = BeautifulSoup(res.text,'lxml')\n",
    "formatList = soup.select('.formatArea > .formatList > li')\n",
    "print(len(formatList))\n",
    "for carformat in formatList:\n",
    "    for span in carformat.find_all('span'):\n",
    "        span.decompose()\n",
    "print(formatList[0].text) #\n",
    "print(formatList[1].text)   #\n",
    "print(formatList[2].text)\n",
    "print(formatList[3].text) #\n",
    "print(formatList[4].text)\n",
    "print(formatList[5].text)\n",
    "print(formatList[8].text)"
   ]
  },
  {
   "cell_type": "code",
   "execution_count": 13,
   "metadata": {
    "collapsed": false
   },
   "outputs": [],
   "source": [
    "#for idx, tr in enumerate(td):"
   ]
  },
  {
   "cell_type": "code",
   "execution_count": 29,
   "metadata": {
    "collapsed": false
   },
   "outputs": [
    {
     "name": "stdout",
     "output_type": "stream",
     "text": [
      "[<li><strong>廠牌車款</strong>SUZUKI - SWIFT </li>, <li><strong>出廠年份</strong>2011</li>, <li><strong>外觀顏色</strong>紅色系</li>, <li><strong>排  氣  量</strong>1400c.c</li>, <li><strong>展  售  日</strong>2017.03.10</li>]\n"
     ]
    },
    {
     "data": {
      "text/plain": [
       "'雲林縣虎尾鎮竹圍68號'"
      ]
     },
     "execution_count": 29,
     "metadata": {},
     "output_type": "execute_result"
    }
   ],
   "source": [
    "import time\n",
    "url = \"http://www.sum.com.tw/carinfo.php?id=394792\"\n",
    "res = r.get(url,headers=HEADER)\n",
    "soup = BeautifulSoup(res.text,'lxml')\n",
    "infoList = soup.select('.infoList > li')\n",
    "\n",
    "print(infoList)\n",
    "query_list = [] \n",
    "\n",
    "query_dict['brand'] = infoList[0].text.strip()\n",
    "query_dict['years'] = infoList[1].text\n",
    "query_dict['color'] = infoList[2].text\n",
    "query_dict['cc'] = infoList[3].text\n",
    "\n",
    "#time  tm\n",
    "# po_time = infoList[4].text\n",
    "# print(po_time)\n",
    "# poTimeArray = time.strptime(po_time, \"%Y.%m.%d\")\n",
    "# tm = int(time.mktime(poTimeArray))\n",
    "# query_dict['time'] = tm\n",
    "\n",
    "\n",
    "query_dict[\"price\"] = soup.select_one('.price > span > strong').text\n",
    "query_dict\n",
    "a=soup.select('.lineBottom')[3].text\n",
    "a"
   ]
  },
  {
   "cell_type": "code",
   "execution_count": 19,
   "metadata": {
    "collapsed": true
   },
   "outputs": [],
   "source": [
    "def gen_headers():\n",
    "    referers = ['tw.yahoo.com', 'www.google.com', 'http://www.msn.com/zh-tw/', 'http://www.pchome.com.tw/']\n",
    "    user_agents = [\n",
    "        'Mozilla/5.0 (X11; CrOS x86_64 8172.45.0) AppleWebKit/537.36 (KHTML, like Gecko) Chrome/51.0.2704.64 Safari/537.36',\n",
    "        'Mozilla/5.0 (Macintosh; Intel Mac OS X 10_11_2) AppleWebKit/601.3.9 (KHTML, like Gecko) Version/9.0.2 Safari/601.3.9',\n",
    "        'Mozilla/5.0 (Windows NT 6.1; WOW64) AppleWebKit/537.36 (KHTML, like Gecko) Chrome/47.0.2526.111 Safari/537.36',\n",
    "        'Mozilla/5.0 (compatible; Googlebot/2.1; +http://www.google.com/bot.html)']\n",
    "    headers = {'User-Agent': user_agents[randint(0, len(user_agents) - 1)],\n",
    "               'Remferer': referers[randint(0, len(referers) - 1)]}\n",
    "    return headers"
   ]
  },
  {
   "cell_type": "code",
   "execution_count": 22,
   "metadata": {
    "collapsed": false
   },
   "outputs": [],
   "source": [
    "def main():\n",
    "    for carName in carName_list:\n",
    "        with open('./SUM/{}.csv'.format(carName), 'r') as fr:\n",
    "            url = fr.read().strip().split()\n",
    "            get_content(url, carName)"
   ]
  },
  {
   "cell_type": "code",
   "execution_count": 33,
   "metadata": {
    "collapsed": false
   },
   "outputs": [
    {
     "data": {
      "text/plain": [
       "{'價格': '36.8萬',\n",
       " '型號': 'SUZUKI - SWIFT',\n",
       " '年份': '2011',\n",
       " '廠牌': 'SUZUKI',\n",
       " '所在地': '雲林縣虎尾鎮竹圍68號',\n",
       " '排擋方式': '自排',\n",
       " '時間': '1489075200.0',\n",
       " '標題': 'SUZUKI SWIFT  2011 SWIFT 頂級I-KEY',\n",
       " '網站': 'SUM',\n",
       " '色系': '紅色系',\n",
       " '車門': '5門',\n",
       " '連結': 'http://www.sum.com.tw/carinfo.php?id=394792',\n",
       " '配備': 'CD,ABS,TCS,HID頭燈,皮椅,定速,防盜,鋁圈,霧燈,備胎,一手車,電動窗,中控鎖,安全氣囊,恆溫空調,音響主機,倒車雷達,晶片系統,電動後視鏡,核桃木飾板,車前距雷達,行車資訊顯示器,方向盤音響控制,免KEY,'}"
      ]
     },
     "execution_count": 33,
     "metadata": {},
     "output_type": "execute_result"
    }
   ],
   "source": [
    "def get_content(url, carName):\n",
    "    \n",
    "    headers = gen_headers()\n",
    "    res = r.get(url,headers=HEADER)\n",
    "    soup = BeautifulSoup(res.text,'lxml')\n",
    "    \n",
    "    infoList = soup.select('.infoList > li')\n",
    "    for idx in infoList:\n",
    "        for strong in idx.find_all('strong'):\n",
    "            strong.decompose()\n",
    "    \n",
    "    formatList = soup.select('.formatArea > .formatList > li')\n",
    "#     print(len(formatList))\n",
    "    for carformat in formatList:\n",
    "        for span in carformat.find_all('span'):\n",
    "            span.decompose()\n",
    "            \n",
    "    outfitList = soup.select('.formatArea > .outfitList > .have')\n",
    "    contents_dict = {}\n",
    "    contents = []\n",
    "    \n",
    "    #brand\n",
    "    brand = carName\n",
    "    contents.append('廠牌：' + brand)\n",
    "    \n",
    "    # price\n",
    "    price = soup.select_one('.price > span > strong').text\n",
    "    contents.append('價格：' + price)\n",
    "\n",
    "    # posTime\n",
    "    po_time = infoList[4].text\n",
    "    poTimeArray = time.strptime(po_time, \"%Y.%m.%d\")\n",
    "    tm = time.mktime(poTimeArray)\n",
    "    contents.append('時間：' + str(tm))\n",
    "\n",
    "    # title\n",
    "    title_table = soup.select_one('.gradientGray_bar > h1').text\n",
    "    contents.append('標題：' + title_table)\n",
    "    \n",
    "    # Eqip\n",
    "    outfits = \"\"\n",
    "    for outfit in outfitList:\n",
    "        outfits += outfit.text.strip()\n",
    "        outfits += \",\"\n",
    "    contents.append('配備：' + outfits)\n",
    "\n",
    "    content_dict = {k.split('：')[0]: k.split('：')[1] for k in contents if len(k) > 0}\n",
    "    \n",
    "    content_dict['網站'] = 'SUM'\n",
    "    content_dict['連結'] = url\n",
    "    #transmission \n",
    "    content_dict['排擋方式'] = formatList[0].text\n",
    "    #doors\n",
    "    content_dict['車門'] = formatList[3].text\n",
    "    #years\n",
    "    content_dict['年份'] = infoList[1].text\n",
    "    #color\n",
    "    content_dict['色系'] = infoList[2].text\n",
    "    #location\n",
    "    content_dict['所在地'] = soup.select('.lineBottom')[3].text\n",
    "    #model\n",
    "    content_dict['型號'] = infoList[0].text.strip()\n",
    "    \n",
    "    return content_dict\n",
    "\n",
    "get_content(\"http://www.sum.com.tw/carinfo.php?id=394792\",\"SUZUKI\")"
   ]
  },
  {
   "cell_type": "code",
   "execution_count": 38,
   "metadata": {
    "collapsed": true
   },
   "outputs": [],
   "source": [
    "def add_to_sqlite(content_dict):\n",
    "    conn = sqlite3.connect('./SUM.db')\n",
    "    cursor = conn.cursor()\n",
    "\n",
    "    source = content_dict['網站']   #\n",
    "    url = content_dict['連結']      #\n",
    "    title = content_dict['標題']    #\n",
    "    brand = content_dict['廠牌']    #\n",
    "    model = content_dict['型號']    #\n",
    "    doors = content_dict['車門']    #\n",
    "    color = content_dict['色系']    #\n",
    "    cc = content_dict['排氣量']     #\n",
    "    transmission = content_dict['排擋方式']   #\n",
    "    equip = content_dict['配備']            #\n",
    "    mileage = content_dict['行駛里程']      #\n",
    "    years = content_dict['年份']           #\n",
    "    location = content_dict['所在地']     #\n",
    "    posttime = content_dict['時間']      #\n",
    "    price = content_dict['價格']        #\n",
    "    certificate = ''\n",
    "\n",
    "    cursor.execute('INSERT INTO icars VALUES (?, ?, ?, ?, ?, ?, ?, ?, ?, ?, ?, ?, ?, ?, ?, ?)',\n",
    "                   (source, url, title, brand, model, doors, color, cc, transmission, equip,\n",
    "                    mileage, years, location, posttime, price, certificate))\n",
    "\n",
    "    conn.commit()"
   ]
  },
  {
   "cell_type": "code",
   "execution_count": 39,
   "metadata": {
    "collapsed": true
   },
   "outputs": [],
   "source": [
    "def check_duplicates(content_dict):\n",
    "    conn = sqlite3.connect('/home/ubuntu/python/III/Python/final_project/Crawler/icars.db')\n",
    "    cursor = conn.cursor()\n",
    "\n",
    "    title = content_dict['標題']\n",
    "    color = content_dict['色系']\n",
    "    cc = content_dict['排氣量']\n",
    "    equip = content_dict['配備']\n",
    "    location = content_dict['所在地']\n",
    "\n",
    "    num = list(\n",
    "        cursor.execute('SELECT * FROM icars WHERE title = ? AND cc = ? AND color = ?  AND equip = ? AND location = ?',\n",
    "                       (title, cc, color, equip, location)))\n",
    "    if num != 0:\n",
    "        return False\n",
    "    else:\n",
    "        return True"
   ]
  },
  {
   "cell_type": "code",
   "execution_count": null,
   "metadata": {
    "collapsed": true
   },
   "outputs": [],
   "source": [
    "conn = sqlite3.connect('./Mobile01.db')\n",
    "cursor = conn.cursor()\n",
    "\n",
    "source = content_dict['網站']\n",
    "url = content_dict['連結']\n",
    "title = content_dict['標題']\n",
    "brand = content_dict['廠牌']\n",
    "model = content_dict['型號']\n",
    "doors = content_dict['車門']\n",
    "color = content_dict['色系']\n",
    "cc = content_dict['排氣量']\n",
    "transmission = content_dict['排擋方式']\n",
    "equip = content_dict['配備']\n",
    "mileage = content_dict['網站']\n",
    "years = content_dict['行駛里程']\n",
    "location = content_dict['所在地']\n",
    "posttime = content_dict['時間']\n",
    "price = content_dict['價格']\n",
    "certificate = ''\n",
    "\n",
    "\n",
    "try:\n",
    "    cursor.execute('INSERT INTO icars VALUES (?, ?, ?, ?, ?, ?, ?, ?, ?, ?, ?, ?, ?, ?, ?, ?)',\n",
    "                   (source, url, title, brand, model, doors, color, cc, transmission, equip,\n",
    "                    mileage, years, location, posttime, price, certificate))\n",
    "    conn.commit()\n",
    "except Exception as e:\n",
    "    print(e)\n",
    "    conn.rollback() "
   ]
  }
 ],
 "metadata": {
  "kernelspec": {
   "display_name": "Python 3",
   "language": "python",
   "name": "python3"
  },
  "language_info": {
   "codemirror_mode": {
    "name": "ipython",
    "version": 3
   },
   "file_extension": ".py",
   "mimetype": "text/x-python",
   "name": "python",
   "nbconvert_exporter": "python",
   "pygments_lexer": "ipython3",
   "version": "3.6.0"
  }
 },
 "nbformat": 4,
 "nbformat_minor": 2
}
