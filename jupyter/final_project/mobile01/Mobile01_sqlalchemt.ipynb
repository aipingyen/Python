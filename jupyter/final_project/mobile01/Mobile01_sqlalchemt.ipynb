{
 "cells": [
  {
   "cell_type": "code",
   "execution_count": 6,
   "metadata": {
    "collapsed": true
   },
   "outputs": [],
   "source": [
    "import requests as r\n",
    "from  bs4 import BeautifulSoup\n",
    "from lib.toolbox import gen_header\n",
    "import math\n",
    "import re\n",
    "import random\n",
    "import time\n",
    "import sqlalchemy\n",
    "from sqlalchemy import create_engine\n",
    "import pandas as pd\n",
    "\n",
    "header_str = 'User-Agent:Mozilla/5.0 (X11; Linux x86_64) AppleWebKit/537.36 (KHTML, like Gecko) Chrome/57.0.2987.133 Safari/537.36'\n",
    "HEADER = gen_header(header_str)\n",
    "\n",
    "url = \"https://www.mobile01.com/topicdetail.php?f=606&t=5155882&p=9\"\n",
    "df = pd.DataFrame()"
   ]
  },
  {
   "cell_type": "code",
   "execution_count": 55,
   "metadata": {
    "collapsed": false
   },
   "outputs": [
    {
     "name": "stdout",
     "output_type": "stream",
     "text": [
      "Audi\n"
     ]
    }
   ],
   "source": [
    "res = r.get(url,headers=HEADER)\n",
    "soup = BeautifulSoup(res.text,'lxml')\n",
    "boardTag = soup.select('.navbar > .nav > a')\n",
    "# print(boardTag)\n",
    "Board = boardTag[3].text\n",
    "print(Board)"
   ]
  },
  {
   "cell_type": "code",
   "execution_count": 9,
   "metadata": {
    "collapsed": false,
    "scrolled": true
   },
   "outputs": [
    {
     "name": "stdout",
     "output_type": "stream",
     "text": [
      "面臨對手的進逼, Audi您準備好了嗎?\n",
      "chuangs4\n",
      "1495621440\n",
      "Audi\n",
      "\n",
      "\n",
      "QQ哥哥哥 wrote:\r\n",
      "弟沒有東西是無敵的...(恕刪) 坦白說我當然沒開過所有的Audi四驅車, 但從曾經擁有過的這些頂規Audi車的經驗來說, 還真的感覺不出quattro的進步唷?? 或許也是習慣了那種高速入彎仍有點推頭的類前驅感受吧??\n",
      "\n",
      "\n",
      "reply_no :  6\n",
      "replies \n",
      "QQ哥哥哥 wrote:\r\n",
      "只能說你我使用方式...(恕刪) 您的心路歷程我都走過, 當年剛接觸到quattro時都感覺哇賽! 怎麼有車過彎像軌道車一樣這麼穩的, 隨便開隨便快, 人家M跟AMG都要收油門了哩....超正點! \n",
      "\r\n",
      "但quattro開久了才知道過彎穩定並非操控樂趣的全部, 更精確的說, 因為它太過死板穩定, 反而失去了體會真正操駕熱情的機會, 人嘛, 每個階段的人生體悟會不一樣, 十年後再回頭看看自己以前的輕狂, 或許您對quattro會有另一番註解!\n",
      "\n",
      "\n",
      "\n",
      "==================================\n",
      "chuangs4 wrote:\r\n",
      "哀, 人家的系統是...(恕刪)\r\n",
      "只能說你我使用方式不一樣\r\n",
      "我希望電腦自己幫我判斷該甚麼驅就給我甚麼驅\r\n",
      "你認為需此路段條件要前驅時\r\n",
      "偏偏路上有攤油還在彎道???怎麼辦\n",
      "\n",
      "\n",
      "==================================\n",
      "QQ哥哥哥 wrote:\r\n",
      "那你應該找台15年...(恕刪) 15年前的quattro不用找啦, 哥車庫內的車都放到沒電懶得開出門了....\n",
      "\r\n",
      "不過還是幫她訂做了一個漂亮的奶罩蓋起來....\n",
      "\n",
      "\r\n",
      "至於BMW的四驅....恩, 等哥真的看開了搞不好.....\n",
      "\n",
      "\n",
      "\n",
      "==================================\n",
      "QQ哥哥哥 wrote:\r\n",
      "你不懂我的意思我現...(恕刪)哀, 人家的系統是讓您可以四驅跟後驅切換, 視不同的路況與目的做操駕的選擇, 這是一個價格雙重享受的意義, 不是教您故意開後驅去胚山路失控的丫?\n",
      "\n",
      "\n",
      "==================================\n",
      "chuangs4 wrote:\r\n",
      "坦白說我當然沒開過...(恕刪)\r\n",
      "那你應該找台15年前的Quattro開一開\r\n",
      "再和現在的Quattro來比較\r\n",
      "才公平\n",
      "\r\n",
      "再者你應該也還沒開過目前BMW的四驅吧\n",
      "\n",
      "\n",
      "==================================\n",
      "\n",
      "chuangs4 wrote:\r\n",
      "人家的四驅按一下變...(恕刪)\r\n",
      "你不懂我的意思\r\n",
      "我現在是後驅都快失控撞車了我還要去按變四驅????\n",
      "\n",
      "\n",
      "\n",
      "==================================\n"
     ]
    }
   ],
   "source": [
    "res = r.get(url,headers=HEADER)\n",
    "soup = BeautifulSoup(res.text,'lxml')\n",
    "title = soup.select_one('.topic').text\n",
    "print(title)\n",
    "author = soup.select_one('.fn > a').text\n",
    "print(author)\n",
    "poTime = soup.select_one('.date').text.split('\\xa0')[0]\n",
    "poTimeArray = time.strptime(poTime, \"%Y-%m-%d %H:%M\")\n",
    "tm = int(time.mktime(poTimeArray))\n",
    "print(tm)\n",
    "boardTag = soup.select('.nav > a')\n",
    "Board = boardTag[3].text\n",
    "print(Board)\n",
    "content = soup.select_one('.single-post-content').text\n",
    "print(content)\n",
    "reply_no = int(len(soup.select('main > article')))-1\n",
    "print(\"reply_no : \",reply_no)\n",
    "replies = \"\"\n",
    "while (reply_no > 0):\n",
    "    replie = soup.select('.single-post-content')[reply_no]\n",
    "#     print(replies.text)\n",
    "#     print('==================================')\n",
    "    replies += replie.text\n",
    "    replies += '\\n=================================='\n",
    "    reply_no -=1\n",
    "print(\"replies\",replies)\n",
    "# \"[{ \"\"tm\"\": \"\" \"\",\n",
    "# \"\"content\"\": \"\" \"\",\n",
    "# \"\"author_id\"\": \"\" \"\"}]\"    "
   ]
  },
  {
   "cell_type": "code",
   "execution_count": null,
   "metadata": {
    "collapsed": true
   },
   "outputs": [],
   "source": [
    "def main():\n",
    "    global df\n",
    "    engine = create_engine('sqlite:///Mobile01.sqlite3')\n",
    "    df.to_sql('gosp',\n",
    "              engine,\n",
    "              if_exists='replace',\n",
    "              index=False,\n",
    "              dtype={'name': sqlalchemy.types.VARCHAR(20),\n",
    "                    'nickName': sqlalchemy.types.VARCHAR(20),\n",
    "                    'title': sqlalchemy.types.VARCHAR(50),\n",
    "                    'postTime': sqlalchemy.types.DateTime,\n",
    "                    'level': sqlalchemy.types.INT,\n",
    "                    'type': sqlalchemy.types.VARCHAR(10)})"
   ]
  },
  {
   "cell_type": "code",
   "execution_count": 52,
   "metadata": {
    "collapsed": false
   },
   "outputs": [],
   "source": [
    "def getcontent():\n",
    "    dfa = pd.DataFrame()\n",
    "    for url in total_url:\n",
    "        res = r.get(url,headers=HEADER)\n",
    "        soup = BeautifulSoup(res.text,'lxml')\n",
    "        title = soup.select_one('.topic').text\n",
    "        print(\"title\",title)\n",
    "        author = soup.select_one('.fn > a').text\n",
    "        print(\"author\",author)\n",
    "        poTime = soup.select_one('.date').text.split('\\xa0')[0]\n",
    "        poTimeArray = time.strptime(poTime, \"%Y-%m-%d %H:%M\")\n",
    "        tm = int(time.mktime(poTimeArray))\n",
    "        print(\"tm\",tm)\n",
    "        boardTag = soup.select('.nav > a')\n",
    "        Board = boardTag[3].text\n",
    "        print(\"Board\",Board)\n",
    "        content = soup.select_one('.single-post-content').text\n",
    "        print(\"content\",content)\n",
    "        reply_no = int(len(soup.select_one('main > article')))-1\n",
    "        print(\"reply_no\",reply_no)\n",
    "        replies = \"\"\n",
    "        while (reply_no > 0):\n",
    "            replie = soup.select('.single-post-content')[reply_no]\n",
    "#             print(replies.text)\n",
    "#             print('==================================')\n",
    "            replies += replie.text\n",
    "            replies += '\\n=================================='\n",
    "            reply_no -=1\n",
    "        print(\"replies\",replies)\n",
    "        dfc = pd.DataFrame([{\"url\":url,\n",
    "                                \"title\":title,\n",
    "                                \"author\":author,\n",
    "                                \"tm\":tm,\n",
    "                                \"Board\":Board,\n",
    "                                \"content\":content,\n",
    "                                \"reply_no\":reply_no,\n",
    "                                \"replies\":replies,}])\n",
    "        dfa = dfa.append(dfc)"
   ]
  },
  {
   "cell_type": "code",
   "execution_count": null,
   "metadata": {
    "collapsed": true
   },
   "outputs": [],
   "source": [
    "Col name_en\tCol name_ch\tType\n",
    "url\t     網址\t      String\n",
    "title\t文章標題\tString\n",
    "author\t作者\tString\n",
    "tm\t時間\ttimestamp\n",
    "Board\t車版分類\tString\n",
    "content\t內文\tString\n",
    "reply_no\t回文數\tnumber\n",
    "replies\t回復\t\"[{ \"\"tm\"\": \"\" \"\",\n",
    "\"\"content\"\": \"\" \"\",\n",
    "\"\"author_id\"\": \"\" \"\"}]\"\n"
   ]
  },
  {
   "cell_type": "code",
   "execution_count": 5,
   "metadata": {
    "collapsed": true
   },
   "outputs": [
    {
     "name": "stdout",
     "output_type": "stream",
     "text": [
      "author_id gbryan\n",
      "tm 1496724000\n",
      "content <div class=\"single-post-content\">\n",
      "<div id=\"ct64623503\">台奧去年底不是有引進一台Q2展示，現在那台到哪去了？<br/>\n",
      "</div>\n",
      "<div class=\"single-post-content-sig\"></div>\n",
      "</div>\n",
      "author_id Darren Wu\n",
      "tm 1496712660\n",
      "content <div class=\"single-post-content\">\n",
      "<div id=\"ct64620679\">上星期也收到消息了！<br/>\r\n",
      "A4 TQA , Q5 , Q2 ...</div>\n",
      "<div class=\"single-post-content-sig\"></div>\n",
      "</div>\n",
      "author_id Aluminum\n",
      "tm 1496671380\n",
      "content <div class=\"single-post-content\">\n",
      "<div id=\"ct64616764\"><blockquote><b>gamania848 wrote:</b><br/>\n",
      "Audi Q2 最快...(恕刪)</blockquote><br/>\n",
      "7月1日接單(到時會有價錢 配備 和選配單)<br/>\n",
      "7月1516預賞<br/>\n",
      "8月9日發表</div>\n",
      "<div class=\"single-post-content-sig\"></div>\n",
      "</div>\n"
     ]
    },
    {
     "data": {
      "text/plain": [
       "[{'author_id': 'gbryan',\n",
       "  'content': '台奧去年底不是有引進一台Q2展示，現在那台到哪去了？',\n",
       "  'tm': 1496724000},\n",
       " {'author_id': 'Darren Wu',\n",
       "  'content': '上星期也收到消息了！\\r\\nA4 TQA , Q5 , Q2 ...',\n",
       "  'tm': 1496712660},\n",
       " {'author_id': 'Aluminum',\n",
       "  'content': '7月1日接單(到時會有價錢 配備 和選配單)\\n7月1516預賞\\n8月9日發表',\n",
       "  'tm': 1496671380}]"
      ]
     },
     "execution_count": 5,
     "metadata": {},
     "output_type": "execute_result"
    }
   ],
   "source": [
    "#getSubContent\n",
    "replies = []\n",
    "\n",
    "reply_no = int(len(soup.select_one('main > article')))\n",
    "\n",
    "while (reply_no > 0):\n",
    "    replie = {}\n",
    "    author_id = soup.select('.fn > a')[reply_no].text\n",
    "    print(\"author_id\",author_id)\n",
    "   \n",
    "    reply_time = soup.select('.date')[reply_no].text.split('\\xa0')[0]\n",
    "    poTimeArray = time.strptime(reply_time, \"%Y-%m-%d %H:%M\")\n",
    "    tm = int(time.mktime(poTimeArray))\n",
    "    print(\"tm\",tm)\n",
    "    \n",
    "    content = soup.select('.single-post-content')[reply_no]\n",
    "    print(\"content\",content)\n",
    "    for blockquote in content.find_all('blockquote'):\n",
    "        blockquote.decompose()\n",
    "    replie[\"tm\"] = tm\n",
    "    replie[\"content\"] = content.text.strip()\n",
    "    replie[\"author_id\"] = author_id\n",
    "    replies.append(replie)\n",
    "    reply_no -=1\n",
    "    \n",
    "replies"
   ]
  },
  {
   "cell_type": "code",
   "execution_count": null,
   "metadata": {
    "collapsed": true
   },
   "outputs": [],
   "source": [
    "total_url = []\n",
    "with open('./project2/{}.csv'.format(carName), 'r') as fr:\n",
    "        url = fr.read().strip().split()\n",
    "        total_url += url\n"
   ]
  }
 ],
 "metadata": {
  "kernelspec": {
   "display_name": "Python 3",
   "language": "python",
   "name": "python3"
  },
  "language_info": {
   "codemirror_mode": {
    "name": "ipython",
    "version": 3
   },
   "file_extension": ".py",
   "mimetype": "text/x-python",
   "name": "python",
   "nbconvert_exporter": "python",
   "pygments_lexer": "ipython3",
   "version": "3.6.0"
  }
 },
 "nbformat": 4,
 "nbformat_minor": 2
}
