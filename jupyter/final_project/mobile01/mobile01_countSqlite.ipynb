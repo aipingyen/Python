{
 "cells": [
  {
   "cell_type": "code",
   "execution_count": 136,
   "metadata": {
    "collapsed": true
   },
   "outputs": [],
   "source": [
    "import sqlite3\n",
    "from datetime import datetime\n",
    "import json\n",
    "import sys\n",
    "import math"
   ]
  },
  {
   "cell_type": "code",
   "execution_count": 140,
   "metadata": {
    "collapsed": false,
    "scrolled": true
   },
   "outputs": [
    {
     "name": "stdout",
     "output_type": "stream",
     "text": [
      "2059\n",
      "now is going on 1,which is 0% finishedCounter({' ': 25, 'X6': 12, 'GLE': 8, '335I': 5, 'F30': 4, '應該': 4, 'COUPE': 3, 'BENZ': 3, '建議': 3, '！': 3, '好': 3, '不用': 3, 'CLASS': 3, 'XC90': 3, '空間': 3, '目前': 3, '年': 3, 'E92': 3, '想': 2, '車主': 2, '？': 2, '年式': 2, '業務': 2, '說': 2, 'E': 2, '選擇': 2, '謝謝': 2, '感': 2, '穩重': 2, '馬力': 2, '問題': 2, '安全': 2, '配備': 2, '去年': 2, '10': 2, 'C250': 2, '考慮': 2, '行情': 2, '2014': 2, '200': 2, '賣': 2, '也是': 2, '萬': 2, '以上': 2, '趴': 2, 'E90': 2, '上市': 2, '又要': 2, '換車': 2, '厲害': 2, '好友': 1, '購買': 1, '部': 1, '大型': 1, '休旅車': 1, '看上': 1, '約': 1, 'BMW': 1, '業代': 1, '下星期': 1, '試車': 1, '似乎': 1, '還沒試': 1, '乘車': 1, '問了': 1, '意見': 1, '這兩台': 1, '休': 1, '旅車': 1, '完全': 1, '經驗': 1, '麻煩': 1, '提供': 1, '心得': 1, '柴油': 1, '汽油': 1, '版本': 1, '感謝': 1, '車頭': 1, '霸氣': 1, '😎': 1, '換個': 1, '20': 1, '21': 1, '吋': 1, '輪框': 1, '滿點': 1, '117': 1, '話': 1, '主觀': 1, '認為': 1, '各方': 1, '面都': 1, '開': 1, '公司': 1, '找': 1, '當初': 1, '一上': 1, '車就': 1, '浪費': 1, '時間': 1, '試': 1, '這內裝': 1, '不可能': 1, '買': 1, '聽說': 1, '18': 1, '內裝會': 1, '看齊': 1, '候': 1, '不失為': 1, '很帥': 1, '感覺': 1, '賓士': 1, '年輕': 1, '已經': 1, '三月份': 1, '購入': 1, '造型': 1, '太': 1, '前衛': 1, '侵略': 1, '太重': 1, '40': 1, '50': 1, '歲': 1, '人開': 1, '不喜': 1, '歡': 1, '不夠': 1, '評價': 1, '一些': 1, '內裝': 1, '科技': 1, '感沒': 1, '跟上': 1, '穩穩': 1, '風格': 1, '風靡': 1, '異': 1, '音問': 1, '題': 1, '太大': 1, '缺點': 1, '同型': 1, '車來': 1, '一款': 1, '比較': 1, '不一樣': 1, '著重': 1, '舒適': 1, '190': 1, '匹比': 1, '小': 1, '一點': 1, '2.0': 1, '引擎': 1, '稅金': 1, '便宜': 1, '油耗': 1, '省': 1, '盲點': 1, '偵測': 1, '都會': 1, '防護': 1, '標準': 1, '外型': 1, '設計': 1, '偏': 1, '車內': 1, '都大': 1, 'HTTP': 1, 'WWW': 1, 'MOBILE01': 1, 'COM': 1, 'TOPICDETAIL': 1, 'PHP': 1, 'F': 1, '275': 1, 'T': 1, '4704773': 1, 'P': 1, '59156073': 1, '月入': 1, '手': 1, '有時': 1, '響': 1, '熱血': 1, '一下': 1, '小孩': 1, '坐': 1, '後座': 1, '便利性': 1, '想換': 1, '購新': 1, '請': 1, '懂車': 1, '給些': 1, '現在': 1, '2017': 1, '少見': 1, '太貴': 1, '外匯': 1, '車也': 1, '利潤': 1, '2012': 1, '155': 1, '有人': 1, '差': 1, '很大': 1, '里程': 1, '數': 1, '三年': 1, '後': 1, '事': 1, '美規': 1, '180': 1, '腫': 1, '代理': 1, '四年': 1, '車有': 1, '這種': 1, '不錯': 1, '奧迪的車': 1, '雙門': 1, '當時': 1, '訂價': 1, '比四門': 1, '還要': 1, '這次': 1, '四門': 1, '價格': 1, '貴': 1, '喔': 1, '月換': 1, '不到': 1, '真是': 1, 'C': 1, '改款': 1, '過一': 1, '兩年': 1, '美規車': 1, '二手': 1, '價': 1, '直接': 1, '下手': 1, '328I': 1, '以下': 1, '四缸': 1, '直六': 1, '魅力': 1, '只': 1, '剩': 1, '100': 1, '000': 1, '元': 1, '時': 1, '超值': 1, '335': 1, '後續': 1, '改裝': 1, '滿大': 1, '底盤': 1, '不知道': 1, '系列': 1, '硬派': 1, '操控': 1, '非': 1, 'AMG': 1, '版優': 1, '錢': 1, '換': 1, '下去': 1})\n"
     ]
    }
   ],
   "source": [
    "#connect to mobile01.db\n",
    "def connMobile01():\n",
    "    conn = sqlite3.connect(\"C:\\\\Users\\\\BIG DATA\\\\PycharmProjects\\\\untitled\\\\Mobile01.db\")\n",
    "    cur = conn.cursor()\n",
    "    count = cur.execute(\"select count(*) from mobile01 where board='BMW';\").fetchone()[0]\n",
    "    print(count)\n",
    "    cur.execute(\"select * from mobile01 where board='BMW'limit 2;\")\n",
    "\n",
    "    try:\n",
    "        for idx, row in enumerate(cur):\n",
    "            comment = {'url':row[0],'title':row[1],'author':row[2],'tm':row[3],'Board':row[4],'content':row[5],'reply_no':row[6],'replies':json.loads(row[7])}\n",
    "#             print(typea(comment))\n",
    "#             print(comment['content'])\n",
    "    #         print(comment['replies'])\n",
    "            content = catch_allContent(comment)\n",
    "            strip_con = jiebaContent(content)\n",
    "            wordCount(strip_con)\n",
    "#             print(strip_con)\n",
    "            printStr = 'now is going on '+str(idx)+',which is '+str(math.floor(idx/count*100))+str('% finished')\n",
    "            sys.stdout.write('\\r' + printStr)\n",
    "        print(wc)\n",
    "    except Exception as e:\n",
    "        print(\"mobile01 error in row{} , :\".format(idx),e)\n",
    "        conn.rollback()\n",
    "\n",
    "    conn.commit()\n",
    "    conn.close()\n",
    "    \n",
    "connMobile01()   \n"
   ]
  },
  {
   "cell_type": "code",
   "execution_count": 122,
   "metadata": {
    "collapsed": false
   },
   "outputs": [],
   "source": [
    "#catch all text and counter\n",
    "def catch_allContent(comment):\n",
    "    all_content = ''\n",
    "    all_content += comment['content']\n",
    "    for i in range(comment['reply_no']):\n",
    "        all_content += comment['replies'][i]['content']\n",
    "    \n",
    "    return all_content \n",
    "\n",
    "# catch_allContent()"
   ]
  },
  {
   "cell_type": "code",
   "execution_count": 123,
   "metadata": {
    "collapsed": true
   },
   "outputs": [],
   "source": [
    "def jiebaContent(content):\n",
    "    jieba.load_userdict(\"C:\\\\jupyter\\\\textMining\\\\moedict.txt\")  \n",
    "    strip_con = jieba.cut(content,cut_all=False)\n",
    "    jiebaContent = ','.join(strip_con).split(',')\n",
    "    return jiebaContent"
   ]
  },
  {
   "cell_type": "code",
   "execution_count": 139,
   "metadata": {
    "collapsed": false
   },
   "outputs": [],
   "source": [
    "from collections import Counter\n",
    "wc = Counter()\n",
    "def wordCount(jiebaContent):\n",
    "    global wc\n",
    "    with open('C:\\\\jupyter\\\\textMining\\\\moedict.txt','r',encoding='utf8') as frN:\n",
    "        normal_words = frN.read().split('\\n')\n",
    "    with open('C:\\\\jupyter\\\\textMining\\\\stopWords.txt','r',encoding='utf8') as frW:\n",
    "        stop_words = frW.read().split('\\n')\n",
    "    with open('C:\\\\jupyter\\\\textMining\\\\eng_stop_words.txt','r',encoding='utf8') as frW:\n",
    "        eng_stop_words = frW.read().split('\\n')\n",
    "    normal_words += stop_words\n",
    "    normal_words += eng_stop_words\n",
    "#     wc = Counter()\n",
    "    for word_raw in jiebaContent:\n",
    "        word = word_raw.replace('\\r\\n', '').replace('\\n', '').upper()\n",
    "        if word not in normal_words:    # and sign_words\n",
    "            if word in wc:\n",
    "                wc[word] += 1\n",
    "            else:\n",
    "                wc[word] = 1\n",
    "    return wc.most_common()\n"
   ]
  },
  {
   "cell_type": "code",
   "execution_count": 120,
   "metadata": {
    "collapsed": false
   },
   "outputs": [
    {
     "data": {
      "text/plain": [
       "[('X6', 12),\n",
       " (' ', 9),\n",
       " ('GLE', 8),\n",
       " ('好', 3),\n",
       " ('XC90', 3),\n",
       " ('車主', 2),\n",
       " ('建議', 2),\n",
       " ('！', 2),\n",
       " ('年式', 2),\n",
       " ('業務', 2),\n",
       " ('說', 2),\n",
       " ('E', 2),\n",
       " ('CLASS', 2),\n",
       " ('選擇', 2),\n",
       " ('感', 2),\n",
       " ('穩重', 2),\n",
       " ('馬力', 2),\n",
       " ('安全', 2),\n",
       " ('空間', 2),\n",
       " ('好友', 1),\n",
       " ('想', 1),\n",
       " ('購買', 1),\n",
       " ('部', 1),\n",
       " ('大型', 1),\n",
       " ('休旅車', 1),\n",
       " ('看上', 1),\n",
       " ('COUPE', 1),\n",
       " ('約', 1),\n",
       " ('BMW', 1),\n",
       " ('業代', 1),\n",
       " ('下星期', 1),\n",
       " ('試車', 1),\n",
       " ('BENZ', 1),\n",
       " ('似乎', 1),\n",
       " ('還沒試', 1),\n",
       " ('乘車', 1),\n",
       " ('問了', 1),\n",
       " ('意見', 1),\n",
       " ('這兩台', 1),\n",
       " ('休', 1),\n",
       " ('旅車', 1),\n",
       " ('完全', 1),\n",
       " ('經驗', 1),\n",
       " ('麻煩', 1),\n",
       " ('提供', 1),\n",
       " ('心得', 1),\n",
       " ('柴油', 1),\n",
       " ('汽油', 1),\n",
       " ('版本', 1),\n",
       " ('？', 1),\n",
       " ('感謝', 1),\n",
       " ('車頭', 1),\n",
       " ('霸氣', 1),\n",
       " ('😎', 1),\n",
       " ('換個', 1),\n",
       " ('20', 1),\n",
       " ('21', 1),\n",
       " ('吋', 1),\n",
       " ('輪框', 1),\n",
       " ('滿點', 1),\n",
       " ('117', 1),\n",
       " ('話', 1),\n",
       " ('主觀', 1),\n",
       " ('認為', 1),\n",
       " ('各方', 1),\n",
       " ('面都', 1),\n",
       " ('開', 1),\n",
       " ('公司', 1),\n",
       " ('找', 1),\n",
       " ('當初', 1),\n",
       " ('一上', 1),\n",
       " ('車就', 1),\n",
       " ('不用', 1),\n",
       " ('浪費', 1),\n",
       " ('時間', 1),\n",
       " ('試', 1),\n",
       " ('這內裝', 1),\n",
       " ('不可能', 1),\n",
       " ('買', 1),\n",
       " ('聽說', 1),\n",
       " ('18', 1),\n",
       " ('內裝會', 1),\n",
       " ('看齊', 1),\n",
       " ('候', 1),\n",
       " ('不失為', 1),\n",
       " ('很帥', 1),\n",
       " ('感覺', 1),\n",
       " ('賓士', 1),\n",
       " ('年輕', 1),\n",
       " ('謝謝', 1),\n",
       " ('已經', 1),\n",
       " ('三月份', 1),\n",
       " ('購入', 1),\n",
       " ('造型', 1),\n",
       " ('太', 1),\n",
       " ('前衛', 1),\n",
       " ('侵略', 1),\n",
       " ('太重', 1),\n",
       " ('40', 1),\n",
       " ('50', 1),\n",
       " ('歲', 1),\n",
       " ('人開', 1),\n",
       " ('不喜', 1),\n",
       " ('歡', 1),\n",
       " ('不夠', 1),\n",
       " ('問題', 1),\n",
       " ('評價', 1),\n",
       " ('一些', 1),\n",
       " ('內裝', 1),\n",
       " ('科技', 1),\n",
       " ('感沒', 1),\n",
       " ('跟上', 1),\n",
       " ('穩穩', 1),\n",
       " ('風格', 1),\n",
       " ('風靡', 1),\n",
       " ('異', 1),\n",
       " ('音問', 1),\n",
       " ('題', 1),\n",
       " ('太大', 1),\n",
       " ('缺點', 1),\n",
       " ('同型', 1),\n",
       " ('車來', 1),\n",
       " ('一款', 1),\n",
       " ('比較', 1),\n",
       " ('不一樣', 1),\n",
       " ('著重', 1),\n",
       " ('舒適', 1),\n",
       " ('190', 1),\n",
       " ('匹比', 1),\n",
       " ('小', 1),\n",
       " ('一點', 1),\n",
       " ('2.0', 1),\n",
       " ('引擎', 1),\n",
       " ('稅金', 1),\n",
       " ('便宜', 1),\n",
       " ('油耗', 1),\n",
       " ('省', 1),\n",
       " ('盲點', 1),\n",
       " ('偵測', 1),\n",
       " ('都會', 1),\n",
       " ('防護', 1),\n",
       " ('標準', 1),\n",
       " ('配備', 1),\n",
       " ('外型', 1),\n",
       " ('設計', 1),\n",
       " ('偏', 1),\n",
       " ('車內', 1),\n",
       " ('都大', 1),\n",
       " ('HTTP', 1),\n",
       " ('WWW', 1),\n",
       " ('MOBILE01', 1),\n",
       " ('COM', 1),\n",
       " ('TOPICDETAIL', 1),\n",
       " ('PHP', 1),\n",
       " ('F', 1),\n",
       " ('275', 1),\n",
       " ('T', 1),\n",
       " ('4704773', 1),\n",
       " ('P', 1),\n",
       " ('59156073', 1)]"
      ]
     },
     "execution_count": 120,
     "metadata": {},
     "output_type": "execute_result"
    }
   ],
   "source": [
    "wordCount(jiebaContent(catch_allContent(comment)))"
   ]
  },
  {
   "cell_type": "code",
   "execution_count": 104,
   "metadata": {
    "collapsed": false
   },
   "outputs": [
    {
     "name": "stdout",
     "output_type": "stream",
     "text": [
      "184121\n",
      "1207\n",
      "264\n",
      "185592\n"
     ]
    }
   ],
   "source": [
    "with open('C:\\\\jupyter\\\\textMining\\\\moedict.txt','r',encoding='utf8') as frN:\n",
    "    normal_words = frN.read().split('\\n')\n",
    "    print(len(normal_words))\n",
    "with open('C:\\\\jupyter\\\\textMining\\\\stopWords.txt','r',encoding='utf8') as frW:\n",
    "    stop_words = frW.read().split('\\n')\n",
    "    print(len(stop_words))\n",
    "with open('C:\\\\jupyter\\\\textMining\\\\eng_stop_words.txt','r',encoding='utf8') as frW:\n",
    "    eng_stop_words = frW.read().split('\\n')\n",
    "    print(len(eng_stop_words))\n",
    "normal_words += stop_words\n",
    "normal_words += eng_stop_words\n",
    "print(len(normal_words))"
   ]
  },
  {
   "cell_type": "code",
   "execution_count": 47,
   "metadata": {
    "collapsed": false,
    "scrolled": true
   },
   "outputs": [
    {
     "name": "stdout",
     "output_type": "stream",
     "text": [
      "<class 'generator'>\n",
      "['好友', '想購', '買部', '大型', '休旅車', '\\n', '看上', 'X6', '跟', 'GLE', ' ', 'coupe', '。', '\\n', '約', 'BMW', '業代', '下星期', '試車', '\\n', 'Benz', '似乎', '還沒試', '乘車', '\\n', '問了', '我', '的', '意見', '。', '\\n', '我', '對', '這兩台', '休', '旅車', '\\n', '完全', '沒有', '經驗', '\\n', '能麻煩', 'X6', '的', '車主能', '提供', '心得', '\\n', '建議', '柴油', '還是', '汽油', '版本', '？', '\\n', '感謝']\n"
     ]
    }
   ],
   "source": [
    "import jieba\n",
    "content = comment['content'].replace(',',\"\").replace('！',\"\").replace('~',\"\").replace('.',\"\").replace('，',\"\").replace('-',\"\").replace('(',\"\").replace(')',\"\")\n",
    "a = jieba.cut(content,cut_all=False)\n",
    "print(type(a))\n",
    "print(','.join(a).split(','))\n"
   ]
  },
  {
   "cell_type": "code",
   "execution_count": null,
   "metadata": {
    "collapsed": false
   },
   "outputs": [],
   "source": [
    "#TF計算\n",
    "import org.apache.spark.rdd.RDD\n",
    "import org.apache.spark.SparkContext\n",
    "import org.apache.spark.mllib.feature.HashingTF\n",
    "import org.apache.spark.mllib.linalg.Vector\n",
    "val sc: SparkContext = ...\n",
    "// Load documents (one per line).\n",
    "val documents: RDD[Seq[String]] = sc.textFile(\"...\").map(_.split(\" \").toSeq)\n",
    "val hashingTF = new HashingTF()\n",
    "val tf: RDD[Vector] = hashingTF.transform(documents)"
   ]
  },
  {
   "cell_type": "code",
   "execution_count": null,
   "metadata": {
    "collapsed": true
   },
   "outputs": [],
   "source": []
  },
  {
   "cell_type": "code",
   "execution_count": null,
   "metadata": {
    "collapsed": true
   },
   "outputs": [],
   "source": []
  },
  {
   "cell_type": "code",
   "execution_count": null,
   "metadata": {
    "collapsed": true
   },
   "outputs": [],
   "source": [
    "import json\n",
    "import pprint\n",
    "from pymongo import MongoClient\n",
    "import sqlite3\n",
    "from datetime import datetime\n",
    "import math\n",
    "\n",
    "IP = 'localhost'     #'192.168.196.172'\n",
    "client = MongoClient(IP, 27017)\n",
    "\n",
    "# Select database\n",
    "db = client.test\n",
    "\n",
    "# Select collection\n",
    "collection = db.user\n",
    "\n",
    "idx = 0\n",
    "conn = sqlite3.connect(\"C:\\\\Users\\\\BIG DATA\\\\PycharmProjects\\\\untitled\\\\Mobile01.db\")\n",
    "cur = conn.cursor()\n",
    "cur.execute(\"SELECT * FROM Mobile01 where board='Nissan';\")\n",
    "# print(cur.fetchone())\n",
    "for row in cur :\n",
    "    #datetime.fromtimestamp(math.floor(float(row[14])))\n",
    "    comment = {'url':row[0],'title':row[1],'author':row[2],'tm':datetime.fromtimestamp(math.floor(float(row[3]))),'Board':row[4],'content':row[5],'reply_no':row[6],'replies':json.loads(row[7])}\n",
    "#     print(\"1\")\n",
    "    collection.insert_one(comment)\n",
    "    idx += 1\n",
    "    if idx % 100 == 0:\n",
    "        print(idx)\n",
    "print(idx)\n",
    "\n",
    "conn.commit()\n",
    "conn.close()\n",
    "   "
   ]
  }
 ],
 "metadata": {
  "kernelspec": {
   "display_name": "Python 3",
   "language": "python",
   "name": "python3"
  },
  "language_info": {
   "codemirror_mode": {
    "name": "ipython",
    "version": 3
   },
   "file_extension": ".py",
   "mimetype": "text/x-python",
   "name": "python",
   "nbconvert_exporter": "python",
   "pygments_lexer": "ipython3",
   "version": "3.6.0"
  }
 },
 "nbformat": 4,
 "nbformat_minor": 2
}
