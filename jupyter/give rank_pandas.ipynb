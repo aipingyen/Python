{
 "cells": [
  {
   "cell_type": "code",
   "execution_count": 40,
   "metadata": {
    "collapsed": false,
    "scrolled": true
   },
   "outputs": [
    {
     "name": "stdout",
     "output_type": "stream",
     "text": [
      "                counts\n",
      "feature               \n",
      "comfortable 35   35.28\n",
      "fuelEco     46   42.45\n",
      "preserve    4     0.00\n",
      "safe        7    38.92\n",
      "space       18   10.97\n",
      "             counts\n",
      "comfortable   35.28\n",
      "fuelEco       42.45\n",
      "preserve       0.00\n",
      "safe          38.92\n",
      "space         10.97\n",
      "\n",
      "38.92\n"
     ]
    }
   ],
   "source": [
    "import pandas     \n",
    "from pandas import DataFrame,Series\n",
    "\n",
    "table=pandas.read_csv(\"C:\\\\Users\\\\BIG DATA\\\\Desktop\\\\VW_test.csv\",sep=\",\",header = 0)  \n",
    "table=table.fillna(0)  \n",
    "result=table.sort_values([\"feature\",\"counts\"], ascending=[1, 0])\n",
    "# print(table)\n",
    "# print(result)\n",
    "max_counts=result.groupby('feature').apply(lambda t: t[t.counts==t.counts.max()]).drop_duplicates('counts')\n",
    "# print(max_counts)\n",
    "max_df = pandas.DataFrame(max_counts,columns = ['counts'])\n",
    "print(max_df)\n",
    "max_df.index = feature_list\n",
    "# print(max_df.index)\n",
    "print(max_df)\n",
    "print()\n",
    "print(max_df.loc['safe']['counts'])"
   ]
  },
  {
   "cell_type": "code",
   "execution_count": 23,
   "metadata": {
    "collapsed": true
   },
   "outputs": [
    {
     "name": "stdout",
     "output_type": "stream",
     "text": [
      "   count_1  count_2  name\n",
      "0       35      500  Baar\n",
      "1       30      400  Baar\n",
      "2       20      250  Baar\n",
      "3       12      100  Baar\n",
      "4       25      300   Foo\n",
      "5       15       25   Foo\n",
      "6       10      150   Foo\n",
      "7        5      100   Foo\n"
     ]
    }
   ],
   "source": [
    "df = pd.DataFrame({\"name\":[\"Foo\", \"Foo\", \"Baar\", \"Foo\", \"Baar\", \"Foo\", \"Baar\", \"Baar\"], \"count_1\":[5,10,12,15,20,25,30,35], \"count_2\" :[100,150,100,25,250,300,400,500]})\n",
    "# df\n",
    "a = df.groupby([\"name\"]).apply(lambda x: x.sort_values([\"count_1\"], ascending = False)).reset_index(drop=True)\n",
    "print(a)"
   ]
  },
  {
   "cell_type": "code",
   "execution_count": 13,
   "metadata": {
    "collapsed": true
   },
   "outputs": [],
   "source": [
    "import pandas     \n",
    "from pandas import DataFrame,Series\n",
    "\n",
    "table=pandas.read_csv(\"C:\\\\Users\\\\BIG DATA\\\\Desktop\\\\VW_test.csv\",sep=\",\",header = 0)  \n",
    "table=table.fillna(0)    # None補值 => 0\n",
    "result=table.sort_values([\"feature\",\"counts\"], ascending=[1, 0])  #pandas的sort方法  1升冪   0降冪\n",
    "\n",
    "feature_list = ['comfortable','fuelEco','preserve','safe','space']\n",
    "# print(result)\n",
    "\n",
    "max_counts=result.groupby('feature').apply(lambda t: t[t.counts==t.counts.max()]).drop_duplicates('counts')\n",
    "max_df = pandas.DataFrame(max_counts,columns = ['counts'])     #groupby('featurn) then use lambda to find max \n",
    "max_df.index = feature_list\n",
    "# print(max_df)\n",
    "min_counts=result.groupby('feature').apply(lambda t: t[t.counts==t.counts.min()]).drop_duplicates('counts')\n",
    "min_df = pandas.DataFrame(min_counts,columns = ['counts'])\n",
    "min_df.index = feature_list\n",
    "# print(min_df)\n",
    "    \n",
    "for trait in feature_list:\n",
    "    feature_max = max_df.loc[trait]['counts']                   # df.loc\n",
    "#     print(\"這是最大值{}\".format(feature_max))\n",
    "    feature_min = min_df.loc[trait]['counts']\n",
    "#     print(\"這是最小值{}\".format(feature_min))\n",
    "    session =(feature_max-feature_min)/4\n",
    "#     print(\"這是區間{}\".format(session))\n",
    "\n",
    "    condition = result[result.feature == trait]['counts']      # pandas\n",
    "\n",
    "    for i in range(len(condition)):\n",
    "#         print(condition.index[i],condition.values[i])\n",
    "        idx = condition.index[i]\n",
    "        score = condition.values[i]\n",
    "        if score == 0:\n",
    "            result.set_value(idx,\"rank\",0)\n",
    "        elif (score<= feature_max -session *0) and (score >feature_max -session*1):\n",
    "            result.set_value(idx,\"rank\",5)\n",
    "        elif (score<= feature_max -session *1) and (score >feature_max -session*2):\n",
    "            result.set_value(idx,\"rank\",4)\n",
    "        elif (score<= feature_max -session *2) and (score >feature_max -session*3):\n",
    "            result.set_value(idx,\"rank\",3)\n",
    "        elif (score<= feature_max -session *3) and (score >feature_max -session*4):\n",
    "            result.set_value(idx,\"rank\",2)\n",
    "        elif (score<= feature_max -session *4) and (score >=feature_max -session*5):\n",
    "            result.set_value(idx,\"rank\",1)\n",
    "        else: None                                                                                                 \n",
    "                                                                                         "
   ]
  },
  {
   "cell_type": "code",
   "execution_count": 38,
   "metadata": {
    "collapsed": false,
    "scrolled": true
   },
   "outputs": [
    {
     "name": "stdout",
     "output_type": "stream",
     "text": [
      "35    35.28\n",
      "0     29.07\n",
      "20    28.47\n",
      "25    27.61\n",
      "15    26.66\n",
      "5     26.34\n",
      "30    25.57\n",
      "45    20.70\n",
      "10    20.45\n",
      "40    20.45\n",
      "Name: counts, dtype: float64\n",
      "46    42.45\n",
      "41    41.88\n",
      "11    40.76\n",
      "31    40.33\n",
      "36    35.87\n",
      "16    32.98\n",
      "21    32.58\n",
      "1     31.33\n",
      "26    30.80\n",
      "6     28.41\n",
      "Name: counts, dtype: float64\n",
      "4     0.0\n",
      "9     0.0\n",
      "14    0.0\n",
      "19    0.0\n",
      "24    0.0\n",
      "29    0.0\n",
      "34    0.0\n",
      "39    0.0\n",
      "44    0.0\n",
      "49    0.0\n",
      "Name: counts, dtype: float64\n",
      "7     38.92\n",
      "12    34.92\n",
      "47    32.67\n",
      "17    32.08\n",
      "27    31.63\n",
      "22    30.33\n",
      "2     30.07\n",
      "42    29.93\n",
      "32    29.09\n",
      "37    24.46\n",
      "Name: counts, dtype: float64\n",
      "18    10.97\n",
      "8     10.23\n",
      "3      9.65\n",
      "38     9.59\n",
      "28     9.05\n",
      "43     7.13\n",
      "23     6.56\n",
      "48     6.14\n",
      "13     6.10\n",
      "33     5.93\n",
      "Name: counts, dtype: float64\n"
     ]
    }
   ],
   "source": [
    "for trait in feature_list:\n",
    "    condition = result[result.feature == trait]['counts']\n",
    "    print(condition)"
   ]
  },
  {
   "cell_type": "code",
   "execution_count": 8,
   "metadata": {
    "collapsed": false
   },
   "outputs": [
    {
     "name": "stdout",
     "output_type": "stream",
     "text": [
      "  letter  one  two\n",
      "4      c    5    1\n",
      "3      b    4    2\n",
      "1      a    3    4\n",
      "0      a    2    5\n",
      "2      b    1    3\n"
     ]
    }
   ],
   "source": [
    "from pandas import DataFrame\n",
    "import pandas as pd\n",
    "\n",
    "d = {'one':[2,3,1,4,5],\n",
    "     'two':[5,4,3,2,1],\n",
    "     'letter':['a','a','b','b','c']}\n",
    "\n",
    "df = DataFrame(d)\n",
    "\n",
    "test = df.sort_values(['one'], ascending=[False])  #False 降冪 0\n",
    "print(test)"
   ]
  },
  {
   "cell_type": "code",
   "execution_count": 14,
   "metadata": {
    "collapsed": false
   },
   "outputs": [
    {
     "data": {
      "text/plain": [
       "38"
      ]
     },
     "execution_count": 14,
     "metadata": {},
     "output_type": "execute_result"
    }
   ],
   "source": [
    "condition.index[3]"
   ]
  },
  {
   "cell_type": "code",
   "execution_count": 15,
   "metadata": {
    "collapsed": false
   },
   "outputs": [
    {
     "data": {
      "text/plain": [
       "9.5899999999999999"
      ]
     },
     "execution_count": 15,
     "metadata": {},
     "output_type": "execute_result"
    }
   ],
   "source": [
    "condition.values[3]"
   ]
  },
  {
   "cell_type": "code",
   "execution_count": 16,
   "metadata": {
    "collapsed": false,
    "scrolled": true
   },
   "outputs": [
    {
     "name": "stdout",
     "output_type": "stream",
     "text": [
      "         Brand      feature  counts  rank\n",
      "35      Nissan  comfortable   35.28   5.0\n",
      "0         Benz  comfortable   29.07   4.0\n",
      "20       LEXUS  comfortable   28.47   4.0\n",
      "25       Mazda  comfortable   27.61   3.0\n",
      "15       Honda  comfortable   26.66   3.0\n",
      "5          BMW  comfortable   26.34   3.0\n",
      "30  Mitsubishi  comfortable   25.57   3.0\n",
      "45  Volkswagen  comfortable   20.70   2.0\n",
      "10        Ford  comfortable   20.45   1.0\n",
      "40      Toyota  comfortable   20.45   1.0\n",
      "46  Volkswagen      fuelEco   42.45   5.0\n",
      "41      Toyota      fuelEco   41.88   5.0\n",
      "11        Ford      fuelEco   40.76   5.0\n",
      "31  Mitsubishi      fuelEco   40.33   5.0\n",
      "36      Nissan      fuelEco   35.87   4.0\n",
      "16       Honda      fuelEco   32.98   3.0\n",
      "21       LEXUS      fuelEco   32.58   3.0\n",
      "1         Benz      fuelEco   31.33   2.0\n",
      "26       Mazda      fuelEco   30.80   2.0\n",
      "6          BMW      fuelEco   28.41   1.0\n",
      "4         Benz     preserve    0.00   0.0\n",
      "9          BMW     preserve    0.00   0.0\n",
      "14        Ford     preserve    0.00   0.0\n",
      "19       Honda     preserve    0.00   0.0\n",
      "24       LEXUS     preserve    0.00   0.0\n",
      "29       Mazda     preserve    0.00   0.0\n",
      "34  Mitsubishi     preserve    0.00   0.0\n",
      "39      Nissan     preserve    0.00   0.0\n",
      "44      Toyota     preserve    0.00   0.0\n",
      "49  Volkswagen     preserve    0.00   0.0\n",
      "7          BMW         safe   38.92   5.0\n",
      "12        Ford         safe   34.92   4.0\n",
      "47  Volkswagen         safe   32.67   4.0\n",
      "17       Honda         safe   32.08   4.0\n",
      "27       Mazda         safe   31.63   3.0\n",
      "22       LEXUS         safe   30.33   3.0\n",
      "2         Benz         safe   30.07   3.0\n",
      "42      Toyota         safe   29.93   3.0\n",
      "32  Mitsubishi         safe   29.09   3.0\n",
      "37      Nissan         safe   24.46   1.0\n",
      "18       Honda        space   10.97   5.0\n",
      "8          BMW        space   10.23   5.0\n",
      "3         Benz        space    9.65   4.0\n",
      "38      Nissan        space    9.59   4.0\n",
      "28       Mazda        space    9.05   4.0\n",
      "43      Toyota        space    7.13   2.0\n",
      "23       LEXUS        space    6.56   2.0\n",
      "48  Volkswagen        space    6.14   2.0\n",
      "13        Ford        space    6.10   2.0\n",
      "33  Mitsubishi        space    5.93   1.0\n"
     ]
    }
   ],
   "source": [
    "\n",
    "print(result)"
   ]
  }
 ],
 "metadata": {
  "kernelspec": {
   "display_name": "Python 3",
   "language": "python",
   "name": "python3"
  },
  "language_info": {
   "codemirror_mode": {
    "name": "ipython",
    "version": 3
   },
   "file_extension": ".py",
   "mimetype": "text/x-python",
   "name": "python",
   "nbconvert_exporter": "python",
   "pygments_lexer": "ipython3",
   "version": "3.6.0"
  }
 },
 "nbformat": 4,
 "nbformat_minor": 2
}
