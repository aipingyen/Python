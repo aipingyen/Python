{
 "cells": [
  {
   "cell_type": "code",
   "execution_count": 3,
   "metadata": {
    "collapsed": false
   },
   "outputs": [],
   "source": [
    "import edit_distance"
   ]
  },
  {
   "cell_type": "code",
   "execution_count": 49,
   "metadata": {
    "collapsed": false
   },
   "outputs": [
    {
     "name": "stdout",
     "output_type": "stream",
     "text": [
      "strList1 :  ['二手', '電動', '折疊車']\n",
      "strList2 :  ['二手', '折疊車']\n"
     ]
    }
   ],
   "source": [
    "import jieba\n",
    "wdCut = jieba.cut(\"二手電動折疊車\",cut_all=False)\n",
    "strList1 = \",\".join(wdCut).split(',')\n",
    "print(\"strList1 : \",strList1)\n",
    "wdCut = jieba.cut(\"二手折疊車\",cut_all=False)\n",
    "strList2 = \",\".join(wdCut).split(',')\n",
    "print(\"strList2 : \",strList2)"
   ]
  },
  {
   "cell_type": "code",
   "execution_count": 50,
   "metadata": {
    "collapsed": false
   },
   "outputs": [
    {
     "data": {
      "text/plain": [
       "<edit_distance.code.SequenceMatcher at 0xb5696d8>"
      ]
     },
     "execution_count": 50,
     "metadata": {},
     "output_type": "execute_result"
    }
   ],
   "source": [
    "# strList1 = \"電動折疊車\"\n",
    "# strList2 = \"折疊車\"\n",
    "sm = edit_distance.SequenceMatcher(a=strList1, b=strList2)\n",
    "sm"
   ]
  },
  {
   "cell_type": "code",
   "execution_count": 51,
   "metadata": {
    "collapsed": false
   },
   "outputs": [
    {
     "name": "stdout",
     "output_type": "stream",
     "text": [
      "1\n",
      "2\n"
     ]
    }
   ],
   "source": [
    "dist = sm.distance()\n",
    "match = sm.matches()\n",
    "print(dist)\n",
    "print(match)"
   ]
  }
 ],
 "metadata": {
  "kernelspec": {
   "display_name": "Python 3",
   "language": "python",
   "name": "python3"
  },
  "language_info": {
   "codemirror_mode": {
    "name": "ipython",
    "version": 3
   },
   "file_extension": ".py",
   "mimetype": "text/x-python",
   "name": "python",
   "nbconvert_exporter": "python",
   "pygments_lexer": "ipython3",
   "version": "3.6.0"
  }
 },
 "nbformat": 4,
 "nbformat_minor": 2
}
