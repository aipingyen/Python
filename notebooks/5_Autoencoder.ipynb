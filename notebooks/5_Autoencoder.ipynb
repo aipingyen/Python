{
 "cells": [
  {
   "cell_type": "markdown",
   "metadata": {},
   "source": [
    "# AutoEncoder\n"
   ]
  },
  {
   "cell_type": "markdown",
   "metadata": {},
   "source": [
    "Autoencoder 是一種無監督 (unsupervised) 的訓練方式，也就是說在訓練的時候是不需要給定目標的，那它是怎麼做到的呢？\n",
    "\n",
    "在 Hinton 的開山 [paper]( [Reducing the Dimensionality of Data with Neural Networks](https://www.cs.toronto.edu/~hinton/science.pdf)) ．它的概念可以從以下的圖來說明．可以看到有兩個部分 **Encoder** 以及 **Decoder**，而中間有一個重疊的 **code layer**．模型輸入是從 Encoder 輸入，輸出則是 Decoder 輸出．而 Encoder 中有許多的 hidden layer (隱層)，其中節點數量是遞減的；相對應的 Decoder 則是遞增的．\n",
    "\n",
    "在這樣對稱的網路結構中，給定的訓練條件是輸出越接近輸入越好，\n",
    "$$\n",
    "x : input of network \\\\\n",
    "\\hat{x} : output of network \\\\\n",
    "h(x) : hidden layer function \\\\\n",
    "x \\equiv \\hat{x} = h(x)\n",
    "$$\n",
    "\n",
    "\n",
    "![](http://imgur.com/WnzC82f.jpg) \n",
    "\n",
    "圖片來自 Hinton 的 paper [Reducing the Dimensionality of Data with Neural Networks](https://www.cs.toronto.edu/~hinton/science.pdf)\n",
    "\n",
    "訓練的過程用 `backpropagation` 即可，而當訓練完成以後，我們把 Decoder 移除，只剩下 Encoder (包含 Code layer)．\n",
    "\n",
    "## 無監督學習\n",
    "\n",
    "很有趣的如果只剩下 Encoder，可以看到它有很類似 `PCA` 的 `Dimension Reduction` 效果．因為 2000 維輸入變成了 30 維．不同的是它是一個非線性的降維方法取出了原始輸入的必要特徵．\n",
    "\n",
    "來看看取出的特徵和 `PCA` 的做對照：\n",
    "\n",
    "第一列為原始圖片\n",
    "\n",
    "第二列為 Autoencoder 降維結果\n",
    "\n",
    "第三列為 PCA 降維結果\n",
    "\n",
    "![](http://imgur.com/9QNBD27.jpg)\n",
    "\n",
    "圖片來自 Hinton 的 paper [Reducing the Dimensionality of Data with Neural Networks](https://www.cs.toronto.edu/~hinton/science.pdf)\n",
    "\n",
    "可以看到 `Autoencoder` 的效果比 `PCA` 來得好．\n",
    "\n",
    "那如果用 MNIST 的資料投影到二維的視覺化圖形來看，左邊是 `PCA`，右邊是 `Autoencoder`，也可以看到它比較成功的輸入依據特徵不同做分類．但這段過程都是無監督的情下完成的，也可以說是 \n",
    "\n",
    "> **它自動地學會了如何區分每個手寫數字**\n",
    "\n",
    "![](http://imgur.com/VX4oeSa.jpg)\n",
    "\n",
    "而在實用的時候，網路的最後面會接一個 softmax 之類的分類器，因為理論上已經找出了輸入的特徵，這時候加上分類器，才是人類真正告訴它你分類出的結果是什麼．\n",
    "\n",
    "## 實作 Autoencoder"
   ]
  },
  {
   "cell_type": "code",
   "execution_count": null,
   "metadata": {
    "collapsed": false
   },
   "outputs": [],
   "source": [
    "import tensorflow as tf\n",
    "from tensorflow.examples.tutorials.mnist import input_data\n",
    "mnist = input_data.read_data_sets(\"MNIST_data/\", one_hot = True)"
   ]
  },
  {
   "cell_type": "code",
   "execution_count": 2,
   "metadata": {
    "collapsed": true
   },
   "outputs": [],
   "source": [
    "def weight_variable(shape, name):\n",
    "    return tf.Variable(tf.truncated_normal(shape = shape, stddev = 0.1), name)\n",
    "def bias_variable(shape, name):\n",
    "    return tf.Variable(tf.constant(0.1, shape = shape), name)"
   ]
  },
  {
   "cell_type": "markdown",
   "metadata": {},
   "source": [
    "初步的構想是建立一個七層的神經網路，在 encoder 維度會從 784 逐步變成 300, 100, 5 (code layer)， decoder 的時候再逐步轉回 100, 300, 784．而這個想法在現在對 tensorflow 比較熟悉的情形下是很容易實現的，以下就是我實現的程式碼片段\n",
    "\n",
    "**input -> 784 -> 300 -> 100 -> 5 (code layer) -> 100 -> 300 -> 784 -> output**"
   ]
  },
  {
   "cell_type": "code",
   "execution_count": 3,
   "metadata": {
    "collapsed": false
   },
   "outputs": [],
   "source": [
    "x = tf.placeholder(tf.float32, shape = [None, 784])\n",
    "e_W_1 = weight_variable([784, 300], \"e_W_1\")\n",
    "e_b_1 = bias_variable([300], \"e_b_1\")\n",
    "e_layer1 = tf.nn.relu(tf.matmul(x, e_W_1) + e_b_1)\n",
    "e_W_2 = weight_variable([300, 100], \"e_W_2\")\n",
    "e_b_2 = bias_variable([100], \"e_b_2\")\n",
    "e_layer2 = tf.nn.relu(tf.matmul(e_layer1, e_W_2) + e_b_2)\n",
    "e_W_3 = weight_variable([100, 20], \"e_W_3\")\n",
    "e_b_3 = bias_variable([20], \"e_b_3\")\n",
    "code_layer = tf.nn.relu(tf.matmul(e_layer2, e_W_3) + e_b_3)\n",
    "d_W_1 = weight_variable([20, 100], \"d_W_1\")\n",
    "d_b_1 = bias_variable([100], \"d_b_1\")\n",
    "d_layer1 = tf.nn.relu(tf.matmul(code_layer, d_W_1) + d_b_1)\n",
    "d_W_2 = weight_variable([100, 300], \"d_W_2\")\n",
    "d_b_2 = bias_variable([300], \"d_b_2\")\n",
    "d_layer2 = tf.nn.relu(tf.matmul(d_layer1, d_W_2) + d_b_2)\n",
    "d_W_3 = weight_variable([300, 784], \"d_W_3\")\n",
    "d_b_3 = bias_variable([784], \"d_b_3\")\n",
    "output_layer = tf.nn.relu(tf.matmul(d_layer2, d_W_3) + d_b_3)"
   ]
  },
  {
   "cell_type": "markdown",
   "metadata": {},
   "source": [
    "loss 函數我使用了 `mean square error`，而 optimizer 原本是使用 `GradientDescentOptimizer`，但是做出來的 decode 結果變得非常糟糕 (如下)．後來上網搜尋了以後改用 `RMSPropOptimizer`，以下會隨機選出五個數字來看看所做出來的結果．"
   ]
  },
  {
   "cell_type": "code",
   "execution_count": 4,
   "metadata": {
    "collapsed": false
   },
   "outputs": [],
   "source": [
    "loss = tf.reduce_mean(tf.pow(output_layer - x, 2))\n",
    "optimizer = tf.train.RMSPropOptimizer(0.01).minimize(loss)\n",
    "init_op = tf.global_variables_initializer()"
   ]
  },
  {
   "cell_type": "code",
   "execution_count": 5,
   "metadata": {
    "collapsed": false
   },
   "outputs": [
    {
     "name": "stdout",
     "output_type": "stream",
     "text": [
      "step 0, loss 0.154249\n",
      "step 100, loss 0.0938953\n",
      "step 200, loss 0.0631583\n",
      "step 300, loss 0.0638728\n",
      "step 400, loss 0.0447373\n",
      "step 500, loss 0.0425786\n",
      "step 600, loss 0.0370292\n",
      "step 700, loss 0.0394285\n",
      "step 800, loss 0.0413142\n",
      "step 900, loss 0.0367071\n",
      "step 1000, loss 0.0392272\n",
      "step 1100, loss 0.0350341\n",
      "step 1200, loss 0.036414\n",
      "step 1300, loss 0.0374863\n",
      "step 1400, loss 0.0331814\n",
      "step 1500, loss 0.0381974\n",
      "step 1600, loss 0.0351127\n",
      "step 1700, loss 0.0374433\n",
      "step 1800, loss 0.0347769\n",
      "step 1900, loss 0.0375457\n",
      "step 2000, loss 0.0378837\n",
      "step 2100, loss 0.0406829\n",
      "step 2200, loss 0.0348483\n",
      "step 2300, loss 0.0344163\n",
      "step 2400, loss 0.0335558\n",
      "step 2500, loss 0.0333809\n",
      "step 2600, loss 0.030228\n",
      "step 2700, loss 0.0333538\n",
      "step 2800, loss 0.0300326\n",
      "step 2900, loss 0.0313007\n",
      "step 3000, loss 0.0325943\n",
      "step 3100, loss 0.0291298\n",
      "step 3200, loss 0.029259\n",
      "step 3300, loss 0.029667\n",
      "step 3400, loss 0.0284405\n",
      "step 3500, loss 0.0336205\n",
      "step 3600, loss 0.0346183\n",
      "step 3700, loss 0.0361299\n",
      "step 3800, loss 0.036426\n",
      "step 3900, loss 0.0304675\n",
      "step 4000, loss 0.0318735\n",
      "step 4100, loss 0.0310783\n",
      "step 4200, loss 0.0333465\n",
      "step 4300, loss 0.030751\n",
      "step 4400, loss 0.0293944\n",
      "step 4500, loss 0.0314036\n",
      "step 4600, loss 0.035683\n",
      "step 4700, loss 0.0282408\n",
      "step 4800, loss 0.030579\n",
      "step 4900, loss 0.0262065\n",
      "step 5000, loss 0.033858\n",
      "step 5100, loss 0.0319152\n",
      "step 5200, loss 0.0313285\n",
      "step 5300, loss 0.0335166\n",
      "step 5400, loss 0.0321645\n",
      "step 5500, loss 0.0298387\n",
      "step 5600, loss 0.0291673\n",
      "step 5700, loss 0.0369572\n",
      "step 5800, loss 0.0345598\n",
      "step 5900, loss 0.0326751\n",
      "step 6000, loss 0.0332971\n",
      "step 6100, loss 0.0305661\n",
      "step 6200, loss 0.0356756\n",
      "step 6300, loss 0.0339457\n",
      "step 6400, loss 0.0300257\n",
      "step 6500, loss 0.0301127\n",
      "step 6600, loss 0.0316595\n",
      "step 6700, loss 0.0304899\n",
      "step 6800, loss 0.0319861\n",
      "step 6900, loss 0.032973\n",
      "step 7000, loss 0.0308691\n",
      "step 7100, loss 0.0319135\n",
      "step 7200, loss 0.0323307\n",
      "step 7300, loss 0.0345884\n",
      "step 7400, loss 0.0305472\n",
      "step 7500, loss 0.0304301\n",
      "step 7600, loss 0.0383766\n",
      "step 7700, loss 0.0345033\n",
      "step 7800, loss 0.0308742\n",
      "step 7900, loss 0.0333693\n",
      "step 8000, loss 0.0319904\n",
      "step 8100, loss 0.0318597\n",
      "step 8200, loss 0.0333005\n",
      "step 8300, loss 0.0300832\n",
      "step 8400, loss 0.0325518\n",
      "step 8500, loss 0.0332775\n",
      "step 8600, loss 0.0306761\n",
      "step 8700, loss 0.0316801\n",
      "step 8800, loss 0.0308505\n",
      "step 8900, loss 0.0330996\n",
      "step 9000, loss 0.0341253\n",
      "step 9100, loss 0.0341319\n",
      "step 9200, loss 0.0334614\n",
      "step 9300, loss 0.0290531\n",
      "step 9400, loss 0.0323436\n",
      "step 9500, loss 0.0331529\n",
      "step 9600, loss 0.0308602\n",
      "step 9700, loss 0.0326363\n",
      "step 9800, loss 0.0344703\n",
      "step 9900, loss 0.0323956\n",
      "final loss 0.0315639\n"
     ]
    }
   ],
   "source": [
    "sess = tf.InteractiveSession()\n",
    "sess.run(init_op)\n",
    "for i in range(10000):\n",
    "    batch = mnist.train.next_batch(50)\n",
    "    if i%100 == 0:\n",
    "        print(\"step %d, loss %g\"%(i, loss.eval(feed_dict={x:batch[0]})))\n",
    "    optimizer.run(feed_dict={x: batch[0]})\n",
    "    \n",
    "print(\"final loss %g\" % loss.eval(feed_dict={x: mnist.test.images}))"
   ]
  },
  {
   "cell_type": "code",
   "execution_count": 6,
   "metadata": {
    "collapsed": false
   },
   "outputs": [
    {
     "data": {
      "image/png": "[encoded data removed]",
      "text/plain": [
       "<matplotlib.figure.Figure at 0x7f98ef4ec790>"
      ]
     },
     "metadata": {},
     "output_type": "display_data"
    },
    {
     "data": {
      "image/png": "[encoded data removed]",
      "text/plain": [
       "<matplotlib.figure.Figure at 0x7f98ef4ba7d0>"
      ]
     },
     "metadata": {},
     "output_type": "display_data"
    },
    {
     "data": {
      "image/png": "[encoded data removed]",
      "text/plain": [
       "<matplotlib.figure.Figure at 0x7f98ef3ece10>"
      ]
     },
     "metadata": {},
     "output_type": "display_data"
    },
    {
     "data": {
      "image/png": "[encoded data removed]",
      "text/plain": [
       "<matplotlib.figure.Figure at 0x7f98ef3de7d0>"
      ]
     },
     "metadata": {},
     "output_type": "display_data"
    },
    {
     "data": {
      "image/png": "[encoded data removed]",
      "text/plain": [
       "<matplotlib.figure.Figure at 0x7f98ef2f7310>"
      ]
     },
     "metadata": {},
     "output_type": "display_data"
    },
    {
     "data": {
      "image/png": "[encoded data removed]",
      "text/plain": [
       "<matplotlib.figure.Figure at 0x7f98ef358890>"
      ]
     },
     "metadata": {},
     "output_type": "display_data"
    },
    {
     "data": {
      "image/png": "[encoded data removed]",
      "text/plain": [
       "<matplotlib.figure.Figure at 0x7f98ef1f4050>"
      ]
     },
     "metadata": {},
     "output_type": "display_data"
    },
    {
     "data": {
      "image/png": "[encoded data removed]",
      "text/plain": [
       "<matplotlib.figure.Figure at 0x7f98ef184590>"
      ]
     },
     "metadata": {},
     "output_type": "display_data"
    },
    {
     "data": {
      "image/png": "[encoded data removed]",
      "text/plain": [
       "<matplotlib.figure.Figure at 0x7f98ef0f3410>"
      ]
     },
     "metadata": {},
     "output_type": "display_data"
    },
    {
     "data": {
      "image/png": "[encoded data removed]",
      "text/plain": [
       "<matplotlib.figure.Figure at 0x7f98ef083950>"
      ]
     },
     "metadata": {},
     "output_type": "display_data"
    }
   ],
   "source": [
    "import numpy as np\n",
    "import matplotlib.pyplot as plt\n",
    "%matplotlib inline\n",
    "trainimg = mnist.train.images\n",
    "trainlabel = mnist.train.labels\n",
    "output_nd = output_layer.eval(feed_dict = {x: mnist.train.images})\n",
    "for i in [0, 1, 2, 3, 4]:\n",
    "    curr_img   = np.reshape(trainimg[i, :], (28, 28)) # 28 by 28 matrix \n",
    "    ae_img = np.reshape(output_nd[i,:], (28, 28))\n",
    "    curr_label = np.argmax(trainlabel[i, :] ) # Label\n",
    "    plt.matshow(curr_img, cmap=plt.get_cmap('gray'))\n",
    "    plt.matshow(ae_img, cmap=plt.get_cmap('gray'))"
   ]
  },
  {
   "cell_type": "markdown",
   "metadata": {},
   "source": [
    "而接下來當我想嘗試把 code layer 的維度調整為 2 維來看看\n",
    "## 今日心得\n",
    "而接下來當我想嘗試把 code layer 的維度調整為 2 維來看看\n",
    "\n",
    "![](http://imgur.com/1n9Ljnb.jpg)\n",
    "\n",
    "![](http://imgur.com/cmzYYOS.jpg)\n",
    "\n",
    "![](http://imgur.com/ICUGyPC.jpg)\n",
    "\n",
    "![](http://imgur.com/VpnycII.jpg)\n",
    "\n",
    "我們可以發現完全糊掉了，只用二維來表示輸入數字是不太夠的．更進一步仔細看 code layer 的值，都已經接近零，表示這個網路已經算是死掉了．"
   ]
  },
  {
   "cell_type": "code",
   "execution_count": 10,
   "metadata": {
    "collapsed": false
   },
   "outputs": [],
   "source": [
    "def plot_scatter(x, labels, title, txt = False):\n",
    "    plt.title(title)\n",
    "    ax = plt.subplot()\n",
    "    ax.scatter(x[:,0], x[:,1], c = labels)\n",
    "    txts = []\n",
    "    if txt:\n",
    "        for i in range(10):\n",
    "            xtext, ytext = np.median(x[labels == i, :], axis=0)\n",
    "            txt = ax.text(xtext, ytext, str(i), fontsize=24)\n",
    "            txt.set_path_effects([\n",
    "                PathEffects.Stroke(linewidth=5, foreground=\"w\"),\n",
    "                PathEffects.Normal()])\n",
    "            txts.append(txt)\n",
    "    plt.show()"
   ]
  }
 ],
 "metadata": {
  "kernelspec": {
   "display_name": "Python 2",
   "language": "python",
   "name": "python2"
  },
  "language_info": {
   "codemirror_mode": {
    "name": "ipython",
    "version": 2
   },
   "file_extension": ".py",
   "mimetype": "text/x-python",
   "name": "python",
   "nbconvert_exporter": "python",
   "pygments_lexer": "ipython2",
   "version": "2.7.6"
  }
 },
 "nbformat": 4,
 "nbformat_minor": 2
}
